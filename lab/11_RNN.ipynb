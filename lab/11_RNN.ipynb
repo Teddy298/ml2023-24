{
 "cells": [
  {
   "cell_type": "markdown",
   "metadata": {
    "id": "P95c6hK3hAQq"
   },
   "source": [
    "# Rekurencyjne Sieci Neuronowe (RNN)"
   ]
  },
  {
   "cell_type": "markdown",
   "metadata": {
    "id": "laVdd5g5hAQu"
   },
   "source": [
    "### Importy i Utilsy  (odpalić i schować )"
   ]
  },
  {
   "cell_type": "code",
   "execution_count": 7,
   "metadata": {
    "ExecuteTime": {
     "end_time": "2023-12-04T10:04:04.053632Z",
     "start_time": "2023-12-04T10:04:04.000119Z"
    },
    "id": "I0D3yk7lhAQu"
   },
   "outputs": [],
   "source": [
    "import os\n",
    "import string\n",
    "import unicodedata\n",
    "from typing import Tuple, List\n",
    "\n",
    "import numpy as np\n",
    "import torch\n",
    "from sklearn.metrics import f1_score\n",
    "from torch.nn.functional import cross_entropy\n",
    "from torch.utils.data import Dataset, DataLoader\n",
    "import torch.nn as nn\n",
    "\n",
    "all_letters = string.ascii_letters\n",
    "n_letters = len(all_letters)\n",
    "\n",
    "\n",
    "class ListDataset(Dataset):\n",
    "    \n",
    "    def __init__(self, data, targets):\n",
    "        \n",
    "        self.data = data\n",
    "        self.targets = targets\n",
    "        \n",
    "    def __getitem__(self, ind):\n",
    "        \n",
    "        return self.data[ind], self.targets[ind]\n",
    "    \n",
    "    def __len__(self):\n",
    "        return len(self.targets)\n",
    "\n",
    "    \n",
    "def unicode_to__ascii(s: str) -> str:\n",
    "    return ''.join(c for c in unicodedata.normalize('NFD', s) if unicodedata.category(c) != 'Mn'\n",
    "                                                                 and c in all_letters)\n",
    "                   \n",
    "\n",
    "def read_lines(filename: str) -> List[str]:\n",
    "    lines = open(filename, encoding='utf-8').read().strip().split('\\n')\n",
    "    return [unicode_to__ascii(line) for line in lines]\n",
    "\n",
    "\n",
    "def letter_to_index(letter: str) -> int:\n",
    "    return all_letters.find(letter)\n",
    "\n",
    "\n",
    "def line_to_tensor(line: str) -> torch.Tensor:\n",
    "    tensor = torch.zeros(len(line), n_letters)\n",
    "    for i, letter in enumerate(line):\n",
    "        tensor[i][letter_to_index(letter)] = 1\n",
    "    return tensor"
   ]
  },
  {
   "cell_type": "markdown",
   "metadata": {
    "id": "RcSQvaMPhAQv"
   },
   "source": [
    "## Dane sekwencyjne\n",
    "\n",
    "Modele, którymi zajmowaliśmy się wcześniej zakładały konkretny kształt danych. Dla przykładu klasyczna sieć neuronowa fully-connected dla MNISTa zakładała, że na wejściu dostanie wektory rozmiaru 784 - dla wektorów o innej wymiarowości i innych obiektów model zwyczajnie nie będzie działać.\n",
    "\n",
    "Takie założenie bywa szczególnie niewygodne przy pracy z niektórymi typami danych, takimi jak:\n",
    "* językiem naturalny (słowa czy zdania mają zadanej z góry liczby znaków)\n",
    "* szeregi czasowe (dane giełdowe ciągną się właściwie w nieskończoność) \n",
    "* dźwięk (nagrania mogą być krótsze lub dłuższe).\n",
    "\n",
    "Do rozwiązania tego problemu służą rekuencyjne sieci neuronowe (*recurrent neural networks, RNNs*), które zapamiętują swój stan z poprzedniej iteracji."
   ]
  },
  {
   "cell_type": "markdown",
   "metadata": {
    "id": "mH3chO87hAQv"
   },
   "source": [
    "### Ładowanie danych\n",
    "Poniższe dwie komórki ściągają dataset nazwisk z 18 różnych narodowości. Każda litera w danym nazwisku jest zamieniana na jej indeks z alfabetu w postaci kodowania \"one-hot\". Inaczej mówiąc, każde nazwisko jest binarną macierzą rozmiaru `n_letters` $\\times$ `len(name)`. \n",
    "\n",
    "Dodatkowo, ponieważ ten dataset jest mocno niezbalansowany, użyjemy specjalnego samplera do losowania przykładów treningowych, tak aby do uczenia sieć widziała tyle samo przykładów z każdej klasy.\n",
    "\n",
    "Ponieważ nazwiska mogą mieć różne długości będziemy rozważać `batch_size = 1` w tym notebooku (choć implementacje modeli powinny działać dla dowolnych wartości `batch_size`!)"
   ]
  },
  {
   "cell_type": "code",
   "execution_count": 8,
   "metadata": {
    "ExecuteTime": {
     "end_time": "2023-12-04T10:04:05.173802Z",
     "start_time": "2023-12-04T10:04:04.004600Z"
    },
    "id": "maOHB6NZiRgr"
   },
   "outputs": [
    {
     "name": "stdout",
     "output_type": "stream",
     "text": [
      "--2024-01-09 18:25:41--  https://download.pytorch.org/tutorial/data.zip\n",
      "Resolving download.pytorch.org (download.pytorch.org)... 2600:9000:26df:e000:d:607e:4540:93a1, 2600:9000:26df:9800:d:607e:4540:93a1, 2600:9000:26df:3000:d:607e:4540:93a1, ...\n",
      "Connecting to download.pytorch.org (download.pytorch.org)|2600:9000:26df:e000:d:607e:4540:93a1|:443... connected.\n",
      "HTTP request sent, awaiting response... 200 OK\n",
      "Length: 2882130 (2,7M) [application/zip]\n",
      "Saving to: ‘data.zip.5’\n",
      "\n",
      "data.zip.5          100%[===================>]   2,75M  5,85MB/s    in 0,5s    \n",
      "\n",
      "2024-01-09 18:25:42 (5,85 MB/s) - ‘data.zip.5’ saved [2882130/2882130]\n",
      "\n",
      "Archive:  data.zip\n",
      "replace data/eng-fra.txt? [y]es, [n]o, [A]ll, [N]one, [r]ename: ^C\n"
     ]
    }
   ],
   "source": [
    "!wget https://download.pytorch.org/tutorial/data.zip\n",
    "!unzip data.zip"
   ]
  },
  {
   "cell_type": "code",
   "execution_count": 9,
   "metadata": {
    "ExecuteTime": {
     "end_time": "2023-12-04T10:04:06.080688Z",
     "start_time": "2023-12-04T10:04:05.177491Z"
    },
    "id": "DRGjkPZ2hAQv"
   },
   "outputs": [],
   "source": [
    "# NOTE: you can change the seed or remove it completely if you like\n",
    "torch.manual_seed(1337)\n",
    "\n",
    "data_dir = 'data/names'\n",
    "\n",
    "# Build the category_lines dictionary, a list of names per language\n",
    "category_lines = {}\n",
    "all_categories = []\n",
    "\n",
    "data = []\n",
    "targets = [] \n",
    "label_to_idx = {}\n",
    "\n",
    "# read each natonality file and process data \n",
    "for label, file_name in enumerate(os.listdir(data_dir)):\n",
    "    \n",
    "    label_to_idx[label] = file_name.split('.')[0].lower()\n",
    "    \n",
    "    names = read_lines(os.path.join(data_dir, file_name))\n",
    "    data += [line_to_tensor(name) for name in names]\n",
    "    targets += len(names) * [label]\n",
    "\n",
    "# split into train and test indices\n",
    "test_frac = 0.1\n",
    "n_test = int(test_frac * len(targets))\n",
    "test_ind = np.random.choice(len(targets), size=n_test, replace=False)\n",
    "train_ind = np.setdiff1d(np.arange(len(targets)), test_ind)\n",
    "\n",
    "targets = torch.tensor(targets)\n",
    "train_targets = targets[train_ind]\n",
    "\n",
    "# calculate weights for BalancedSampler\n",
    "uni, counts = np.unique(train_targets, return_counts=True)\n",
    "weight_per_class = len(targets) / counts\n",
    "weight = [weight_per_class[c] for c in train_targets]\n",
    "# preapre the sampler\n",
    "sampler = torch.utils.data.sampler.WeightedRandomSampler(weights=weight, num_samples=len(weight)) \n",
    "\n",
    "train_dataset = ListDataset(data=[x for i, x in enumerate(data) if i in train_ind], targets=train_targets)\n",
    "train_loader = DataLoader(train_dataset, shuffle=False, batch_size=1, sampler=sampler)\n",
    "\n",
    "test_dataset = ListDataset(data=[x for i, x in enumerate(data) if i in test_ind], targets=targets[test_ind])\n",
    "test_loader = DataLoader(test_dataset, shuffle=False, batch_size=1)"
   ]
  },
  {
   "cell_type": "code",
   "execution_count": 10,
   "metadata": {
    "ExecuteTime": {
     "end_time": "2023-12-04T10:04:06.093741Z",
     "start_time": "2023-12-04T10:04:06.082399Z"
    },
    "id": "Yvstu1-sldC6"
   },
   "outputs": [
    {
     "name": "stdout",
     "output_type": "stream",
     "text": [
      "x.shape: torch.Size([1, 8, 52])\n",
      "name: Petersen\n",
      "y: english\n"
     ]
    }
   ],
   "source": [
    "# check out the content of the dataset\n",
    "for i, (x, y) in enumerate(train_loader):\n",
    "    break\n",
    "\n",
    "print(\"x.shape:\", x.shape)\n",
    "print(\"name: \", end=\"\")\n",
    "for letter_onehot in x[0]:\n",
    "    print(all_letters[torch.argmax(letter_onehot)], end=\"\")\n",
    "\n",
    "print(\"\\ny:\", label_to_idx[y.item()])"
   ]
  },
  {
   "cell_type": "markdown",
   "metadata": {
    "id": "x3VdtPOhhAQw"
   },
   "source": [
    "## Zadanie 1. (2 pkt.)\n",
    "\n",
    "Zaimplementuj \"zwykłą\" sieć rekurencyjną. \n",
    "![rnn](https://colah.github.io/posts/2015-08-Understanding-LSTMs/img/RNN-unrolled.png)\n",
    "\n",
    "* W klasie `RNN` należy zainicjalizować potrzebne wagi oraz zaimplementować główną logikę dla pojedynczej chwili czasowej $x_t$\n",
    "* Wyjście z sieci może mieć dowolny rozmiar, potrzebna jest również warstwa przekształacjąca stan ukryty na wyjście.\n",
    "* W pętli uczenia należy dodać odpowiednie wywołanie sieci. HINT: pamiętać o iterowaniu po wymiarze \"czasowym\".\n"
   ]
  },
  {
   "cell_type": "code",
   "execution_count": 11,
   "metadata": {
    "ExecuteTime": {
     "end_time": "2023-12-04T10:04:06.099286Z",
     "start_time": "2023-12-04T10:04:06.096666Z"
    },
    "id": "WNu0vccJhAQw"
   },
   "outputs": [],
   "source": [
    "class RNN(torch.nn.Module):\n",
    "    \n",
    "    def __init__(self, \n",
    "                 input_size: int,\n",
    "                 hidden_size: int, \n",
    "                 output_size: int):\n",
    "        \"\"\"\n",
    "        :param input_size: int\n",
    "            Dimensionality of the input vector\n",
    "        :param hidden_size: int\n",
    "            Dimensionality of the hidden space\n",
    "        :param output_size: int\n",
    "            Desired dimensionality of the output vector\n",
    "        \"\"\"\n",
    "        super().__init__()\n",
    "        self.hidden_size = hidden_size\n",
    "        self.rnncell = nn.RNNCell(input_size, hidden_size)\n",
    "        self.fc = nn.Linear(hidden_size, output_size)\n",
    "\n",
    "        \n",
    "\n",
    "    \n",
    "    # for the sake of simplicity a single forward will process only a single timestamp \n",
    "    def forward(self, \n",
    "                input: torch.tensor, \n",
    "                hidden: torch.tensor) -> Tuple[torch.tensor, torch.tensor]:\n",
    "        \"\"\"\n",
    "        :param input: torch.tensor \n",
    "            Input tesnor for a single observation at timestep t\n",
    "            shape [batch_size, input_size]\n",
    "        :param hidden: torch.tensor\n",
    "            Representation of the memory of the RNN from previous timestep\n",
    "            shape [batch_size, hidden_size]\n",
    "        \"\"\"\n",
    "        hidden = self.rnncell(input, hidden)\n",
    "        output = self.fc(hidden)\n",
    "        \n",
    "        return output, hidden\n",
    "\n",
    "    \n",
    "    def init_hidden(self, batch_size: int) -> torch.Tensor:\n",
    "        \"\"\"\n",
    "        Returns initial value for the hidden state\n",
    "        \"\"\"\n",
    "        return torch.zeros(batch_size, self.hidden_size).cuda()"
   ]
  },
  {
   "cell_type": "markdown",
   "metadata": {
    "id": "LIe3L-8LhAQw"
   },
   "source": [
    "### Pętla uczenia"
   ]
  },
  {
   "cell_type": "code",
   "execution_count": 12,
   "metadata": {
    "id": "xXEsqqvxhAQx",
    "scrolled": true
   },
   "outputs": [
    {
     "name": "stdout",
     "output_type": "stream",
     "text": [
      "Epoch: 0 Progress:  0% Loss: 2.828\n",
      "Epoch: 0 Progress:  6% Loss: 2.855\n",
      "Epoch: 0 Progress: 11% Loss: 2.627\n",
      "Epoch: 0 Progress: 17% Loss: 2.395\n",
      "Epoch: 0 Progress: 22% Loss: 2.236\n",
      "Epoch: 0 Progress: 28% Loss: 2.115\n",
      "Epoch: 0 Progress: 33% Loss: 2.039\n",
      "Epoch: 0 Progress: 39% Loss: 1.968\n",
      "Epoch: 0 Progress: 44% Loss: 1.905\n",
      "Epoch: 0 Progress: 50% Loss: 1.830\n",
      "Epoch: 0 Progress: 55% Loss: 1.762\n",
      "Epoch: 0 Progress: 61% Loss: 1.712\n",
      "Epoch: 0 Progress: 66% Loss: 1.674\n",
      "Epoch: 0 Progress: 72% Loss: 1.675\n",
      "Epoch: 0 Progress: 77% Loss: 1.713\n",
      "Epoch: 0 Progress: 83% Loss: 1.646\n",
      "Epoch: 0 Progress: 89% Loss: 1.628\n",
      "Epoch: 0 Progress: 94% Loss: 1.692\n",
      "Epoch: 0 Progress: 100% Loss: 1.681\n",
      "Final F1 score: 0.23\n"
     ]
    }
   ],
   "source": [
    "n_class = len(label_to_idx)\n",
    "\n",
    "# initialize network and optimizer\n",
    "rnn = RNN(n_letters, 256, n_class).cuda()\n",
    "optimizer = torch.optim.SGD(rnn.parameters(), lr=0.01)   \n",
    "\n",
    "# we will train for only a single epoch \n",
    "epochs = 1\n",
    "\n",
    "\n",
    "# main loop\n",
    "for epoch in range(epochs):\n",
    "    \n",
    "    loss_buffer = []\n",
    "    \n",
    "    for i, (x, y) in enumerate(train_loader):  \n",
    "        \n",
    "        x = x.cuda()\n",
    "        y = y.cuda()\n",
    "        \n",
    "        optimizer.zero_grad()\n",
    "        # get initial hidden state\n",
    "        hidden = rnn.init_hidden(x.shape[0])\n",
    "        \n",
    "        # get output for the sample, remember that we treat it as a sequence\n",
    "        # so you need to iterate over the 2nd, time dimensiotn\n",
    "\n",
    "        seq_len = x.shape[1]\n",
    "        \n",
    "        for c_idx in range(seq_len):\n",
    "            output, hidden = rnn(x[:, c_idx], hidden)\n",
    "            \n",
    "        loss = cross_entropy(output, y)\n",
    "        loss.backward()\n",
    "        optimizer.step()  \n",
    "        \n",
    "        loss_buffer.append(loss.item())\n",
    "        \n",
    "        if i % 1000 == 1:\n",
    "            print(f\"Epoch: {epoch} Progress: {100 * i/len(train_loader):2.0f}% Loss: {np.mean(loss_buffer):.3f}\")\n",
    "            loss_buffer = []\n",
    "    \n",
    "\n",
    "# evaluate on the test set\n",
    "with torch.no_grad():\n",
    "    ps = []\n",
    "    ys = []\n",
    "    correct = 0\n",
    "    for i, (x, y) in enumerate(test_loader):\n",
    "        x = x.cuda()\n",
    "        ys.append(y.numpy())\n",
    "\n",
    "        hidden = rnn.init_hidden(x.shape[0])\n",
    "        seq_len = x.shape[1]\n",
    " \n",
    "        for c_idx in range(seq_len):\n",
    "            output, hidden = rnn(x[:, c_idx], hidden)\n",
    "\n",
    "        pred = output.argmax(dim=1)\n",
    "        ps.append(pred.cpu().numpy())\n",
    "    \n",
    "    ps = np.concatenate(ps, axis=0)\n",
    "    ys = np.concatenate(ys, axis=0)\n",
    "    f1 = f1_score(ys, ps, average='weighted')\n",
    "    \n",
    "    print(f\"Final F1 score: {f1:.2f}\")\n",
    "    assert f1 > 0.15, \"You should get over 0.15 f1 score, try changing some hyperparams!\""
   ]
  },
  {
   "cell_type": "markdown",
   "metadata": {
    "id": "sNeNU93qn7BC"
   },
   "source": [
    "## Zadanie 2. (0.5 pkt.)\n",
    "Zaimplementuj funkcje `predict`, która przyjmuje nazwisko w postaci stringa oraz model RNN i wypisuje 3 najlepsze predykcje narodowości dla tego nazwiska razem z ich logitami.\n",
    "\n",
    "**Hint**: Przyda się tutaj jedna z funkcji z pierwszej komórki notebooka."
   ]
  },
  {
   "cell_type": "code",
   "execution_count": 13,
   "metadata": {
    "ExecuteTime": {
     "end_time": "2023-12-04T10:04:06.356791Z",
     "start_time": "2023-12-04T10:04:06.355783Z"
    },
    "id": "N8FhF_08hAQy"
   },
   "outputs": [],
   "source": [
    "def predict(name: str, rnn: RNN):\n",
    "    \"\"\"Prints the name and model's top 3 predictions with scores\"\"\"\n",
    "    with torch.no_grad():\n",
    "        x = line_to_tensor(name).unsqueeze(0).cuda()"
   ]
  },
  {
   "cell_type": "code",
   "execution_count": 14,
   "metadata": {
    "ExecuteTime": {
     "end_time": "2023-12-04T10:04:06.357604Z",
     "start_time": "2023-12-04T10:04:06.356882Z"
    },
    "id": "Z4OWP8wqhAQy"
   },
   "outputs": [
    {
     "name": "stdout",
     "output_type": "stream",
     "text": [
      "Satoshi\n",
      "Jackson\n",
      "Schmidhuber\n",
      "Hinton\n",
      "Kowalski\n"
     ]
    }
   ],
   "source": [
    "some_names = [\"Satoshi\", \"Jackson\", \"Schmidhuber\", \"Hinton\", \"Kowalski\"]\n",
    "\n",
    "for name in some_names:\n",
    "    print(name)\n",
    "    predict(name, rnn)"
   ]
  },
  {
   "cell_type": "markdown",
   "metadata": {
    "id": "nNETvP06hAQz"
   },
   "source": [
    "## Zadanie 3 (4 pkt.)\n",
    "Ostatnim zadaniem jest implementacji komórki i sieci LSTM. \n",
    "\n",
    "![lstm](https://colah.github.io/posts/2015-08-Understanding-LSTMs/img/LSTM3-chain.png)\n",
    "\n",
    "* W klasie `LSTMCell` ma znaleźć się główna logika LSTMa, czyli wszystkie wagi do stanów `hidden` i `cell` jak i bramek kontrolujących te stany. \n",
    "* W klasie `LSTM` powinno znaleźć się wywołanie komórki LSTM, HINT: poprzednio było w pętli uczenia, teraz przenisiemy to do klasy modelu.\n",
    "* W pętli uczenia należy uzupełnić brakujące wywołania do uczenia i ewaluacji modelu.\n",
    "\n",
    "Zdecydowanie polecam [materiały Chrisa Olaha](http://colah.github.io/posts/2015-08-Understanding-LSTMs/) do zarówno zrozumienia jak i ściągi do wzorów.\n",
    "\n",
    "Zadaniem jest osiągnięcie wartości `f1_score` lepszej niż na sieci RNN, przy prawidłowej implementacji nie powinno być z tym problemów używając podanych hiperparametrów. Dozwolona jest oczywiście zmiana `random seed`.\n",
    "\n",
    "#### Komórka LSTM"
   ]
  },
  {
   "cell_type": "code",
   "execution_count": 15,
   "metadata": {
    "ExecuteTime": {
     "end_time": "2023-12-04T10:04:06.359258Z",
     "start_time": "2023-12-04T10:04:06.357964Z"
    },
    "id": "GNKRxYwChAQz"
   },
   "outputs": [],
   "source": [
    "class LSTMCell(torch.nn.Module):\n",
    "\n",
    "    def __init__(self, \n",
    "                 input_size: int, \n",
    "                 hidden_size: int):\n",
    "        \"\"\"\n",
    "        :param input_size: int\n",
    "            Dimensionality of the input vector\n",
    "        :param hidden_size: int\n",
    "            Dimensionality of the hidden space\n",
    "        \"\"\"\n",
    "        \n",
    "        super(LSTMCell, self).__init__()\n",
    "        \n",
    "        self.input_size = input_size\n",
    "        self.hidden_size = hidden_size\n",
    "\n",
    "        # initialize LSTM weights \n",
    "        # NOTE: there are different approaches that are all correct \n",
    "        # (e.g. single matrix for all input opperations), you can pick\n",
    "        # whichever you like for this task\n",
    "        self.Wii = nn.Linear(input_size, hidden_size)\n",
    "        self.Whi = nn.Linear(hidden_size, hidden_size)\n",
    "        self.Wif = nn.Linear(input_size, hidden_size)\n",
    "        self.Whf = nn.Linear(hidden_size, hidden_size)\n",
    "        self.Wig = nn.Linear(input_size, hidden_size)\n",
    "        self.Whg = nn.Linear(hidden_size, hidden_size)\n",
    "        self.Wio = nn.Linear(input_size, hidden_size)\n",
    "        self.Who = nn.Linear(hidden_size, hidden_size)\n",
    "        \n",
    "        self.bii = nn.Parameter(torch.zeros(hidden_size))\n",
    "        self.bhi = nn.Parameter(torch.zeros(hidden_size))\n",
    "        self.bif = nn.Parameter(torch.zeros(hidden_size))\n",
    "        self.bhf = nn.Parameter(torch.zeros(hidden_size))\n",
    "        self.big = nn.Parameter(torch.zeros(hidden_size))\n",
    "        self.bhg = nn.Parameter(torch.zeros(hidden_size))\n",
    "        self.bio = nn.Parameter(torch.zeros(hidden_size))\n",
    "        self.bho = nn.Parameter(torch.zeros(hidden_size))\n",
    "        \n",
    "        self.init_weights()\n",
    "    \n",
    "    \"\"\"\n",
    "    def init_weights(self):\n",
    "        for p in self.parameters():\n",
    "            nn.init.zeros_(p.data)\n",
    "    \"\"\"       \n",
    "    def init_weights(self):\n",
    "        for p in self.parameters():\n",
    "            if p.data.ndimension() >= 2:\n",
    "                nn.init.xavier_uniform_(p.data)\n",
    "            else:\n",
    "                nn.init.zeros_(p.data)\n",
    "        \n",
    "        \n",
    "    def forward(self, \n",
    "                input: torch.tensor, \n",
    "                states: Tuple[torch.tensor, torch.tensor]) -> Tuple[torch.tensor, torch.tensor]:\n",
    "        \n",
    "        hidden, cell = states\n",
    "        \n",
    "        it = torch.sigmoid(self.Wii(input) + self.Whi(hidden) + self.bii + self.bhi)\n",
    "        ft = torch.sigmoid(self.Wif(input) + self.Whf(hidden) + self.bif + self.bhf)\n",
    "        gt = torch.tanh(self.Wig(input) + self.Whg(hidden) + self.big + self.bhg)\n",
    "        ot = torch.sigmoid(self.Wio(input) + self.Who(hidden) + self.bio + self.bho)\n",
    "        \n",
    "        # Compute input, forget, and output gates\n",
    "        # then compute new cell state and hidden state\n",
    "        # see http://colah.github.io/posts/2015-08-Understanding-LSTMs/ \n",
    "        cell = ft * cell + it * gt\n",
    "        hidden = ot * torch.tanh(cell)\n",
    "        \n",
    "        return hidden, cell"
   ]
  },
  {
   "cell_type": "markdown",
   "metadata": {
    "id": "5U5U8kizhAQz"
   },
   "source": [
    "### Klasa modelu LSTM"
   ]
  },
  {
   "cell_type": "code",
   "execution_count": 16,
   "metadata": {
    "ExecuteTime": {
     "start_time": "2023-12-04T10:04:06.359378Z"
    },
    "id": "G2MyIu3_hAQz"
   },
   "outputs": [],
   "source": [
    "class LSTM(torch.nn.Module):\n",
    "\n",
    "    def __init__(self, \n",
    "                 input_size: int, \n",
    "                 hidden_size: int):\n",
    "        \"\"\"\n",
    "        :param input_size: int\n",
    "            Dimensionality of the input vector\n",
    "        :param hidden_size: int\n",
    "            Dimensionality of the hidden space\n",
    "        \"\"\"\n",
    "        \n",
    "        super(LSTM, self).__init__()\n",
    "        \n",
    "        self.input_size = input_size\n",
    "        self.hidden_size = hidden_size\n",
    "\n",
    "        self.cell = LSTMCell(input_size=input_size, hidden_size=hidden_size)\n",
    "        \n",
    "    def forward(self, \n",
    "                input: torch.tensor) -> Tuple[torch.tensor, torch.tensor]:\n",
    "        \"\"\"\n",
    "        :param input: torch.tensor \n",
    "            A sequence of observations of shape [batch_size, seq_len, input_size]\n",
    "        Returns Tuple of two torch.tensors, both of shape [seq_len, batch_size, hidden_size]\n",
    "        \"\"\"\n",
    "        \n",
    "        batch_size = input.shape[0]\n",
    "        time_steps = input.shape[1]\n",
    "        hidden, cell = self.init_hidden_cell(batch_size)\n",
    "        \n",
    "        hiddens = []\n",
    "        cells = []\n",
    "        \n",
    "        # this time we will process the whole sequence in the forward method\n",
    "        # as oppose to the previous exercise, remember to loop over the timesteps\n",
    "        for t in range(time_steps):\n",
    "            xt = input[:, t, :]\n",
    "            hidden, cell = self.cell(xt, (hidden, cell))\n",
    "            hiddens.append(hidden.unsqueeze(0))\n",
    "            cells.append(cell.unsqueeze(0))\n",
    "        \n",
    "        hiddens = torch.cat(hiddens, dim=0)\n",
    "        cells = torch.cat(cells, dim=0)\n",
    "\n",
    "        return hiddens, cells\n",
    "    \n",
    "    def init_hidden_cell(self, batch_size):\n",
    "        \"\"\"\n",
    "        Returns initial value for the hidden and cell states\n",
    "        \"\"\"\n",
    "        return torch.zeros(batch_size, self.hidden_size).cuda(), torch.zeros(batch_size, self.hidden_size).cuda()"
   ]
  },
  {
   "cell_type": "markdown",
   "metadata": {
    "id": "3qRxPI-nhAQz"
   },
   "source": [
    "### Pętla uczenia"
   ]
  },
  {
   "cell_type": "code",
   "execution_count": 17,
   "metadata": {
    "ExecuteTime": {
     "end_time": "2023-12-04T10:04:06.360747Z",
     "start_time": "2023-12-04T10:04:06.360643Z"
    },
    "id": "4LVCWqsVhAQ0"
   },
   "outputs": [
    {
     "name": "stdout",
     "output_type": "stream",
     "text": [
      "Epoch: 0 Progress:  0% Loss: 2.927\n",
      "Epoch: 0 Progress:  6% Loss: 2.483\n",
      "Epoch: 0 Progress: 11% Loss: 2.019\n",
      "Epoch: 0 Progress: 17% Loss: 1.841\n",
      "Epoch: 0 Progress: 22% Loss: 1.687\n",
      "Epoch: 0 Progress: 28% Loss: 1.601\n",
      "Epoch: 0 Progress: 33% Loss: 1.476\n",
      "Epoch: 0 Progress: 39% Loss: 1.445\n",
      "Epoch: 0 Progress: 44% Loss: 1.371\n",
      "Epoch: 0 Progress: 50% Loss: 1.312\n",
      "Epoch: 0 Progress: 55% Loss: 1.341\n",
      "Epoch: 0 Progress: 61% Loss: 1.268\n",
      "Epoch: 0 Progress: 66% Loss: 1.203\n",
      "Epoch: 0 Progress: 72% Loss: 1.264\n",
      "Epoch: 0 Progress: 77% Loss: 1.167\n",
      "Epoch: 0 Progress: 83% Loss: 1.240\n",
      "Epoch: 0 Progress: 89% Loss: 1.155\n",
      "Epoch: 0 Progress: 94% Loss: 1.229\n",
      "Epoch: 0 Progress: 100% Loss: 1.067\n",
      "Final F1 score: 0.22\n"
     ]
    }
   ],
   "source": [
    "from itertools import chain\n",
    "\n",
    "# torch.manual_seed(1337)\n",
    "\n",
    "# build data loaders\n",
    "train_loader = DataLoader(train_dataset, batch_size=1, sampler=sampler)\n",
    "test_loader = DataLoader(test_dataset, batch_size=1)\n",
    "\n",
    "# initialize the lstm with an additional cliassifier layer at the top\n",
    "lstm = LSTM(input_size=len(all_letters), hidden_size=128).cuda()\n",
    "clf = torch.nn.Linear(in_features=128, out_features=len(label_to_idx)).cuda()\n",
    "\n",
    "# initialize a optimizer\n",
    "params = chain(lstm.parameters(), clf.parameters())\n",
    "optimizer = torch.optim.Adam(params, lr=0.01) \n",
    "\n",
    "# we will train for only a single epoch \n",
    "epoch = 1\n",
    "\n",
    "# main loop\n",
    "for epoch in range(epoch):\n",
    "    \n",
    "    loss_buffer = []\n",
    "    \n",
    "    for i, (x, y) in enumerate(train_loader):   \n",
    "        \n",
    "        x = x.cuda()\n",
    "        y = y.cuda()\n",
    "        \n",
    "        optimizer.zero_grad()\n",
    "        \n",
    "        # get output for the sample, remember that we treat it as a sequence\n",
    "        # so you need to iterate over the sequence length here\n",
    "        # don't forget about the classifier!\n",
    "        \n",
    "        h, s = lstm(x)\n",
    "\n",
    "        output = clf(h[-1])\n",
    "\n",
    "        # calucate the loss\n",
    "        loss = cross_entropy(output, y)\n",
    "        loss.backward()\n",
    "        optimizer.step()                                \n",
    "        \n",
    "        loss_buffer.append(loss.item())\n",
    "        \n",
    "        if i % 1000 == 1:\n",
    "            print(f\"Epoch: {epoch} Progress: {100 * i/len(train_loader):2.0f}% Loss: {np.mean(loss_buffer):.3f}\")\n",
    "            loss_buffer = []\n",
    "\n",
    "# evaluate on the test set\n",
    "with torch.no_grad():\n",
    "    \n",
    "    ps = []\n",
    "    ys = []\n",
    "    for i, (x, y) in enumerate(test_loader): \n",
    "        \n",
    "        x = x.cuda()\n",
    "        ys.append(y.numpy())\n",
    "        \n",
    "        h, s = lstm(x)\n",
    "    \n",
    "        output = clf(h[-1])\n",
    "\n",
    "        pred = output.argmax(dim=1)\n",
    "        ps.append(pred.cpu().numpy())\n",
    "    \n",
    "    ps = np.concatenate(ps, axis=0)\n",
    "    ys = np.concatenate(ys, axis=0)\n",
    "    f1 = f1_score(ys, ps, average='weighted')\n",
    "    \n",
    "    print(f\"Final F1 score: {f1:.2f}\")\n",
    "    assert f1 > 0.18, \"You should get over 0.18 f1 score, try changing some hiperparams!\""
   ]
  },
  {
   "cell_type": "markdown",
   "metadata": {
    "id": "gGXUhgroo7AN"
   },
   "source": [
    "## Zadanie 4. (0.5 pkt.)\n",
    "Zaimplementuj analogiczną do funkcji `predict` z zadania 2 dla modelu `lstm+clf`.\n"
   ]
  },
  {
   "cell_type": "code",
   "execution_count": 18,
   "metadata": {
    "ExecuteTime": {
     "start_time": "2023-12-04T10:04:06.361616Z"
    },
    "id": "-ChJv1fphAQ0"
   },
   "outputs": [],
   "source": [
    "def predict_lstm(name: str, lstm: LSTM, clf: torch.nn.Module):\n",
    "    \"\"\"Prints the name and model's top 3 predictions with scores\"\"\"\n",
    "    with torch.no_grad():\n",
    "        x = line_to_tensor(name).unsqueeze(0).cuda()\n",
    "        ..."
   ]
  },
  {
   "cell_type": "code",
   "execution_count": 19,
   "metadata": {
    "ExecuteTime": {
     "start_time": "2023-12-04T10:04:06.362288Z"
    },
    "id": "pgQcGWqthAQ0"
   },
   "outputs": [
    {
     "name": "stdout",
     "output_type": "stream",
     "text": [
      "Satoshi\n",
      "Jackson\n",
      "Schmidhuber\n",
      "Hinton\n",
      "Kowalski\n"
     ]
    }
   ],
   "source": [
    "# test your lstm predictor\n",
    "some_names = [\"Satoshi\", \"Jackson\", \"Schmidhuber\", \"Hinton\", \"Kowalski\"]\n",
    "    \n",
    "for name in some_names:\n",
    "    print(name)\n",
    "    predict_lstm(name, lstm, clf)"
   ]
  },
  {
   "cell_type": "code",
   "execution_count": null,
   "metadata": {},
   "outputs": [],
   "source": []
  }
 ],
 "metadata": {
  "accelerator": "GPU",
  "colab": {
   "collapsed_sections": [
    "laVdd5g5hAQu"
   ],
   "name": "12_RNN.ipynb",
   "provenance": [
    {
     "file_id": "13ODRWR6EtqQ8hqEWUX41fMt22yiy8jRs",
     "timestamp": 1610372422692
    }
   ]
  },
  "kernelspec": {
   "display_name": "my-conda-env-kernel",
   "language": "python",
   "name": "my-conda-env-kernel"
  },
  "language_info": {
   "codemirror_mode": {
    "name": "ipython",
    "version": 3
   },
   "file_extension": ".py",
   "mimetype": "text/x-python",
   "name": "python",
   "nbconvert_exporter": "python",
   "pygments_lexer": "ipython3",
   "version": "3.10.9"
  }
 },
 "nbformat": 4,
 "nbformat_minor": 4
}
