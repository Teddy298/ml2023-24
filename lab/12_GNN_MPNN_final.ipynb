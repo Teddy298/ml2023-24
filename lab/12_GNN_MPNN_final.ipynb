{
  "cells": [
    {
      "cell_type": "markdown",
      "id": "9bec6577a3d2a155",
      "metadata": {
        "id": "9bec6577a3d2a155"
      },
      "source": [
        "# Graph Neural Networks (GNNs)\n",
        "## Part I: Message Passing Neural Networks (MPNNs)\n",
        "We are going to implement few MPNNs for molecular property prediciton. It's recommended that you're familiar with the recent lectures on GNNs."
      ]
    },
    {
      "cell_type": "markdown",
      "id": "a10f517285d85363",
      "metadata": {
        "id": "a10f517285d85363"
      },
      "source": [
        "# Packages for GNNs\n",
        "There two very popular packages for GNNs that uses pytorch as a backend:\n",
        "1. [PyTorch Geometric](https://pytorch-geometric.readthedocs.io/en/latest/install/installation.html).\n",
        "2. [Deep Graph Library](https://www.dgl.ai/pages/start.html) (along with [dgl-lifesci](https://lifesci.dgl.ai/install/index.html).\n",
        "The former is more stable, the latter has a convenient extension [dgl-lifesci](https://lifesci.dgl.ai/generated/dgllife.utils.CanonicalAtomFeaturizer.html) for molecular data and is generally much more user-friendly. For convenience, we are going to use all three packages, so install appropriate versions of them, please (I recommend installing with pip). If you have issues with installing rdkit (required by dgl-lifesci), you can install rdkit using pip (pip install rdkit)."
      ]
    },
    {
      "cell_type": "markdown",
      "id": "46af56ed",
      "metadata": {
        "id": "46af56ed"
      },
      "source": [
        "## Installation commands\n",
        "The following commands should work for the `ml` conda env from the `01_zasady_wstep.ipynb`.\n",
        "\n",
        "```\n",
        "conda install -c dglteam/label/cu117 dgl\n",
        "conda install -c conda-forge dgllife\n",
        "conda install pyg -c pyg\n",
        "\n",
        "conda install libboost=1.73.0 boost=1.73.0 boost-cpp=1.73.0\n",
        "pip install rdkit==2022.3.5\n",
        "\n",
        "conda install -c conda-forge torchmetrics\n",
        "conda install -c conda-forge wandb\n",
        "```"
      ]
    },
    {
      "cell_type": "markdown",
      "id": "61eff200e2fa43b4",
      "metadata": {
        "id": "61eff200e2fa43b4"
      },
      "source": [
        "# Molecular graphs\n",
        "(Copied from [mldd23 repository](https://github.com/gmum/mldd23/blob/main/labs/L3-graph-neural-networks/laboratory.ipynb))\n",
        "In mathematics, a graph is an object that consists of a set of vertices (nodes) connected with edges, i.e. $\\mathcal{G} = (V, E)$, where $V = \\{ v_i: i \\in \\{1, 2, \\dots, N \\} \\}$ and $E \\subseteq \\{ (v_i, v_j):\\, v_i,v_j \\in V \\}$.\n",
        "\n",
        "Molecular graphs are a special class of graphs, where besides nodes (denoting atoms) and edges (denoting chemical bonds), we have an additional information about atom types and sometimes also bond types. We can assume that we have an additional set of node/atom features encoded as a matrix $X$, where $X_{ij}$ is the $j$-th feature of the $i$-th atom. As atomic features, we can have one-hot encoded atom symbols (a vector containing zeros on all positions besides the position that corresponds to the atom symbol), the number of implicit hydrogens bonded with this atom, or the number of heavy neighbors (atoms other than hydrogens bonded to the given atom).\n",
        "\n",
        "Egdes/bonds can be encoded in two different ways. One method is to use an adjacency matrix $A$, where $A_{ij}=1$ if nodes/atoms $v_i$ nad $v_j$ are connected ($A_{ij}=0$ otherwise). In the case of sparse matrices, a more useful encoding is a list of pairs of connected atoms (a list of index pairs). This latter enocding is used by the PyTorch-Geometric library.\n",
        "\n",
        "In practice, a molecular graph can be described by two matrices: $X \\in \\mathbb{R}^{N \\times F}$ and $E \\in \\{0, 1,\\dots,N-1\\}^{2 \\times N}$, where $N$ is the number of atoms, and $F$ is the number of atomic features.\n",
        "<img src=\"resources/mol_graph.png\" height=\"500\" />"
      ]
    },
    {
      "cell_type": "markdown",
      "id": "7533978cf98913d",
      "metadata": {
        "id": "7533978cf98913d"
      },
      "source": [
        "# Dataset"
      ]
    },
    {
      "cell_type": "markdown",
      "id": "f7eeba76a4a89736",
      "metadata": {
        "id": "f7eeba76a4a89736"
      },
      "source": [
        "We are going to use FreeSolv dataset that contains 642 hydration free energy values for small molecules. The goal is to predict the [hydration free energy](https://en.wikipedia.org/wiki/Hydration_energy) of a given molecule. It's a very commonly used dataset for benchmarking molecular property prediction models. It's small, so we can minimize our co2 footprint and time spent on training.\n",
        "\n",
        "Molecules in most chemical datasets are represented with SMILES. SMILES is a linearization of the molecular graph, it's pretty convenient and can even be used as an input to text-based models. Fortunately, dgllife provides a fancy FreeSolv dataset wrapper that will 1) transform the SMILES into a molecular graph, and 2) encode the nodes and edges with some sensible chemical features (like atom types, bond type etc.) with node and edge features, so we don't really need to care about it."
      ]
    },
    {
      "cell_type": "code",
      "source": [
        "!pip install dgllife\n",
        "!pip install dgl\n",
        "!pip install rdkit"
      ],
      "metadata": {
        "colab": {
          "base_uri": "https://localhost:8080/"
        },
        "id": "b7omG7wEWtQ2",
        "outputId": "5ccf3c71-d5d1-4c28-e2df-fb6c215b1255"
      },
      "id": "b7omG7wEWtQ2",
      "execution_count": 1,
      "outputs": [
        {
          "output_type": "stream",
          "name": "stdout",
          "text": [
            "Collecting dgllife\n",
            "  Downloading dgllife-0.3.2-py3-none-any.whl (226 kB)\n",
            "\u001b[2K     \u001b[90m━━━━━━━━━━━━━━━━━━━━━━━━━━━━━━━━━━━━━━━━\u001b[0m \u001b[32m226.1/226.1 kB\u001b[0m \u001b[31m3.0 MB/s\u001b[0m eta \u001b[36m0:00:00\u001b[0m\n",
            "\u001b[?25hRequirement already satisfied: scikit-learn>=0.22.2 in /usr/local/lib/python3.10/dist-packages (from dgllife) (1.2.2)\n",
            "Requirement already satisfied: pandas in /usr/local/lib/python3.10/dist-packages (from dgllife) (1.5.3)\n",
            "Requirement already satisfied: requests>=2.22.0 in /usr/local/lib/python3.10/dist-packages (from dgllife) (2.31.0)\n",
            "Requirement already satisfied: tqdm in /usr/local/lib/python3.10/dist-packages (from dgllife) (4.66.1)\n",
            "Requirement already satisfied: numpy>=1.14.0 in /usr/local/lib/python3.10/dist-packages (from dgllife) (1.23.5)\n",
            "Requirement already satisfied: scipy>=1.1.0 in /usr/local/lib/python3.10/dist-packages (from dgllife) (1.11.4)\n",
            "Requirement already satisfied: networkx>=2.1 in /usr/local/lib/python3.10/dist-packages (from dgllife) (3.2.1)\n",
            "Requirement already satisfied: hyperopt in /usr/local/lib/python3.10/dist-packages (from dgllife) (0.2.7)\n",
            "Requirement already satisfied: joblib in /usr/local/lib/python3.10/dist-packages (from dgllife) (1.3.2)\n",
            "Requirement already satisfied: charset-normalizer<4,>=2 in /usr/local/lib/python3.10/dist-packages (from requests>=2.22.0->dgllife) (3.3.2)\n",
            "Requirement already satisfied: idna<4,>=2.5 in /usr/local/lib/python3.10/dist-packages (from requests>=2.22.0->dgllife) (3.6)\n",
            "Requirement already satisfied: urllib3<3,>=1.21.1 in /usr/local/lib/python3.10/dist-packages (from requests>=2.22.0->dgllife) (2.0.7)\n",
            "Requirement already satisfied: certifi>=2017.4.17 in /usr/local/lib/python3.10/dist-packages (from requests>=2.22.0->dgllife) (2023.11.17)\n",
            "Requirement already satisfied: threadpoolctl>=2.0.0 in /usr/local/lib/python3.10/dist-packages (from scikit-learn>=0.22.2->dgllife) (3.2.0)\n",
            "Requirement already satisfied: six in /usr/local/lib/python3.10/dist-packages (from hyperopt->dgllife) (1.16.0)\n",
            "Requirement already satisfied: future in /usr/local/lib/python3.10/dist-packages (from hyperopt->dgllife) (0.18.3)\n",
            "Requirement already satisfied: cloudpickle in /usr/local/lib/python3.10/dist-packages (from hyperopt->dgllife) (2.2.1)\n",
            "Requirement already satisfied: py4j in /usr/local/lib/python3.10/dist-packages (from hyperopt->dgllife) (0.10.9.7)\n",
            "Requirement already satisfied: python-dateutil>=2.8.1 in /usr/local/lib/python3.10/dist-packages (from pandas->dgllife) (2.8.2)\n",
            "Requirement already satisfied: pytz>=2020.1 in /usr/local/lib/python3.10/dist-packages (from pandas->dgllife) (2023.3.post1)\n",
            "Installing collected packages: dgllife\n",
            "Successfully installed dgllife-0.3.2\n",
            "Collecting dgl\n",
            "  Downloading dgl-1.1.3-cp310-cp310-manylinux1_x86_64.whl (6.5 MB)\n",
            "\u001b[2K     \u001b[90m━━━━━━━━━━━━━━━━━━━━━━━━━━━━━━━━━━━━━━━━\u001b[0m \u001b[32m6.5/6.5 MB\u001b[0m \u001b[31m12.5 MB/s\u001b[0m eta \u001b[36m0:00:00\u001b[0m\n",
            "\u001b[?25hRequirement already satisfied: numpy>=1.14.0 in /usr/local/lib/python3.10/dist-packages (from dgl) (1.23.5)\n",
            "Requirement already satisfied: scipy>=1.1.0 in /usr/local/lib/python3.10/dist-packages (from dgl) (1.11.4)\n",
            "Requirement already satisfied: networkx>=2.1 in /usr/local/lib/python3.10/dist-packages (from dgl) (3.2.1)\n",
            "Requirement already satisfied: requests>=2.19.0 in /usr/local/lib/python3.10/dist-packages (from dgl) (2.31.0)\n",
            "Requirement already satisfied: tqdm in /usr/local/lib/python3.10/dist-packages (from dgl) (4.66.1)\n",
            "Requirement already satisfied: psutil>=5.8.0 in /usr/local/lib/python3.10/dist-packages (from dgl) (5.9.5)\n",
            "Requirement already satisfied: charset-normalizer<4,>=2 in /usr/local/lib/python3.10/dist-packages (from requests>=2.19.0->dgl) (3.3.2)\n",
            "Requirement already satisfied: idna<4,>=2.5 in /usr/local/lib/python3.10/dist-packages (from requests>=2.19.0->dgl) (3.6)\n",
            "Requirement already satisfied: urllib3<3,>=1.21.1 in /usr/local/lib/python3.10/dist-packages (from requests>=2.19.0->dgl) (2.0.7)\n",
            "Requirement already satisfied: certifi>=2017.4.17 in /usr/local/lib/python3.10/dist-packages (from requests>=2.19.0->dgl) (2023.11.17)\n",
            "Installing collected packages: dgl\n",
            "Successfully installed dgl-1.1.3\n",
            "Collecting rdkit\n",
            "  Downloading rdkit-2023.9.4-cp310-cp310-manylinux_2_17_x86_64.manylinux2014_x86_64.whl (34.4 MB)\n",
            "\u001b[2K     \u001b[90m━━━━━━━━━━━━━━━━━━━━━━━━━━━━━━━━━━━━━━━━\u001b[0m \u001b[32m34.4/34.4 MB\u001b[0m \u001b[31m28.2 MB/s\u001b[0m eta \u001b[36m0:00:00\u001b[0m\n",
            "\u001b[?25hRequirement already satisfied: numpy in /usr/local/lib/python3.10/dist-packages (from rdkit) (1.23.5)\n",
            "Requirement already satisfied: Pillow in /usr/local/lib/python3.10/dist-packages (from rdkit) (9.4.0)\n",
            "Installing collected packages: rdkit\n",
            "Successfully installed rdkit-2023.9.4\n"
          ]
        }
      ]
    },
    {
      "cell_type": "code",
      "source": [
        "!pip install torchmetrics\n",
        "!pip install torch_geometric"
      ],
      "metadata": {
        "colab": {
          "base_uri": "https://localhost:8080/"
        },
        "id": "foL0knH4XRW1",
        "outputId": "0a87ce77-29c8-4bed-8079-ca4cfd7ce3f5"
      },
      "id": "foL0knH4XRW1",
      "execution_count": 2,
      "outputs": [
        {
          "output_type": "stream",
          "name": "stdout",
          "text": [
            "Collecting torchmetrics\n",
            "  Downloading torchmetrics-1.3.0-py3-none-any.whl (840 kB)\n",
            "\u001b[2K     \u001b[90m━━━━━━━━━━━━━━━━━━━━━━━━━━━━━━━━━━━━━━━━\u001b[0m \u001b[32m840.2/840.2 kB\u001b[0m \u001b[31m6.4 MB/s\u001b[0m eta \u001b[36m0:00:00\u001b[0m\n",
            "\u001b[?25hRequirement already satisfied: numpy>1.20.0 in /usr/local/lib/python3.10/dist-packages (from torchmetrics) (1.23.5)\n",
            "Requirement already satisfied: packaging>17.1 in /usr/local/lib/python3.10/dist-packages (from torchmetrics) (23.2)\n",
            "Requirement already satisfied: torch>=1.10.0 in /usr/local/lib/python3.10/dist-packages (from torchmetrics) (2.1.0+cu121)\n",
            "Collecting lightning-utilities>=0.8.0 (from torchmetrics)\n",
            "  Downloading lightning_utilities-0.10.0-py3-none-any.whl (24 kB)\n",
            "Requirement already satisfied: setuptools in /usr/local/lib/python3.10/dist-packages (from lightning-utilities>=0.8.0->torchmetrics) (67.7.2)\n",
            "Requirement already satisfied: typing-extensions in /usr/local/lib/python3.10/dist-packages (from lightning-utilities>=0.8.0->torchmetrics) (4.5.0)\n",
            "Requirement already satisfied: filelock in /usr/local/lib/python3.10/dist-packages (from torch>=1.10.0->torchmetrics) (3.13.1)\n",
            "Requirement already satisfied: sympy in /usr/local/lib/python3.10/dist-packages (from torch>=1.10.0->torchmetrics) (1.12)\n",
            "Requirement already satisfied: networkx in /usr/local/lib/python3.10/dist-packages (from torch>=1.10.0->torchmetrics) (3.2.1)\n",
            "Requirement already satisfied: jinja2 in /usr/local/lib/python3.10/dist-packages (from torch>=1.10.0->torchmetrics) (3.1.3)\n",
            "Requirement already satisfied: fsspec in /usr/local/lib/python3.10/dist-packages (from torch>=1.10.0->torchmetrics) (2023.6.0)\n",
            "Requirement already satisfied: triton==2.1.0 in /usr/local/lib/python3.10/dist-packages (from torch>=1.10.0->torchmetrics) (2.1.0)\n",
            "Requirement already satisfied: MarkupSafe>=2.0 in /usr/local/lib/python3.10/dist-packages (from jinja2->torch>=1.10.0->torchmetrics) (2.1.3)\n",
            "Requirement already satisfied: mpmath>=0.19 in /usr/local/lib/python3.10/dist-packages (from sympy->torch>=1.10.0->torchmetrics) (1.3.0)\n",
            "Installing collected packages: lightning-utilities, torchmetrics\n",
            "Successfully installed lightning-utilities-0.10.0 torchmetrics-1.3.0\n",
            "Collecting torch_geometric\n",
            "  Downloading torch_geometric-2.4.0-py3-none-any.whl (1.0 MB)\n",
            "\u001b[2K     \u001b[90m━━━━━━━━━━━━━━━━━━━━━━━━━━━━━━━━━━━━━━━━\u001b[0m \u001b[32m1.0/1.0 MB\u001b[0m \u001b[31m6.2 MB/s\u001b[0m eta \u001b[36m0:00:00\u001b[0m\n",
            "\u001b[?25hRequirement already satisfied: tqdm in /usr/local/lib/python3.10/dist-packages (from torch_geometric) (4.66.1)\n",
            "Requirement already satisfied: numpy in /usr/local/lib/python3.10/dist-packages (from torch_geometric) (1.23.5)\n",
            "Requirement already satisfied: scipy in /usr/local/lib/python3.10/dist-packages (from torch_geometric) (1.11.4)\n",
            "Requirement already satisfied: jinja2 in /usr/local/lib/python3.10/dist-packages (from torch_geometric) (3.1.3)\n",
            "Requirement already satisfied: requests in /usr/local/lib/python3.10/dist-packages (from torch_geometric) (2.31.0)\n",
            "Requirement already satisfied: pyparsing in /usr/local/lib/python3.10/dist-packages (from torch_geometric) (3.1.1)\n",
            "Requirement already satisfied: scikit-learn in /usr/local/lib/python3.10/dist-packages (from torch_geometric) (1.2.2)\n",
            "Requirement already satisfied: psutil>=5.8.0 in /usr/local/lib/python3.10/dist-packages (from torch_geometric) (5.9.5)\n",
            "Requirement already satisfied: MarkupSafe>=2.0 in /usr/local/lib/python3.10/dist-packages (from jinja2->torch_geometric) (2.1.3)\n",
            "Requirement already satisfied: charset-normalizer<4,>=2 in /usr/local/lib/python3.10/dist-packages (from requests->torch_geometric) (3.3.2)\n",
            "Requirement already satisfied: idna<4,>=2.5 in /usr/local/lib/python3.10/dist-packages (from requests->torch_geometric) (3.6)\n",
            "Requirement already satisfied: urllib3<3,>=1.21.1 in /usr/local/lib/python3.10/dist-packages (from requests->torch_geometric) (2.0.7)\n",
            "Requirement already satisfied: certifi>=2017.4.17 in /usr/local/lib/python3.10/dist-packages (from requests->torch_geometric) (2023.11.17)\n",
            "Requirement already satisfied: joblib>=1.1.1 in /usr/local/lib/python3.10/dist-packages (from scikit-learn->torch_geometric) (1.3.2)\n",
            "Requirement already satisfied: threadpoolctl>=2.0.0 in /usr/local/lib/python3.10/dist-packages (from scikit-learn->torch_geometric) (3.2.0)\n",
            "Installing collected packages: torch_geometric\n",
            "Successfully installed torch_geometric-2.4.0\n"
          ]
        }
      ]
    },
    {
      "cell_type": "code",
      "source": [
        "!pip install wandb"
      ],
      "metadata": {
        "colab": {
          "base_uri": "https://localhost:8080/"
        },
        "id": "3g-vTnMabfDl",
        "outputId": "c9000cbc-c65b-4097-c902-ef9f470b185a"
      },
      "id": "3g-vTnMabfDl",
      "execution_count": 3,
      "outputs": [
        {
          "output_type": "stream",
          "name": "stdout",
          "text": [
            "Collecting wandb\n",
            "  Downloading wandb-0.16.2-py3-none-any.whl (2.2 MB)\n",
            "\u001b[2K     \u001b[90m━━━━━━━━━━━━━━━━━━━━━━━━━━━━━━━━━━━━━━━━\u001b[0m \u001b[32m2.2/2.2 MB\u001b[0m \u001b[31m8.7 MB/s\u001b[0m eta \u001b[36m0:00:00\u001b[0m\n",
            "\u001b[?25hRequirement already satisfied: Click!=8.0.0,>=7.1 in /usr/local/lib/python3.10/dist-packages (from wandb) (8.1.7)\n",
            "Collecting GitPython!=3.1.29,>=1.0.0 (from wandb)\n",
            "  Downloading GitPython-3.1.41-py3-none-any.whl (196 kB)\n",
            "\u001b[2K     \u001b[90m━━━━━━━━━━━━━━━━━━━━━━━━━━━━━━━━━━━━━━━━\u001b[0m \u001b[32m196.4/196.4 kB\u001b[0m \u001b[31m12.7 MB/s\u001b[0m eta \u001b[36m0:00:00\u001b[0m\n",
            "\u001b[?25hRequirement already satisfied: requests<3,>=2.0.0 in /usr/local/lib/python3.10/dist-packages (from wandb) (2.31.0)\n",
            "Requirement already satisfied: psutil>=5.0.0 in /usr/local/lib/python3.10/dist-packages (from wandb) (5.9.5)\n",
            "Collecting sentry-sdk>=1.0.0 (from wandb)\n",
            "  Downloading sentry_sdk-1.39.2-py2.py3-none-any.whl (254 kB)\n",
            "\u001b[2K     \u001b[90m━━━━━━━━━━━━━━━━━━━━━━━━━━━━━━━━━━━━━━━━\u001b[0m \u001b[32m254.1/254.1 kB\u001b[0m \u001b[31m12.1 MB/s\u001b[0m eta \u001b[36m0:00:00\u001b[0m\n",
            "\u001b[?25hCollecting docker-pycreds>=0.4.0 (from wandb)\n",
            "  Downloading docker_pycreds-0.4.0-py2.py3-none-any.whl (9.0 kB)\n",
            "Requirement already satisfied: PyYAML in /usr/local/lib/python3.10/dist-packages (from wandb) (6.0.1)\n",
            "Collecting setproctitle (from wandb)\n",
            "  Downloading setproctitle-1.3.3-cp310-cp310-manylinux_2_5_x86_64.manylinux1_x86_64.manylinux_2_17_x86_64.manylinux2014_x86_64.whl (30 kB)\n",
            "Requirement already satisfied: setuptools in /usr/local/lib/python3.10/dist-packages (from wandb) (67.7.2)\n",
            "Requirement already satisfied: appdirs>=1.4.3 in /usr/local/lib/python3.10/dist-packages (from wandb) (1.4.4)\n",
            "Requirement already satisfied: protobuf!=4.21.0,<5,>=3.19.0 in /usr/local/lib/python3.10/dist-packages (from wandb) (3.20.3)\n",
            "Requirement already satisfied: six>=1.4.0 in /usr/local/lib/python3.10/dist-packages (from docker-pycreds>=0.4.0->wandb) (1.16.0)\n",
            "Collecting gitdb<5,>=4.0.1 (from GitPython!=3.1.29,>=1.0.0->wandb)\n",
            "  Downloading gitdb-4.0.11-py3-none-any.whl (62 kB)\n",
            "\u001b[2K     \u001b[90m━━━━━━━━━━━━━━━━━━━━━━━━━━━━━━━━━━━━━━━━\u001b[0m \u001b[32m62.7/62.7 kB\u001b[0m \u001b[31m6.4 MB/s\u001b[0m eta \u001b[36m0:00:00\u001b[0m\n",
            "\u001b[?25hRequirement already satisfied: charset-normalizer<4,>=2 in /usr/local/lib/python3.10/dist-packages (from requests<3,>=2.0.0->wandb) (3.3.2)\n",
            "Requirement already satisfied: idna<4,>=2.5 in /usr/local/lib/python3.10/dist-packages (from requests<3,>=2.0.0->wandb) (3.6)\n",
            "Requirement already satisfied: urllib3<3,>=1.21.1 in /usr/local/lib/python3.10/dist-packages (from requests<3,>=2.0.0->wandb) (2.0.7)\n",
            "Requirement already satisfied: certifi>=2017.4.17 in /usr/local/lib/python3.10/dist-packages (from requests<3,>=2.0.0->wandb) (2023.11.17)\n",
            "Collecting smmap<6,>=3.0.1 (from gitdb<5,>=4.0.1->GitPython!=3.1.29,>=1.0.0->wandb)\n",
            "  Downloading smmap-5.0.1-py3-none-any.whl (24 kB)\n",
            "Installing collected packages: smmap, setproctitle, sentry-sdk, docker-pycreds, gitdb, GitPython, wandb\n",
            "Successfully installed GitPython-3.1.41 docker-pycreds-0.4.0 gitdb-4.0.11 sentry-sdk-1.39.2 setproctitle-1.3.3 smmap-5.0.1 wandb-0.16.2\n"
          ]
        }
      ]
    },
    {
      "cell_type": "code",
      "source": [
        "from google.colab import files\n",
        "uploaded = files.upload()\n"
      ],
      "metadata": {
        "colab": {
          "base_uri": "https://localhost:8080/",
          "height": 75
        },
        "id": "pUSH5TAnZygl",
        "outputId": "4098f1a4-f3b1-47fc-8cf9-7962126a29bd"
      },
      "id": "pUSH5TAnZygl",
      "execution_count": 5,
      "outputs": [
        {
          "output_type": "display_data",
          "data": {
            "text/plain": [
              "<IPython.core.display.HTML object>"
            ],
            "text/html": [
              "\n",
              "     <input type=\"file\" id=\"files-965e9faf-24d1-4e42-aac6-4794ee855da5\" name=\"files[]\" multiple disabled\n",
              "        style=\"border:none\" />\n",
              "     <output id=\"result-965e9faf-24d1-4e42-aac6-4794ee855da5\">\n",
              "      Upload widget is only available when the cell has been executed in the\n",
              "      current browser session. Please rerun this cell to enable.\n",
              "      </output>\n",
              "      <script>// Copyright 2017 Google LLC\n",
              "//\n",
              "// Licensed under the Apache License, Version 2.0 (the \"License\");\n",
              "// you may not use this file except in compliance with the License.\n",
              "// You may obtain a copy of the License at\n",
              "//\n",
              "//      http://www.apache.org/licenses/LICENSE-2.0\n",
              "//\n",
              "// Unless required by applicable law or agreed to in writing, software\n",
              "// distributed under the License is distributed on an \"AS IS\" BASIS,\n",
              "// WITHOUT WARRANTIES OR CONDITIONS OF ANY KIND, either express or implied.\n",
              "// See the License for the specific language governing permissions and\n",
              "// limitations under the License.\n",
              "\n",
              "/**\n",
              " * @fileoverview Helpers for google.colab Python module.\n",
              " */\n",
              "(function(scope) {\n",
              "function span(text, styleAttributes = {}) {\n",
              "  const element = document.createElement('span');\n",
              "  element.textContent = text;\n",
              "  for (const key of Object.keys(styleAttributes)) {\n",
              "    element.style[key] = styleAttributes[key];\n",
              "  }\n",
              "  return element;\n",
              "}\n",
              "\n",
              "// Max number of bytes which will be uploaded at a time.\n",
              "const MAX_PAYLOAD_SIZE = 100 * 1024;\n",
              "\n",
              "function _uploadFiles(inputId, outputId) {\n",
              "  const steps = uploadFilesStep(inputId, outputId);\n",
              "  const outputElement = document.getElementById(outputId);\n",
              "  // Cache steps on the outputElement to make it available for the next call\n",
              "  // to uploadFilesContinue from Python.\n",
              "  outputElement.steps = steps;\n",
              "\n",
              "  return _uploadFilesContinue(outputId);\n",
              "}\n",
              "\n",
              "// This is roughly an async generator (not supported in the browser yet),\n",
              "// where there are multiple asynchronous steps and the Python side is going\n",
              "// to poll for completion of each step.\n",
              "// This uses a Promise to block the python side on completion of each step,\n",
              "// then passes the result of the previous step as the input to the next step.\n",
              "function _uploadFilesContinue(outputId) {\n",
              "  const outputElement = document.getElementById(outputId);\n",
              "  const steps = outputElement.steps;\n",
              "\n",
              "  const next = steps.next(outputElement.lastPromiseValue);\n",
              "  return Promise.resolve(next.value.promise).then((value) => {\n",
              "    // Cache the last promise value to make it available to the next\n",
              "    // step of the generator.\n",
              "    outputElement.lastPromiseValue = value;\n",
              "    return next.value.response;\n",
              "  });\n",
              "}\n",
              "\n",
              "/**\n",
              " * Generator function which is called between each async step of the upload\n",
              " * process.\n",
              " * @param {string} inputId Element ID of the input file picker element.\n",
              " * @param {string} outputId Element ID of the output display.\n",
              " * @return {!Iterable<!Object>} Iterable of next steps.\n",
              " */\n",
              "function* uploadFilesStep(inputId, outputId) {\n",
              "  const inputElement = document.getElementById(inputId);\n",
              "  inputElement.disabled = false;\n",
              "\n",
              "  const outputElement = document.getElementById(outputId);\n",
              "  outputElement.innerHTML = '';\n",
              "\n",
              "  const pickedPromise = new Promise((resolve) => {\n",
              "    inputElement.addEventListener('change', (e) => {\n",
              "      resolve(e.target.files);\n",
              "    });\n",
              "  });\n",
              "\n",
              "  const cancel = document.createElement('button');\n",
              "  inputElement.parentElement.appendChild(cancel);\n",
              "  cancel.textContent = 'Cancel upload';\n",
              "  const cancelPromise = new Promise((resolve) => {\n",
              "    cancel.onclick = () => {\n",
              "      resolve(null);\n",
              "    };\n",
              "  });\n",
              "\n",
              "  // Wait for the user to pick the files.\n",
              "  const files = yield {\n",
              "    promise: Promise.race([pickedPromise, cancelPromise]),\n",
              "    response: {\n",
              "      action: 'starting',\n",
              "    }\n",
              "  };\n",
              "\n",
              "  cancel.remove();\n",
              "\n",
              "  // Disable the input element since further picks are not allowed.\n",
              "  inputElement.disabled = true;\n",
              "\n",
              "  if (!files) {\n",
              "    return {\n",
              "      response: {\n",
              "        action: 'complete',\n",
              "      }\n",
              "    };\n",
              "  }\n",
              "\n",
              "  for (const file of files) {\n",
              "    const li = document.createElement('li');\n",
              "    li.append(span(file.name, {fontWeight: 'bold'}));\n",
              "    li.append(span(\n",
              "        `(${file.type || 'n/a'}) - ${file.size} bytes, ` +\n",
              "        `last modified: ${\n",
              "            file.lastModifiedDate ? file.lastModifiedDate.toLocaleDateString() :\n",
              "                                    'n/a'} - `));\n",
              "    const percent = span('0% done');\n",
              "    li.appendChild(percent);\n",
              "\n",
              "    outputElement.appendChild(li);\n",
              "\n",
              "    const fileDataPromise = new Promise((resolve) => {\n",
              "      const reader = new FileReader();\n",
              "      reader.onload = (e) => {\n",
              "        resolve(e.target.result);\n",
              "      };\n",
              "      reader.readAsArrayBuffer(file);\n",
              "    });\n",
              "    // Wait for the data to be ready.\n",
              "    let fileData = yield {\n",
              "      promise: fileDataPromise,\n",
              "      response: {\n",
              "        action: 'continue',\n",
              "      }\n",
              "    };\n",
              "\n",
              "    // Use a chunked sending to avoid message size limits. See b/62115660.\n",
              "    let position = 0;\n",
              "    do {\n",
              "      const length = Math.min(fileData.byteLength - position, MAX_PAYLOAD_SIZE);\n",
              "      const chunk = new Uint8Array(fileData, position, length);\n",
              "      position += length;\n",
              "\n",
              "      const base64 = btoa(String.fromCharCode.apply(null, chunk));\n",
              "      yield {\n",
              "        response: {\n",
              "          action: 'append',\n",
              "          file: file.name,\n",
              "          data: base64,\n",
              "        },\n",
              "      };\n",
              "\n",
              "      let percentDone = fileData.byteLength === 0 ?\n",
              "          100 :\n",
              "          Math.round((position / fileData.byteLength) * 100);\n",
              "      percent.textContent = `${percentDone}% done`;\n",
              "\n",
              "    } while (position < fileData.byteLength);\n",
              "  }\n",
              "\n",
              "  // All done.\n",
              "  yield {\n",
              "    response: {\n",
              "      action: 'complete',\n",
              "    }\n",
              "  };\n",
              "}\n",
              "\n",
              "scope.google = scope.google || {};\n",
              "scope.google.colab = scope.google.colab || {};\n",
              "scope.google.colab._files = {\n",
              "  _uploadFiles,\n",
              "  _uploadFilesContinue,\n",
              "};\n",
              "})(self);\n",
              "</script> "
            ]
          },
          "metadata": {}
        },
        {
          "output_type": "stream",
          "name": "stdout",
          "text": [
            "Saving checker.py to checker.py\n"
          ]
        }
      ]
    },
    {
      "cell_type": "code",
      "execution_count": 6,
      "id": "e6b97de5d9371cf2",
      "metadata": {
        "ExecuteTime": {
          "end_time": "2023-12-11T15:15:49.562914Z",
          "start_time": "2023-12-11T15:15:48.616258Z"
        },
        "colab": {
          "base_uri": "https://localhost:8080/"
        },
        "id": "e6b97de5d9371cf2",
        "outputId": "b280e722-20e5-49cc-bfb3-73c8a829823e"
      },
      "outputs": [
        {
          "output_type": "stream",
          "name": "stderr",
          "text": [
            "DGL backend not selected or invalid.  Assuming PyTorch for now.\n"
          ]
        },
        {
          "output_type": "stream",
          "name": "stdout",
          "text": [
            "Setting the default backend to \"pytorch\". You can change it in the ~/.dgl/config.json file or export the DGLBACKEND environment variable.  Valid options are: pytorch, mxnet, tensorflow (all lowercase)\n",
            "Downloading /root/.dgl/FreeSolv.zip from https://data.dgl.ai/dataset/FreeSolv.zip...\n",
            "Extracting file to /root/.dgl/FreeSolv\n",
            "Processing dgl graphs from scratch...\n"
          ]
        }
      ],
      "source": [
        "from dgllife.utils import CanonicalAtomFeaturizer, CanonicalBondFeaturizer, SMILESToBigraph\n",
        "from dgllife.data import FreeSolv\n",
        "import torch\n",
        "import dgl\n",
        "\n",
        "node_featurizer = CanonicalAtomFeaturizer()\n",
        "edge_featurizer = CanonicalBondFeaturizer(self_loop=True)\n",
        "dataset = FreeSolv(\n",
        "    smiles_to_graph=SMILESToBigraph(\n",
        "        node_featurizer=node_featurizer,\n",
        "        edge_featurizer=edge_featurizer,\n",
        "        add_self_loop=True, # well... some of the molecules in the dataset contain no edges, so adding the self-loop (edge from node to itself) makes the future MPNN implementations simpler.\n",
        "    ),\n",
        ")"
      ]
    },
    {
      "cell_type": "markdown",
      "id": "9bf700b3346f6a31",
      "metadata": {
        "id": "9bf700b3346f6a31"
      },
      "source": [
        "## Playground"
      ]
    },
    {
      "cell_type": "code",
      "execution_count": 7,
      "id": "fd08f424238c9580",
      "metadata": {
        "ExecuteTime": {
          "end_time": "2023-12-11T15:15:49.568451Z",
          "start_time": "2023-12-11T15:15:49.564290Z"
        },
        "colab": {
          "base_uri": "https://localhost:8080/"
        },
        "id": "fd08f424238c9580",
        "outputId": "0a6cadc7-839d-4edf-e7bc-ab1229cb2e97"
      },
      "outputs": [
        {
          "output_type": "execute_result",
          "data": {
            "text/plain": [
              "('CN(C)C(=O)c1ccc(cc1)OC',\n",
              " Graph(num_nodes=13, num_edges=39,\n",
              "       ndata_schemes={'h': Scheme(shape=(74,), dtype=torch.float32)}\n",
              "       edata_schemes={'e': Scheme(shape=(13,), dtype=torch.float32)}),\n",
              " tensor([-11.0100]))"
            ]
          },
          "metadata": {},
          "execution_count": 7
        }
      ],
      "source": [
        "smiles, graph, label = dataset[0]\n",
        "smiles, graph, label"
      ]
    },
    {
      "cell_type": "markdown",
      "id": "b297de83ea20e626",
      "metadata": {
        "id": "b297de83ea20e626"
      },
      "source": [
        "We see that the dataset item consist of a SMILES string, a graph, and a label. The graph is a [DGLGraph](https://docs.dgl.ai/en/0.8.x/api/python/dgl.DGLGraph.html) object that contains node and edge features. We can access them with the following code:"
      ]
    },
    {
      "cell_type": "code",
      "execution_count": 8,
      "id": "f6cd6aafddd20202",
      "metadata": {
        "ExecuteTime": {
          "end_time": "2023-12-11T15:15:49.571379Z",
          "start_time": "2023-12-11T15:15:49.567706Z"
        },
        "colab": {
          "base_uri": "https://localhost:8080/"
        },
        "id": "f6cd6aafddd20202",
        "outputId": "1d289645-8cdd-4c90-a81e-c577ef65e897"
      },
      "outputs": [
        {
          "output_type": "execute_result",
          "data": {
            "text/plain": [
              "torch.Size([13, 74])"
            ]
          },
          "metadata": {},
          "execution_count": 8
        }
      ],
      "source": [
        "graph.ndata['h'].shape  # node features"
      ]
    },
    {
      "cell_type": "code",
      "execution_count": 9,
      "id": "972195282cdfb48f",
      "metadata": {
        "ExecuteTime": {
          "end_time": "2023-12-11T15:15:49.585687Z",
          "start_time": "2023-12-11T15:15:49.571477Z"
        },
        "colab": {
          "base_uri": "https://localhost:8080/"
        },
        "id": "972195282cdfb48f",
        "outputId": "54a65a10-f24d-4f47-da17-495d0d5bd23e"
      },
      "outputs": [
        {
          "output_type": "execute_result",
          "data": {
            "text/plain": [
              "torch.Size([39, 13])"
            ]
          },
          "metadata": {},
          "execution_count": 9
        }
      ],
      "source": [
        "graph.edata['e'].shape  # edge features"
      ]
    },
    {
      "cell_type": "code",
      "execution_count": 10,
      "id": "bf1af8de0703b2d3",
      "metadata": {
        "ExecuteTime": {
          "end_time": "2023-12-11T15:15:49.585880Z",
          "start_time": "2023-12-11T15:15:49.574913Z"
        },
        "colab": {
          "base_uri": "https://localhost:8080/"
        },
        "id": "bf1af8de0703b2d3",
        "outputId": "1796c38f-a430-4cc3-97c1-3a8259b0e6a3"
      },
      "outputs": [
        {
          "output_type": "execute_result",
          "data": {
            "text/plain": [
              "tensor([[12,  0],\n",
              "        [ 0, 12],\n",
              "        [ 0,  2],\n",
              "        [ 2,  0],\n",
              "        [ 0,  4],\n",
              "        [ 4,  0],\n",
              "        [ 4,  7],\n",
              "        [ 7,  4],\n",
              "        [ 4,  9],\n",
              "        [ 9,  4],\n",
              "        [ 9,  6],\n",
              "        [ 6,  9],\n",
              "        [ 6, 10],\n",
              "        [10,  6],\n",
              "        [10, 11],\n",
              "        [11, 10],\n",
              "        [11,  3],\n",
              "        [ 3, 11],\n",
              "        [ 3,  8],\n",
              "        [ 8,  3],\n",
              "        [11,  5],\n",
              "        [ 5, 11],\n",
              "        [ 5,  1],\n",
              "        [ 1,  5],\n",
              "        [ 8,  9],\n",
              "        [ 9,  8],\n",
              "        [ 0,  0],\n",
              "        [ 1,  1],\n",
              "        [ 2,  2],\n",
              "        [ 3,  3],\n",
              "        [ 4,  4],\n",
              "        [ 5,  5],\n",
              "        [ 6,  6],\n",
              "        [ 7,  7],\n",
              "        [ 8,  8],\n",
              "        [ 9,  9],\n",
              "        [10, 10],\n",
              "        [11, 11],\n",
              "        [12, 12]], dtype=torch.int32)"
            ]
          },
          "metadata": {},
          "execution_count": 10
        }
      ],
      "source": [
        "start_nodes, end_nodes = graph.edges()  # edges. Note that edges are directed, so we have two edges for each bond. Moreover, we have self-loops, to easily handle molecules with only one atom.\n",
        "edges = torch.stack([start_nodes, end_nodes], dim=1)\n",
        "edges"
      ]
    },
    {
      "cell_type": "markdown",
      "id": "611ba9d29599927d",
      "metadata": {
        "id": "611ba9d29599927d"
      },
      "source": [
        "Importantly, if we want to create a batch of graphs, we can simply treat the graphs as... a single graph with many disconnected components. The reason is that MPNN cannot pass the message between disconnected compontents, so the graphs in a batch won't influence each other. To make a batch from two graphs, we can simply run:"
      ]
    },
    {
      "cell_type": "code",
      "execution_count": 11,
      "id": "1063ec4d70a6c648",
      "metadata": {
        "ExecuteTime": {
          "end_time": "2023-12-11T15:15:49.585967Z",
          "start_time": "2023-12-11T15:15:49.578783Z"
        },
        "colab": {
          "base_uri": "https://localhost:8080/"
        },
        "id": "1063ec4d70a6c648",
        "outputId": "c55aeb7f-f26f-4e49-b307-ee905242104f"
      },
      "outputs": [
        {
          "output_type": "execute_result",
          "data": {
            "text/plain": [
              "(Graph(num_nodes=13, num_edges=39,\n",
              "       ndata_schemes={'h': Scheme(shape=(74,), dtype=torch.float32)}\n",
              "       edata_schemes={'e': Scheme(shape=(13,), dtype=torch.float32)}),\n",
              " Graph(num_nodes=5, num_edges=13,\n",
              "       ndata_schemes={'h': Scheme(shape=(74,), dtype=torch.float32)}\n",
              "       edata_schemes={'e': Scheme(shape=(13,), dtype=torch.float32)}),\n",
              " Graph(num_nodes=18, num_edges=52,\n",
              "       ndata_schemes={'h': Scheme(shape=(74,), dtype=torch.float32)}\n",
              "       edata_schemes={'e': Scheme(shape=(13,), dtype=torch.float32)}))"
            ]
          },
          "metadata": {},
          "execution_count": 11
        }
      ],
      "source": [
        "_, graph_1, _ = dataset[0]\n",
        "_, graph_2, _ = dataset[1]\n",
        "collated_graph = dgl.batch([graph_1, graph_2])\n",
        "graph_1, graph_2, collated_graph"
      ]
    },
    {
      "cell_type": "code",
      "execution_count": 12,
      "id": "cd9357b97e4c3b1b",
      "metadata": {
        "ExecuteTime": {
          "end_time": "2023-12-11T15:15:49.659167Z",
          "start_time": "2023-12-11T15:15:49.583356Z"
        },
        "colab": {
          "base_uri": "https://localhost:8080/"
        },
        "id": "cd9357b97e4c3b1b",
        "outputId": "bf49e0f5-469c-4b49-fb7d-63a93178e8b2"
      },
      "outputs": [
        {
          "output_type": "execute_result",
          "data": {
            "text/plain": [
              "tensor([13,  5])"
            ]
          },
          "metadata": {},
          "execution_count": 12
        }
      ],
      "source": [
        "collated_graph.batch_num_nodes()"
      ]
    },
    {
      "cell_type": "markdown",
      "id": "b37a35a6ae91e55d",
      "metadata": {
        "id": "b37a35a6ae91e55d"
      },
      "source": [
        "In the collated_graph, the ids corresponding to the nodes of graph_2 are shifted by the size of graph_1:"
      ]
    },
    {
      "cell_type": "code",
      "execution_count": 13,
      "id": "7598293d45c78c0",
      "metadata": {
        "ExecuteTime": {
          "end_time": "2023-12-11T15:15:49.673590Z",
          "start_time": "2023-12-11T15:15:49.586749Z"
        },
        "colab": {
          "base_uri": "https://localhost:8080/"
        },
        "id": "7598293d45c78c0",
        "outputId": "a42b8276-4d5b-4101-b56c-c2153f8e9d70"
      },
      "outputs": [
        {
          "output_type": "execute_result",
          "data": {
            "text/plain": [
              "(tensor([ 0,  1,  2,  3,  4,  5,  6,  7,  8,  9, 10, 11, 12], dtype=torch.int32),\n",
              " tensor([0, 1, 2, 3, 4], dtype=torch.int32),\n",
              " tensor([ 0,  1,  2,  3,  4,  5,  6,  7,  8,  9, 10, 11, 12, 13, 14, 15, 16, 17],\n",
              "        dtype=torch.int32))"
            ]
          },
          "metadata": {},
          "execution_count": 13
        }
      ],
      "source": [
        "graph_1.nodes(), graph_2.nodes(), collated_graph.nodes()"
      ]
    },
    {
      "cell_type": "markdown",
      "id": "e67b6515649fa77d",
      "metadata": {
        "id": "e67b6515649fa77d"
      },
      "source": [
        "## Split\n",
        "We are going to make our split slightly harder by using [scaffold](https://hub.knime.com/infocom/extensions/jp.co.infocom.cheminfo.jchem.feature/latest/jp.co.infocom.cheminfo.jchem.bemismurckoclustering.BemisMurckoClusteringNodeFactory) (scaffold is the largest cycle in a molecule) splitting that puts molecules with similar scaffolds to the same split."
      ]
    },
    {
      "cell_type": "code",
      "execution_count": 14,
      "id": "901db3d9cdc5a748",
      "metadata": {
        "ExecuteTime": {
          "end_time": "2023-12-11T15:15:49.674260Z",
          "start_time": "2023-12-11T15:15:49.620132Z"
        },
        "colab": {
          "base_uri": "https://localhost:8080/"
        },
        "id": "901db3d9cdc5a748",
        "outputId": "529d5100-2a87-4d64-c2bf-2f551c6f8cfc"
      },
      "outputs": [
        {
          "output_type": "stream",
          "name": "stdout",
          "text": [
            "Start initializing RDKit molecule instances...\n",
            "Start computing Bemis-Murcko scaffolds.\n"
          ]
        }
      ],
      "source": [
        "from dgllife.utils import ScaffoldSplitter\n",
        "\n",
        "splitter = ScaffoldSplitter()\n",
        "train, valid, test = splitter.train_val_test_split(dataset)"
      ]
    },
    {
      "cell_type": "markdown",
      "id": "b6a601dc47074ca6",
      "metadata": {
        "id": "b6a601dc47074ca6"
      },
      "source": [
        "# Code"
      ]
    },
    {
      "cell_type": "markdown",
      "id": "be6593567ea5467",
      "metadata": {
        "id": "be6593567ea5467"
      },
      "source": [
        "## Trainer"
      ]
    },
    {
      "cell_type": "code",
      "execution_count": 15,
      "id": "e75cf00937a3c413",
      "metadata": {
        "ExecuteTime": {
          "end_time": "2023-12-11T15:15:49.674313Z",
          "start_time": "2023-12-11T15:15:49.633153Z"
        },
        "colab": {
          "base_uri": "https://localhost:8080/"
        },
        "id": "e75cf00937a3c413",
        "outputId": "cf1f884b-e523-415a-a1a1-b622a1fe4f99"
      },
      "outputs": [
        {
          "output_type": "stream",
          "name": "stderr",
          "text": [
            "<ipython-input-15-470d2bf453db>:3: TqdmExperimentalWarning: Using `tqdm.autonotebook.tqdm` in notebook mode. Use `tqdm.tqdm` instead to force console mode (e.g. in jupyter console)\n",
            "  from tqdm.autonotebook import tqdm\n"
          ]
        }
      ],
      "source": [
        "import copy\n",
        "import numpy as np\n",
        "from tqdm.autonotebook import tqdm\n",
        "from dgl.dataloading import GraphDataLoader\n",
        "from torchmetrics import Metric\n",
        "from dgl.data import Subset\n",
        "from torch import nn\n",
        "from typing import Type\n",
        "from typing import Dict, Any\n",
        "from pathlib import Path\n",
        "from abc import ABC, abstractmethod\n",
        "from checker import expected_mean_readout, expected_gin_layer_output, expected_sage_layer_output, \\\n",
        "    expected_attention_readout, expected_gine_layer_output, expected_sum_readout, expected_simple_mpnn_output\n",
        "\n",
        "\n",
        "class LoggerBase(ABC):\n",
        "    def __init__(self, logdir: str | Path):\n",
        "        self.logdir = Path(logdir)\n",
        "        self.logdir.mkdir(parents=True, exist_ok=True)\n",
        "\n",
        "    @abstractmethod\n",
        "    def log_metrics(self, metrics: Dict[str, Any], prefix: str):\n",
        "        ...\n",
        "\n",
        "    @abstractmethod\n",
        "    def close(self):\n",
        "        ...\n",
        "\n",
        "\n",
        "class DummyLogger(LoggerBase):  # If you don't want to use any logger, you can use this one\n",
        "    def log_metrics(self, metrics: Dict[str, Any], prefix: str):\n",
        "        pass\n",
        "\n",
        "    def close(self):\n",
        "        pass\n",
        "\n",
        "    def restart(self):\n",
        "        pass\n",
        "\n",
        "\n",
        "class MetricList:\n",
        "    def __init__(self, metrics: Dict[str, Metric]):\n",
        "        self.metrics = copy.deepcopy(metrics)\n",
        "\n",
        "    def update(self, preds: torch.Tensor, targets: torch.Tensor) -> None:\n",
        "        for name, metric in self.metrics.items():\n",
        "            metric.update(preds.detach().cpu(), targets.cpu())\n",
        "\n",
        "    def compute(self) -> Dict[str, float]:\n",
        "        metrics = {}\n",
        "        for name, metric_fn in self.metrics.items():\n",
        "            metrics[name] = metric_fn.compute().item()\n",
        "            metric_fn.reset()\n",
        "        return metrics\n",
        "\n",
        "\n",
        "class Trainer:\n",
        "    def __init__(\n",
        "            self,\n",
        "            *,\n",
        "            run_dir: str | Path,\n",
        "            train_dataset: Subset,\n",
        "            valid_dataset: Subset,\n",
        "            train_metrics: Dict[str, Metric],\n",
        "            valid_metrics: Dict[str, Metric],\n",
        "            model: nn.Module,\n",
        "            logger: LoggerBase,\n",
        "            optimizer_kwargs: Dict[str, Any],\n",
        "            optimizer_cls: Type[torch.optim.Optimizer] = torch.optim.Adam,\n",
        "            n_epochs: int,\n",
        "            train_batch_size: int = 32,\n",
        "            valid_batch_size: int = 16,\n",
        "            device: str = \"cuda\",\n",
        "            valid_every_n_epochs: int = 1,\n",
        "            loss_fn=nn.MSELoss()\n",
        "    ):\n",
        "        self.run_dir = Path(run_dir)\n",
        "        self.train_loader = GraphDataLoader(\n",
        "            dataset=train_dataset,\n",
        "            batch_size=train_batch_size,\n",
        "            shuffle=True,\n",
        "        )\n",
        "        self.valid_loader = GraphDataLoader(\n",
        "            dataset=valid_dataset,\n",
        "            batch_size=valid_batch_size,\n",
        "            shuffle=True,\n",
        "        )\n",
        "        self.train_metrics = MetricList(train_metrics)\n",
        "        self.valid_metrics = MetricList(valid_metrics)\n",
        "        self.logger = logger\n",
        "        self.model = model\n",
        "        self.optimizer = optimizer_cls(model.parameters(), **optimizer_kwargs)\n",
        "        self.n_epochs = n_epochs\n",
        "        self.device = device\n",
        "        self.valid_every_n_epochs = valid_every_n_epochs\n",
        "        self.loss_fn = loss_fn\n",
        "        self.model.to(device)\n",
        "\n",
        "    @torch.no_grad()\n",
        "    def validate(self, dataloader: GraphDataLoader, prefix: str) -> Dict[str, float]:\n",
        "        previous_mode = self.model.training\n",
        "        self.model.eval()\n",
        "        losses = []\n",
        "        for _, graphs, labels in dataloader:\n",
        "            graphs = graphs.to(self.device)\n",
        "            labels = labels.to(self.device)\n",
        "            preds = self.model(graphs)\n",
        "            loss = self.loss_fn(preds, labels)\n",
        "            losses.append(loss.item())\n",
        "            self.valid_metrics.update(preds, labels)\n",
        "        self.model.train(mode=previous_mode)\n",
        "        metrics = {\"loss\": np.mean(losses)} | self.valid_metrics.compute()\n",
        "        self.logger.log_metrics(metrics=metrics, prefix=prefix)\n",
        "        return metrics\n",
        "\n",
        "    def train(self) -> Dict[str, float]:\n",
        "        self.model.train()\n",
        "        valid_metrics = {}\n",
        "        for epoch in tqdm(range(self.n_epochs), total=self.n_epochs):\n",
        "            for _, graphs, labels in self.train_loader:\n",
        "                self.optimizer.zero_grad()\n",
        "                graphs = graphs.to(self.device)\n",
        "                labels = labels.to(self.device)\n",
        "                preds = self.model(graphs)\n",
        "                loss = self.loss_fn(preds, labels)\n",
        "                loss.backward()\n",
        "                self.optimizer.step()\n",
        "\n",
        "                self.train_metrics.update(preds, labels)\n",
        "                train_metrics = {\"loss\": loss.item()} | self.train_metrics.compute()\n",
        "                self.logger.log_metrics(metrics=train_metrics, prefix=\"train\")\n",
        "\n",
        "                if epoch % self.valid_every_n_epochs == 0 or epoch == self.n_epochs - 1:\n",
        "                    valid_metrics = self.validate(self.valid_loader, prefix=\"valid\")\n",
        "\n",
        "        return valid_metrics\n",
        "\n",
        "    def test(self, dataset: Subset) -> Dict[str, float]:\n",
        "        dataloader = GraphDataLoader(\n",
        "            dataset=dataset,\n",
        "            batch_size=16,\n",
        "            shuffle=False,\n",
        "        )\n",
        "        return self.validate(dataloader, prefix=\"test\")\n",
        "\n",
        "    def close(self):  # close the logger, not really required for wandb\n",
        "        self.logger.close()"
      ]
    },
    {
      "cell_type": "markdown",
      "id": "7d54c9a1e68cd221",
      "metadata": {
        "id": "7d54c9a1e68cd221"
      },
      "source": [
        "# Graph Neural Networks (GNNs)\n",
        "The high-level Graph Neural Network architecture we are going to use looks roughly like this:\n",
        "\n",
        "<img src=\"resources/gnn.png\" width=\"1200\" />\n",
        "\n",
        "- The Featurizer takes a molecule and transforms it to a graph with node and edge features (it happens at the level of dataset, so we don't really need to worry about that).\n",
        "- In our case, we will linearly embed the node and edge features to the hidden size before applying first MPNN layer which is not captured in the diagram.\n",
        "- The MPNN layer takes node (and possibly edge embeddings) and the graph structure and returns updated node embeddings. It happens in a loop.\n",
        "- Then the node embeddings are aggregated by the Readout layer to obtain a graph embeddings.\n",
        "- Finally, the graph embeddings are passed to the MLP to obtain the final prediction."
      ]
    },
    {
      "cell_type": "code",
      "execution_count": 16,
      "id": "e6e7df76cc963d8b",
      "metadata": {
        "ExecuteTime": {
          "end_time": "2023-12-11T15:15:49.674390Z",
          "start_time": "2023-12-11T15:15:49.638119Z"
        },
        "id": "e6e7df76cc963d8b"
      },
      "outputs": [],
      "source": [
        "class MPNNLayerBase(ABC, nn.Module):\n",
        "    def _init(self, hidden_size: int):\n",
        "        \"\"\"\n",
        "        Attributes:\n",
        "            hidden_size: the size of node (and edges) embeddings\n",
        "        \"\"\"\n",
        "        super().__init__()\n",
        "        self.hidden_size = hidden_size\n",
        "\n",
        "    @abstractmethod\n",
        "    def forward(self,\n",
        "                node_embeddings: torch.Tensor,\n",
        "                edge_embeddings: torch.Tensor,\n",
        "                graph: dgl.DGLGraph) -> torch.Tensor:\n",
        "        \"\"\"\n",
        "        Arguments:\n",
        "            node_embeddings: node embeddings in a sparse format, i.e. [total_num_nodes, hidden_size]\n",
        "            edge_embeddings: edge embeddings in a sparse format, i.e. [total_num_edges, hidden_size]\n",
        "            graph: a DGLGraph that contains the graph structure\n",
        "        Returns:\n",
        "            node_embeddings: updated node embeddings in a sparse format, i.e. [total_num_nodes, hidden_size]\n",
        "        \"\"\"\n",
        "        graph.send(graph.edges(), 'msg', edge_embeddings)\n",
        "\n",
        "        # Reduce messages by averaging\n",
        "        graph.recv(graph.nodes(), 'sum', 'msg')\n",
        "        graph.recv(graph.nodes(), 'count', dgl.function.copy_u('msg', 'count'))\n",
        "        updated_node_embeddings = graph.ndata['sum'] / graph.ndata['count']\n",
        "\n",
        "        return updated_node_embeddings\n",
        "\n",
        "\n",
        "class ReadoutBase(nn.Module):\n",
        "    def __init__(self, hidden_size: int):\n",
        "        super().__init__()\n",
        "        self.hidden_size = hidden_size\n",
        "\n",
        "    @abstractmethod\n",
        "    def forward(self,\n",
        "                node_embeddings: torch.Tensor,\n",
        "                graph: dgl.DGLGraph) -> torch.Tensor:\n",
        "        \"\"\"\n",
        "        Attributes:\n",
        "            node_embeddings: node embeddings in a sparse format, i.e. [total_num_nodes, hidden_size]\n",
        "            graph: a DGLGraph that contains the graph structure\n",
        "        Returns:\n",
        "            graph_embeddings: graph embeddings of shape.[batch_size, hidden_size]\n",
        "        \"\"\"\n",
        "        ...\n",
        "\n",
        "\n",
        "class GNN(nn.Module):\n",
        "    def __init__(self,\n",
        "                 node_features_size: int,\n",
        "                 edge_features_size: int,\n",
        "                 hidden_size: int,\n",
        "                 output_size: int,\n",
        "                 mpnn_layer_cls: Type[MPNNLayerBase],\n",
        "                 mpnn_layer_kwargs: Dict[str, Any],\n",
        "                 mpnn_n_layers: int,\n",
        "                 readout_cls: Type[ReadoutBase]):\n",
        "        \"\"\"\n",
        "        Arguments:\n",
        "            node_features_size: the size of node features\n",
        "            edge_features_size: the size of edge features\n",
        "            hidden_size: the size of node (and edge) embeddings\n",
        "            output_size: the size of the final prediction\n",
        "            mpnn_layer_cls: the class of MPNN layer\n",
        "            mpnn_layer_kwargs: the kwargs for the MPNN layer\n",
        "            mpnn_n_layers: the number of MPNN layers\n",
        "            readout_cls: the class of Readout layer\n",
        "        \"\"\"\n",
        "        super().__init__()\n",
        "        self.linear_node = nn.Linear(node_features_size, hidden_size)\n",
        "        self.linear_edge = nn.Linear(edge_features_size, hidden_size)\n",
        "        self.mpnn_layers = nn.ModuleList([\n",
        "            mpnn_layer_cls(hidden_size=hidden_size, **mpnn_layer_kwargs)\n",
        "            for _ in range(mpnn_n_layers)\n",
        "        ])\n",
        "        self.readout = readout_cls(hidden_size=hidden_size)\n",
        "        self.mlp = nn.Sequential(\n",
        "            nn.Linear(hidden_size, hidden_size),\n",
        "            nn.GELU(),\n",
        "            nn.Linear(hidden_size, output_size)\n",
        "        )\n",
        "\n",
        "    def forward(self, graph: dgl.DGLGraph) -> torch.Tensor:\n",
        "        \"\"\"\n",
        "        Arguments:\n",
        "            graph: a DGLGraph that contains the graph structure and node/edge features in a sparse format\n",
        "        Returns:\n",
        "            predictions: the final predictions\n",
        "        \"\"\"\n",
        "        node_embeddings, edge_embeddings = graph.ndata['h'], graph.edata['e']\n",
        "        node_embeddings = self.linear_node(node_embeddings)\n",
        "        edge_embeddings = self.linear_edge(\n",
        "            edge_embeddings)  # some of the models does not use edge features, but we won't use if-clauses for convenience.\n",
        "        for layer in self.mpnn_layers:\n",
        "            node_embeddings = layer(node_embeddings=node_embeddings, edge_embeddings=edge_embeddings, graph=graph)\n",
        "        graph_embedding = self.readout(node_embeddings, graph)\n",
        "        predictions = self.mlp(graph_embedding)\n",
        "        return predictions"
      ]
    },
    {
      "cell_type": "markdown",
      "id": "b9ac59d947b4000b",
      "metadata": {
        "id": "b9ac59d947b4000b"
      },
      "source": [
        "## Readout\n",
        "Readout operation is used to aggregate node embeddings to obtain a graph embedding. There are many different readout operations, but the most popular are: sum, mean, attention, and max. We are going to implement the first three of them. Summing over nodes' embeddings seems trivial, but they're stored in a sparse format, meaning that all the nodes form all the graphs in a batch are stored in a one tensor of size `[num_nodes_1 + num_nodes_2 + ... + num_nodes_N, hidden_size]':   "
      ]
    },
    {
      "cell_type": "code",
      "execution_count": 17,
      "id": "473300e58a6023b7",
      "metadata": {
        "ExecuteTime": {
          "end_time": "2023-12-11T15:15:49.675636Z",
          "start_time": "2023-12-11T15:15:49.641552Z"
        },
        "colab": {
          "base_uri": "https://localhost:8080/"
        },
        "id": "473300e58a6023b7",
        "outputId": "84eedc1a-6bdd-4b32-8d87-03019015533f"
      },
      "outputs": [
        {
          "output_type": "execute_result",
          "data": {
            "text/plain": [
              "(torch.Size([23, 16]), tensor([13,  5,  5]))"
            ]
          },
          "metadata": {},
          "execution_count": 17
        }
      ],
      "source": [
        "batched_graph = dgl.batch([dataset[0][1], dataset[1][1], dataset[2][1]])\n",
        "linear = nn.Linear(node_featurizer.feat_size(), 16)\n",
        "node_embeddings = linear(batched_graph.ndata['h'])\n",
        "node_embeddings.shape, batched_graph.batch_num_nodes()"
      ]
    },
    {
      "cell_type": "markdown",
      "id": "fce302b7c444ae16",
      "metadata": {
        "id": "fce302b7c444ae16"
      },
      "source": [
        "For simplicity, we will convert the sparse node embeddings to a dense format with padding. Then the shape of the node embeddings will be `[batch_size, max_num_nodes, hidden_size]`. We can use the `to_dense_batch` function from `torch_geometric` for that:"
      ]
    },
    {
      "cell_type": "code",
      "execution_count": 18,
      "id": "a3fd81a5384d2ad0",
      "metadata": {
        "ExecuteTime": {
          "end_time": "2023-12-11T15:15:49.675719Z",
          "start_time": "2023-12-11T15:15:49.647698Z"
        },
        "id": "a3fd81a5384d2ad0"
      },
      "outputs": [],
      "source": [
        "from typing import Tuple\n",
        "from torch_geometric.utils import to_dense_batch\n",
        "\n",
        "\n",
        "def to_dense_embeddings(node_embeddings: torch.Tensor,\n",
        "                        graph: dgl.DGLGraph,\n",
        "                        fill_value: float = 0.0) -> Tuple[torch.Tensor, torch.Tensor]:\n",
        "    \"\"\"\n",
        "    Converts sparse node embeddings to dense node embeddings with padding.\n",
        "    Arguments:\n",
        "        node_embeddings: node embeddings in a sparse format, i.e. [total_num_nodes, hidden_size]\n",
        "        graph: a batch of graphs\n",
        "        fill_value: a value to fill the padding with\n",
        "    Returns:\n",
        "        node_embeddings: node embeddings in a dense format, i.e. [batch_size, max_num_nodes, hidden_size]\n",
        "        mask: a mask indicating which nodes are real and which are padding, i.e. [batch_size, max_num_nodes]\n",
        "    \"\"\"\n",
        "    num_nodes = graph.batch_num_nodes() # e.g. [2, 3, 3]\n",
        "    indices = torch.arange(len(num_nodes), device=num_nodes.device)\n",
        "    batch = torch.repeat_interleave(indices, num_nodes).long() # e.g. [0, 0, 1, 1, 1, 2, 2, 2]\n",
        "    return to_dense_batch(node_embeddings, batch,\n",
        "                          fill_value=fill_value)  # that's the only reason we have torch_geometric in the requirements\n",
        "\n",
        "\n",
        "def to_sparse_embeddings(node_embeddings: torch.Tensor, mask: torch.Tensor) -> torch.Tensor:\n",
        "    \"\"\"\n",
        "    Converts dense node embeddings to sparse node embeddings.\n",
        "    Arguments:\n",
        "        node_embeddings: node embeddings in a dense format, i.e. [batch_size, max_num_nodes, hidden_size]\n",
        "        mask: a mask indicating which nodes are real and which are padding, i.e. [batch_size, max_num_nodes]\n",
        "    Returns:\n",
        "        node_embeddings: node embeddings in a sparse format, i.e. [total_num_nodes, hidden_size]\n",
        "    \"\"\"\n",
        "    return node_embeddings[mask]"
      ]
    },
    {
      "cell_type": "markdown",
      "id": "4190f0ff3fa0ae1f",
      "metadata": {
        "id": "4190f0ff3fa0ae1f"
      },
      "source": [
        "Now, we can simply convert the node embeddings to a dense format and sum them $x = \\sum_i^n x_i$:"
      ]
    },
    {
      "cell_type": "code",
      "execution_count": 19,
      "id": "841a8932a12397f3",
      "metadata": {
        "ExecuteTime": {
          "end_time": "2023-12-11T15:15:49.675774Z",
          "start_time": "2023-12-11T15:15:49.651743Z"
        },
        "id": "841a8932a12397f3"
      },
      "outputs": [],
      "source": [
        "class SumReadout(ReadoutBase):\n",
        "    def forward(self,\n",
        "                node_embeddings: torch.Tensor,\n",
        "                graph: dgl.DGLGraph) -> torch.Tensor:\n",
        "        \"\"\"\n",
        "        Attributes:\n",
        "            node_embeddings: node embeddings in a sparse format, i.e. [total_num_nodes, hidden_size]\n",
        "            graph: a DGLGraph that contains the graph structure\n",
        "        Returns:\n",
        "            graph_embeddings: graph embeddings of shape.[batch_size, hidden_size]\n",
        "        \"\"\"\n",
        "        # We can also use dgl.sum_nodes function, but let assume it's forbidden in that notebook ;)\n",
        "        node_embeddings, _ = to_dense_embeddings(node_embeddings, graph)\n",
        "        return node_embeddings.sum(dim=1)"
      ]
    },
    {
      "cell_type": "code",
      "execution_count": 20,
      "id": "447a28b93e6e8e89",
      "metadata": {
        "ExecuteTime": {
          "end_time": "2023-12-11T15:15:49.675818Z",
          "start_time": "2023-12-11T15:15:49.656700Z"
        },
        "id": "447a28b93e6e8e89"
      },
      "outputs": [],
      "source": [
        "def test_readout(readout_cls: Type[ReadoutBase], expected_output: torch.Tensor):\n",
        "    torch.manual_seed(0)\n",
        "    graph = dgl.batch([dataset[0][1], dataset[1][1], dataset[2][1]])\n",
        "    linear = nn.Linear(node_featurizer.feat_size(), 16)\n",
        "    node_embeddings = linear(graph.ndata['h'])\n",
        "    readout = readout_cls(hidden_size=16)\n",
        "    result = readout(node_embeddings, graph)\n",
        "    assert torch.allclose(result, expected_output, atol=1e-3)"
      ]
    },
    {
      "cell_type": "code",
      "execution_count": null,
      "id": "b5dd5e1b3bbde2cc",
      "metadata": {
        "ExecuteTime": {
          "end_time": "2023-12-11T15:15:49.737736Z",
          "start_time": "2023-12-11T15:15:49.659561Z"
        },
        "id": "b5dd5e1b3bbde2cc"
      },
      "outputs": [],
      "source": [
        "test_readout(SumReadout, expected_sum_readout)"
      ]
    },
    {
      "cell_type": "markdown",
      "id": "579fd18386daaed",
      "metadata": {
        "id": "579fd18386daaed"
      },
      "source": [
        "### Task 1. Implement mean readout (1 point).\n",
        "Implement the mean readout given by formula $x = \\frac{1}{n}\\sum_i^n x_i$:"
      ]
    },
    {
      "cell_type": "code",
      "execution_count": 22,
      "id": "13bd85d993f87d63",
      "metadata": {
        "ExecuteTime": {
          "end_time": "2023-12-11T15:15:49.738451Z",
          "start_time": "2023-12-11T15:15:49.667644Z"
        },
        "id": "13bd85d993f87d63"
      },
      "outputs": [],
      "source": [
        "class MeanReadout(ReadoutBase):\n",
        "    def forward(self,\n",
        "                node_embeddings: torch.Tensor,\n",
        "                graph: dgl.DGLGraph) -> torch.Tensor:\n",
        "        \"\"\"\n",
        "        Attributes:\n",
        "            node_embeddings: node embeddings in a sparse format, i.e. [total_num_nodes, hidden_size]\n",
        "            graph: a DGLGraph that contains the graph structure\n",
        "        Returns:\n",
        "            graph_embeddings: graph embeddings of shape.[batch_size, hidden_size]\n",
        "        \"\"\"\n",
        "\n",
        "        node_embeddings, mask = to_dense_embeddings(node_embeddings, graph)\n",
        "        nodes = node_embeddings*mask.unsqueeze(2)\n",
        "        suma = torch.sum(nodes, dim=1)\n",
        "        N = torch.sum(mask, dim=1, keepdim=True)\n",
        "        mean = suma / N\n",
        "        return mean\n",
        "\n",
        "test_readout(MeanReadout, expected_mean_readout)"
      ]
    },
    {
      "cell_type": "markdown",
      "id": "db68abdbc2736d7a",
      "metadata": {
        "id": "db68abdbc2736d7a"
      },
      "source": [
        "### Task 2. Implement attention readout (2 points).\n",
        "Implement the attention readout given by formula $x = \\sum_i^n \\frac{\\exp(score_i))}{\\sum_j^n \\exp(score_j)}x_i$, where $score_i=score\\_mlp(x_i)$:"
      ]
    },
    {
      "cell_type": "code",
      "execution_count": 23,
      "id": "6c1f5bcdbc90881",
      "metadata": {
        "ExecuteTime": {
          "end_time": "2023-12-11T15:15:49.779192Z",
          "start_time": "2023-12-11T15:15:49.674122Z"
        },
        "id": "6c1f5bcdbc90881"
      },
      "outputs": [],
      "source": [
        "class AttentionReadout(ReadoutBase):\n",
        "    def __init__(self, hidden_size: int):\n",
        "        super().__init__(hidden_size)\n",
        "        self.score_mlp = nn.Sequential(\n",
        "            nn.Linear(hidden_size, hidden_size),\n",
        "            nn.GELU(),\n",
        "            nn.Linear(hidden_size, 1),\n",
        "        )\n",
        "\n",
        "    def forward(self,\n",
        "                node_embeddings: torch.Tensor,\n",
        "                graph: dgl.DGLGraph) -> torch.Tensor:\n",
        "        \"\"\"\n",
        "        Attributes:\n",
        "            node_embeddings: node embeddings in a sparse format, i.e. [total_num_nodes, hidden_size]\n",
        "            graph: a DGLGraph that contains the graph structure\n",
        "        Returns:\n",
        "            graph_embeddings: graph embeddings of shape.[batch_size, hidden_size]\n",
        "        \"\"\"\n",
        "\n",
        "        node_embeddings, mask = to_dense_embeddings(node_embeddings, graph)\n",
        "        nodes = node_embeddings*mask.unsqueeze(2)\n",
        "        x = self.score_mlp(nodes)\n",
        "\n",
        "        exp = torch.exp(x) * mask.unsqueeze(2)\n",
        "        S = exp.sum(dim = 1, keepdim = True)\n",
        "        softmax = (exp/S) * node_embeddings\n",
        "\n",
        "        return softmax.sum(dim=1)\n",
        "\n",
        "test_readout(AttentionReadout, expected_attention_readout)"
      ]
    },
    {
      "cell_type": "markdown",
      "id": "ac465a3b9279474b",
      "metadata": {
        "id": "ac465a3b9279474b"
      },
      "source": [
        "## Message Passing Neural Networks (MPNNs)\n",
        "Message Passing is given by formula:\n",
        "$$\n",
        "x'_i=\\rho(x_i, \\square_{j\\in N(i)} \\psi(x_j, x_i, e_{ji})),\n",
        "$$\n",
        "where $\\psi$ is learnable message function, $\\rho$ is learnable update, and $\\square$ is aggregation function. $N(i)$ denotes the set of neighbors of node $i$. Note that in our dataset we added self-loops to every node, so $N(i)$ also contains $i$, but we don't bother with that."
      ]
    },
    {
      "cell_type": "markdown",
      "id": "307c236e3cb84e76",
      "metadata": {
        "id": "307c236e3cb84e76"
      },
      "source": [
        "### Simple MPNN\n",
        "For instance, we can define a very simple MPNN layer by the following formula:\n",
        "$$\n",
        "x'_i=W_1x_i + W_2\\sum_{j\\in N(i)} W_3x_j,\n",
        "$$\n",
        "where W_i are linear layers with implicit bias term (we will make the bias implicit in every formula in that notebook). Let us implement this simple MPNN:"
      ]
    },
    {
      "cell_type": "code",
      "execution_count": 27,
      "id": "f11f284c299831ed",
      "metadata": {
        "ExecuteTime": {
          "end_time": "2023-12-11T15:15:49.779483Z",
          "start_time": "2023-12-11T15:15:49.679591Z"
        },
        "id": "f11f284c299831ed"
      },
      "outputs": [],
      "source": [
        "class SimpleMPNNLayer(MPNNLayerBase):\n",
        "    def __init__(self, hidden_size: int):\n",
        "        super().__init__()\n",
        "        self.hidden_size = hidden_size\n",
        "        self.linear_1 = nn.Linear(hidden_size, hidden_size)\n",
        "        self.linear_2 = nn.Linear(hidden_size, hidden_size)\n",
        "        self.linear_3 = nn.Linear(hidden_size, hidden_size)\n",
        "\n",
        "    def forward(self,\n",
        "                node_embeddings: torch.Tensor,\n",
        "                edge_embeddings: torch.Tensor,\n",
        "                graph: dgl.DGLGraph) -> torch.Tensor:\n",
        "        \"\"\"\n",
        "        Arguments:\n",
        "            node_embeddings: node embeddings in a sparse format, i.e. [total_num_nodes, hidden_size]\n",
        "            edge_embeddings: edge embeddings in a sparse format, i.e. [total_num_edges, hidden_size]\n",
        "            graph: a DGLGraph that contains the graph structure\n",
        "        Returns:\n",
        "            node_embeddings: updated node embeddings in a sparse format, i.e. [total_num_nodes, hidden_size]\n",
        "        \"\"\"\n",
        "        # graph is bi-directed, so we can freely swap the \"start\" and \"end\" meanings\n",
        "        start_nodes, end_nodes = graph.edges(order='srcdst') # using this `order` value sorts the `start_nodes`\n",
        "        messages = self.linear_3(node_embeddings[end_nodes]) # W_3x_j\n",
        "        message_dense, _ = to_dense_batch(messages, start_nodes.long(), fill_value=0.0) # to make the life easier, we convert the node embeddings to dense representation\n",
        "        aggregated_message = message_dense.sum(dim=1) # \\sum_{j\\in N(i)} W_3x_j\n",
        "        aggregated_message = self.linear_2(aggregated_message) # W_2\\sum_{j\\in N(i)} W_3x_j\n",
        "        node_embeddings = self.linear_1(node_embeddings) + aggregated_message # W_1x_i + W_2\\sum_{j\\in N(i)} W_3x_j\n",
        "        return node_embeddings"
      ]
    },
    {
      "cell_type": "code",
      "execution_count": 28,
      "id": "8767bffa62008f67",
      "metadata": {
        "ExecuteTime": {
          "end_time": "2023-12-11T15:15:49.779529Z",
          "start_time": "2023-12-11T15:15:49.683224Z"
        },
        "id": "8767bffa62008f67"
      },
      "outputs": [],
      "source": [
        "def test_mpnn_layer(mpnn_layer_cls: Type[MPNNLayerBase], expected_output: torch.Tensor):\n",
        "    torch.manual_seed(0)\n",
        "    graph = dgl.batch([dataset[0][1], dataset[1][1]])\n",
        "    linear_nodes = nn.Linear(node_featurizer.feat_size(), 4)\n",
        "    linear_edges = nn.Linear(edge_featurizer.feat_size(), 4)\n",
        "    node_embeddings = linear_nodes(graph.ndata['h'])\n",
        "    edge_embeddings = linear_edges(graph.edata['e'])\n",
        "    layer = mpnn_layer_cls(hidden_size=4)\n",
        "    result = layer(node_embeddings, edge_embeddings, graph)\n",
        "    assert torch.allclose(result, expected_output, atol=1e-3)"
      ]
    },
    {
      "cell_type": "code",
      "execution_count": 29,
      "id": "461980b684728501",
      "metadata": {
        "ExecuteTime": {
          "end_time": "2023-12-11T15:15:49.779871Z",
          "start_time": "2023-12-11T15:15:49.685486Z"
        },
        "id": "461980b684728501"
      },
      "outputs": [],
      "source": [
        "test_mpnn_layer(SimpleMPNNLayer, expected_simple_mpnn_output)"
      ]
    },
    {
      "cell_type": "markdown",
      "id": "d0dbbc2f2efa8ca2",
      "metadata": {
        "id": "d0dbbc2f2efa8ca2"
      },
      "source": [
        "### Task 3. Implement GraphSAGE layer (2 points).\n",
        "Implement a GraphSAGE given by the following formula:\n",
        "$$\n",
        "x'_i=W_1x_i + W_2\\frac{1}{deg(i)}\\sum_{j\\in N(i)} x_j,\n",
        "$$\n",
        "where $deg(i) = #N(i)$ is the number of neighbors of node $i$."
      ]
    },
    {
      "cell_type": "code",
      "execution_count": 30,
      "id": "82528a8dacf24cd3",
      "metadata": {
        "ExecuteTime": {
          "end_time": "2023-12-11T15:15:49.779946Z",
          "start_time": "2023-12-11T15:15:49.691201Z"
        },
        "id": "82528a8dacf24cd3"
      },
      "outputs": [],
      "source": [
        "class SAGELayer(MPNNLayerBase):\n",
        "    def __init__(self, hidden_size: int):\n",
        "        super().__init__()\n",
        "        self.hidden_size = hidden_size\n",
        "        self.linear_1 = nn.Linear(hidden_size, hidden_size)\n",
        "        self.linear_2 = nn.Linear(hidden_size, hidden_size)\n",
        "\n",
        "    def forward(self,\n",
        "                node_embeddings: torch.Tensor,\n",
        "                edge_embeddings: torch.Tensor,\n",
        "                graph: dgl.DGLGraph) -> torch.Tensor:\n",
        "\n",
        "        start_nodes, end_nodes = graph.edges(order='srcdst')\n",
        "        messages = node_embeddings[end_nodes]\n",
        "        message_dense, _ = to_dense_batch(messages, start_nodes.long(), fill_value=0.0)\n",
        "        aggregated_message = message_dense.sum(dim=1)\n",
        "        aggregated_message = self.linear_2(aggregated_message/torch.bincount(start_nodes).unsqueeze(1))\n",
        "        node_embeddings = self.linear_1(node_embeddings) + aggregated_message\n",
        "\n",
        "        return node_embeddings\n",
        "\n",
        "test_mpnn_layer(SAGELayer, expected_sage_layer_output)"
      ]
    },
    {
      "cell_type": "markdown",
      "id": "ea8735b272ecad46",
      "metadata": {
        "id": "ea8735b272ecad46"
      },
      "source": [
        "### Task 4. Implement GIN layer (2 points).\n",
        "Implement a GIN layer given by the following formula:\n",
        "$$\n",
        "x'_i=mlp((1 + \\epsilon)x_i + \\sum_{j\\in N(i)} x_j).\n",
        "$$"
      ]
    },
    {
      "cell_type": "code",
      "execution_count": 31,
      "id": "e422bea1856fc29",
      "metadata": {
        "ExecuteTime": {
          "end_time": "2023-12-11T15:15:49.779991Z",
          "start_time": "2023-12-11T15:15:49.697036Z"
        },
        "id": "e422bea1856fc29"
      },
      "outputs": [],
      "source": [
        "class GINLayer(MPNNLayerBase):\n",
        "    def __init__(self, hidden_size: int, eps: float = 0.0):\n",
        "        super().__init__()\n",
        "        self.hidden_size = hidden_size\n",
        "        self.eps = eps\n",
        "        self.mlp = nn.Sequential(\n",
        "            nn.Linear(hidden_size, hidden_size),\n",
        "            nn.GELU(),\n",
        "            nn.Linear(hidden_size, hidden_size),\n",
        "        )\n",
        "\n",
        "    def forward(self,\n",
        "                node_embeddings: torch.Tensor,\n",
        "                edge_embeddings: torch.Tensor,\n",
        "                graph: dgl.DGLGraph) -> torch.Tensor:\n",
        "        \"\"\"\n",
        "        Arguments:\n",
        "            node_embeddings: node embeddings in a sparse format, i.e. [total_num_nodes, hidden_size]\n",
        "            edge_embeddings: edge embeddings in a sparse format, i.e. [total_num_edges, hidden_size]\n",
        "            graph: a DGLGraph that contains the graph structure\n",
        "        Returns:\n",
        "            node_embeddings: updated node embeddings in a sparse format, i.e. [total_num_nodes, hidden_size]\n",
        "        \"\"\"\n",
        "        start_nodes, end_nodes = graph.edges(order='srcdst')\n",
        "        messages = node_embeddings[end_nodes]\n",
        "        message_dense, _ = to_dense_batch(messages, start_nodes.long(), fill_value=0.0)\n",
        "        aggregated_message = message_dense.sum(dim = 1)\n",
        "        node_embeddings = self.mlp((1+self.eps)*node_embeddings + aggregated_message)\n",
        "\n",
        "        return node_embeddings\n",
        "\n",
        "\n",
        "\n",
        "test_mpnn_layer(GINLayer, expected_gin_layer_output)"
      ]
    },
    {
      "cell_type": "markdown",
      "id": "9fe4ec2134b539da",
      "metadata": {
        "id": "9fe4ec2134b539da"
      },
      "source": [
        "### Task 5. Implement GINE layer (2 points).\n",
        "Implement a GINE layer given by the following formula:\n",
        "$$\n",
        "x'_i=mlp((1 + \\epsilon)x_i + \\sum_{j\\in N(i)} ReLU(x_j + e_{ji})).\n",
        "$$"
      ]
    },
    {
      "cell_type": "code",
      "execution_count": 32,
      "id": "635e6bcb4e40fdd2",
      "metadata": {
        "ExecuteTime": {
          "end_time": "2023-12-11T15:15:49.780022Z",
          "start_time": "2023-12-11T15:15:49.702353Z"
        },
        "id": "635e6bcb4e40fdd2"
      },
      "outputs": [],
      "source": [
        "class GINELayer(MPNNLayerBase):\n",
        "    def __init__(self, hidden_size: int, eps: float = 0.0):\n",
        "        super().__init__()\n",
        "        self.hidden_size = hidden_size\n",
        "        self.eps = eps\n",
        "        self.relu = nn.ReLU()\n",
        "        self.mlp = nn.Sequential(\n",
        "            nn.Linear(hidden_size, hidden_size),\n",
        "            nn.GELU(),\n",
        "            nn.Linear(hidden_size, hidden_size),\n",
        "        )\n",
        "\n",
        "    def forward(self,\n",
        "                node_embeddings: torch.Tensor,\n",
        "                edge_embeddings: torch.Tensor,\n",
        "                graph: dgl.DGLGraph) -> torch.Tensor:\n",
        "        \"\"\"\n",
        "        Arguments:\n",
        "            node_embeddings: node embeddings in a sparse format, i.e. [total_num_nodes, hidden_size]\n",
        "            edge_embeddings: edge embeddings in a sparse format, i.e. [total_num_edges, hidden_size]\n",
        "            graph: a DGLGraph that contains the graph structure\n",
        "        Returns:\n",
        "            node_embeddings: updated node embeddings in a sparse format, i.e. [total_num_nodes, hidden_size]\n",
        "        \"\"\"\n",
        "        start_nodes, end_nodes, edge_ids = graph.edges(order='srcdst', form='all')\n",
        "        messages = node_embeddings[end_nodes]\n",
        "        message_dense, _ = to_dense_batch(self.relu(messages + edge_embeddings[edge_ids]), start_nodes.long(), fill_value=0.0)\n",
        "        aggregated_message = message_dense.sum(dim = 1)\n",
        "        node_embeddings = self.mlp((1 + self.eps)*node_embeddings + aggregated_message)\n",
        "\n",
        "        return node_embeddings\n",
        "\n",
        "test_mpnn_layer(GINELayer, expected_gine_layer_output)"
      ]
    },
    {
      "cell_type": "markdown",
      "id": "6b220afd7f1d78b8",
      "metadata": {
        "id": "6b220afd7f1d78b8"
      },
      "source": [
        "# Experiments"
      ]
    },
    {
      "cell_type": "markdown",
      "id": "2f465e5d378487e7",
      "metadata": {
        "id": "2f465e5d378487e7"
      },
      "source": [
        "## Logger\n",
        "We are going to use [wandb](https://wandb.ai/site) for logging. It's a very convenient tool for logging and visualizing the training process. It's free for academic use, so you can create an account and use it for your projects. If you don't want to use wandb, you can use any other online logger (like [comet.ml](https://www.comet.ml/site/)), but you need to implement the appropriate LoggerBase subclass on your own. To setup and use wandb, you need to do the following:\n",
        "1. [Setup the wandb](https://docs.wandb.ai/quickstart) (or any other online logger).\n",
        "2. Give your supervisor access to your project (ask him/her about the username.\n",
        "3. Use the logger for all your trainings and provide the links to the final runs."
      ]
    },
    {
      "cell_type": "code",
      "execution_count": 33,
      "id": "1462ef331426d529",
      "metadata": {
        "ExecuteTime": {
          "end_time": "2023-12-11T15:15:49.780089Z",
          "start_time": "2023-12-11T15:15:49.708043Z"
        },
        "id": "1462ef331426d529"
      },
      "outputs": [],
      "source": [
        "class WandbLogger(LoggerBase):\n",
        "    def __init__(\n",
        "            self, logdir: str | Path, project_name: str, experiment_name: str, **kwargs: Dict[str, Any]\n",
        "    ):\n",
        "        super().__init__(logdir)\n",
        "        import wandb\n",
        "        self.project_name = project_name\n",
        "        self.experiment_name = experiment_name\n",
        "        self.kwargs = kwargs\n",
        "        self.run = wandb.init(\n",
        "            dir=self.logdir,\n",
        "            project=self.project_name,\n",
        "            name=self.experiment_name,\n",
        "            **self.kwargs,\n",
        "        )\n",
        "\n",
        "    def log_metrics(self, metrics: Dict[str, Any], prefix: str):\n",
        "        metrics = {f\"{prefix}/{k}\": v for k, v in metrics.items()}\n",
        "        self.run.log(metrics)\n",
        "\n",
        "    def close(self):\n",
        "        self.run.finish()"
      ]
    },
    {
      "cell_type": "markdown",
      "id": "1db91eaab1a90175",
      "metadata": {
        "id": "1db91eaab1a90175"
      },
      "source": [
        "## Task 6. Train GraphSAGE (2 points).\n",
        "1. Tune hyperparameters of a GNN with `SAGELayer` as MPNN layer to obtain at most 2.0 MAE on the validation set. You can modify the GNN/MPNN architecture, so it uses some regularization tricks like dropout or batch norm. Don't change the validation batch size. If your validation MAE is in (2.0, 2.5], you can obtain 1 point.\n",
        "\n",
        "2. Report the obtained MAE on the validation and test set (only the former need to be lower than 2.0 MAE).\n",
        "3. Provide the link to the final run: [https://wandb.ai/teddy8/mldd23/runs/i8jwumc3?workspace=user-teddy8]"
      ]
    },
    {
      "cell_type": "code",
      "execution_count": 34,
      "id": "e3e9e0cf69701d46",
      "metadata": {
        "ExecuteTime": {
          "end_time": "2023-12-11T15:15:49.780133Z",
          "start_time": "2023-12-11T15:15:49.710445Z"
        },
        "id": "e3e9e0cf69701d46"
      },
      "outputs": [],
      "source": [
        "### Example code for training. You can modify it for easier grid-searching."
      ]
    },
    {
      "cell_type": "code",
      "execution_count": 35,
      "id": "2980b66ad10a9824",
      "metadata": {
        "ExecuteTime": {
          "end_time": "2023-12-11T15:15:49.780168Z",
          "start_time": "2023-12-11T15:15:49.713308Z"
        },
        "id": "2980b66ad10a9824"
      },
      "outputs": [],
      "source": [
        "from datetime import datetime\n",
        "\n",
        "\n",
        "def get_time_stamp() -> str:\n",
        "    return datetime.now().strftime(\"%Y-%m-%d_%H-%M-%S\")"
      ]
    },
    {
      "cell_type": "code",
      "source": [
        "from torchmetrics import MeanAbsoluteError as MAE\n",
        "from torchmetrics import MeanSquaredError as MSE\n",
        "from torchmetrics import PearsonCorrCoef as PCC\n",
        "\n",
        "metrics = {\n",
        "    \"mae\": MAE(),\n",
        "    \"mse\": MSE(),\n",
        "    \"pcc\": PCC(),\n",
        "}\n",
        "\n",
        "model = GNN(\n",
        "    node_features_size=node_featurizer.feat_size(),\n",
        "    edge_features_size=edge_featurizer.feat_size(),\n",
        "    hidden_size=64,\n",
        "    output_size=1,\n",
        "    mpnn_layer_cls=SAGELayer,\n",
        "    mpnn_n_layers=3,\n",
        "    readout_cls=AttentionReadout,\n",
        "    mpnn_layer_kwargs={}\n",
        ")\n",
        "\n",
        "trainer = Trainer(\n",
        "    run_dir=\"experiments\",\n",
        "    train_dataset=train,\n",
        "    valid_dataset=valid,\n",
        "    train_metrics=metrics,\n",
        "    valid_metrics=metrics,\n",
        "    train_batch_size=32,\n",
        "    model=model,\n",
        "    logger=WandbLogger(\n",
        "        logdir=\"runs/mpnn\",\n",
        "        project_name=\"mldd23\",\n",
        "        experiment_name=f\"sage_{get_time_stamp()}, {i}\",\n",
        "    ),\n",
        "    optimizer_kwargs={\"lr\": 1e-3},\n",
        "    n_epochs=50,\n",
        "    device=\"cpu\",\n",
        "    valid_every_n_epochs=1,\n",
        ")\n",
        "\n",
        "valid_metrics = trainer.train()\n",
        "test_metrics = trainer.test(test)\n",
        "trainer.close()\n",
        "print(f\"Validation metrics: {valid_metrics}\")\n",
        "print(f\"Test metrics: {test_metrics}\")"
      ],
      "metadata": {
        "colab": {
          "base_uri": "https://localhost:8080/",
          "height": 1000,
          "referenced_widgets": [
            "9e4c6a4114544557912f9f919765179e",
            "bafea7bdca414583a39fc0a7e3e94e94",
            "90c11a1d75b54ae79520ba4d8a3a3f80",
            "a0aedd8e74ca4029bda5d434fff972e5",
            "524abc583d224e5cb1ccd71269e29667",
            "0225740c594446c99d1f4dc3d3d7b063",
            "c4663b3ed8d44584a9935716eee47dc4",
            "97faddc4755e4247b6a002771bca4ce9",
            "ad151291c9f54bd68813621a92d1bf92",
            "1e91d2ef73974393a9d7f1c7f9f75a93",
            "9447bb9558284b1c9d82fdba6788c459",
            "0e2d36d3671c4bcf964c1b220b150a71",
            "b8a65f7819264d509f4b0fed2dc94eb7",
            "627cdde0bc724da983f60885677487a5",
            "e16bb614995148728f2f12c123713acd",
            "1a92237ee71247778b3eefcb5ff010b6",
            "363f8f82a0ba4cd7ab270fec2805d1a8",
            "4ff614131f21410c81f876ad4e383b65",
            "7bd3c5d7cf9343cda7519b288e8a9e44",
            "a293387cade74345b76ae56cd905bc47",
            "2457a2ac5a7744fe9e2962a339be65bf",
            "0a11f91f0c404823a21edebb290ca8f6",
            "61572423fa134bd982c32f741ccd041e",
            "18db277f52c84971ad8b341bb859ac9b",
            "728c420952634beb818230678a051a11",
            "8dba44ac3e1341dfbbe80c0f307c6571",
            "1ce1fd1729d74a278cfb472fe92e6e59",
            "677438c07c3b4e23bbf31c873e25f8f1",
            "52d0b5fbe0e44997869326cec2c6807e",
            "56e56cbed5ad4d99bc2e0d892a9b9016",
            "1571137462ab413abbdc0c5284ec2b71",
            "60ee6876d4604901b46b22ca764937cf",
            "879fb619dbbb4cde9f253f0252027650",
            "a2531b52cbb142b393c4c8d46f4b8687",
            "ac92f9ed98fd49bfbd7d58cc8db5eb7d",
            "12042a3f658347aba61c2ce083a19013",
            "1495504e641c44b3a942ae02f7ba02b7",
            "f44a3da3aafd4cb2b7d05804e3f6ded2",
            "c74d1adb7c614b51ae838dd290ec6378",
            "67eb4aab4e86492b8fb8a0cf99a0d92a",
            "8bb9d37446f049818c15848fed19f4db",
            "d8605bbc87364ac08530d391abbe0709",
            "152c0268b7b746e2bc07648034d52a6a",
            "84519677bc7441a2bf9e12d42bf8db54",
            "ea22b82ea84b4307b51ad0f88654eb85",
            "63461fad3e1342ed9ed2c26bddc09079",
            "3ed80a4fdcd04f4eb4e86486d43d2a1e",
            "6b054681fbf3498b9c5b649ecc31fe45",
            "00a91a268bd84e86a0acb2180455b49f",
            "1a6a4c0db1f740d2a39fc4d78b290758",
            "358d01a0734b4c1393436e6e63e96c72",
            "bd9b1e46e4194a7ab81a2c0e725af134",
            "8695ea90cc0e4ba489eed61a6aa3cd7c",
            "8120c839cf814ff2a468087f18882d8d",
            "6718674197b14b7cb69ae53ce2296098",
            "0be4c1c9f2124f8397b1f6bcd62c26f4",
            "1497f2ee11ef442dac58950218d93eb5",
            "c0c189f83c1441b7b39a39f6aa635870",
            "0d9e499afac245638b52111d918f6f4e",
            "c735d959a001491a833b11a10733009e",
            "f6c921c843914573b56baddd7b5be38a",
            "7cce7d52fdd64c49b6258eda343015d7",
            "182f82a58f064d66b74ab4119c88aa11",
            "9df63675a6114395b6a8a27184be051f",
            "2605862c13be4446a84660a374574cc1",
            "ea5d0dc80dcc49cf910e4a92809e9434",
            "c66fff32754742b0b759d4fc777e987e",
            "eef5781c27054ac3881d6252de03a239",
            "e9f2fabcf5654c4688f14fffecd4f407",
            "2f2828304f6c41f795075fbf1fb5b2be",
            "accb4df9a3234a08805ab2339967891d",
            "ad3ce9c917c543c290cc1d59bda157a9",
            "b18efa75df474081aca84bf140c2e4e4",
            "1f24be4d5b5247f7b5fbe04a4c39a9aa",
            "a1ac0988b6034d7fa72acad42670869a",
            "d36ce7976cc541ae9d16762b20d7ea5e",
            "c1b367d31ba64e9ebce6ba37e2e1e360",
            "1ceae34c6a5b4473b31ec057ebe43b93",
            "9fa59ef1e7b942478a4e1c9aecde31b9",
            "c6a2f86ad9d0405589e2fb1b94c1e113",
            "a98da9a9013147c48138f18275004320",
            "edc95f5372be426385641246c7af2279",
            "9706af4187a64e6f96cabbce9380ff37",
            "32e25c72e6364a00bf2d9045c3d26501",
            "2e9a22da444941e7a890d4fb3957140d",
            "59fdff14501f42ecac388d6a8f1fee19",
            "5c9f503d8db94051976f470dacef2d67",
            "cbd1db151b444f1d9b61107b9a3e1ff1",
            "9cade355075b4057b8b1f77e6d934543",
            "d5264308121042ef80081fbd26271ecd",
            "77ad2770b8d444debd11446d4e9c0ea5",
            "57aa298a2ffb42f78250bf4a90a33b0f",
            "8442d72708d240f993d7b2d52dd19a20",
            "adb8d380b73a4f77a03a0dbc819c9052",
            "3d501a6ee4204d488aa5909b26bc9054",
            "23c393ee21df41ea80deec1a42b24a12",
            "a1c04c13a20345b79993d78150e9d64d",
            "d674db78506a4690bc8d2b15784bd22f",
            "960298601a074ab9845bd6c6abf40ba4",
            "cf27a1a260fa45698ced3e47142e2ee4",
            "f0cd306896ef498e9929990f349f09f3",
            "aeb65940025f4db4afcc5666433c2c77",
            "c5b21512d84d485f849023bbb4c38991",
            "89aff006f27845cb8179a1d3fb7fbe16",
            "6cd3b83244504a7681ecbd39f3f3a32e",
            "0f0a15e0c3004dc5a5cf780bafdbf3e8",
            "e0ecfbe17d8246e7b57e7b4ff9c464e7",
            "a2083663d643446b9f7eaa5a136e73d1",
            "bb74702169b249beb802ca7376fbcdc0",
            "2e14fec5373f4ccda22476936292d58e",
            "c22525cc8829430eb22e3de3a49b18b3",
            "a19c111911b44a1bae3c74d52291d22e",
            "88fb81668a9f4f5f9f9497e7c0a94d8c",
            "62bae8dd66a941eba4f68b56d68ca64d",
            "706ba4e821e04724862f7b298f45bbeb",
            "e3cc0edb14a44524bfb7131ee793d06d",
            "c5349a4acb964d378c68fd185626880e",
            "338c12e0cc16410480ada90f9aa504c7",
            "f28fbd12f8fe49ffb5257f7bda568347",
            "02168e8838bf4603864886f271072fa2",
            "dc25be2232074f65a67b61ee121931d5",
            "5c8768e762814333b12786c58f785f17",
            "c03bcedc3a3d4f1b838041c215f01736",
            "23b493fd99f44c90b46de1c07c9cba7c",
            "bab8dfcd3e6942e6a0bd2f69274d6fb5",
            "cba26272f4fa43aa984490501dda84a7",
            "9c4318145ac6468fa5d2215c9dd40176",
            "f7219a7e0881462c986a62db0837282c",
            "6a25f629489642c48ab9cfe2e779f374",
            "37e2b426dd80432f84d3e82ed8930015",
            "5ae9496a5f98406b8fe7bf96bd4c7c08",
            "4653d59dd41b499e924a94f54e19b62e",
            "3a6098fddb93429eb0ad183e7cccd037",
            "9d66a43c404f450fb8a3da2d1df1d20c",
            "00cc8fe41322494192afddcd86b8c273",
            "29529d949fcd4f1ca064a5f75552334d",
            "9bf65d737a81471fafb1c67f5b6b86dd",
            "458e30d9d3bc438fa85bf6914faf0533",
            "d0feb92fd6da41ff8635c06219ed4bd3",
            "c81c46c4610c4aa3859b123b17b7bfc9",
            "cfe1a766e2a6402caa2ce125848a0ced"
          ]
        },
        "id": "__Gp0sWeNSmk",
        "outputId": "30fec4e2-6b00-4d96-f165-77ca6f1a5efc"
      },
      "id": "__Gp0sWeNSmk",
      "execution_count": 49,
      "outputs": [
        {
          "output_type": "display_data",
          "data": {
            "text/plain": [
              "<IPython.core.display.HTML object>"
            ],
            "text/html": [
              "Finishing last run (ID:a87ck5rk) before initializing another..."
            ]
          },
          "metadata": {}
        },
        {
          "output_type": "display_data",
          "data": {
            "text/plain": [
              "VBox(children=(Label(value='0.010 MB of 0.010 MB uploaded\\r'), FloatProgress(value=1.0, max=1.0)))"
            ],
            "application/vnd.jupyter.widget-view+json": {
              "version_major": 2,
              "version_minor": 0,
              "model_id": "9e4c6a4114544557912f9f919765179e"
            }
          },
          "metadata": {}
        },
        {
          "output_type": "display_data",
          "data": {
            "text/plain": [
              "<IPython.core.display.HTML object>"
            ],
            "text/html": [
              "<style>\n",
              "    table.wandb td:nth-child(1) { padding: 0 10px; text-align: left ; width: auto;} td:nth-child(2) {text-align: left ; width: 100%}\n",
              "    .wandb-row { display: flex; flex-direction: row; flex-wrap: wrap; justify-content: flex-start; width: 100% }\n",
              "    .wandb-col { display: flex; flex-direction: column; flex-basis: 100%; flex: 1; padding: 10px; }\n",
              "    </style>\n",
              "<div class=\"wandb-row\"><div class=\"wandb-col\"><h3>Run history:</h3><br/><table class=\"wandb\"><tr><td>train/loss</td><td>▃▄▅█▃▂▃▄▂▂▂▂▅▃▂▂▃▂▁▂▂▁▅▂▁▁▂▁▁▁▁▁▂▁▂▁▁▁▁▁</td></tr><tr><td>train/mae</td><td>▆███▆▄▇▇▅▆▃▄▅▆▂▂▅▃▁▃▂▂▃▂▁▂▂▃▁▁▂▂▂▁▂▁▁▂▁▂</td></tr><tr><td>train/mse</td><td>▃▄▅█▃▂▃▄▂▂▂▂▅▃▂▂▃▂▁▂▂▁▅▂▁▁▂▁▁▁▁▁▂▁▂▁▁▁▁▁</td></tr><tr><td>train/pcc</td><td>▂▂▃▁▄▅▄▄▆ ▆▇▆▇▇▇▆▇▇▇▇▇▆▇▇█▇▇ █▇███▇█████</td></tr><tr><td>valid/loss</td><td>█▅▅▅▅▄▃▃▃▄▃▃▃▄▃▃▃▃▃▃▃▃▃▂▂▂▂▂▂▂▂▁▂▁▂▁▂▁▁▁</td></tr><tr><td>valid/mae</td><td>█▅▅▅▅▅▄▄▄▄▄▃▃▄▃▃▃▃▃▃▃▃▃▂▂▂▂▂▃▂▂▂▂▁▂▂▂▁▁▁</td></tr><tr><td>valid/mse</td><td>█▅▅▅▅▄▃▃▃▄▃▃▃▄▃▃▃▃▃▃▃▃▃▂▂▂▂▂▂▂▂▁▂▁▂▁▂▁▁▁</td></tr><tr><td>valid/pcc</td><td>▁▂▃▃▄▄▅▅▆▇▇▇▇▇▇▇▇▇▇▇▇▇▇▇███▇██▇▇████████</td></tr></table><br/></div><div class=\"wandb-col\"><h3>Run summary:</h3><br/><table class=\"wandb\"><tr><td>train/loss</td><td>1.74205</td></tr><tr><td>train/mae</td><td>1.1566</td></tr><tr><td>train/mse</td><td>1.74205</td></tr><tr><td>train/pcc</td><td>0.95138</td></tr><tr><td>valid/loss</td><td>9.9195</td></tr><tr><td>valid/mae</td><td>1.94628</td></tr><tr><td>valid/mse</td><td>9.91951</td></tr><tr><td>valid/pcc</td><td>0.94434</td></tr></table><br/></div></div>"
            ]
          },
          "metadata": {}
        },
        {
          "output_type": "display_data",
          "data": {
            "text/plain": [
              "<IPython.core.display.HTML object>"
            ],
            "text/html": [
              " View run <strong style=\"color:#cdcd00\">gine_2024-01-16_19-56-12, 6</strong> at: <a href='https://wandb.ai/teddy8/mldd23/runs/a87ck5rk' target=\"_blank\">https://wandb.ai/teddy8/mldd23/runs/a87ck5rk</a><br/>Synced 4 W&B file(s), 0 media file(s), 0 artifact file(s) and 0 other file(s)"
            ]
          },
          "metadata": {}
        },
        {
          "output_type": "display_data",
          "data": {
            "text/plain": [
              "<IPython.core.display.HTML object>"
            ],
            "text/html": [
              "Find logs at: <code>runs/mpnn/wandb/run-20240116_195612-a87ck5rk/logs</code>"
            ]
          },
          "metadata": {}
        },
        {
          "output_type": "display_data",
          "data": {
            "text/plain": [
              "<IPython.core.display.HTML object>"
            ],
            "text/html": [
              "Successfully finished last run (ID:a87ck5rk). Initializing new run:<br/>"
            ]
          },
          "metadata": {}
        },
        {
          "output_type": "display_data",
          "data": {
            "text/plain": [
              "<IPython.core.display.HTML object>"
            ],
            "text/html": [
              "Tracking run with wandb version 0.16.2"
            ]
          },
          "metadata": {}
        },
        {
          "output_type": "display_data",
          "data": {
            "text/plain": [
              "<IPython.core.display.HTML object>"
            ],
            "text/html": [
              "Run data is saved locally in <code>runs/mpnn/wandb/run-20240116_195645-5uhq2b58</code>"
            ]
          },
          "metadata": {}
        },
        {
          "output_type": "display_data",
          "data": {
            "text/plain": [
              "<IPython.core.display.HTML object>"
            ],
            "text/html": [
              "Syncing run <strong><a href='https://wandb.ai/teddy8/mldd23/runs/5uhq2b58' target=\"_blank\">sage_2024-01-16_19-56-45, 0</a></strong> to <a href='https://wandb.ai/teddy8/mldd23' target=\"_blank\">Weights & Biases</a> (<a href='https://wandb.me/run' target=\"_blank\">docs</a>)<br/>"
            ]
          },
          "metadata": {}
        },
        {
          "output_type": "display_data",
          "data": {
            "text/plain": [
              "<IPython.core.display.HTML object>"
            ],
            "text/html": [
              " View project at <a href='https://wandb.ai/teddy8/mldd23' target=\"_blank\">https://wandb.ai/teddy8/mldd23</a>"
            ]
          },
          "metadata": {}
        },
        {
          "output_type": "display_data",
          "data": {
            "text/plain": [
              "<IPython.core.display.HTML object>"
            ],
            "text/html": [
              " View run at <a href='https://wandb.ai/teddy8/mldd23/runs/5uhq2b58' target=\"_blank\">https://wandb.ai/teddy8/mldd23/runs/5uhq2b58</a>"
            ]
          },
          "metadata": {}
        },
        {
          "output_type": "display_data",
          "data": {
            "text/plain": [
              "  0%|          | 0/50 [00:00<?, ?it/s]"
            ],
            "application/vnd.jupyter.widget-view+json": {
              "version_major": 2,
              "version_minor": 0,
              "model_id": "ad151291c9f54bd68813621a92d1bf92"
            }
          },
          "metadata": {}
        },
        {
          "output_type": "display_data",
          "data": {
            "text/plain": [
              "VBox(children=(Label(value='0.010 MB of 0.010 MB uploaded\\r'), FloatProgress(value=1.0, max=1.0)))"
            ],
            "application/vnd.jupyter.widget-view+json": {
              "version_major": 2,
              "version_minor": 0,
              "model_id": "a293387cade74345b76ae56cd905bc47"
            }
          },
          "metadata": {}
        },
        {
          "output_type": "display_data",
          "data": {
            "text/plain": [
              "<IPython.core.display.HTML object>"
            ],
            "text/html": [
              "<style>\n",
              "    table.wandb td:nth-child(1) { padding: 0 10px; text-align: left ; width: auto;} td:nth-child(2) {text-align: left ; width: 100%}\n",
              "    .wandb-row { display: flex; flex-direction: row; flex-wrap: wrap; justify-content: flex-start; width: 100% }\n",
              "    .wandb-col { display: flex; flex-direction: column; flex-basis: 100%; flex: 1; padding: 10px; }\n",
              "    </style>\n",
              "<div class=\"wandb-row\"><div class=\"wandb-col\"><h3>Run history:</h3><br/><table class=\"wandb\"><tr><td>test/loss</td><td>▁</td></tr><tr><td>test/mae</td><td>▁</td></tr><tr><td>test/mse</td><td>▁</td></tr><tr><td>test/pcc</td><td>▁</td></tr><tr><td>train/loss</td><td>█▄█▅▃▃▃▂▂▂▂▄▂▂▂▂▂▂▂▂▂▂▂▂▃▁▂▂▂▂▁▁▁▁▁▂▁▁▂▁</td></tr><tr><td>train/mae</td><td>█▅▆▅▃▄▄▃▂▃▂▄▃▃▂▃▂▂▃▂▂▂▂▃▃▁▂▂▂▂▂▁▂▁▁▂▁▁▂▁</td></tr><tr><td>train/mse</td><td>█▄█▅▃▃▃▂▂▂▂▄▂▂▂▂▂▂▂▂▂▂▂▂▃▁▂▂▂▂▁▁▁▁▁▂▁▁▂▁</td></tr><tr><td>train/pcc</td><td>▁▄▃▄▃▅ ▇▆▇▇▇▆▅▆▅▇▇▆▇▇▇▇▅▆ ▇▇▇▇▇█▇▇█▇██▇█</td></tr><tr><td>valid/loss</td><td>█▇▅▅▄▄▃▂▃▂▂▁▂▂▁▂▂▁▁▁▁▁▁▁▃▁▁▁▁▃▂▂▁▂▁▁▁▂▁▁</td></tr><tr><td>valid/mae</td><td>█▇▅▅▅▄▃▄▃▃▃▂▃▂▂▂▂▂▂▂▂▂▂▁▃▁▂▁▁▃▂▁▁▂▁▁▁▂▁▁</td></tr><tr><td>valid/mse</td><td>█▇▅▅▄▄▃▂▃▂▂▁▂▂▁▂▂▁▁▁▁▁▁▁▃▁▁▁▁▃▂▂▁▂▁▁▁▂▁▁</td></tr><tr><td>valid/pcc</td><td>▁▃▄▄▅▆▇▇███▇████████████▇█▇██▇▇▇█▇▇██▇██</td></tr></table><br/></div><div class=\"wandb-col\"><h3>Run summary:</h3><br/><table class=\"wandb\"><tr><td>test/loss</td><td>3.54538</td></tr><tr><td>test/mae</td><td>1.57516</td></tr><tr><td>test/mse</td><td>4.24158</td></tr><tr><td>test/pcc</td><td>0.83539</td></tr><tr><td>train/loss</td><td>2.93902</td></tr><tr><td>train/mae</td><td>1.71436</td></tr><tr><td>train/mse</td><td>2.93902</td></tr><tr><td>train/pcc</td><td>nan</td></tr><tr><td>valid/loss</td><td>9.36627</td></tr><tr><td>valid/mae</td><td>2.13372</td></tr><tr><td>valid/mse</td><td>9.36627</td></tr><tr><td>valid/pcc</td><td>0.9113</td></tr></table><br/></div></div>"
            ]
          },
          "metadata": {}
        },
        {
          "output_type": "display_data",
          "data": {
            "text/plain": [
              "<IPython.core.display.HTML object>"
            ],
            "text/html": [
              " View run <strong style=\"color:#cdcd00\">sage_2024-01-16_19-56-45, 0</strong> at: <a href='https://wandb.ai/teddy8/mldd23/runs/5uhq2b58' target=\"_blank\">https://wandb.ai/teddy8/mldd23/runs/5uhq2b58</a><br/>Synced 4 W&B file(s), 0 media file(s), 0 artifact file(s) and 0 other file(s)"
            ]
          },
          "metadata": {}
        },
        {
          "output_type": "display_data",
          "data": {
            "text/plain": [
              "<IPython.core.display.HTML object>"
            ],
            "text/html": [
              "Find logs at: <code>runs/mpnn/wandb/run-20240116_195645-5uhq2b58/logs</code>"
            ]
          },
          "metadata": {}
        },
        {
          "output_type": "stream",
          "name": "stdout",
          "text": [
            "Validation metrics: {'loss': 9.366272330284119, 'mae': 2.1337194442749023, 'mse': 9.36627197265625, 'pcc': 0.9113039970397949}\n",
            "Test metrics: {'loss': 3.545375204086304, 'mae': 1.575155258178711, 'mse': 4.241577625274658, 'pcc': 0.8353864550590515}\n"
          ]
        },
        {
          "output_type": "display_data",
          "data": {
            "text/plain": [
              "<IPython.core.display.HTML object>"
            ],
            "text/html": [
              "Tracking run with wandb version 0.16.2"
            ]
          },
          "metadata": {}
        },
        {
          "output_type": "display_data",
          "data": {
            "text/plain": [
              "<IPython.core.display.HTML object>"
            ],
            "text/html": [
              "Run data is saved locally in <code>runs/mpnn/wandb/run-20240116_195734-z30sghtq</code>"
            ]
          },
          "metadata": {}
        },
        {
          "output_type": "display_data",
          "data": {
            "text/plain": [
              "<IPython.core.display.HTML object>"
            ],
            "text/html": [
              "Syncing run <strong><a href='https://wandb.ai/teddy8/mldd23/runs/z30sghtq' target=\"_blank\">sage_2024-01-16_19-57-34, 1</a></strong> to <a href='https://wandb.ai/teddy8/mldd23' target=\"_blank\">Weights & Biases</a> (<a href='https://wandb.me/run' target=\"_blank\">docs</a>)<br/>"
            ]
          },
          "metadata": {}
        },
        {
          "output_type": "display_data",
          "data": {
            "text/plain": [
              "<IPython.core.display.HTML object>"
            ],
            "text/html": [
              " View project at <a href='https://wandb.ai/teddy8/mldd23' target=\"_blank\">https://wandb.ai/teddy8/mldd23</a>"
            ]
          },
          "metadata": {}
        },
        {
          "output_type": "display_data",
          "data": {
            "text/plain": [
              "<IPython.core.display.HTML object>"
            ],
            "text/html": [
              " View run at <a href='https://wandb.ai/teddy8/mldd23/runs/z30sghtq' target=\"_blank\">https://wandb.ai/teddy8/mldd23/runs/z30sghtq</a>"
            ]
          },
          "metadata": {}
        },
        {
          "output_type": "display_data",
          "data": {
            "text/plain": [
              "  0%|          | 0/50 [00:00<?, ?it/s]"
            ],
            "application/vnd.jupyter.widget-view+json": {
              "version_major": 2,
              "version_minor": 0,
              "model_id": "677438c07c3b4e23bbf31c873e25f8f1"
            }
          },
          "metadata": {}
        },
        {
          "output_type": "display_data",
          "data": {
            "text/plain": [
              "VBox(children=(Label(value='0.010 MB of 0.010 MB uploaded\\r'), FloatProgress(value=1.0, max=1.0)))"
            ],
            "application/vnd.jupyter.widget-view+json": {
              "version_major": 2,
              "version_minor": 0,
              "model_id": "c74d1adb7c614b51ae838dd290ec6378"
            }
          },
          "metadata": {}
        },
        {
          "output_type": "display_data",
          "data": {
            "text/plain": [
              "<IPython.core.display.HTML object>"
            ],
            "text/html": [
              "<style>\n",
              "    table.wandb td:nth-child(1) { padding: 0 10px; text-align: left ; width: auto;} td:nth-child(2) {text-align: left ; width: 100%}\n",
              "    .wandb-row { display: flex; flex-direction: row; flex-wrap: wrap; justify-content: flex-start; width: 100% }\n",
              "    .wandb-col { display: flex; flex-direction: column; flex-basis: 100%; flex: 1; padding: 10px; }\n",
              "    </style>\n",
              "<div class=\"wandb-row\"><div class=\"wandb-col\"><h3>Run history:</h3><br/><table class=\"wandb\"><tr><td>test/loss</td><td>▁</td></tr><tr><td>test/mae</td><td>▁</td></tr><tr><td>test/mse</td><td>▁</td></tr><tr><td>test/pcc</td><td>▁</td></tr><tr><td>train/loss</td><td>█▇▆▆▄▅▁▃▃▃▃▃▂▃▂▃▃▂▃▂▄▂▃▂▂▁▂▂▂▁▂▂▃▃▂▃▂▂▂▂</td></tr><tr><td>train/mae</td><td>█▇▇▇▆▆▂▄▄▄▄▅▃▄▃▄▄▃▄▄▄▃▄▃▃▁▂▃▃▂▃▂▄▃▃▄▂▂▂▂</td></tr><tr><td>train/mse</td><td>█▇▆▆▄▅▁▃▃▃▃▃▂▃▂▃▃▂▃▂▄▂▃▂▂▁▂▂▂▁▂▂▃▃▂▃▂▂▂▂</td></tr><tr><td>train/pcc</td><td>▁▄▄▄▅▆ ▇▇▇▇▆▇▆▇▇▇█▇▇▇█▇▇█ ██▇████▇██████</td></tr><tr><td>valid/loss</td><td>█▆▄▄▅▃▃▃▃▂▃▃▂▂▂▃▂▂▂▂▂▂▂▂▁▁▁▂▁▁▁▁▂▂▁▁▁▁▁▁</td></tr><tr><td>valid/mae</td><td>█▅▅▅▅▄▄▄▃▃▃▄▂▂▂▃▃▂▂▂▂▂▂▂▂▂▂▂▁▁▁▁▂▂▁▂▁▁▁▁</td></tr><tr><td>valid/mse</td><td>█▆▄▄▅▃▃▃▃▂▃▃▂▂▂▃▂▂▂▂▂▂▂▂▁▁▁▂▁▁▁▁▂▂▁▁▁▁▁▁</td></tr><tr><td>valid/pcc</td><td>▁▃▄▅▅▆▇█████▇███████████████████████████</td></tr></table><br/></div><div class=\"wandb-col\"><h3>Run summary:</h3><br/><table class=\"wandb\"><tr><td>test/loss</td><td>3.86918</td></tr><tr><td>test/mae</td><td>1.57885</td></tr><tr><td>test/mse</td><td>4.76192</td></tr><tr><td>test/pcc</td><td>0.81651</td></tr><tr><td>train/loss</td><td>0.15627</td></tr><tr><td>train/mae</td><td>0.39531</td></tr><tr><td>train/mse</td><td>0.15627</td></tr><tr><td>train/pcc</td><td>nan</td></tr><tr><td>valid/loss</td><td>11.54122</td></tr><tr><td>valid/mae</td><td>2.18619</td></tr><tr><td>valid/mse</td><td>11.54122</td></tr><tr><td>valid/pcc</td><td>0.90986</td></tr></table><br/></div></div>"
            ]
          },
          "metadata": {}
        },
        {
          "output_type": "display_data",
          "data": {
            "text/plain": [
              "<IPython.core.display.HTML object>"
            ],
            "text/html": [
              " View run <strong style=\"color:#cdcd00\">sage_2024-01-16_19-57-34, 1</strong> at: <a href='https://wandb.ai/teddy8/mldd23/runs/z30sghtq' target=\"_blank\">https://wandb.ai/teddy8/mldd23/runs/z30sghtq</a><br/>Synced 4 W&B file(s), 0 media file(s), 0 artifact file(s) and 0 other file(s)"
            ]
          },
          "metadata": {}
        },
        {
          "output_type": "display_data",
          "data": {
            "text/plain": [
              "<IPython.core.display.HTML object>"
            ],
            "text/html": [
              "Find logs at: <code>runs/mpnn/wandb/run-20240116_195734-z30sghtq/logs</code>"
            ]
          },
          "metadata": {}
        },
        {
          "output_type": "stream",
          "name": "stdout",
          "text": [
            "Validation metrics: {'loss': 11.541220545768738, 'mae': 2.1861860752105713, 'mse': 11.541220664978027, 'pcc': 0.9098595976829529}\n",
            "Test metrics: {'loss': 3.86917554482352, 'mae': 1.5788531303405762, 'mse': 4.761918067932129, 'pcc': 0.8165051937103271}\n"
          ]
        },
        {
          "output_type": "display_data",
          "data": {
            "text/plain": [
              "<IPython.core.display.HTML object>"
            ],
            "text/html": [
              "Tracking run with wandb version 0.16.2"
            ]
          },
          "metadata": {}
        },
        {
          "output_type": "display_data",
          "data": {
            "text/plain": [
              "<IPython.core.display.HTML object>"
            ],
            "text/html": [
              "Run data is saved locally in <code>runs/mpnn/wandb/run-20240116_195821-kn0qhezc</code>"
            ]
          },
          "metadata": {}
        },
        {
          "output_type": "display_data",
          "data": {
            "text/plain": [
              "<IPython.core.display.HTML object>"
            ],
            "text/html": [
              "Syncing run <strong><a href='https://wandb.ai/teddy8/mldd23/runs/kn0qhezc' target=\"_blank\">sage_2024-01-16_19-58-21, 2</a></strong> to <a href='https://wandb.ai/teddy8/mldd23' target=\"_blank\">Weights & Biases</a> (<a href='https://wandb.me/run' target=\"_blank\">docs</a>)<br/>"
            ]
          },
          "metadata": {}
        },
        {
          "output_type": "display_data",
          "data": {
            "text/plain": [
              "<IPython.core.display.HTML object>"
            ],
            "text/html": [
              " View project at <a href='https://wandb.ai/teddy8/mldd23' target=\"_blank\">https://wandb.ai/teddy8/mldd23</a>"
            ]
          },
          "metadata": {}
        },
        {
          "output_type": "display_data",
          "data": {
            "text/plain": [
              "<IPython.core.display.HTML object>"
            ],
            "text/html": [
              " View run at <a href='https://wandb.ai/teddy8/mldd23/runs/kn0qhezc' target=\"_blank\">https://wandb.ai/teddy8/mldd23/runs/kn0qhezc</a>"
            ]
          },
          "metadata": {}
        },
        {
          "output_type": "display_data",
          "data": {
            "text/plain": [
              "  0%|          | 0/50 [00:00<?, ?it/s]"
            ],
            "application/vnd.jupyter.widget-view+json": {
              "version_major": 2,
              "version_minor": 0,
              "model_id": "3ed80a4fdcd04f4eb4e86486d43d2a1e"
            }
          },
          "metadata": {}
        },
        {
          "output_type": "display_data",
          "data": {
            "text/plain": [
              "VBox(children=(Label(value='0.010 MB of 0.010 MB uploaded\\r'), FloatProgress(value=1.0, max=1.0)))"
            ],
            "application/vnd.jupyter.widget-view+json": {
              "version_major": 2,
              "version_minor": 0,
              "model_id": "c0c189f83c1441b7b39a39f6aa635870"
            }
          },
          "metadata": {}
        },
        {
          "output_type": "display_data",
          "data": {
            "text/plain": [
              "<IPython.core.display.HTML object>"
            ],
            "text/html": [
              "<style>\n",
              "    table.wandb td:nth-child(1) { padding: 0 10px; text-align: left ; width: auto;} td:nth-child(2) {text-align: left ; width: 100%}\n",
              "    .wandb-row { display: flex; flex-direction: row; flex-wrap: wrap; justify-content: flex-start; width: 100% }\n",
              "    .wandb-col { display: flex; flex-direction: column; flex-basis: 100%; flex: 1; padding: 10px; }\n",
              "    </style>\n",
              "<div class=\"wandb-row\"><div class=\"wandb-col\"><h3>Run history:</h3><br/><table class=\"wandb\"><tr><td>test/loss</td><td>▁</td></tr><tr><td>test/mae</td><td>▁</td></tr><tr><td>test/mse</td><td>▁</td></tr><tr><td>test/pcc</td><td>▁</td></tr><tr><td>train/loss</td><td>█▆▃▃▄▃▄▃▂▃▂▂▂▂▂▂▂▂▂▂▂▂▁▆▁▂▁▁▂▂▁▁▂▁▂▁▂▁▁▁</td></tr><tr><td>train/mae</td><td>█▆▅▄▅▅▇▄▃▄▄▃▃▂▃▃▃▃▃▂▃▃▂▃▂▄▂▁▂▃▂▂▂▂▃▂▂▂▂▂</td></tr><tr><td>train/mse</td><td>█▆▃▃▄▃▄▃▂▃▂▂▂▂▂▂▂▂▂▂▂▂▁▆▁▂▁▁▂▂▁▁▂▁▂▁▂▁▁▁</td></tr><tr><td>train/pcc</td><td>▁▃▅▅▇▆ ▆▇▇▇▇█▇▇▇▇▇▇▇███▆█ ██████▇█▇█████</td></tr><tr><td>valid/loss</td><td>█▆▅▅▃▄▄▄▃▃▃▄▃▃▃▃▃▂▃▂▂▃▂▂▂▂▂▂▂▂▂▂▃▂▃▁▁▁▁▁</td></tr><tr><td>valid/mae</td><td>█▆▅▅▄▄▅▃▃▃▃▅▃▃▃▃▂▂▂▂▂▂▂▂▂▂▂▂▂▂▂▃▃▂▃▁▂▁▁▂</td></tr><tr><td>valid/mse</td><td>█▆▅▅▃▄▄▄▃▃▃▄▃▃▃▃▃▂▃▂▂▃▂▂▂▂▂▂▂▂▂▂▃▂▃▁▁▁▁▁</td></tr><tr><td>valid/pcc</td><td>▁▂▃▄▄▆▆▅▆▅▆▆▆▆▆▆▆▆▆▆▆▆▆▆▆▇▇▇▇▇▇█████████</td></tr></table><br/></div><div class=\"wandb-col\"><h3>Run summary:</h3><br/><table class=\"wandb\"><tr><td>test/loss</td><td>4.769</td></tr><tr><td>test/mae</td><td>1.83046</td></tr><tr><td>test/mse</td><td>5.67332</td></tr><tr><td>test/pcc</td><td>0.78917</td></tr><tr><td>train/loss</td><td>0.42443</td></tr><tr><td>train/mae</td><td>0.65148</td></tr><tr><td>train/mse</td><td>0.42443</td></tr><tr><td>train/pcc</td><td>nan</td></tr><tr><td>valid/loss</td><td>10.68132</td></tr><tr><td>valid/mae</td><td>2.08503</td></tr><tr><td>valid/mse</td><td>10.68132</td></tr><tr><td>valid/pcc</td><td>0.92936</td></tr></table><br/></div></div>"
            ]
          },
          "metadata": {}
        },
        {
          "output_type": "display_data",
          "data": {
            "text/plain": [
              "<IPython.core.display.HTML object>"
            ],
            "text/html": [
              " View run <strong style=\"color:#cdcd00\">sage_2024-01-16_19-58-21, 2</strong> at: <a href='https://wandb.ai/teddy8/mldd23/runs/kn0qhezc' target=\"_blank\">https://wandb.ai/teddy8/mldd23/runs/kn0qhezc</a><br/>Synced 4 W&B file(s), 0 media file(s), 0 artifact file(s) and 0 other file(s)"
            ]
          },
          "metadata": {}
        },
        {
          "output_type": "display_data",
          "data": {
            "text/plain": [
              "<IPython.core.display.HTML object>"
            ],
            "text/html": [
              "Find logs at: <code>runs/mpnn/wandb/run-20240116_195821-kn0qhezc/logs</code>"
            ]
          },
          "metadata": {}
        },
        {
          "output_type": "stream",
          "name": "stdout",
          "text": [
            "Validation metrics: {'loss': 10.681321740150452, 'mae': 2.0850255489349365, 'mse': 10.68132209777832, 'pcc': 0.9293550848960876}\n",
            "Test metrics: {'loss': 4.768998670578003, 'mae': 1.8304600715637207, 'mse': 5.67331600189209, 'pcc': 0.7891683578491211}\n"
          ]
        },
        {
          "output_type": "display_data",
          "data": {
            "text/plain": [
              "<IPython.core.display.HTML object>"
            ],
            "text/html": [
              "Tracking run with wandb version 0.16.2"
            ]
          },
          "metadata": {}
        },
        {
          "output_type": "display_data",
          "data": {
            "text/plain": [
              "<IPython.core.display.HTML object>"
            ],
            "text/html": [
              "Run data is saved locally in <code>runs/mpnn/wandb/run-20240116_195907-i8jwumc3</code>"
            ]
          },
          "metadata": {}
        },
        {
          "output_type": "display_data",
          "data": {
            "text/plain": [
              "<IPython.core.display.HTML object>"
            ],
            "text/html": [
              "Syncing run <strong><a href='https://wandb.ai/teddy8/mldd23/runs/i8jwumc3' target=\"_blank\">sage_2024-01-16_19-59-07, 3</a></strong> to <a href='https://wandb.ai/teddy8/mldd23' target=\"_blank\">Weights & Biases</a> (<a href='https://wandb.me/run' target=\"_blank\">docs</a>)<br/>"
            ]
          },
          "metadata": {}
        },
        {
          "output_type": "display_data",
          "data": {
            "text/plain": [
              "<IPython.core.display.HTML object>"
            ],
            "text/html": [
              " View project at <a href='https://wandb.ai/teddy8/mldd23' target=\"_blank\">https://wandb.ai/teddy8/mldd23</a>"
            ]
          },
          "metadata": {}
        },
        {
          "output_type": "display_data",
          "data": {
            "text/plain": [
              "<IPython.core.display.HTML object>"
            ],
            "text/html": [
              " View run at <a href='https://wandb.ai/teddy8/mldd23/runs/i8jwumc3' target=\"_blank\">https://wandb.ai/teddy8/mldd23/runs/i8jwumc3</a>"
            ]
          },
          "metadata": {}
        },
        {
          "output_type": "display_data",
          "data": {
            "text/plain": [
              "  0%|          | 0/50 [00:00<?, ?it/s]"
            ],
            "application/vnd.jupyter.widget-view+json": {
              "version_major": 2,
              "version_minor": 0,
              "model_id": "ea5d0dc80dcc49cf910e4a92809e9434"
            }
          },
          "metadata": {}
        },
        {
          "output_type": "display_data",
          "data": {
            "text/plain": [
              "VBox(children=(Label(value='0.010 MB of 0.010 MB uploaded\\r'), FloatProgress(value=1.0, max=1.0)))"
            ],
            "application/vnd.jupyter.widget-view+json": {
              "version_major": 2,
              "version_minor": 0,
              "model_id": "c1b367d31ba64e9ebce6ba37e2e1e360"
            }
          },
          "metadata": {}
        },
        {
          "output_type": "display_data",
          "data": {
            "text/plain": [
              "<IPython.core.display.HTML object>"
            ],
            "text/html": [
              "<style>\n",
              "    table.wandb td:nth-child(1) { padding: 0 10px; text-align: left ; width: auto;} td:nth-child(2) {text-align: left ; width: 100%}\n",
              "    .wandb-row { display: flex; flex-direction: row; flex-wrap: wrap; justify-content: flex-start; width: 100% }\n",
              "    .wandb-col { display: flex; flex-direction: column; flex-basis: 100%; flex: 1; padding: 10px; }\n",
              "    </style>\n",
              "<div class=\"wandb-row\"><div class=\"wandb-col\"><h3>Run history:</h3><br/><table class=\"wandb\"><tr><td>test/loss</td><td>▁</td></tr><tr><td>test/mae</td><td>▁</td></tr><tr><td>test/mse</td><td>▁</td></tr><tr><td>test/pcc</td><td>▁</td></tr><tr><td>train/loss</td><td>█▄▄▅▃▃▄▃▃▃▂▂▃▂▂▂▂▂▂▂▆▂▂▃▃▁▂▂▂▂▂▂▂▂▃▃▂▂▃▅</td></tr><tr><td>train/mae</td><td>█▅▅▆▅▄▆▃▄▄▃▃▄▄▃▃▃▃▃▃▄▃▂▃▃▁▃▃▂▃▂▂▃▃▄▄▃▃▃▄</td></tr><tr><td>train/mse</td><td>█▄▄▅▃▃▄▃▃▃▂▂▃▂▂▂▂▂▂▂▆▂▂▃▃▁▂▂▂▂▂▂▂▂▃▃▂▂▃▅</td></tr><tr><td>train/pcc</td><td>▂▁▄▃▃▆ ▆▆▅▇▆▇▇▇▆▇▇▇▇▄▇█▆▆ ▇▇▇█▇██▇▇▇▇█▇▆</td></tr><tr><td>valid/loss</td><td>█▅▅▄▄▄▃▃▃▃▃▄▄▃▃▃▂▃▂▂▂▂▃▃▂▃▃▂▃▂▂▂▃▂▂▂▁▁▂▁</td></tr><tr><td>valid/mae</td><td>█▅▅▄▄▄▄▃▃▃▃▃▄▂▂▂▂▂▂▂▂▂▂▃▂▂▂▂▃▂▂▂▃▁▂▂▁▁▂▁</td></tr><tr><td>valid/mse</td><td>█▅▅▄▄▄▃▃▃▃▃▄▄▃▃▃▂▃▂▂▂▂▃▃▂▃▃▂▃▂▂▂▃▂▂▂▁▁▂▁</td></tr><tr><td>valid/pcc</td><td>▁▂▃▄▅▆▅▅▅▅▅▆▆▆▆▆▆▆▆▆▆▆▆▆▆▆▆▆▇▆▆▆▇▇██████</td></tr></table><br/></div><div class=\"wandb-col\"><h3>Run summary:</h3><br/><table class=\"wandb\"><tr><td>test/loss</td><td>3.76793</td></tr><tr><td>test/mae</td><td>1.57086</td></tr><tr><td>test/mse</td><td>4.63522</td></tr><tr><td>test/pcc</td><td>0.81681</td></tr><tr><td>train/loss</td><td>0.70263</td></tr><tr><td>train/mae</td><td>0.83823</td></tr><tr><td>train/mse</td><td>0.70263</td></tr><tr><td>train/pcc</td><td>nan</td></tr><tr><td>valid/loss</td><td>10.33599</td></tr><tr><td>valid/mae</td><td>1.86731</td></tr><tr><td>valid/mse</td><td>10.33599</td></tr><tr><td>valid/pcc</td><td>0.93648</td></tr></table><br/></div></div>"
            ]
          },
          "metadata": {}
        },
        {
          "output_type": "display_data",
          "data": {
            "text/plain": [
              "<IPython.core.display.HTML object>"
            ],
            "text/html": [
              " View run <strong style=\"color:#cdcd00\">sage_2024-01-16_19-59-07, 3</strong> at: <a href='https://wandb.ai/teddy8/mldd23/runs/i8jwumc3' target=\"_blank\">https://wandb.ai/teddy8/mldd23/runs/i8jwumc3</a><br/>Synced 4 W&B file(s), 0 media file(s), 0 artifact file(s) and 0 other file(s)"
            ]
          },
          "metadata": {}
        },
        {
          "output_type": "display_data",
          "data": {
            "text/plain": [
              "<IPython.core.display.HTML object>"
            ],
            "text/html": [
              "Find logs at: <code>runs/mpnn/wandb/run-20240116_195907-i8jwumc3/logs</code>"
            ]
          },
          "metadata": {}
        },
        {
          "output_type": "stream",
          "name": "stdout",
          "text": [
            "Validation metrics: {'loss': 10.335991501808167, 'mae': 1.8673069477081299, 'mse': 10.335991859436035, 'pcc': 0.9364807605743408}\n",
            "Test metrics: {'loss': 3.7679285500198603, 'mae': 1.5708637237548828, 'mse': 4.635219097137451, 'pcc': 0.8168083429336548}\n"
          ]
        },
        {
          "output_type": "display_data",
          "data": {
            "text/plain": [
              "<IPython.core.display.HTML object>"
            ],
            "text/html": [
              "Tracking run with wandb version 0.16.2"
            ]
          },
          "metadata": {}
        },
        {
          "output_type": "display_data",
          "data": {
            "text/plain": [
              "<IPython.core.display.HTML object>"
            ],
            "text/html": [
              "Run data is saved locally in <code>runs/mpnn/wandb/run-20240116_195953-838nhqag</code>"
            ]
          },
          "metadata": {}
        },
        {
          "output_type": "display_data",
          "data": {
            "text/plain": [
              "<IPython.core.display.HTML object>"
            ],
            "text/html": [
              "Syncing run <strong><a href='https://wandb.ai/teddy8/mldd23/runs/838nhqag' target=\"_blank\">sage_2024-01-16_19-59-53, 4</a></strong> to <a href='https://wandb.ai/teddy8/mldd23' target=\"_blank\">Weights & Biases</a> (<a href='https://wandb.me/run' target=\"_blank\">docs</a>)<br/>"
            ]
          },
          "metadata": {}
        },
        {
          "output_type": "display_data",
          "data": {
            "text/plain": [
              "<IPython.core.display.HTML object>"
            ],
            "text/html": [
              " View project at <a href='https://wandb.ai/teddy8/mldd23' target=\"_blank\">https://wandb.ai/teddy8/mldd23</a>"
            ]
          },
          "metadata": {}
        },
        {
          "output_type": "display_data",
          "data": {
            "text/plain": [
              "<IPython.core.display.HTML object>"
            ],
            "text/html": [
              " View run at <a href='https://wandb.ai/teddy8/mldd23/runs/838nhqag' target=\"_blank\">https://wandb.ai/teddy8/mldd23/runs/838nhqag</a>"
            ]
          },
          "metadata": {}
        },
        {
          "output_type": "display_data",
          "data": {
            "text/plain": [
              "  0%|          | 0/50 [00:00<?, ?it/s]"
            ],
            "application/vnd.jupyter.widget-view+json": {
              "version_major": 2,
              "version_minor": 0,
              "model_id": "2e9a22da444941e7a890d4fb3957140d"
            }
          },
          "metadata": {}
        },
        {
          "output_type": "display_data",
          "data": {
            "text/plain": [
              "VBox(children=(Label(value='0.010 MB of 0.010 MB uploaded\\r'), FloatProgress(value=1.0, max=1.0)))"
            ],
            "application/vnd.jupyter.widget-view+json": {
              "version_major": 2,
              "version_minor": 0,
              "model_id": "23c393ee21df41ea80deec1a42b24a12"
            }
          },
          "metadata": {}
        },
        {
          "output_type": "display_data",
          "data": {
            "text/plain": [
              "<IPython.core.display.HTML object>"
            ],
            "text/html": [
              "<style>\n",
              "    table.wandb td:nth-child(1) { padding: 0 10px; text-align: left ; width: auto;} td:nth-child(2) {text-align: left ; width: 100%}\n",
              "    .wandb-row { display: flex; flex-direction: row; flex-wrap: wrap; justify-content: flex-start; width: 100% }\n",
              "    .wandb-col { display: flex; flex-direction: column; flex-basis: 100%; flex: 1; padding: 10px; }\n",
              "    </style>\n",
              "<div class=\"wandb-row\"><div class=\"wandb-col\"><h3>Run history:</h3><br/><table class=\"wandb\"><tr><td>test/loss</td><td>▁</td></tr><tr><td>test/mae</td><td>▁</td></tr><tr><td>test/mse</td><td>▁</td></tr><tr><td>test/pcc</td><td>▁</td></tr><tr><td>train/loss</td><td>█▄▄▂▃▆▁▂▁▃▅▂▂▂▂▁▁▁▂▁▂▁▁▂▂▂▂▁▂▁▂▂▄▁▁▂▂▁▁▁</td></tr><tr><td>train/mae</td><td>█▅▅▃▄▅▁▂▂▃▃▂▃▃▃▂▂▂▂▂▂▂▂▂▃▄▂▁▂▁▂▂▃▂▂▂▃▂▂▂</td></tr><tr><td>train/mse</td><td>█▄▄▂▃▆▁▂▁▃▅▂▂▂▂▁▁▁▂▁▂▁▁▂▂▂▂▁▂▁▂▂▄▁▁▂▂▁▁▁</td></tr><tr><td>train/pcc</td><td>▁▂▅▅▄▄ ▇█▆▆▇▇▇▆▇▇▇▇████▇▇ ▆█▇█▇▇▇▇██▇██▇</td></tr><tr><td>valid/loss</td><td>█▆▅▅▄▃▃▃▃▃▃▃▂▂▂▂▂▂▂▂▃▂▂▂▂▂▂▂▂▂▂▁▂▁▁▁▁▁▁▁</td></tr><tr><td>valid/mae</td><td>█▆▅▅▄▃▃▃▂▃▃▃▂▂▂▂▂▂▂▁▂▂▂▁▂▁▂▁▁▂▂▁▁▁▁▁▁▁▁▁</td></tr><tr><td>valid/mse</td><td>█▆▅▅▄▃▃▃▃▃▃▃▂▂▂▂▂▂▂▂▃▂▂▂▂▂▂▂▂▂▂▁▂▁▁▁▁▁▁▁</td></tr><tr><td>valid/pcc</td><td>▁▃▄▅▆▇▇▇▇▇▇▇▇▇▇▇█▇▇█▇▇█▇████████████████</td></tr></table><br/></div><div class=\"wandb-col\"><h3>Run summary:</h3><br/><table class=\"wandb\"><tr><td>test/loss</td><td>6.07171</td></tr><tr><td>test/mae</td><td>2.03105</td></tr><tr><td>test/mse</td><td>7.30276</td></tr><tr><td>test/pcc</td><td>0.76258</td></tr><tr><td>train/loss</td><td>0.03866</td></tr><tr><td>train/mae</td><td>0.19663</td></tr><tr><td>train/mse</td><td>0.03866</td></tr><tr><td>train/pcc</td><td>nan</td></tr><tr><td>valid/loss</td><td>15.32991</td></tr><tr><td>valid/mae</td><td>2.39637</td></tr><tr><td>valid/mse</td><td>15.32991</td></tr><tr><td>valid/pcc</td><td>0.84192</td></tr></table><br/></div></div>"
            ]
          },
          "metadata": {}
        },
        {
          "output_type": "display_data",
          "data": {
            "text/plain": [
              "<IPython.core.display.HTML object>"
            ],
            "text/html": [
              " View run <strong style=\"color:#cdcd00\">sage_2024-01-16_19-59-53, 4</strong> at: <a href='https://wandb.ai/teddy8/mldd23/runs/838nhqag' target=\"_blank\">https://wandb.ai/teddy8/mldd23/runs/838nhqag</a><br/>Synced 4 W&B file(s), 0 media file(s), 0 artifact file(s) and 0 other file(s)"
            ]
          },
          "metadata": {}
        },
        {
          "output_type": "display_data",
          "data": {
            "text/plain": [
              "<IPython.core.display.HTML object>"
            ],
            "text/html": [
              "Find logs at: <code>runs/mpnn/wandb/run-20240116_195953-838nhqag/logs</code>"
            ]
          },
          "metadata": {}
        },
        {
          "output_type": "stream",
          "name": "stdout",
          "text": [
            "Validation metrics: {'loss': 15.329914689064026, 'mae': 2.3963735103607178, 'mse': 15.329914093017578, 'pcc': 0.8419190645217896}\n",
            "Test metrics: {'loss': 6.071712529659271, 'mae': 2.031045436859131, 'mse': 7.302764892578125, 'pcc': 0.7625758051872253}\n"
          ]
        },
        {
          "output_type": "display_data",
          "data": {
            "text/plain": [
              "VBox(children=(Label(value='Waiting for wandb.init()...\\r'), FloatProgress(value=0.011113383811112322, max=1.0…"
            ],
            "application/vnd.jupyter.widget-view+json": {
              "version_major": 2,
              "version_minor": 0,
              "model_id": "89aff006f27845cb8179a1d3fb7fbe16"
            }
          },
          "metadata": {}
        },
        {
          "output_type": "display_data",
          "data": {
            "text/plain": [
              "<IPython.core.display.HTML object>"
            ],
            "text/html": [
              "Tracking run with wandb version 0.16.2"
            ]
          },
          "metadata": {}
        },
        {
          "output_type": "display_data",
          "data": {
            "text/plain": [
              "<IPython.core.display.HTML object>"
            ],
            "text/html": [
              "Run data is saved locally in <code>runs/mpnn/wandb/run-20240116_200039-tlrv6uv9</code>"
            ]
          },
          "metadata": {}
        },
        {
          "output_type": "display_data",
          "data": {
            "text/plain": [
              "<IPython.core.display.HTML object>"
            ],
            "text/html": [
              "Syncing run <strong><a href='https://wandb.ai/teddy8/mldd23/runs/tlrv6uv9' target=\"_blank\">sage_2024-01-16_20-00-39, 5</a></strong> to <a href='https://wandb.ai/teddy8/mldd23' target=\"_blank\">Weights & Biases</a> (<a href='https://wandb.me/run' target=\"_blank\">docs</a>)<br/>"
            ]
          },
          "metadata": {}
        },
        {
          "output_type": "display_data",
          "data": {
            "text/plain": [
              "<IPython.core.display.HTML object>"
            ],
            "text/html": [
              " View project at <a href='https://wandb.ai/teddy8/mldd23' target=\"_blank\">https://wandb.ai/teddy8/mldd23</a>"
            ]
          },
          "metadata": {}
        },
        {
          "output_type": "display_data",
          "data": {
            "text/plain": [
              "<IPython.core.display.HTML object>"
            ],
            "text/html": [
              " View run at <a href='https://wandb.ai/teddy8/mldd23/runs/tlrv6uv9' target=\"_blank\">https://wandb.ai/teddy8/mldd23/runs/tlrv6uv9</a>"
            ]
          },
          "metadata": {}
        },
        {
          "output_type": "display_data",
          "data": {
            "text/plain": [
              "  0%|          | 0/50 [00:00<?, ?it/s]"
            ],
            "application/vnd.jupyter.widget-view+json": {
              "version_major": 2,
              "version_minor": 0,
              "model_id": "a19c111911b44a1bae3c74d52291d22e"
            }
          },
          "metadata": {}
        },
        {
          "output_type": "display_data",
          "data": {
            "text/plain": [
              "VBox(children=(Label(value='0.010 MB of 0.010 MB uploaded\\r'), FloatProgress(value=1.0, max=1.0)))"
            ],
            "application/vnd.jupyter.widget-view+json": {
              "version_major": 2,
              "version_minor": 0,
              "model_id": "c03bcedc3a3d4f1b838041c215f01736"
            }
          },
          "metadata": {}
        },
        {
          "output_type": "display_data",
          "data": {
            "text/plain": [
              "<IPython.core.display.HTML object>"
            ],
            "text/html": [
              "<style>\n",
              "    table.wandb td:nth-child(1) { padding: 0 10px; text-align: left ; width: auto;} td:nth-child(2) {text-align: left ; width: 100%}\n",
              "    .wandb-row { display: flex; flex-direction: row; flex-wrap: wrap; justify-content: flex-start; width: 100% }\n",
              "    .wandb-col { display: flex; flex-direction: column; flex-basis: 100%; flex: 1; padding: 10px; }\n",
              "    </style>\n",
              "<div class=\"wandb-row\"><div class=\"wandb-col\"><h3>Run history:</h3><br/><table class=\"wandb\"><tr><td>test/loss</td><td>▁</td></tr><tr><td>test/mae</td><td>▁</td></tr><tr><td>test/mse</td><td>▁</td></tr><tr><td>test/pcc</td><td>▁</td></tr><tr><td>train/loss</td><td>█▄▃█▃▂▁▂▂▂▂▂▁▂▂▂▂▂▁▂▁▂▂▅▁▁▂▁▁▂▂▁▂▃▂▂▁▁▂▂</td></tr><tr><td>train/mae</td><td>█▅▅▆▄▃▁▃▃▃▃▂▂▃▂▂▂▂▂▃▂▂▃▃▂▁▂▂▂▃▃▂▃▃▃▃▂▁▂▂</td></tr><tr><td>train/mse</td><td>█▄▃█▃▂▁▂▂▂▂▂▁▂▂▂▂▂▁▂▁▂▂▅▁▁▂▁▁▂▂▁▂▃▂▂▁▁▂▂</td></tr><tr><td>train/pcc</td><td>▁▅▅▁▄▅ ▇▇▇▆▇█▇▇█▇██▇█▇▇▆▇ ██▇▇▆█▇▇█▇███▇</td></tr><tr><td>valid/loss</td><td>█▅▃▃▄▃▂▂▃▂▂▂▂▁▂▂▂▁▂▂▂▂▂▂▁▁▂▂▁▁▂▂▁▁▁▂▁▂▂▂</td></tr><tr><td>valid/mae</td><td>█▅▄▄▃▂▂▂▃▂▁▂▂▁▂▁▂▁▁▂▂▂▁▂▁▁▂▂▁▁▂▂▁▁▁▂▁▂▂▁</td></tr><tr><td>valid/mse</td><td>█▅▃▃▄▃▂▂▃▂▂▂▂▁▂▂▂▁▂▂▂▂▂▂▁▁▂▂▁▁▂▂▁▁▁▂▁▂▂▂</td></tr><tr><td>valid/pcc</td><td>▁▅▆▆▇███████████████████████████████████</td></tr></table><br/></div><div class=\"wandb-col\"><h3>Run summary:</h3><br/><table class=\"wandb\"><tr><td>test/loss</td><td>8.44839</td></tr><tr><td>test/mae</td><td>2.37761</td></tr><tr><td>test/mse</td><td>10.25091</td></tr><tr><td>test/pcc</td><td>0.74343</td></tr><tr><td>train/loss</td><td>0.04581</td></tr><tr><td>train/mae</td><td>0.21402</td></tr><tr><td>train/mse</td><td>0.04581</td></tr><tr><td>train/pcc</td><td>nan</td></tr><tr><td>valid/loss</td><td>22.37719</td></tr><tr><td>valid/mae</td><td>2.74842</td></tr><tr><td>valid/mse</td><td>22.37719</td></tr><tr><td>valid/pcc</td><td>0.78297</td></tr></table><br/></div></div>"
            ]
          },
          "metadata": {}
        },
        {
          "output_type": "display_data",
          "data": {
            "text/plain": [
              "<IPython.core.display.HTML object>"
            ],
            "text/html": [
              " View run <strong style=\"color:#cdcd00\">sage_2024-01-16_20-00-39, 5</strong> at: <a href='https://wandb.ai/teddy8/mldd23/runs/tlrv6uv9' target=\"_blank\">https://wandb.ai/teddy8/mldd23/runs/tlrv6uv9</a><br/>Synced 4 W&B file(s), 0 media file(s), 0 artifact file(s) and 0 other file(s)"
            ]
          },
          "metadata": {}
        },
        {
          "output_type": "display_data",
          "data": {
            "text/plain": [
              "<IPython.core.display.HTML object>"
            ],
            "text/html": [
              "Find logs at: <code>runs/mpnn/wandb/run-20240116_200039-tlrv6uv9/logs</code>"
            ]
          },
          "metadata": {}
        },
        {
          "output_type": "stream",
          "name": "stdout",
          "text": [
            "Validation metrics: {'loss': 22.37718963623047, 'mae': 2.7484192848205566, 'mse': 22.37718963623047, 'pcc': 0.7829685211181641}\n",
            "Test metrics: {'loss': 8.44838535785675, 'mae': 2.377612829208374, 'mse': 10.250909805297852, 'pcc': 0.74342942237854}\n"
          ]
        },
        {
          "output_type": "display_data",
          "data": {
            "text/plain": [
              "<IPython.core.display.HTML object>"
            ],
            "text/html": [
              "Tracking run with wandb version 0.16.2"
            ]
          },
          "metadata": {}
        },
        {
          "output_type": "display_data",
          "data": {
            "text/plain": [
              "<IPython.core.display.HTML object>"
            ],
            "text/html": [
              "Run data is saved locally in <code>runs/mpnn/wandb/run-20240116_200129-9hqm73fj</code>"
            ]
          },
          "metadata": {}
        },
        {
          "output_type": "display_data",
          "data": {
            "text/plain": [
              "<IPython.core.display.HTML object>"
            ],
            "text/html": [
              "Syncing run <strong><a href='https://wandb.ai/teddy8/mldd23/runs/9hqm73fj' target=\"_blank\">sage_2024-01-16_20-01-29, 6</a></strong> to <a href='https://wandb.ai/teddy8/mldd23' target=\"_blank\">Weights & Biases</a> (<a href='https://wandb.me/run' target=\"_blank\">docs</a>)<br/>"
            ]
          },
          "metadata": {}
        },
        {
          "output_type": "display_data",
          "data": {
            "text/plain": [
              "<IPython.core.display.HTML object>"
            ],
            "text/html": [
              " View project at <a href='https://wandb.ai/teddy8/mldd23' target=\"_blank\">https://wandb.ai/teddy8/mldd23</a>"
            ]
          },
          "metadata": {}
        },
        {
          "output_type": "display_data",
          "data": {
            "text/plain": [
              "<IPython.core.display.HTML object>"
            ],
            "text/html": [
              " View run at <a href='https://wandb.ai/teddy8/mldd23/runs/9hqm73fj' target=\"_blank\">https://wandb.ai/teddy8/mldd23/runs/9hqm73fj</a>"
            ]
          },
          "metadata": {}
        },
        {
          "output_type": "display_data",
          "data": {
            "text/plain": [
              "  0%|          | 0/50 [00:00<?, ?it/s]"
            ],
            "application/vnd.jupyter.widget-view+json": {
              "version_major": 2,
              "version_minor": 0,
              "model_id": "5ae9496a5f98406b8fe7bf96bd4c7c08"
            }
          },
          "metadata": {}
        },
        {
          "output_type": "error",
          "ename": "KeyboardInterrupt",
          "evalue": "",
          "traceback": [
            "\u001b[0;31m---------------------------------------------------------------------------\u001b[0m",
            "\u001b[0;31mKeyboardInterrupt\u001b[0m                         Traceback (most recent call last)",
            "\u001b[0;32m<ipython-input-49-a21844230167>\u001b[0m in \u001b[0;36m<cell line: 5>\u001b[0;34m()\u001b[0m\n\u001b[1;32m     40\u001b[0m   )\n\u001b[1;32m     41\u001b[0m \u001b[0;34m\u001b[0m\u001b[0m\n\u001b[0;32m---> 42\u001b[0;31m   \u001b[0mvalid_metrics\u001b[0m \u001b[0;34m=\u001b[0m \u001b[0mtrainer\u001b[0m\u001b[0;34m.\u001b[0m\u001b[0mtrain\u001b[0m\u001b[0;34m(\u001b[0m\u001b[0;34m)\u001b[0m\u001b[0;34m\u001b[0m\u001b[0;34m\u001b[0m\u001b[0m\n\u001b[0m\u001b[1;32m     43\u001b[0m   \u001b[0mtest_metrics\u001b[0m \u001b[0;34m=\u001b[0m \u001b[0mtrainer\u001b[0m\u001b[0;34m.\u001b[0m\u001b[0mtest\u001b[0m\u001b[0;34m(\u001b[0m\u001b[0mtest\u001b[0m\u001b[0;34m)\u001b[0m\u001b[0;34m\u001b[0m\u001b[0;34m\u001b[0m\u001b[0m\n\u001b[1;32m     44\u001b[0m   \u001b[0mtrainer\u001b[0m\u001b[0;34m.\u001b[0m\u001b[0mclose\u001b[0m\u001b[0;34m(\u001b[0m\u001b[0;34m)\u001b[0m\u001b[0;34m\u001b[0m\u001b[0;34m\u001b[0m\u001b[0m\n",
            "\u001b[0;32m<ipython-input-15-470d2bf453db>\u001b[0m in \u001b[0;36mtrain\u001b[0;34m(self)\u001b[0m\n\u001b[1;32m    132\u001b[0m \u001b[0;34m\u001b[0m\u001b[0m\n\u001b[1;32m    133\u001b[0m                 \u001b[0;32mif\u001b[0m \u001b[0mepoch\u001b[0m \u001b[0;34m%\u001b[0m \u001b[0mself\u001b[0m\u001b[0;34m.\u001b[0m\u001b[0mvalid_every_n_epochs\u001b[0m \u001b[0;34m==\u001b[0m \u001b[0;36m0\u001b[0m \u001b[0;32mor\u001b[0m \u001b[0mepoch\u001b[0m \u001b[0;34m==\u001b[0m \u001b[0mself\u001b[0m\u001b[0;34m.\u001b[0m\u001b[0mn_epochs\u001b[0m \u001b[0;34m-\u001b[0m \u001b[0;36m1\u001b[0m\u001b[0;34m:\u001b[0m\u001b[0;34m\u001b[0m\u001b[0;34m\u001b[0m\u001b[0m\n\u001b[0;32m--> 134\u001b[0;31m                     \u001b[0mvalid_metrics\u001b[0m \u001b[0;34m=\u001b[0m \u001b[0mself\u001b[0m\u001b[0;34m.\u001b[0m\u001b[0mvalidate\u001b[0m\u001b[0;34m(\u001b[0m\u001b[0mself\u001b[0m\u001b[0;34m.\u001b[0m\u001b[0mvalid_loader\u001b[0m\u001b[0;34m,\u001b[0m \u001b[0mprefix\u001b[0m\u001b[0;34m=\u001b[0m\u001b[0;34m\"valid\"\u001b[0m\u001b[0;34m)\u001b[0m\u001b[0;34m\u001b[0m\u001b[0;34m\u001b[0m\u001b[0m\n\u001b[0m\u001b[1;32m    135\u001b[0m \u001b[0;34m\u001b[0m\u001b[0m\n\u001b[1;32m    136\u001b[0m         \u001b[0;32mreturn\u001b[0m \u001b[0mvalid_metrics\u001b[0m\u001b[0;34m\u001b[0m\u001b[0;34m\u001b[0m\u001b[0m\n",
            "\u001b[0;32m/usr/local/lib/python3.10/dist-packages/torch/utils/_contextlib.py\u001b[0m in \u001b[0;36mdecorate_context\u001b[0;34m(*args, **kwargs)\u001b[0m\n\u001b[1;32m    113\u001b[0m     \u001b[0;32mdef\u001b[0m \u001b[0mdecorate_context\u001b[0m\u001b[0;34m(\u001b[0m\u001b[0;34m*\u001b[0m\u001b[0margs\u001b[0m\u001b[0;34m,\u001b[0m \u001b[0;34m**\u001b[0m\u001b[0mkwargs\u001b[0m\u001b[0;34m)\u001b[0m\u001b[0;34m:\u001b[0m\u001b[0;34m\u001b[0m\u001b[0;34m\u001b[0m\u001b[0m\n\u001b[1;32m    114\u001b[0m         \u001b[0;32mwith\u001b[0m \u001b[0mctx_factory\u001b[0m\u001b[0;34m(\u001b[0m\u001b[0;34m)\u001b[0m\u001b[0;34m:\u001b[0m\u001b[0;34m\u001b[0m\u001b[0;34m\u001b[0m\u001b[0m\n\u001b[0;32m--> 115\u001b[0;31m             \u001b[0;32mreturn\u001b[0m \u001b[0mfunc\u001b[0m\u001b[0;34m(\u001b[0m\u001b[0;34m*\u001b[0m\u001b[0margs\u001b[0m\u001b[0;34m,\u001b[0m \u001b[0;34m**\u001b[0m\u001b[0mkwargs\u001b[0m\u001b[0;34m)\u001b[0m\u001b[0;34m\u001b[0m\u001b[0;34m\u001b[0m\u001b[0m\n\u001b[0m\u001b[1;32m    116\u001b[0m \u001b[0;34m\u001b[0m\u001b[0m\n\u001b[1;32m    117\u001b[0m     \u001b[0;32mreturn\u001b[0m \u001b[0mdecorate_context\u001b[0m\u001b[0;34m\u001b[0m\u001b[0;34m\u001b[0m\u001b[0m\n",
            "\u001b[0;32m<ipython-input-15-470d2bf453db>\u001b[0m in \u001b[0;36mvalidate\u001b[0;34m(self, dataloader, prefix)\u001b[0m\n\u001b[1;32m    105\u001b[0m             \u001b[0mgraphs\u001b[0m \u001b[0;34m=\u001b[0m \u001b[0mgraphs\u001b[0m\u001b[0;34m.\u001b[0m\u001b[0mto\u001b[0m\u001b[0;34m(\u001b[0m\u001b[0mself\u001b[0m\u001b[0;34m.\u001b[0m\u001b[0mdevice\u001b[0m\u001b[0;34m)\u001b[0m\u001b[0;34m\u001b[0m\u001b[0;34m\u001b[0m\u001b[0m\n\u001b[1;32m    106\u001b[0m             \u001b[0mlabels\u001b[0m \u001b[0;34m=\u001b[0m \u001b[0mlabels\u001b[0m\u001b[0;34m.\u001b[0m\u001b[0mto\u001b[0m\u001b[0;34m(\u001b[0m\u001b[0mself\u001b[0m\u001b[0;34m.\u001b[0m\u001b[0mdevice\u001b[0m\u001b[0;34m)\u001b[0m\u001b[0;34m\u001b[0m\u001b[0;34m\u001b[0m\u001b[0m\n\u001b[0;32m--> 107\u001b[0;31m             \u001b[0mpreds\u001b[0m \u001b[0;34m=\u001b[0m \u001b[0mself\u001b[0m\u001b[0;34m.\u001b[0m\u001b[0mmodel\u001b[0m\u001b[0;34m(\u001b[0m\u001b[0mgraphs\u001b[0m\u001b[0;34m)\u001b[0m\u001b[0;34m\u001b[0m\u001b[0;34m\u001b[0m\u001b[0m\n\u001b[0m\u001b[1;32m    108\u001b[0m             \u001b[0mloss\u001b[0m \u001b[0;34m=\u001b[0m \u001b[0mself\u001b[0m\u001b[0;34m.\u001b[0m\u001b[0mloss_fn\u001b[0m\u001b[0;34m(\u001b[0m\u001b[0mpreds\u001b[0m\u001b[0;34m,\u001b[0m \u001b[0mlabels\u001b[0m\u001b[0;34m)\u001b[0m\u001b[0;34m\u001b[0m\u001b[0;34m\u001b[0m\u001b[0m\n\u001b[1;32m    109\u001b[0m             \u001b[0mlosses\u001b[0m\u001b[0;34m.\u001b[0m\u001b[0mappend\u001b[0m\u001b[0;34m(\u001b[0m\u001b[0mloss\u001b[0m\u001b[0;34m.\u001b[0m\u001b[0mitem\u001b[0m\u001b[0;34m(\u001b[0m\u001b[0;34m)\u001b[0m\u001b[0;34m)\u001b[0m\u001b[0;34m\u001b[0m\u001b[0;34m\u001b[0m\u001b[0m\n",
            "\u001b[0;32m/usr/local/lib/python3.10/dist-packages/torch/nn/modules/module.py\u001b[0m in \u001b[0;36m_wrapped_call_impl\u001b[0;34m(self, *args, **kwargs)\u001b[0m\n\u001b[1;32m   1516\u001b[0m             \u001b[0;32mreturn\u001b[0m \u001b[0mself\u001b[0m\u001b[0;34m.\u001b[0m\u001b[0m_compiled_call_impl\u001b[0m\u001b[0;34m(\u001b[0m\u001b[0;34m*\u001b[0m\u001b[0margs\u001b[0m\u001b[0;34m,\u001b[0m \u001b[0;34m**\u001b[0m\u001b[0mkwargs\u001b[0m\u001b[0;34m)\u001b[0m  \u001b[0;31m# type: ignore[misc]\u001b[0m\u001b[0;34m\u001b[0m\u001b[0;34m\u001b[0m\u001b[0m\n\u001b[1;32m   1517\u001b[0m         \u001b[0;32melse\u001b[0m\u001b[0;34m:\u001b[0m\u001b[0;34m\u001b[0m\u001b[0;34m\u001b[0m\u001b[0m\n\u001b[0;32m-> 1518\u001b[0;31m             \u001b[0;32mreturn\u001b[0m \u001b[0mself\u001b[0m\u001b[0;34m.\u001b[0m\u001b[0m_call_impl\u001b[0m\u001b[0;34m(\u001b[0m\u001b[0;34m*\u001b[0m\u001b[0margs\u001b[0m\u001b[0;34m,\u001b[0m \u001b[0;34m**\u001b[0m\u001b[0mkwargs\u001b[0m\u001b[0;34m)\u001b[0m\u001b[0;34m\u001b[0m\u001b[0;34m\u001b[0m\u001b[0m\n\u001b[0m\u001b[1;32m   1519\u001b[0m \u001b[0;34m\u001b[0m\u001b[0m\n\u001b[1;32m   1520\u001b[0m     \u001b[0;32mdef\u001b[0m \u001b[0m_call_impl\u001b[0m\u001b[0;34m(\u001b[0m\u001b[0mself\u001b[0m\u001b[0;34m,\u001b[0m \u001b[0;34m*\u001b[0m\u001b[0margs\u001b[0m\u001b[0;34m,\u001b[0m \u001b[0;34m**\u001b[0m\u001b[0mkwargs\u001b[0m\u001b[0;34m)\u001b[0m\u001b[0;34m:\u001b[0m\u001b[0;34m\u001b[0m\u001b[0;34m\u001b[0m\u001b[0m\n",
            "\u001b[0;32m/usr/local/lib/python3.10/dist-packages/torch/nn/modules/module.py\u001b[0m in \u001b[0;36m_call_impl\u001b[0;34m(self, *args, **kwargs)\u001b[0m\n\u001b[1;32m   1525\u001b[0m                 \u001b[0;32mor\u001b[0m \u001b[0m_global_backward_pre_hooks\u001b[0m \u001b[0;32mor\u001b[0m \u001b[0m_global_backward_hooks\u001b[0m\u001b[0;34m\u001b[0m\u001b[0;34m\u001b[0m\u001b[0m\n\u001b[1;32m   1526\u001b[0m                 or _global_forward_hooks or _global_forward_pre_hooks):\n\u001b[0;32m-> 1527\u001b[0;31m             \u001b[0;32mreturn\u001b[0m \u001b[0mforward_call\u001b[0m\u001b[0;34m(\u001b[0m\u001b[0;34m*\u001b[0m\u001b[0margs\u001b[0m\u001b[0;34m,\u001b[0m \u001b[0;34m**\u001b[0m\u001b[0mkwargs\u001b[0m\u001b[0;34m)\u001b[0m\u001b[0;34m\u001b[0m\u001b[0;34m\u001b[0m\u001b[0m\n\u001b[0m\u001b[1;32m   1528\u001b[0m \u001b[0;34m\u001b[0m\u001b[0m\n\u001b[1;32m   1529\u001b[0m         \u001b[0;32mtry\u001b[0m\u001b[0;34m:\u001b[0m\u001b[0;34m\u001b[0m\u001b[0;34m\u001b[0m\u001b[0m\n",
            "\u001b[0;32m<ipython-input-16-8dae0271379c>\u001b[0m in \u001b[0;36mforward\u001b[0;34m(self, graph)\u001b[0m\n\u001b[1;32m     97\u001b[0m             edge_embeddings)  # some of the models does not use edge features, but we won't use if-clauses for convenience.\n\u001b[1;32m     98\u001b[0m         \u001b[0;32mfor\u001b[0m \u001b[0mlayer\u001b[0m \u001b[0;32min\u001b[0m \u001b[0mself\u001b[0m\u001b[0;34m.\u001b[0m\u001b[0mmpnn_layers\u001b[0m\u001b[0;34m:\u001b[0m\u001b[0;34m\u001b[0m\u001b[0;34m\u001b[0m\u001b[0m\n\u001b[0;32m---> 99\u001b[0;31m             \u001b[0mnode_embeddings\u001b[0m \u001b[0;34m=\u001b[0m \u001b[0mlayer\u001b[0m\u001b[0;34m(\u001b[0m\u001b[0mnode_embeddings\u001b[0m\u001b[0;34m=\u001b[0m\u001b[0mnode_embeddings\u001b[0m\u001b[0;34m,\u001b[0m \u001b[0medge_embeddings\u001b[0m\u001b[0;34m=\u001b[0m\u001b[0medge_embeddings\u001b[0m\u001b[0;34m,\u001b[0m \u001b[0mgraph\u001b[0m\u001b[0;34m=\u001b[0m\u001b[0mgraph\u001b[0m\u001b[0;34m)\u001b[0m\u001b[0;34m\u001b[0m\u001b[0;34m\u001b[0m\u001b[0m\n\u001b[0m\u001b[1;32m    100\u001b[0m         \u001b[0mgraph_embedding\u001b[0m \u001b[0;34m=\u001b[0m \u001b[0mself\u001b[0m\u001b[0;34m.\u001b[0m\u001b[0mreadout\u001b[0m\u001b[0;34m(\u001b[0m\u001b[0mnode_embeddings\u001b[0m\u001b[0;34m,\u001b[0m \u001b[0mgraph\u001b[0m\u001b[0;34m)\u001b[0m\u001b[0;34m\u001b[0m\u001b[0;34m\u001b[0m\u001b[0m\n\u001b[1;32m    101\u001b[0m         \u001b[0mpredictions\u001b[0m \u001b[0;34m=\u001b[0m \u001b[0mself\u001b[0m\u001b[0;34m.\u001b[0m\u001b[0mmlp\u001b[0m\u001b[0;34m(\u001b[0m\u001b[0mgraph_embedding\u001b[0m\u001b[0;34m)\u001b[0m\u001b[0;34m\u001b[0m\u001b[0;34m\u001b[0m\u001b[0m\n",
            "\u001b[0;32m/usr/local/lib/python3.10/dist-packages/torch/nn/modules/module.py\u001b[0m in \u001b[0;36m_wrapped_call_impl\u001b[0;34m(self, *args, **kwargs)\u001b[0m\n\u001b[1;32m   1516\u001b[0m             \u001b[0;32mreturn\u001b[0m \u001b[0mself\u001b[0m\u001b[0;34m.\u001b[0m\u001b[0m_compiled_call_impl\u001b[0m\u001b[0;34m(\u001b[0m\u001b[0;34m*\u001b[0m\u001b[0margs\u001b[0m\u001b[0;34m,\u001b[0m \u001b[0;34m**\u001b[0m\u001b[0mkwargs\u001b[0m\u001b[0;34m)\u001b[0m  \u001b[0;31m# type: ignore[misc]\u001b[0m\u001b[0;34m\u001b[0m\u001b[0;34m\u001b[0m\u001b[0m\n\u001b[1;32m   1517\u001b[0m         \u001b[0;32melse\u001b[0m\u001b[0;34m:\u001b[0m\u001b[0;34m\u001b[0m\u001b[0;34m\u001b[0m\u001b[0m\n\u001b[0;32m-> 1518\u001b[0;31m             \u001b[0;32mreturn\u001b[0m \u001b[0mself\u001b[0m\u001b[0;34m.\u001b[0m\u001b[0m_call_impl\u001b[0m\u001b[0;34m(\u001b[0m\u001b[0;34m*\u001b[0m\u001b[0margs\u001b[0m\u001b[0;34m,\u001b[0m \u001b[0;34m**\u001b[0m\u001b[0mkwargs\u001b[0m\u001b[0;34m)\u001b[0m\u001b[0;34m\u001b[0m\u001b[0;34m\u001b[0m\u001b[0m\n\u001b[0m\u001b[1;32m   1519\u001b[0m \u001b[0;34m\u001b[0m\u001b[0m\n\u001b[1;32m   1520\u001b[0m     \u001b[0;32mdef\u001b[0m \u001b[0m_call_impl\u001b[0m\u001b[0;34m(\u001b[0m\u001b[0mself\u001b[0m\u001b[0;34m,\u001b[0m \u001b[0;34m*\u001b[0m\u001b[0margs\u001b[0m\u001b[0;34m,\u001b[0m \u001b[0;34m**\u001b[0m\u001b[0mkwargs\u001b[0m\u001b[0;34m)\u001b[0m\u001b[0;34m:\u001b[0m\u001b[0;34m\u001b[0m\u001b[0;34m\u001b[0m\u001b[0m\n",
            "\u001b[0;32m/usr/local/lib/python3.10/dist-packages/torch/nn/modules/module.py\u001b[0m in \u001b[0;36m_call_impl\u001b[0;34m(self, *args, **kwargs)\u001b[0m\n\u001b[1;32m   1525\u001b[0m                 \u001b[0;32mor\u001b[0m \u001b[0m_global_backward_pre_hooks\u001b[0m \u001b[0;32mor\u001b[0m \u001b[0m_global_backward_hooks\u001b[0m\u001b[0;34m\u001b[0m\u001b[0;34m\u001b[0m\u001b[0m\n\u001b[1;32m   1526\u001b[0m                 or _global_forward_hooks or _global_forward_pre_hooks):\n\u001b[0;32m-> 1527\u001b[0;31m             \u001b[0;32mreturn\u001b[0m \u001b[0mforward_call\u001b[0m\u001b[0;34m(\u001b[0m\u001b[0;34m*\u001b[0m\u001b[0margs\u001b[0m\u001b[0;34m,\u001b[0m \u001b[0;34m**\u001b[0m\u001b[0mkwargs\u001b[0m\u001b[0;34m)\u001b[0m\u001b[0;34m\u001b[0m\u001b[0;34m\u001b[0m\u001b[0m\n\u001b[0m\u001b[1;32m   1528\u001b[0m \u001b[0;34m\u001b[0m\u001b[0m\n\u001b[1;32m   1529\u001b[0m         \u001b[0;32mtry\u001b[0m\u001b[0;34m:\u001b[0m\u001b[0;34m\u001b[0m\u001b[0;34m\u001b[0m\u001b[0m\n",
            "\u001b[0;32m<ipython-input-30-8a843df9ebb5>\u001b[0m in \u001b[0;36mforward\u001b[0;34m(self, node_embeddings, edge_embeddings, graph)\u001b[0m\n\u001b[1;32m     13\u001b[0m         \u001b[0mstart_nodes\u001b[0m\u001b[0;34m,\u001b[0m \u001b[0mend_nodes\u001b[0m \u001b[0;34m=\u001b[0m \u001b[0mgraph\u001b[0m\u001b[0;34m.\u001b[0m\u001b[0medges\u001b[0m\u001b[0;34m(\u001b[0m\u001b[0morder\u001b[0m\u001b[0;34m=\u001b[0m\u001b[0;34m'srcdst'\u001b[0m\u001b[0;34m)\u001b[0m\u001b[0;34m\u001b[0m\u001b[0;34m\u001b[0m\u001b[0m\n\u001b[1;32m     14\u001b[0m         \u001b[0mmessages\u001b[0m \u001b[0;34m=\u001b[0m \u001b[0mnode_embeddings\u001b[0m\u001b[0;34m[\u001b[0m\u001b[0mend_nodes\u001b[0m\u001b[0;34m]\u001b[0m\u001b[0;34m\u001b[0m\u001b[0;34m\u001b[0m\u001b[0m\n\u001b[0;32m---> 15\u001b[0;31m         \u001b[0mmessage_dense\u001b[0m\u001b[0;34m,\u001b[0m \u001b[0m_\u001b[0m \u001b[0;34m=\u001b[0m \u001b[0mto_dense_batch\u001b[0m\u001b[0;34m(\u001b[0m\u001b[0mmessages\u001b[0m\u001b[0;34m,\u001b[0m \u001b[0mstart_nodes\u001b[0m\u001b[0;34m.\u001b[0m\u001b[0mlong\u001b[0m\u001b[0;34m(\u001b[0m\u001b[0;34m)\u001b[0m\u001b[0;34m,\u001b[0m \u001b[0mfill_value\u001b[0m\u001b[0;34m=\u001b[0m\u001b[0;36m0.0\u001b[0m\u001b[0;34m)\u001b[0m\u001b[0;34m\u001b[0m\u001b[0;34m\u001b[0m\u001b[0m\n\u001b[0m\u001b[1;32m     16\u001b[0m         \u001b[0maggregated_message\u001b[0m \u001b[0;34m=\u001b[0m \u001b[0mmessage_dense\u001b[0m\u001b[0;34m.\u001b[0m\u001b[0msum\u001b[0m\u001b[0;34m(\u001b[0m\u001b[0mdim\u001b[0m\u001b[0;34m=\u001b[0m\u001b[0;36m1\u001b[0m\u001b[0;34m)\u001b[0m\u001b[0;34m\u001b[0m\u001b[0;34m\u001b[0m\u001b[0m\n\u001b[1;32m     17\u001b[0m         \u001b[0maggregated_message\u001b[0m \u001b[0;34m=\u001b[0m \u001b[0mself\u001b[0m\u001b[0;34m.\u001b[0m\u001b[0mlinear_2\u001b[0m\u001b[0;34m(\u001b[0m\u001b[0maggregated_message\u001b[0m\u001b[0;34m/\u001b[0m\u001b[0mtorch\u001b[0m\u001b[0;34m.\u001b[0m\u001b[0mbincount\u001b[0m\u001b[0;34m(\u001b[0m\u001b[0mstart_nodes\u001b[0m\u001b[0;34m)\u001b[0m\u001b[0;34m.\u001b[0m\u001b[0munsqueeze\u001b[0m\u001b[0;34m(\u001b[0m\u001b[0;36m1\u001b[0m\u001b[0;34m)\u001b[0m\u001b[0;34m)\u001b[0m\u001b[0;34m\u001b[0m\u001b[0;34m\u001b[0m\u001b[0m\n",
            "\u001b[0;31mKeyboardInterrupt\u001b[0m: "
          ]
        }
      ]
    },
    {
      "cell_type": "markdown",
      "id": "c0acbbdb6f55d814",
      "metadata": {
        "id": "c0acbbdb6f55d814"
      },
      "source": [
        "## Task 7. Train GIN (2 points).\n",
        "1. Tune hyperparameters of a GNN with `GINLayer` as MPNN layer to obtain at most 2.0 MAE on the validation set. You can modify the GNN/MPNN architecture, so it uses some regularization tricks like dropout or batch norm. Don't change the validation batch size. If your validation MAE is in (2.0, 2.5], you can obtain 1 point.\n",
        "2. Report the obtained MAE on the validation and test set (only the former need to be lower than 2.0 MAE).\n",
        "3. Provide the link to the final run: [https://wandb.ai/teddy8/mldd23/runs/y8qt3jka?workspace=user-teddy8]"
      ]
    },
    {
      "cell_type": "code",
      "execution_count": 37,
      "id": "36e98587",
      "metadata": {
        "colab": {
          "base_uri": "https://localhost:8080/",
          "height": 614,
          "referenced_widgets": [
            "770ed09dc89146ee9f37a4d30024968d",
            "e196bd31b424473bbafac597728e46ac",
            "0d61d4f3f66e4cdf8b085cec4eb406f2",
            "010d26279df14ba4ac72ba1fe06c4e44",
            "77f161358ffd4e8b883cfbf504a75636",
            "aaa303399c0a41f0ac5fe98836646133",
            "e4af6872ccb74012a6194f34fb533c68",
            "3feaa4d029f2435ca48221d10b33d82d",
            "40fe6b62bc2848b09a02bf04af41eda4",
            "73586de880334b399e5294a22810fceb",
            "5d39aa61cdfa4dfcb3c3b4daef5fb604",
            "b5c235f3dfc84048b3e60666e736931c",
            "5d76e98d82444119bf12e17868e92692",
            "e2d3fbdb10664b59adb5b43910d56839",
            "b415c41abc804a09a8d87698c6a6eb6c",
            "ca2e6ad056754cac9b36600d096bbbb9",
            "5ee37cb2cd2347e6aef380ce840778ca",
            "35913441beaa4c8bbad4cffb41fe90ae",
            "af96bb1576a244ca8c0b715509ac25d8"
          ]
        },
        "id": "36e98587",
        "outputId": "9607c951-c3a3-4231-e02d-a984743129c1"
      },
      "outputs": [
        {
          "output_type": "stream",
          "name": "stderr",
          "text": [
            "\u001b[34m\u001b[1mwandb\u001b[0m: Currently logged in as: \u001b[33mteddy8\u001b[0m. Use \u001b[1m`wandb login --relogin`\u001b[0m to force relogin\n"
          ]
        },
        {
          "output_type": "display_data",
          "data": {
            "text/plain": [
              "<IPython.core.display.HTML object>"
            ],
            "text/html": [
              "Tracking run with wandb version 0.16.2"
            ]
          },
          "metadata": {}
        },
        {
          "output_type": "display_data",
          "data": {
            "text/plain": [
              "<IPython.core.display.HTML object>"
            ],
            "text/html": [
              "Run data is saved locally in <code>runs/mpnn/wandb/run-20240116_192150-y8qt3jka</code>"
            ]
          },
          "metadata": {}
        },
        {
          "output_type": "display_data",
          "data": {
            "text/plain": [
              "<IPython.core.display.HTML object>"
            ],
            "text/html": [
              "Syncing run <strong><a href='https://wandb.ai/teddy8/mldd23/runs/y8qt3jka' target=\"_blank\">gin_2024-01-16_19-21-50</a></strong> to <a href='https://wandb.ai/teddy8/mldd23' target=\"_blank\">Weights & Biases</a> (<a href='https://wandb.me/run' target=\"_blank\">docs</a>)<br/>"
            ]
          },
          "metadata": {}
        },
        {
          "output_type": "display_data",
          "data": {
            "text/plain": [
              "<IPython.core.display.HTML object>"
            ],
            "text/html": [
              " View project at <a href='https://wandb.ai/teddy8/mldd23' target=\"_blank\">https://wandb.ai/teddy8/mldd23</a>"
            ]
          },
          "metadata": {}
        },
        {
          "output_type": "display_data",
          "data": {
            "text/plain": [
              "<IPython.core.display.HTML object>"
            ],
            "text/html": [
              " View run at <a href='https://wandb.ai/teddy8/mldd23/runs/y8qt3jka' target=\"_blank\">https://wandb.ai/teddy8/mldd23/runs/y8qt3jka</a>"
            ]
          },
          "metadata": {}
        },
        {
          "output_type": "display_data",
          "data": {
            "text/plain": [
              "  0%|          | 0/50 [00:00<?, ?it/s]"
            ],
            "application/vnd.jupyter.widget-view+json": {
              "version_major": 2,
              "version_minor": 0,
              "model_id": "770ed09dc89146ee9f37a4d30024968d"
            }
          },
          "metadata": {}
        },
        {
          "output_type": "stream",
          "name": "stderr",
          "text": [
            "/usr/local/lib/python3.10/dist-packages/torchmetrics/utilities/prints.py:43: UserWarning: The variance of predictions or target is close to zero. This can cause instability in Pearson correlationcoefficient, leading to wrong results. Consider re-scaling the input if possible or computing using alarger dtype (currently using torch.float32).\n",
            "  warnings.warn(*args, **kwargs)  # noqa: B028\n"
          ]
        },
        {
          "output_type": "display_data",
          "data": {
            "text/plain": [
              "VBox(children=(Label(value='0.011 MB of 0.011 MB uploaded\\r'), FloatProgress(value=1.0, max=1.0)))"
            ],
            "application/vnd.jupyter.widget-view+json": {
              "version_major": 2,
              "version_minor": 0,
              "model_id": "b5c235f3dfc84048b3e60666e736931c"
            }
          },
          "metadata": {}
        },
        {
          "output_type": "display_data",
          "data": {
            "text/plain": [
              "<IPython.core.display.HTML object>"
            ],
            "text/html": [
              "<style>\n",
              "    table.wandb td:nth-child(1) { padding: 0 10px; text-align: left ; width: auto;} td:nth-child(2) {text-align: left ; width: 100%}\n",
              "    .wandb-row { display: flex; flex-direction: row; flex-wrap: wrap; justify-content: flex-start; width: 100% }\n",
              "    .wandb-col { display: flex; flex-direction: column; flex-basis: 100%; flex: 1; padding: 10px; }\n",
              "    </style>\n",
              "<div class=\"wandb-row\"><div class=\"wandb-col\"><h3>Run history:</h3><br/><table class=\"wandb\"><tr><td>test/loss</td><td>▁</td></tr><tr><td>test/mae</td><td>▁</td></tr><tr><td>test/mse</td><td>▁</td></tr><tr><td>test/pcc</td><td>▁</td></tr><tr><td>train/loss</td><td>█▄▃▂▃▃▁▂▂▂▂▄▂▂▁▂▁▁▂▂▂▁▂▅▆▇▂▂▂▁▁▁▂▁▂▁▂▂▂▂</td></tr><tr><td>train/mae</td><td>▇▄▄▃▄▃▂▃▃▃▂▄▂▂▂▃▂▁▂▂▂▁▂▆▄█▃▂▃▂▂▂▃▂▃▂▂▃▂▂</td></tr><tr><td>train/mse</td><td>█▄▃▂▃▃▁▂▂▂▂▄▂▂▁▂▁▁▂▂▂▁▂▅▆▇▂▂▂▁▁▁▂▁▂▁▂▂▂▂</td></tr><tr><td>train/pcc</td><td>▁▂▄▅▅▃ ▅▇▆█▇▆▇▇▆▇█▇▇▇█▇▄▄ ▆▇▆█▇▇▇▇▇▇▇▇▇▇</td></tr><tr><td>valid/loss</td><td>██▆▅▄▃▅▃▁▃▂▂▂▁▁▂▁▁▂▁▁▂▁█▂▂▂▂▁▂▂▁▁▂▂▁▁▁▁▂</td></tr><tr><td>valid/mae</td><td>█▇▆▆▅▄▅▄▂▃▃▃▃▂▂▂▁▁▃▁▁▂▁█▂▂▂▁▁▂▂▂▂▂▃▁▁▁▂▂</td></tr><tr><td>valid/mse</td><td>██▆▅▄▃▅▃▁▃▂▂▂▁▁▂▁▁▂▁▁▂▁█▂▂▂▂▁▂▂▁▁▂▂▁▁▁▁▂</td></tr><tr><td>valid/pcc</td><td>▁▃▆▇▆▇█████████████████▇██████████▇█████</td></tr></table><br/></div><div class=\"wandb-col\"><h3>Run summary:</h3><br/><table class=\"wandb\"><tr><td>test/loss</td><td>3.85377</td></tr><tr><td>test/mae</td><td>1.49949</td></tr><tr><td>test/mse</td><td>4.71705</td></tr><tr><td>test/pcc</td><td>0.80251</td></tr><tr><td>train/loss</td><td>2.82888</td></tr><tr><td>train/mae</td><td>1.68193</td></tr><tr><td>train/mse</td><td>2.82888</td></tr><tr><td>train/pcc</td><td>nan</td></tr><tr><td>valid/loss</td><td>6.80361</td></tr><tr><td>valid/mae</td><td>1.81974</td></tr><tr><td>valid/mse</td><td>6.80361</td></tr><tr><td>valid/pcc</td><td>0.93526</td></tr></table><br/></div></div>"
            ]
          },
          "metadata": {}
        },
        {
          "output_type": "display_data",
          "data": {
            "text/plain": [
              "<IPython.core.display.HTML object>"
            ],
            "text/html": [
              " View run <strong style=\"color:#cdcd00\">gin_2024-01-16_19-21-50</strong> at: <a href='https://wandb.ai/teddy8/mldd23/runs/y8qt3jka' target=\"_blank\">https://wandb.ai/teddy8/mldd23/runs/y8qt3jka</a><br/>Synced 5 W&B file(s), 0 media file(s), 0 artifact file(s) and 0 other file(s)"
            ]
          },
          "metadata": {}
        },
        {
          "output_type": "display_data",
          "data": {
            "text/plain": [
              "<IPython.core.display.HTML object>"
            ],
            "text/html": [
              "Find logs at: <code>runs/mpnn/wandb/run-20240116_192150-y8qt3jka/logs</code>"
            ]
          },
          "metadata": {}
        },
        {
          "output_type": "stream",
          "name": "stdout",
          "text": [
            "Validation metrics: {'loss': 6.803611397743225, 'mae': 1.8197389841079712, 'mse': 6.8036112785339355, 'pcc': 0.9352648258209229}\n",
            "Test metrics: {'loss': 3.85377426892519, 'mae': 1.4994900226593018, 'mse': 4.717049598693848, 'pcc': 0.8025098443031311}\n"
          ]
        }
      ],
      "source": [
        "from torchmetrics import MeanAbsoluteError as MAE\n",
        "from torchmetrics import MeanSquaredError as MSE\n",
        "from torchmetrics import PearsonCorrCoef as PCC\n",
        "\n",
        "metrics = {\n",
        "    \"mae\": MAE(),\n",
        "    \"mse\": MSE(),\n",
        "    \"pcc\": PCC(),\n",
        "}\n",
        "\n",
        "model = GNN(\n",
        "    node_features_size=node_featurizer.feat_size(),\n",
        "    edge_features_size=edge_featurizer.feat_size(),\n",
        "    hidden_size=16,\n",
        "    output_size=1,\n",
        "    mpnn_layer_cls=GINLayer,\n",
        "    mpnn_n_layers=2,\n",
        "    readout_cls=MeanReadout,\n",
        "    mpnn_layer_kwargs={}\n",
        ")\n",
        "\n",
        "trainer = Trainer(\n",
        "    run_dir=\"experiments\",\n",
        "    train_dataset=train,\n",
        "    valid_dataset=valid,\n",
        "    train_metrics=metrics,\n",
        "    valid_metrics=metrics,\n",
        "    train_batch_size=32,\n",
        "    model=model,\n",
        "    logger=WandbLogger(\n",
        "        logdir=\"runs/mpnn\",\n",
        "        project_name=\"mldd23\",\n",
        "        experiment_name=f\"gin_{get_time_stamp()}\",\n",
        "    ),\n",
        "    optimizer_kwargs={\"lr\": 1e-2},\n",
        "    n_epochs=50,\n",
        "    device=\"cpu\",\n",
        "    valid_every_n_epochs=1,\n",
        ")\n",
        "\n",
        "valid_metrics = trainer.train()\n",
        "test_metrics = trainer.test(test)\n",
        "trainer.close()\n",
        "print(f\"Validation metrics: {valid_metrics}\")\n",
        "print(f\"Test metrics: {test_metrics}\")"
      ]
    },
    {
      "cell_type": "markdown",
      "id": "100ee2cd44877b2c",
      "metadata": {
        "id": "100ee2cd44877b2c"
      },
      "source": [
        "## Task 8. Train GINE (2 points).\n",
        "1. Tune hyperparameters of a GNN with `GINELayer` as MPNN layer to obtain at most 2.0 MAE on the validation set. You can modify the GNN/MPNN architecture, so it uses some regularization tricks like dropout or batch norm. Don't change the validation batch size. If your validation MAE is in (2.0, 2.5], you can obtain 1 point.\n",
        "2. Report the obtained MAE on the validation and test set (only the former need to be lower than 2.0 MAE).\n",
        "3. Provide the link to the final run: [https://wandb.ai/teddy8/mldd23/runs/yvo5kk6a?workspace=user-teddy8]"
      ]
    },
    {
      "cell_type": "code",
      "source": [
        "from torchmetrics import MeanAbsoluteError as MAE\n",
        "from torchmetrics import MeanSquaredError as MSE\n",
        "from torchmetrics import PearsonCorrCoef as PCC\n",
        "\n",
        "metrics = {\n",
        "    \"mae\": MAE(),\n",
        "    \"mse\": MSE(),\n",
        "    \"pcc\": PCC(),\n",
        "}\n",
        "\n",
        "model = GNN(\n",
        "    node_features_size=node_featurizer.feat_size(),\n",
        "    edge_features_size=edge_featurizer.feat_size(),\n",
        "    hidden_size=64,\n",
        "    output_size=1,\n",
        "    mpnn_layer_cls=GINELayer,\n",
        "    mpnn_n_layers=2,\n",
        "    readout_cls=MeanReadout,\n",
        "    mpnn_layer_kwargs={}\n",
        ")\n",
        "\n",
        "trainer = Trainer(\n",
        "    run_dir=\"experiments\",\n",
        "    train_dataset=train,\n",
        "    valid_dataset=valid,\n",
        "    train_metrics=metrics,\n",
        "    valid_metrics=metrics,\n",
        "    train_batch_size=32,\n",
        "    model=model,\n",
        "    logger=WandbLogger(\n",
        "        logdir=\"runs/mpnn\",\n",
        "        project_name=\"mldd23\",\n",
        "        experiment_name=f\"gine_{get_time_stamp()}\",\n",
        "    ),\n",
        "    optimizer_kwargs={\"lr\": 1e-2},\n",
        "    n_epochs=50,\n",
        "    device=\"cpu\",\n",
        "    valid_every_n_epochs=1,\n",
        ")\n",
        "\n",
        "valid_metrics = trainer.train()\n",
        "test_metrics = trainer.test(test)\n",
        "trainer.close()\n",
        "print(f\"Validation metrics: {valid_metrics}\")\n",
        "print(f\"Test metrics: {test_metrics}\")"
      ],
      "metadata": {
        "colab": {
          "base_uri": "https://localhost:8080/",
          "height": 862,
          "referenced_widgets": [
            "d87e7cfa1900445a85af01f4697fd8bf",
            "84b374ef34a14fd4ab9f04039fa05fe0",
            "2e0b6e73b6b04faeb81fff22b0c437f9",
            "59bef9712c304e878614d60394e9c8c7",
            "a6e9a19e4d6e4eb6ac8bef0ea04c7a2f",
            "8002b83558264cef89320f7dc6b32eec",
            "e9e3b5a8e49148c88949de6390fb85a3",
            "e9594eb21f594956a1abe21ba675d049",
            "41c3967985684d1682ed8fb23e5d1a0a",
            "c9da5de33ac44102b0b3ec9974d58364",
            "33b991041ac74199b4fb3ebc39270e57",
            "5227bc6fd7f04c6486f943d17bfe6e47",
            "fc6927333d244f26a7379341b0b2a452",
            "6ecd7195eb934384aa983e8c495ca162",
            "59c8d66a528d468cad009083fc82926a",
            "05562717dfbd4b969ccd54eb59790d6e",
            "d290d5ee49c54a90bd3164ec465c186f",
            "f4e1f19559f94c7a9fba32a89ea22db4",
            "c1a2d2901afc4e1094f90cc7d4e39175",
            "4a69ede6967b4ab791633887db84a120",
            "bdd852d4b06e46368809a20bd061756d",
            "9c1916bb8d1a42928929df84fc9d0df4",
            "e4feabb173e54cfa88e38b08ca56a6ba",
            "1f2f14fa1bbb4fbebbb351f3db3ce90e",
            "6e2df88085df4767aea97775b1262d50",
            "24210658a1654a9bb27b5d6db8bac5f3",
            "7c051ad4c54d454b965e2b99c616e8f8"
          ]
        },
        "id": "M-zWSUAcCbNo",
        "outputId": "a2b6ce2f-6d4a-4074-cbb0-6c25b8c4809b"
      },
      "id": "M-zWSUAcCbNo",
      "execution_count": 50,
      "outputs": [
        {
          "output_type": "display_data",
          "data": {
            "text/plain": [
              "<IPython.core.display.HTML object>"
            ],
            "text/html": [
              "Finishing last run (ID:9hqm73fj) before initializing another..."
            ]
          },
          "metadata": {}
        },
        {
          "output_type": "display_data",
          "data": {
            "text/plain": [
              "VBox(children=(Label(value='0.001 MB of 0.010 MB uploaded\\r'), FloatProgress(value=0.09821756707092981, max=1.…"
            ],
            "application/vnd.jupyter.widget-view+json": {
              "version_major": 2,
              "version_minor": 0,
              "model_id": "d87e7cfa1900445a85af01f4697fd8bf"
            }
          },
          "metadata": {}
        },
        {
          "output_type": "display_data",
          "data": {
            "text/plain": [
              "<IPython.core.display.HTML object>"
            ],
            "text/html": [
              "<style>\n",
              "    table.wandb td:nth-child(1) { padding: 0 10px; text-align: left ; width: auto;} td:nth-child(2) {text-align: left ; width: 100%}\n",
              "    .wandb-row { display: flex; flex-direction: row; flex-wrap: wrap; justify-content: flex-start; width: 100% }\n",
              "    .wandb-col { display: flex; flex-direction: column; flex-basis: 100%; flex: 1; padding: 10px; }\n",
              "    </style>\n",
              "<div class=\"wandb-row\"><div class=\"wandb-col\"><h3>Run history:</h3><br/><table class=\"wandb\"><tr><td>train/loss</td><td>▅▇▆▅▇▅▅▆▂▂▅▃▄▃▂▅▃▃▃▂▂▄▃▄▄▆▄▂▂▃▂█▂▃▃▁▂▂▂▁</td></tr><tr><td>train/mae</td><td>▄▇▆▄▆▃▅▆▃▂▄▂▄▃▁▅▃▂▄▂▁▃▂▃▄█▄▂▂▃▁▄▂▃▃▁▂▂▂▁</td></tr><tr><td>train/mse</td><td>▅▇▆▅▇▅▅▆▂▂▅▃▄▃▂▅▃▃▃▂▂▄▃▄▄▆▄▂▂▃▂█▂▃▃▁▂▂▂▁</td></tr><tr><td>train/pcc</td><td>▃▁▂▂▁▃▄▅ ▅▄▅▆█▇█▅▆▇▆▇▆▆▇▆ ▇█▇▆▆▆█▇▆▇▇▆█▇</td></tr><tr><td>valid/loss</td><td>██▇▇▆▅▃▂▂▃▄▄▄▃▃▃▂▁▁▁▂▃▃▃▃▂▂▂▂▂▁▁▁▁▁▂▂▂▁▁</td></tr><tr><td>valid/mae</td><td>███▇▆▄▃▃▂▂▃▃▃▃▂▂▂▂▂▂▂▂▃▃▂▂▂▂▂▂▂▁▁▁▁▁▁▁▁▁</td></tr><tr><td>valid/mse</td><td>██▇▇▆▅▃▂▂▃▄▄▄▃▃▃▂▁▁▁▂▃▃▃▃▂▂▂▂▂▁▁▁▁▁▂▂▂▁▁</td></tr><tr><td>valid/pcc</td><td>▂▂▁▁▁▁▃▅▆▆▇▇▇▇▇▇▇▇▇▇▇▇▇▇▇▇▇▇▇▇██████████</td></tr></table><br/></div><div class=\"wandb-col\"><h3>Run summary:</h3><br/><table class=\"wandb\"><tr><td>train/loss</td><td>4.64092</td></tr><tr><td>train/mae</td><td>1.87814</td></tr><tr><td>train/mse</td><td>4.64092</td></tr><tr><td>train/pcc</td><td>0.62801</td></tr><tr><td>valid/loss</td><td>30.5373</td></tr><tr><td>valid/mae</td><td>3.80676</td></tr><tr><td>valid/mse</td><td>30.5373</td></tr><tr><td>valid/pcc</td><td>0.61013</td></tr></table><br/></div></div>"
            ]
          },
          "metadata": {}
        },
        {
          "output_type": "display_data",
          "data": {
            "text/plain": [
              "<IPython.core.display.HTML object>"
            ],
            "text/html": [
              " View run <strong style=\"color:#cdcd00\">sage_2024-01-16_20-01-29, 6</strong> at: <a href='https://wandb.ai/teddy8/mldd23/runs/9hqm73fj' target=\"_blank\">https://wandb.ai/teddy8/mldd23/runs/9hqm73fj</a><br/>Synced 4 W&B file(s), 0 media file(s), 0 artifact file(s) and 0 other file(s)"
            ]
          },
          "metadata": {}
        },
        {
          "output_type": "display_data",
          "data": {
            "text/plain": [
              "<IPython.core.display.HTML object>"
            ],
            "text/html": [
              "Find logs at: <code>runs/mpnn/wandb/run-20240116_200129-9hqm73fj/logs</code>"
            ]
          },
          "metadata": {}
        },
        {
          "output_type": "display_data",
          "data": {
            "text/plain": [
              "<IPython.core.display.HTML object>"
            ],
            "text/html": [
              "Successfully finished last run (ID:9hqm73fj). Initializing new run:<br/>"
            ]
          },
          "metadata": {}
        },
        {
          "output_type": "display_data",
          "data": {
            "text/plain": [
              "<IPython.core.display.HTML object>"
            ],
            "text/html": [
              "Tracking run with wandb version 0.16.2"
            ]
          },
          "metadata": {}
        },
        {
          "output_type": "display_data",
          "data": {
            "text/plain": [
              "<IPython.core.display.HTML object>"
            ],
            "text/html": [
              "Run data is saved locally in <code>runs/mpnn/wandb/run-20240116_203735-yvo5kk6a</code>"
            ]
          },
          "metadata": {}
        },
        {
          "output_type": "display_data",
          "data": {
            "text/plain": [
              "<IPython.core.display.HTML object>"
            ],
            "text/html": [
              "Syncing run <strong><a href='https://wandb.ai/teddy8/mldd23/runs/yvo5kk6a' target=\"_blank\">gine_2024-01-16_20-37-35</a></strong> to <a href='https://wandb.ai/teddy8/mldd23' target=\"_blank\">Weights & Biases</a> (<a href='https://wandb.me/run' target=\"_blank\">docs</a>)<br/>"
            ]
          },
          "metadata": {}
        },
        {
          "output_type": "display_data",
          "data": {
            "text/plain": [
              "<IPython.core.display.HTML object>"
            ],
            "text/html": [
              " View project at <a href='https://wandb.ai/teddy8/mldd23' target=\"_blank\">https://wandb.ai/teddy8/mldd23</a>"
            ]
          },
          "metadata": {}
        },
        {
          "output_type": "display_data",
          "data": {
            "text/plain": [
              "<IPython.core.display.HTML object>"
            ],
            "text/html": [
              " View run at <a href='https://wandb.ai/teddy8/mldd23/runs/yvo5kk6a' target=\"_blank\">https://wandb.ai/teddy8/mldd23/runs/yvo5kk6a</a>"
            ]
          },
          "metadata": {}
        },
        {
          "output_type": "display_data",
          "data": {
            "text/plain": [
              "  0%|          | 0/50 [00:00<?, ?it/s]"
            ],
            "application/vnd.jupyter.widget-view+json": {
              "version_major": 2,
              "version_minor": 0,
              "model_id": "41c3967985684d1682ed8fb23e5d1a0a"
            }
          },
          "metadata": {}
        },
        {
          "output_type": "display_data",
          "data": {
            "text/plain": [
              "VBox(children=(Label(value='0.010 MB of 0.010 MB uploaded\\r'), FloatProgress(value=1.0, max=1.0)))"
            ],
            "application/vnd.jupyter.widget-view+json": {
              "version_major": 2,
              "version_minor": 0,
              "model_id": "4a69ede6967b4ab791633887db84a120"
            }
          },
          "metadata": {}
        },
        {
          "output_type": "display_data",
          "data": {
            "text/plain": [
              "<IPython.core.display.HTML object>"
            ],
            "text/html": [
              "<style>\n",
              "    table.wandb td:nth-child(1) { padding: 0 10px; text-align: left ; width: auto;} td:nth-child(2) {text-align: left ; width: 100%}\n",
              "    .wandb-row { display: flex; flex-direction: row; flex-wrap: wrap; justify-content: flex-start; width: 100% }\n",
              "    .wandb-col { display: flex; flex-direction: column; flex-basis: 100%; flex: 1; padding: 10px; }\n",
              "    </style>\n",
              "<div class=\"wandb-row\"><div class=\"wandb-col\"><h3>Run history:</h3><br/><table class=\"wandb\"><tr><td>test/loss</td><td>▁</td></tr><tr><td>test/mae</td><td>▁</td></tr><tr><td>test/mse</td><td>▁</td></tr><tr><td>test/pcc</td><td>▁</td></tr><tr><td>train/loss</td><td>█▆▆▄▃▂▁▂▂▂▂▂▁▂▂▃▂▂▂▁▂▂▃▂▂▁▂▁▁▂▁▁▁▁▂▁▁▁▁▂</td></tr><tr><td>train/mae</td><td>█▇▆▆▅▄▁▃▂▃▃▃▂▃▂▄▃▃▃▂▃▂▃▃▂▁▃▂▂▃▁▂▂▂▂▂▁▂▂▂</td></tr><tr><td>train/mse</td><td>█▆▆▄▃▂▁▂▂▂▂▂▁▂▂▃▂▂▂▁▂▂▃▂▂▁▂▁▁▂▁▁▁▁▂▁▁▁▁▂</td></tr><tr><td>train/pcc</td><td>▁▂▃▄▅▅ ▇▇▇▇▇▇▇▇▆█▇▇██▇▇█▇ ▇█████▇█▇█████</td></tr><tr><td>valid/loss</td><td>█▅▄▄▄▃▂▂▁▁▁▁▂▂▁▃▂▃▂▁▂▁▁▁▂▁▁▁▂▂▁▁▁▂▂▁▁▁▁▁</td></tr><tr><td>valid/mae</td><td>█▅▄▄▄▃▃▃▂▂▂▂▂▂▂▄▂▃▂▁▂▁▂▁▂▁▁▂▂▂▁▁▁▂▂▁▁▁▁▁</td></tr><tr><td>valid/mse</td><td>█▅▄▄▄▃▂▂▁▁▁▁▂▂▁▃▂▃▂▁▂▁▁▁▂▁▁▁▂▂▁▁▁▂▂▁▁▁▁▁</td></tr><tr><td>valid/pcc</td><td>▁▄▇▆▇▇███████▇██████████████████████████</td></tr></table><br/></div><div class=\"wandb-col\"><h3>Run summary:</h3><br/><table class=\"wandb\"><tr><td>test/loss</td><td>4.45245</td></tr><tr><td>test/mae</td><td>1.80745</td></tr><tr><td>test/mse</td><td>5.31722</td></tr><tr><td>test/pcc</td><td>0.83874</td></tr><tr><td>train/loss</td><td>0.54543</td></tr><tr><td>train/mae</td><td>0.73853</td></tr><tr><td>train/mse</td><td>0.54543</td></tr><tr><td>train/pcc</td><td>nan</td></tr><tr><td>valid/loss</td><td>6.06097</td></tr><tr><td>valid/mae</td><td>1.74341</td></tr><tr><td>valid/mse</td><td>6.06097</td></tr><tr><td>valid/pcc</td><td>0.91668</td></tr></table><br/></div></div>"
            ]
          },
          "metadata": {}
        },
        {
          "output_type": "display_data",
          "data": {
            "text/plain": [
              "<IPython.core.display.HTML object>"
            ],
            "text/html": [
              " View run <strong style=\"color:#cdcd00\">gine_2024-01-16_20-37-35</strong> at: <a href='https://wandb.ai/teddy8/mldd23/runs/yvo5kk6a' target=\"_blank\">https://wandb.ai/teddy8/mldd23/runs/yvo5kk6a</a><br/>Synced 4 W&B file(s), 0 media file(s), 0 artifact file(s) and 0 other file(s)"
            ]
          },
          "metadata": {}
        },
        {
          "output_type": "display_data",
          "data": {
            "text/plain": [
              "<IPython.core.display.HTML object>"
            ],
            "text/html": [
              "Find logs at: <code>runs/mpnn/wandb/run-20240116_203735-yvo5kk6a/logs</code>"
            ]
          },
          "metadata": {}
        },
        {
          "output_type": "stream",
          "name": "stdout",
          "text": [
            "Validation metrics: {'loss': 6.06096625328064, 'mae': 1.7434061765670776, 'mse': 6.060966491699219, 'pcc': 0.916683554649353}\n",
            "Test metrics: {'loss': 4.452452445030213, 'mae': 1.8074450492858887, 'mse': 5.317215442657471, 'pcc': 0.8387400507926941}\n"
          ]
        }
      ]
    },
    {
      "cell_type": "markdown",
      "id": "802615e3afaddf44",
      "metadata": {
        "id": "802615e3afaddf44"
      },
      "source": [
        "# Code optimization\n",
        "Some pieces of code were written suboptimally. Your task is to slightly optimize them."
      ]
    },
    {
      "cell_type": "markdown",
      "id": "17c64785b23a2b1d",
      "metadata": {
        "id": "17c64785b23a2b1d"
      },
      "source": [
        "## Task 9. Optimize SumReadout (1 point).\n",
        "`SumReadout` was written using `to_dense_embeddings` function which does some unecessary memory allocations and computations. Your task is to rewrite the method using code from a bare torch library. Hint: `torch.index_add`."
      ]
    },
    {
      "cell_type": "markdown",
      "id": "d4be6a2ed6011b64",
      "metadata": {
        "id": "d4be6a2ed6011b64"
      },
      "source": [
        "## Task 10. Optimize MeanReadout (1 point).\n",
        "Your task is to rewrite the method using code from a bare torch library."
      ]
    },
    {
      "cell_type": "markdown",
      "id": "6b0f8cab6725a285",
      "metadata": {
        "id": "6b0f8cab6725a285"
      },
      "source": [
        "## Task 11. Optimize SimpleMPNNLayer (1 point).\n",
        "We can make our implementations of `SimpleMPNNLayer` layer (and basically any other MPNN layer) slightly faster by:\n",
        "- reducing the costs of the message embedding (in the case of `SimpleMPNNLayer`, it's application of `self.linear_3`) from $O(m)$ to $O(n)$, where $m$ is the number of edges in the graph and $n$ is the number of nodes.\n",
        "- removing quite expensive `to_dense_batch` call.\n",
        "\n",
        "Your task is to apply the above optimizations."
      ]
    }
  ],
  "metadata": {
    "kernelspec": {
      "display_name": "my-conda-env-kernel",
      "language": "python",
      "name": "my-conda-env-kernel"
    },
    "language_info": {
      "codemirror_mode": {
        "name": "ipython",
        "version": 3
      },
      "file_extension": ".py",
      "mimetype": "text/x-python",
      "name": "python",
      "nbconvert_exporter": "python",
      "pygments_lexer": "ipython3",
      "version": "3.10.9"
    },
    "colab": {
      "provenance": [],
      "gpuType": "T4"
    },
    "widgets": {
      "application/vnd.jupyter.widget-state+json": {
        "9e4c6a4114544557912f9f919765179e": {
          "model_module": "@jupyter-widgets/controls",
          "model_name": "VBoxModel",
          "model_module_version": "1.5.0",
          "state": {
            "_dom_classes": [],
            "_model_module": "@jupyter-widgets/controls",
            "_model_module_version": "1.5.0",
            "_model_name": "VBoxModel",
            "_view_count": null,
            "_view_module": "@jupyter-widgets/controls",
            "_view_module_version": "1.5.0",
            "_view_name": "VBoxView",
            "box_style": "",
            "children": [
              "IPY_MODEL_bafea7bdca414583a39fc0a7e3e94e94",
              "IPY_MODEL_90c11a1d75b54ae79520ba4d8a3a3f80"
            ],
            "layout": "IPY_MODEL_a0aedd8e74ca4029bda5d434fff972e5"
          }
        },
        "bafea7bdca414583a39fc0a7e3e94e94": {
          "model_module": "@jupyter-widgets/controls",
          "model_name": "LabelModel",
          "model_module_version": "1.5.0",
          "state": {
            "_dom_classes": [],
            "_model_module": "@jupyter-widgets/controls",
            "_model_module_version": "1.5.0",
            "_model_name": "LabelModel",
            "_view_count": null,
            "_view_module": "@jupyter-widgets/controls",
            "_view_module_version": "1.5.0",
            "_view_name": "LabelView",
            "description": "",
            "description_tooltip": null,
            "layout": "IPY_MODEL_524abc583d224e5cb1ccd71269e29667",
            "placeholder": "​",
            "style": "IPY_MODEL_0225740c594446c99d1f4dc3d3d7b063",
            "value": "0.010 MB of 0.010 MB uploaded\r"
          }
        },
        "90c11a1d75b54ae79520ba4d8a3a3f80": {
          "model_module": "@jupyter-widgets/controls",
          "model_name": "FloatProgressModel",
          "model_module_version": "1.5.0",
          "state": {
            "_dom_classes": [],
            "_model_module": "@jupyter-widgets/controls",
            "_model_module_version": "1.5.0",
            "_model_name": "FloatProgressModel",
            "_view_count": null,
            "_view_module": "@jupyter-widgets/controls",
            "_view_module_version": "1.5.0",
            "_view_name": "ProgressView",
            "bar_style": "",
            "description": "",
            "description_tooltip": null,
            "layout": "IPY_MODEL_c4663b3ed8d44584a9935716eee47dc4",
            "max": 1,
            "min": 0,
            "orientation": "horizontal",
            "style": "IPY_MODEL_97faddc4755e4247b6a002771bca4ce9",
            "value": 1
          }
        },
        "a0aedd8e74ca4029bda5d434fff972e5": {
          "model_module": "@jupyter-widgets/base",
          "model_name": "LayoutModel",
          "model_module_version": "1.2.0",
          "state": {
            "_model_module": "@jupyter-widgets/base",
            "_model_module_version": "1.2.0",
            "_model_name": "LayoutModel",
            "_view_count": null,
            "_view_module": "@jupyter-widgets/base",
            "_view_module_version": "1.2.0",
            "_view_name": "LayoutView",
            "align_content": null,
            "align_items": null,
            "align_self": null,
            "border": null,
            "bottom": null,
            "display": null,
            "flex": null,
            "flex_flow": null,
            "grid_area": null,
            "grid_auto_columns": null,
            "grid_auto_flow": null,
            "grid_auto_rows": null,
            "grid_column": null,
            "grid_gap": null,
            "grid_row": null,
            "grid_template_areas": null,
            "grid_template_columns": null,
            "grid_template_rows": null,
            "height": null,
            "justify_content": null,
            "justify_items": null,
            "left": null,
            "margin": null,
            "max_height": null,
            "max_width": null,
            "min_height": null,
            "min_width": null,
            "object_fit": null,
            "object_position": null,
            "order": null,
            "overflow": null,
            "overflow_x": null,
            "overflow_y": null,
            "padding": null,
            "right": null,
            "top": null,
            "visibility": null,
            "width": null
          }
        },
        "524abc583d224e5cb1ccd71269e29667": {
          "model_module": "@jupyter-widgets/base",
          "model_name": "LayoutModel",
          "model_module_version": "1.2.0",
          "state": {
            "_model_module": "@jupyter-widgets/base",
            "_model_module_version": "1.2.0",
            "_model_name": "LayoutModel",
            "_view_count": null,
            "_view_module": "@jupyter-widgets/base",
            "_view_module_version": "1.2.0",
            "_view_name": "LayoutView",
            "align_content": null,
            "align_items": null,
            "align_self": null,
            "border": null,
            "bottom": null,
            "display": null,
            "flex": null,
            "flex_flow": null,
            "grid_area": null,
            "grid_auto_columns": null,
            "grid_auto_flow": null,
            "grid_auto_rows": null,
            "grid_column": null,
            "grid_gap": null,
            "grid_row": null,
            "grid_template_areas": null,
            "grid_template_columns": null,
            "grid_template_rows": null,
            "height": null,
            "justify_content": null,
            "justify_items": null,
            "left": null,
            "margin": null,
            "max_height": null,
            "max_width": null,
            "min_height": null,
            "min_width": null,
            "object_fit": null,
            "object_position": null,
            "order": null,
            "overflow": null,
            "overflow_x": null,
            "overflow_y": null,
            "padding": null,
            "right": null,
            "top": null,
            "visibility": null,
            "width": null
          }
        },
        "0225740c594446c99d1f4dc3d3d7b063": {
          "model_module": "@jupyter-widgets/controls",
          "model_name": "DescriptionStyleModel",
          "model_module_version": "1.5.0",
          "state": {
            "_model_module": "@jupyter-widgets/controls",
            "_model_module_version": "1.5.0",
            "_model_name": "DescriptionStyleModel",
            "_view_count": null,
            "_view_module": "@jupyter-widgets/base",
            "_view_module_version": "1.2.0",
            "_view_name": "StyleView",
            "description_width": ""
          }
        },
        "c4663b3ed8d44584a9935716eee47dc4": {
          "model_module": "@jupyter-widgets/base",
          "model_name": "LayoutModel",
          "model_module_version": "1.2.0",
          "state": {
            "_model_module": "@jupyter-widgets/base",
            "_model_module_version": "1.2.0",
            "_model_name": "LayoutModel",
            "_view_count": null,
            "_view_module": "@jupyter-widgets/base",
            "_view_module_version": "1.2.0",
            "_view_name": "LayoutView",
            "align_content": null,
            "align_items": null,
            "align_self": null,
            "border": null,
            "bottom": null,
            "display": null,
            "flex": null,
            "flex_flow": null,
            "grid_area": null,
            "grid_auto_columns": null,
            "grid_auto_flow": null,
            "grid_auto_rows": null,
            "grid_column": null,
            "grid_gap": null,
            "grid_row": null,
            "grid_template_areas": null,
            "grid_template_columns": null,
            "grid_template_rows": null,
            "height": null,
            "justify_content": null,
            "justify_items": null,
            "left": null,
            "margin": null,
            "max_height": null,
            "max_width": null,
            "min_height": null,
            "min_width": null,
            "object_fit": null,
            "object_position": null,
            "order": null,
            "overflow": null,
            "overflow_x": null,
            "overflow_y": null,
            "padding": null,
            "right": null,
            "top": null,
            "visibility": null,
            "width": null
          }
        },
        "97faddc4755e4247b6a002771bca4ce9": {
          "model_module": "@jupyter-widgets/controls",
          "model_name": "ProgressStyleModel",
          "model_module_version": "1.5.0",
          "state": {
            "_model_module": "@jupyter-widgets/controls",
            "_model_module_version": "1.5.0",
            "_model_name": "ProgressStyleModel",
            "_view_count": null,
            "_view_module": "@jupyter-widgets/base",
            "_view_module_version": "1.2.0",
            "_view_name": "StyleView",
            "bar_color": null,
            "description_width": ""
          }
        },
        "ad151291c9f54bd68813621a92d1bf92": {
          "model_module": "@jupyter-widgets/controls",
          "model_name": "HBoxModel",
          "model_module_version": "1.5.0",
          "state": {
            "_dom_classes": [],
            "_model_module": "@jupyter-widgets/controls",
            "_model_module_version": "1.5.0",
            "_model_name": "HBoxModel",
            "_view_count": null,
            "_view_module": "@jupyter-widgets/controls",
            "_view_module_version": "1.5.0",
            "_view_name": "HBoxView",
            "box_style": "",
            "children": [
              "IPY_MODEL_1e91d2ef73974393a9d7f1c7f9f75a93",
              "IPY_MODEL_9447bb9558284b1c9d82fdba6788c459",
              "IPY_MODEL_0e2d36d3671c4bcf964c1b220b150a71"
            ],
            "layout": "IPY_MODEL_b8a65f7819264d509f4b0fed2dc94eb7"
          }
        },
        "1e91d2ef73974393a9d7f1c7f9f75a93": {
          "model_module": "@jupyter-widgets/controls",
          "model_name": "HTMLModel",
          "model_module_version": "1.5.0",
          "state": {
            "_dom_classes": [],
            "_model_module": "@jupyter-widgets/controls",
            "_model_module_version": "1.5.0",
            "_model_name": "HTMLModel",
            "_view_count": null,
            "_view_module": "@jupyter-widgets/controls",
            "_view_module_version": "1.5.0",
            "_view_name": "HTMLView",
            "description": "",
            "description_tooltip": null,
            "layout": "IPY_MODEL_627cdde0bc724da983f60885677487a5",
            "placeholder": "​",
            "style": "IPY_MODEL_e16bb614995148728f2f12c123713acd",
            "value": "100%"
          }
        },
        "9447bb9558284b1c9d82fdba6788c459": {
          "model_module": "@jupyter-widgets/controls",
          "model_name": "FloatProgressModel",
          "model_module_version": "1.5.0",
          "state": {
            "_dom_classes": [],
            "_model_module": "@jupyter-widgets/controls",
            "_model_module_version": "1.5.0",
            "_model_name": "FloatProgressModel",
            "_view_count": null,
            "_view_module": "@jupyter-widgets/controls",
            "_view_module_version": "1.5.0",
            "_view_name": "ProgressView",
            "bar_style": "success",
            "description": "",
            "description_tooltip": null,
            "layout": "IPY_MODEL_1a92237ee71247778b3eefcb5ff010b6",
            "max": 50,
            "min": 0,
            "orientation": "horizontal",
            "style": "IPY_MODEL_363f8f82a0ba4cd7ab270fec2805d1a8",
            "value": 50
          }
        },
        "0e2d36d3671c4bcf964c1b220b150a71": {
          "model_module": "@jupyter-widgets/controls",
          "model_name": "HTMLModel",
          "model_module_version": "1.5.0",
          "state": {
            "_dom_classes": [],
            "_model_module": "@jupyter-widgets/controls",
            "_model_module_version": "1.5.0",
            "_model_name": "HTMLModel",
            "_view_count": null,
            "_view_module": "@jupyter-widgets/controls",
            "_view_module_version": "1.5.0",
            "_view_name": "HTMLView",
            "description": "",
            "description_tooltip": null,
            "layout": "IPY_MODEL_4ff614131f21410c81f876ad4e383b65",
            "placeholder": "​",
            "style": "IPY_MODEL_7bd3c5d7cf9343cda7519b288e8a9e44",
            "value": " 50/50 [00:41&lt;00:00,  1.33it/s]"
          }
        },
        "b8a65f7819264d509f4b0fed2dc94eb7": {
          "model_module": "@jupyter-widgets/base",
          "model_name": "LayoutModel",
          "model_module_version": "1.2.0",
          "state": {
            "_model_module": "@jupyter-widgets/base",
            "_model_module_version": "1.2.0",
            "_model_name": "LayoutModel",
            "_view_count": null,
            "_view_module": "@jupyter-widgets/base",
            "_view_module_version": "1.2.0",
            "_view_name": "LayoutView",
            "align_content": null,
            "align_items": null,
            "align_self": null,
            "border": null,
            "bottom": null,
            "display": null,
            "flex": null,
            "flex_flow": null,
            "grid_area": null,
            "grid_auto_columns": null,
            "grid_auto_flow": null,
            "grid_auto_rows": null,
            "grid_column": null,
            "grid_gap": null,
            "grid_row": null,
            "grid_template_areas": null,
            "grid_template_columns": null,
            "grid_template_rows": null,
            "height": null,
            "justify_content": null,
            "justify_items": null,
            "left": null,
            "margin": null,
            "max_height": null,
            "max_width": null,
            "min_height": null,
            "min_width": null,
            "object_fit": null,
            "object_position": null,
            "order": null,
            "overflow": null,
            "overflow_x": null,
            "overflow_y": null,
            "padding": null,
            "right": null,
            "top": null,
            "visibility": null,
            "width": null
          }
        },
        "627cdde0bc724da983f60885677487a5": {
          "model_module": "@jupyter-widgets/base",
          "model_name": "LayoutModel",
          "model_module_version": "1.2.0",
          "state": {
            "_model_module": "@jupyter-widgets/base",
            "_model_module_version": "1.2.0",
            "_model_name": "LayoutModel",
            "_view_count": null,
            "_view_module": "@jupyter-widgets/base",
            "_view_module_version": "1.2.0",
            "_view_name": "LayoutView",
            "align_content": null,
            "align_items": null,
            "align_self": null,
            "border": null,
            "bottom": null,
            "display": null,
            "flex": null,
            "flex_flow": null,
            "grid_area": null,
            "grid_auto_columns": null,
            "grid_auto_flow": null,
            "grid_auto_rows": null,
            "grid_column": null,
            "grid_gap": null,
            "grid_row": null,
            "grid_template_areas": null,
            "grid_template_columns": null,
            "grid_template_rows": null,
            "height": null,
            "justify_content": null,
            "justify_items": null,
            "left": null,
            "margin": null,
            "max_height": null,
            "max_width": null,
            "min_height": null,
            "min_width": null,
            "object_fit": null,
            "object_position": null,
            "order": null,
            "overflow": null,
            "overflow_x": null,
            "overflow_y": null,
            "padding": null,
            "right": null,
            "top": null,
            "visibility": null,
            "width": null
          }
        },
        "e16bb614995148728f2f12c123713acd": {
          "model_module": "@jupyter-widgets/controls",
          "model_name": "DescriptionStyleModel",
          "model_module_version": "1.5.0",
          "state": {
            "_model_module": "@jupyter-widgets/controls",
            "_model_module_version": "1.5.0",
            "_model_name": "DescriptionStyleModel",
            "_view_count": null,
            "_view_module": "@jupyter-widgets/base",
            "_view_module_version": "1.2.0",
            "_view_name": "StyleView",
            "description_width": ""
          }
        },
        "1a92237ee71247778b3eefcb5ff010b6": {
          "model_module": "@jupyter-widgets/base",
          "model_name": "LayoutModel",
          "model_module_version": "1.2.0",
          "state": {
            "_model_module": "@jupyter-widgets/base",
            "_model_module_version": "1.2.0",
            "_model_name": "LayoutModel",
            "_view_count": null,
            "_view_module": "@jupyter-widgets/base",
            "_view_module_version": "1.2.0",
            "_view_name": "LayoutView",
            "align_content": null,
            "align_items": null,
            "align_self": null,
            "border": null,
            "bottom": null,
            "display": null,
            "flex": null,
            "flex_flow": null,
            "grid_area": null,
            "grid_auto_columns": null,
            "grid_auto_flow": null,
            "grid_auto_rows": null,
            "grid_column": null,
            "grid_gap": null,
            "grid_row": null,
            "grid_template_areas": null,
            "grid_template_columns": null,
            "grid_template_rows": null,
            "height": null,
            "justify_content": null,
            "justify_items": null,
            "left": null,
            "margin": null,
            "max_height": null,
            "max_width": null,
            "min_height": null,
            "min_width": null,
            "object_fit": null,
            "object_position": null,
            "order": null,
            "overflow": null,
            "overflow_x": null,
            "overflow_y": null,
            "padding": null,
            "right": null,
            "top": null,
            "visibility": null,
            "width": null
          }
        },
        "363f8f82a0ba4cd7ab270fec2805d1a8": {
          "model_module": "@jupyter-widgets/controls",
          "model_name": "ProgressStyleModel",
          "model_module_version": "1.5.0",
          "state": {
            "_model_module": "@jupyter-widgets/controls",
            "_model_module_version": "1.5.0",
            "_model_name": "ProgressStyleModel",
            "_view_count": null,
            "_view_module": "@jupyter-widgets/base",
            "_view_module_version": "1.2.0",
            "_view_name": "StyleView",
            "bar_color": null,
            "description_width": ""
          }
        },
        "4ff614131f21410c81f876ad4e383b65": {
          "model_module": "@jupyter-widgets/base",
          "model_name": "LayoutModel",
          "model_module_version": "1.2.0",
          "state": {
            "_model_module": "@jupyter-widgets/base",
            "_model_module_version": "1.2.0",
            "_model_name": "LayoutModel",
            "_view_count": null,
            "_view_module": "@jupyter-widgets/base",
            "_view_module_version": "1.2.0",
            "_view_name": "LayoutView",
            "align_content": null,
            "align_items": null,
            "align_self": null,
            "border": null,
            "bottom": null,
            "display": null,
            "flex": null,
            "flex_flow": null,
            "grid_area": null,
            "grid_auto_columns": null,
            "grid_auto_flow": null,
            "grid_auto_rows": null,
            "grid_column": null,
            "grid_gap": null,
            "grid_row": null,
            "grid_template_areas": null,
            "grid_template_columns": null,
            "grid_template_rows": null,
            "height": null,
            "justify_content": null,
            "justify_items": null,
            "left": null,
            "margin": null,
            "max_height": null,
            "max_width": null,
            "min_height": null,
            "min_width": null,
            "object_fit": null,
            "object_position": null,
            "order": null,
            "overflow": null,
            "overflow_x": null,
            "overflow_y": null,
            "padding": null,
            "right": null,
            "top": null,
            "visibility": null,
            "width": null
          }
        },
        "7bd3c5d7cf9343cda7519b288e8a9e44": {
          "model_module": "@jupyter-widgets/controls",
          "model_name": "DescriptionStyleModel",
          "model_module_version": "1.5.0",
          "state": {
            "_model_module": "@jupyter-widgets/controls",
            "_model_module_version": "1.5.0",
            "_model_name": "DescriptionStyleModel",
            "_view_count": null,
            "_view_module": "@jupyter-widgets/base",
            "_view_module_version": "1.2.0",
            "_view_name": "StyleView",
            "description_width": ""
          }
        },
        "a293387cade74345b76ae56cd905bc47": {
          "model_module": "@jupyter-widgets/controls",
          "model_name": "VBoxModel",
          "model_module_version": "1.5.0",
          "state": {
            "_dom_classes": [],
            "_model_module": "@jupyter-widgets/controls",
            "_model_module_version": "1.5.0",
            "_model_name": "VBoxModel",
            "_view_count": null,
            "_view_module": "@jupyter-widgets/controls",
            "_view_module_version": "1.5.0",
            "_view_name": "VBoxView",
            "box_style": "",
            "children": [
              "IPY_MODEL_2457a2ac5a7744fe9e2962a339be65bf",
              "IPY_MODEL_0a11f91f0c404823a21edebb290ca8f6"
            ],
            "layout": "IPY_MODEL_61572423fa134bd982c32f741ccd041e"
          }
        },
        "2457a2ac5a7744fe9e2962a339be65bf": {
          "model_module": "@jupyter-widgets/controls",
          "model_name": "LabelModel",
          "model_module_version": "1.5.0",
          "state": {
            "_dom_classes": [],
            "_model_module": "@jupyter-widgets/controls",
            "_model_module_version": "1.5.0",
            "_model_name": "LabelModel",
            "_view_count": null,
            "_view_module": "@jupyter-widgets/controls",
            "_view_module_version": "1.5.0",
            "_view_name": "LabelView",
            "description": "",
            "description_tooltip": null,
            "layout": "IPY_MODEL_18db277f52c84971ad8b341bb859ac9b",
            "placeholder": "​",
            "style": "IPY_MODEL_728c420952634beb818230678a051a11",
            "value": "0.010 MB of 0.010 MB uploaded\r"
          }
        },
        "0a11f91f0c404823a21edebb290ca8f6": {
          "model_module": "@jupyter-widgets/controls",
          "model_name": "FloatProgressModel",
          "model_module_version": "1.5.0",
          "state": {
            "_dom_classes": [],
            "_model_module": "@jupyter-widgets/controls",
            "_model_module_version": "1.5.0",
            "_model_name": "FloatProgressModel",
            "_view_count": null,
            "_view_module": "@jupyter-widgets/controls",
            "_view_module_version": "1.5.0",
            "_view_name": "ProgressView",
            "bar_style": "",
            "description": "",
            "description_tooltip": null,
            "layout": "IPY_MODEL_8dba44ac3e1341dfbbe80c0f307c6571",
            "max": 1,
            "min": 0,
            "orientation": "horizontal",
            "style": "IPY_MODEL_1ce1fd1729d74a278cfb472fe92e6e59",
            "value": 1
          }
        },
        "61572423fa134bd982c32f741ccd041e": {
          "model_module": "@jupyter-widgets/base",
          "model_name": "LayoutModel",
          "model_module_version": "1.2.0",
          "state": {
            "_model_module": "@jupyter-widgets/base",
            "_model_module_version": "1.2.0",
            "_model_name": "LayoutModel",
            "_view_count": null,
            "_view_module": "@jupyter-widgets/base",
            "_view_module_version": "1.2.0",
            "_view_name": "LayoutView",
            "align_content": null,
            "align_items": null,
            "align_self": null,
            "border": null,
            "bottom": null,
            "display": null,
            "flex": null,
            "flex_flow": null,
            "grid_area": null,
            "grid_auto_columns": null,
            "grid_auto_flow": null,
            "grid_auto_rows": null,
            "grid_column": null,
            "grid_gap": null,
            "grid_row": null,
            "grid_template_areas": null,
            "grid_template_columns": null,
            "grid_template_rows": null,
            "height": null,
            "justify_content": null,
            "justify_items": null,
            "left": null,
            "margin": null,
            "max_height": null,
            "max_width": null,
            "min_height": null,
            "min_width": null,
            "object_fit": null,
            "object_position": null,
            "order": null,
            "overflow": null,
            "overflow_x": null,
            "overflow_y": null,
            "padding": null,
            "right": null,
            "top": null,
            "visibility": null,
            "width": null
          }
        },
        "18db277f52c84971ad8b341bb859ac9b": {
          "model_module": "@jupyter-widgets/base",
          "model_name": "LayoutModel",
          "model_module_version": "1.2.0",
          "state": {
            "_model_module": "@jupyter-widgets/base",
            "_model_module_version": "1.2.0",
            "_model_name": "LayoutModel",
            "_view_count": null,
            "_view_module": "@jupyter-widgets/base",
            "_view_module_version": "1.2.0",
            "_view_name": "LayoutView",
            "align_content": null,
            "align_items": null,
            "align_self": null,
            "border": null,
            "bottom": null,
            "display": null,
            "flex": null,
            "flex_flow": null,
            "grid_area": null,
            "grid_auto_columns": null,
            "grid_auto_flow": null,
            "grid_auto_rows": null,
            "grid_column": null,
            "grid_gap": null,
            "grid_row": null,
            "grid_template_areas": null,
            "grid_template_columns": null,
            "grid_template_rows": null,
            "height": null,
            "justify_content": null,
            "justify_items": null,
            "left": null,
            "margin": null,
            "max_height": null,
            "max_width": null,
            "min_height": null,
            "min_width": null,
            "object_fit": null,
            "object_position": null,
            "order": null,
            "overflow": null,
            "overflow_x": null,
            "overflow_y": null,
            "padding": null,
            "right": null,
            "top": null,
            "visibility": null,
            "width": null
          }
        },
        "728c420952634beb818230678a051a11": {
          "model_module": "@jupyter-widgets/controls",
          "model_name": "DescriptionStyleModel",
          "model_module_version": "1.5.0",
          "state": {
            "_model_module": "@jupyter-widgets/controls",
            "_model_module_version": "1.5.0",
            "_model_name": "DescriptionStyleModel",
            "_view_count": null,
            "_view_module": "@jupyter-widgets/base",
            "_view_module_version": "1.2.0",
            "_view_name": "StyleView",
            "description_width": ""
          }
        },
        "8dba44ac3e1341dfbbe80c0f307c6571": {
          "model_module": "@jupyter-widgets/base",
          "model_name": "LayoutModel",
          "model_module_version": "1.2.0",
          "state": {
            "_model_module": "@jupyter-widgets/base",
            "_model_module_version": "1.2.0",
            "_model_name": "LayoutModel",
            "_view_count": null,
            "_view_module": "@jupyter-widgets/base",
            "_view_module_version": "1.2.0",
            "_view_name": "LayoutView",
            "align_content": null,
            "align_items": null,
            "align_self": null,
            "border": null,
            "bottom": null,
            "display": null,
            "flex": null,
            "flex_flow": null,
            "grid_area": null,
            "grid_auto_columns": null,
            "grid_auto_flow": null,
            "grid_auto_rows": null,
            "grid_column": null,
            "grid_gap": null,
            "grid_row": null,
            "grid_template_areas": null,
            "grid_template_columns": null,
            "grid_template_rows": null,
            "height": null,
            "justify_content": null,
            "justify_items": null,
            "left": null,
            "margin": null,
            "max_height": null,
            "max_width": null,
            "min_height": null,
            "min_width": null,
            "object_fit": null,
            "object_position": null,
            "order": null,
            "overflow": null,
            "overflow_x": null,
            "overflow_y": null,
            "padding": null,
            "right": null,
            "top": null,
            "visibility": null,
            "width": null
          }
        },
        "1ce1fd1729d74a278cfb472fe92e6e59": {
          "model_module": "@jupyter-widgets/controls",
          "model_name": "ProgressStyleModel",
          "model_module_version": "1.5.0",
          "state": {
            "_model_module": "@jupyter-widgets/controls",
            "_model_module_version": "1.5.0",
            "_model_name": "ProgressStyleModel",
            "_view_count": null,
            "_view_module": "@jupyter-widgets/base",
            "_view_module_version": "1.2.0",
            "_view_name": "StyleView",
            "bar_color": null,
            "description_width": ""
          }
        },
        "677438c07c3b4e23bbf31c873e25f8f1": {
          "model_module": "@jupyter-widgets/controls",
          "model_name": "HBoxModel",
          "model_module_version": "1.5.0",
          "state": {
            "_dom_classes": [],
            "_model_module": "@jupyter-widgets/controls",
            "_model_module_version": "1.5.0",
            "_model_name": "HBoxModel",
            "_view_count": null,
            "_view_module": "@jupyter-widgets/controls",
            "_view_module_version": "1.5.0",
            "_view_name": "HBoxView",
            "box_style": "",
            "children": [
              "IPY_MODEL_52d0b5fbe0e44997869326cec2c6807e",
              "IPY_MODEL_56e56cbed5ad4d99bc2e0d892a9b9016",
              "IPY_MODEL_1571137462ab413abbdc0c5284ec2b71"
            ],
            "layout": "IPY_MODEL_60ee6876d4604901b46b22ca764937cf"
          }
        },
        "52d0b5fbe0e44997869326cec2c6807e": {
          "model_module": "@jupyter-widgets/controls",
          "model_name": "HTMLModel",
          "model_module_version": "1.5.0",
          "state": {
            "_dom_classes": [],
            "_model_module": "@jupyter-widgets/controls",
            "_model_module_version": "1.5.0",
            "_model_name": "HTMLModel",
            "_view_count": null,
            "_view_module": "@jupyter-widgets/controls",
            "_view_module_version": "1.5.0",
            "_view_name": "HTMLView",
            "description": "",
            "description_tooltip": null,
            "layout": "IPY_MODEL_879fb619dbbb4cde9f253f0252027650",
            "placeholder": "​",
            "style": "IPY_MODEL_a2531b52cbb142b393c4c8d46f4b8687",
            "value": "100%"
          }
        },
        "56e56cbed5ad4d99bc2e0d892a9b9016": {
          "model_module": "@jupyter-widgets/controls",
          "model_name": "FloatProgressModel",
          "model_module_version": "1.5.0",
          "state": {
            "_dom_classes": [],
            "_model_module": "@jupyter-widgets/controls",
            "_model_module_version": "1.5.0",
            "_model_name": "FloatProgressModel",
            "_view_count": null,
            "_view_module": "@jupyter-widgets/controls",
            "_view_module_version": "1.5.0",
            "_view_name": "ProgressView",
            "bar_style": "success",
            "description": "",
            "description_tooltip": null,
            "layout": "IPY_MODEL_ac92f9ed98fd49bfbd7d58cc8db5eb7d",
            "max": 50,
            "min": 0,
            "orientation": "horizontal",
            "style": "IPY_MODEL_12042a3f658347aba61c2ce083a19013",
            "value": 50
          }
        },
        "1571137462ab413abbdc0c5284ec2b71": {
          "model_module": "@jupyter-widgets/controls",
          "model_name": "HTMLModel",
          "model_module_version": "1.5.0",
          "state": {
            "_dom_classes": [],
            "_model_module": "@jupyter-widgets/controls",
            "_model_module_version": "1.5.0",
            "_model_name": "HTMLModel",
            "_view_count": null,
            "_view_module": "@jupyter-widgets/controls",
            "_view_module_version": "1.5.0",
            "_view_name": "HTMLView",
            "description": "",
            "description_tooltip": null,
            "layout": "IPY_MODEL_1495504e641c44b3a942ae02f7ba02b7",
            "placeholder": "​",
            "style": "IPY_MODEL_f44a3da3aafd4cb2b7d05804e3f6ded2",
            "value": " 50/50 [00:42&lt;00:00,  1.15it/s]"
          }
        },
        "60ee6876d4604901b46b22ca764937cf": {
          "model_module": "@jupyter-widgets/base",
          "model_name": "LayoutModel",
          "model_module_version": "1.2.0",
          "state": {
            "_model_module": "@jupyter-widgets/base",
            "_model_module_version": "1.2.0",
            "_model_name": "LayoutModel",
            "_view_count": null,
            "_view_module": "@jupyter-widgets/base",
            "_view_module_version": "1.2.0",
            "_view_name": "LayoutView",
            "align_content": null,
            "align_items": null,
            "align_self": null,
            "border": null,
            "bottom": null,
            "display": null,
            "flex": null,
            "flex_flow": null,
            "grid_area": null,
            "grid_auto_columns": null,
            "grid_auto_flow": null,
            "grid_auto_rows": null,
            "grid_column": null,
            "grid_gap": null,
            "grid_row": null,
            "grid_template_areas": null,
            "grid_template_columns": null,
            "grid_template_rows": null,
            "height": null,
            "justify_content": null,
            "justify_items": null,
            "left": null,
            "margin": null,
            "max_height": null,
            "max_width": null,
            "min_height": null,
            "min_width": null,
            "object_fit": null,
            "object_position": null,
            "order": null,
            "overflow": null,
            "overflow_x": null,
            "overflow_y": null,
            "padding": null,
            "right": null,
            "top": null,
            "visibility": null,
            "width": null
          }
        },
        "879fb619dbbb4cde9f253f0252027650": {
          "model_module": "@jupyter-widgets/base",
          "model_name": "LayoutModel",
          "model_module_version": "1.2.0",
          "state": {
            "_model_module": "@jupyter-widgets/base",
            "_model_module_version": "1.2.0",
            "_model_name": "LayoutModel",
            "_view_count": null,
            "_view_module": "@jupyter-widgets/base",
            "_view_module_version": "1.2.0",
            "_view_name": "LayoutView",
            "align_content": null,
            "align_items": null,
            "align_self": null,
            "border": null,
            "bottom": null,
            "display": null,
            "flex": null,
            "flex_flow": null,
            "grid_area": null,
            "grid_auto_columns": null,
            "grid_auto_flow": null,
            "grid_auto_rows": null,
            "grid_column": null,
            "grid_gap": null,
            "grid_row": null,
            "grid_template_areas": null,
            "grid_template_columns": null,
            "grid_template_rows": null,
            "height": null,
            "justify_content": null,
            "justify_items": null,
            "left": null,
            "margin": null,
            "max_height": null,
            "max_width": null,
            "min_height": null,
            "min_width": null,
            "object_fit": null,
            "object_position": null,
            "order": null,
            "overflow": null,
            "overflow_x": null,
            "overflow_y": null,
            "padding": null,
            "right": null,
            "top": null,
            "visibility": null,
            "width": null
          }
        },
        "a2531b52cbb142b393c4c8d46f4b8687": {
          "model_module": "@jupyter-widgets/controls",
          "model_name": "DescriptionStyleModel",
          "model_module_version": "1.5.0",
          "state": {
            "_model_module": "@jupyter-widgets/controls",
            "_model_module_version": "1.5.0",
            "_model_name": "DescriptionStyleModel",
            "_view_count": null,
            "_view_module": "@jupyter-widgets/base",
            "_view_module_version": "1.2.0",
            "_view_name": "StyleView",
            "description_width": ""
          }
        },
        "ac92f9ed98fd49bfbd7d58cc8db5eb7d": {
          "model_module": "@jupyter-widgets/base",
          "model_name": "LayoutModel",
          "model_module_version": "1.2.0",
          "state": {
            "_model_module": "@jupyter-widgets/base",
            "_model_module_version": "1.2.0",
            "_model_name": "LayoutModel",
            "_view_count": null,
            "_view_module": "@jupyter-widgets/base",
            "_view_module_version": "1.2.0",
            "_view_name": "LayoutView",
            "align_content": null,
            "align_items": null,
            "align_self": null,
            "border": null,
            "bottom": null,
            "display": null,
            "flex": null,
            "flex_flow": null,
            "grid_area": null,
            "grid_auto_columns": null,
            "grid_auto_flow": null,
            "grid_auto_rows": null,
            "grid_column": null,
            "grid_gap": null,
            "grid_row": null,
            "grid_template_areas": null,
            "grid_template_columns": null,
            "grid_template_rows": null,
            "height": null,
            "justify_content": null,
            "justify_items": null,
            "left": null,
            "margin": null,
            "max_height": null,
            "max_width": null,
            "min_height": null,
            "min_width": null,
            "object_fit": null,
            "object_position": null,
            "order": null,
            "overflow": null,
            "overflow_x": null,
            "overflow_y": null,
            "padding": null,
            "right": null,
            "top": null,
            "visibility": null,
            "width": null
          }
        },
        "12042a3f658347aba61c2ce083a19013": {
          "model_module": "@jupyter-widgets/controls",
          "model_name": "ProgressStyleModel",
          "model_module_version": "1.5.0",
          "state": {
            "_model_module": "@jupyter-widgets/controls",
            "_model_module_version": "1.5.0",
            "_model_name": "ProgressStyleModel",
            "_view_count": null,
            "_view_module": "@jupyter-widgets/base",
            "_view_module_version": "1.2.0",
            "_view_name": "StyleView",
            "bar_color": null,
            "description_width": ""
          }
        },
        "1495504e641c44b3a942ae02f7ba02b7": {
          "model_module": "@jupyter-widgets/base",
          "model_name": "LayoutModel",
          "model_module_version": "1.2.0",
          "state": {
            "_model_module": "@jupyter-widgets/base",
            "_model_module_version": "1.2.0",
            "_model_name": "LayoutModel",
            "_view_count": null,
            "_view_module": "@jupyter-widgets/base",
            "_view_module_version": "1.2.0",
            "_view_name": "LayoutView",
            "align_content": null,
            "align_items": null,
            "align_self": null,
            "border": null,
            "bottom": null,
            "display": null,
            "flex": null,
            "flex_flow": null,
            "grid_area": null,
            "grid_auto_columns": null,
            "grid_auto_flow": null,
            "grid_auto_rows": null,
            "grid_column": null,
            "grid_gap": null,
            "grid_row": null,
            "grid_template_areas": null,
            "grid_template_columns": null,
            "grid_template_rows": null,
            "height": null,
            "justify_content": null,
            "justify_items": null,
            "left": null,
            "margin": null,
            "max_height": null,
            "max_width": null,
            "min_height": null,
            "min_width": null,
            "object_fit": null,
            "object_position": null,
            "order": null,
            "overflow": null,
            "overflow_x": null,
            "overflow_y": null,
            "padding": null,
            "right": null,
            "top": null,
            "visibility": null,
            "width": null
          }
        },
        "f44a3da3aafd4cb2b7d05804e3f6ded2": {
          "model_module": "@jupyter-widgets/controls",
          "model_name": "DescriptionStyleModel",
          "model_module_version": "1.5.0",
          "state": {
            "_model_module": "@jupyter-widgets/controls",
            "_model_module_version": "1.5.0",
            "_model_name": "DescriptionStyleModel",
            "_view_count": null,
            "_view_module": "@jupyter-widgets/base",
            "_view_module_version": "1.2.0",
            "_view_name": "StyleView",
            "description_width": ""
          }
        },
        "c74d1adb7c614b51ae838dd290ec6378": {
          "model_module": "@jupyter-widgets/controls",
          "model_name": "VBoxModel",
          "model_module_version": "1.5.0",
          "state": {
            "_dom_classes": [],
            "_model_module": "@jupyter-widgets/controls",
            "_model_module_version": "1.5.0",
            "_model_name": "VBoxModel",
            "_view_count": null,
            "_view_module": "@jupyter-widgets/controls",
            "_view_module_version": "1.5.0",
            "_view_name": "VBoxView",
            "box_style": "",
            "children": [
              "IPY_MODEL_67eb4aab4e86492b8fb8a0cf99a0d92a",
              "IPY_MODEL_8bb9d37446f049818c15848fed19f4db"
            ],
            "layout": "IPY_MODEL_d8605bbc87364ac08530d391abbe0709"
          }
        },
        "67eb4aab4e86492b8fb8a0cf99a0d92a": {
          "model_module": "@jupyter-widgets/controls",
          "model_name": "LabelModel",
          "model_module_version": "1.5.0",
          "state": {
            "_dom_classes": [],
            "_model_module": "@jupyter-widgets/controls",
            "_model_module_version": "1.5.0",
            "_model_name": "LabelModel",
            "_view_count": null,
            "_view_module": "@jupyter-widgets/controls",
            "_view_module_version": "1.5.0",
            "_view_name": "LabelView",
            "description": "",
            "description_tooltip": null,
            "layout": "IPY_MODEL_152c0268b7b746e2bc07648034d52a6a",
            "placeholder": "​",
            "style": "IPY_MODEL_84519677bc7441a2bf9e12d42bf8db54",
            "value": "0.010 MB of 0.010 MB uploaded\r"
          }
        },
        "8bb9d37446f049818c15848fed19f4db": {
          "model_module": "@jupyter-widgets/controls",
          "model_name": "FloatProgressModel",
          "model_module_version": "1.5.0",
          "state": {
            "_dom_classes": [],
            "_model_module": "@jupyter-widgets/controls",
            "_model_module_version": "1.5.0",
            "_model_name": "FloatProgressModel",
            "_view_count": null,
            "_view_module": "@jupyter-widgets/controls",
            "_view_module_version": "1.5.0",
            "_view_name": "ProgressView",
            "bar_style": "",
            "description": "",
            "description_tooltip": null,
            "layout": "IPY_MODEL_ea22b82ea84b4307b51ad0f88654eb85",
            "max": 1,
            "min": 0,
            "orientation": "horizontal",
            "style": "IPY_MODEL_63461fad3e1342ed9ed2c26bddc09079",
            "value": 1
          }
        },
        "d8605bbc87364ac08530d391abbe0709": {
          "model_module": "@jupyter-widgets/base",
          "model_name": "LayoutModel",
          "model_module_version": "1.2.0",
          "state": {
            "_model_module": "@jupyter-widgets/base",
            "_model_module_version": "1.2.0",
            "_model_name": "LayoutModel",
            "_view_count": null,
            "_view_module": "@jupyter-widgets/base",
            "_view_module_version": "1.2.0",
            "_view_name": "LayoutView",
            "align_content": null,
            "align_items": null,
            "align_self": null,
            "border": null,
            "bottom": null,
            "display": null,
            "flex": null,
            "flex_flow": null,
            "grid_area": null,
            "grid_auto_columns": null,
            "grid_auto_flow": null,
            "grid_auto_rows": null,
            "grid_column": null,
            "grid_gap": null,
            "grid_row": null,
            "grid_template_areas": null,
            "grid_template_columns": null,
            "grid_template_rows": null,
            "height": null,
            "justify_content": null,
            "justify_items": null,
            "left": null,
            "margin": null,
            "max_height": null,
            "max_width": null,
            "min_height": null,
            "min_width": null,
            "object_fit": null,
            "object_position": null,
            "order": null,
            "overflow": null,
            "overflow_x": null,
            "overflow_y": null,
            "padding": null,
            "right": null,
            "top": null,
            "visibility": null,
            "width": null
          }
        },
        "152c0268b7b746e2bc07648034d52a6a": {
          "model_module": "@jupyter-widgets/base",
          "model_name": "LayoutModel",
          "model_module_version": "1.2.0",
          "state": {
            "_model_module": "@jupyter-widgets/base",
            "_model_module_version": "1.2.0",
            "_model_name": "LayoutModel",
            "_view_count": null,
            "_view_module": "@jupyter-widgets/base",
            "_view_module_version": "1.2.0",
            "_view_name": "LayoutView",
            "align_content": null,
            "align_items": null,
            "align_self": null,
            "border": null,
            "bottom": null,
            "display": null,
            "flex": null,
            "flex_flow": null,
            "grid_area": null,
            "grid_auto_columns": null,
            "grid_auto_flow": null,
            "grid_auto_rows": null,
            "grid_column": null,
            "grid_gap": null,
            "grid_row": null,
            "grid_template_areas": null,
            "grid_template_columns": null,
            "grid_template_rows": null,
            "height": null,
            "justify_content": null,
            "justify_items": null,
            "left": null,
            "margin": null,
            "max_height": null,
            "max_width": null,
            "min_height": null,
            "min_width": null,
            "object_fit": null,
            "object_position": null,
            "order": null,
            "overflow": null,
            "overflow_x": null,
            "overflow_y": null,
            "padding": null,
            "right": null,
            "top": null,
            "visibility": null,
            "width": null
          }
        },
        "84519677bc7441a2bf9e12d42bf8db54": {
          "model_module": "@jupyter-widgets/controls",
          "model_name": "DescriptionStyleModel",
          "model_module_version": "1.5.0",
          "state": {
            "_model_module": "@jupyter-widgets/controls",
            "_model_module_version": "1.5.0",
            "_model_name": "DescriptionStyleModel",
            "_view_count": null,
            "_view_module": "@jupyter-widgets/base",
            "_view_module_version": "1.2.0",
            "_view_name": "StyleView",
            "description_width": ""
          }
        },
        "ea22b82ea84b4307b51ad0f88654eb85": {
          "model_module": "@jupyter-widgets/base",
          "model_name": "LayoutModel",
          "model_module_version": "1.2.0",
          "state": {
            "_model_module": "@jupyter-widgets/base",
            "_model_module_version": "1.2.0",
            "_model_name": "LayoutModel",
            "_view_count": null,
            "_view_module": "@jupyter-widgets/base",
            "_view_module_version": "1.2.0",
            "_view_name": "LayoutView",
            "align_content": null,
            "align_items": null,
            "align_self": null,
            "border": null,
            "bottom": null,
            "display": null,
            "flex": null,
            "flex_flow": null,
            "grid_area": null,
            "grid_auto_columns": null,
            "grid_auto_flow": null,
            "grid_auto_rows": null,
            "grid_column": null,
            "grid_gap": null,
            "grid_row": null,
            "grid_template_areas": null,
            "grid_template_columns": null,
            "grid_template_rows": null,
            "height": null,
            "justify_content": null,
            "justify_items": null,
            "left": null,
            "margin": null,
            "max_height": null,
            "max_width": null,
            "min_height": null,
            "min_width": null,
            "object_fit": null,
            "object_position": null,
            "order": null,
            "overflow": null,
            "overflow_x": null,
            "overflow_y": null,
            "padding": null,
            "right": null,
            "top": null,
            "visibility": null,
            "width": null
          }
        },
        "63461fad3e1342ed9ed2c26bddc09079": {
          "model_module": "@jupyter-widgets/controls",
          "model_name": "ProgressStyleModel",
          "model_module_version": "1.5.0",
          "state": {
            "_model_module": "@jupyter-widgets/controls",
            "_model_module_version": "1.5.0",
            "_model_name": "ProgressStyleModel",
            "_view_count": null,
            "_view_module": "@jupyter-widgets/base",
            "_view_module_version": "1.2.0",
            "_view_name": "StyleView",
            "bar_color": null,
            "description_width": ""
          }
        },
        "3ed80a4fdcd04f4eb4e86486d43d2a1e": {
          "model_module": "@jupyter-widgets/controls",
          "model_name": "HBoxModel",
          "model_module_version": "1.5.0",
          "state": {
            "_dom_classes": [],
            "_model_module": "@jupyter-widgets/controls",
            "_model_module_version": "1.5.0",
            "_model_name": "HBoxModel",
            "_view_count": null,
            "_view_module": "@jupyter-widgets/controls",
            "_view_module_version": "1.5.0",
            "_view_name": "HBoxView",
            "box_style": "",
            "children": [
              "IPY_MODEL_6b054681fbf3498b9c5b649ecc31fe45",
              "IPY_MODEL_00a91a268bd84e86a0acb2180455b49f",
              "IPY_MODEL_1a6a4c0db1f740d2a39fc4d78b290758"
            ],
            "layout": "IPY_MODEL_358d01a0734b4c1393436e6e63e96c72"
          }
        },
        "6b054681fbf3498b9c5b649ecc31fe45": {
          "model_module": "@jupyter-widgets/controls",
          "model_name": "HTMLModel",
          "model_module_version": "1.5.0",
          "state": {
            "_dom_classes": [],
            "_model_module": "@jupyter-widgets/controls",
            "_model_module_version": "1.5.0",
            "_model_name": "HTMLModel",
            "_view_count": null,
            "_view_module": "@jupyter-widgets/controls",
            "_view_module_version": "1.5.0",
            "_view_name": "HTMLView",
            "description": "",
            "description_tooltip": null,
            "layout": "IPY_MODEL_bd9b1e46e4194a7ab81a2c0e725af134",
            "placeholder": "​",
            "style": "IPY_MODEL_8695ea90cc0e4ba489eed61a6aa3cd7c",
            "value": "100%"
          }
        },
        "00a91a268bd84e86a0acb2180455b49f": {
          "model_module": "@jupyter-widgets/controls",
          "model_name": "FloatProgressModel",
          "model_module_version": "1.5.0",
          "state": {
            "_dom_classes": [],
            "_model_module": "@jupyter-widgets/controls",
            "_model_module_version": "1.5.0",
            "_model_name": "FloatProgressModel",
            "_view_count": null,
            "_view_module": "@jupyter-widgets/controls",
            "_view_module_version": "1.5.0",
            "_view_name": "ProgressView",
            "bar_style": "success",
            "description": "",
            "description_tooltip": null,
            "layout": "IPY_MODEL_8120c839cf814ff2a468087f18882d8d",
            "max": 50,
            "min": 0,
            "orientation": "horizontal",
            "style": "IPY_MODEL_6718674197b14b7cb69ae53ce2296098",
            "value": 50
          }
        },
        "1a6a4c0db1f740d2a39fc4d78b290758": {
          "model_module": "@jupyter-widgets/controls",
          "model_name": "HTMLModel",
          "model_module_version": "1.5.0",
          "state": {
            "_dom_classes": [],
            "_model_module": "@jupyter-widgets/controls",
            "_model_module_version": "1.5.0",
            "_model_name": "HTMLModel",
            "_view_count": null,
            "_view_module": "@jupyter-widgets/controls",
            "_view_module_version": "1.5.0",
            "_view_name": "HTMLView",
            "description": "",
            "description_tooltip": null,
            "layout": "IPY_MODEL_0be4c1c9f2124f8397b1f6bcd62c26f4",
            "placeholder": "​",
            "style": "IPY_MODEL_1497f2ee11ef442dac58950218d93eb5",
            "value": " 50/50 [00:41&lt;00:00,  1.32it/s]"
          }
        },
        "358d01a0734b4c1393436e6e63e96c72": {
          "model_module": "@jupyter-widgets/base",
          "model_name": "LayoutModel",
          "model_module_version": "1.2.0",
          "state": {
            "_model_module": "@jupyter-widgets/base",
            "_model_module_version": "1.2.0",
            "_model_name": "LayoutModel",
            "_view_count": null,
            "_view_module": "@jupyter-widgets/base",
            "_view_module_version": "1.2.0",
            "_view_name": "LayoutView",
            "align_content": null,
            "align_items": null,
            "align_self": null,
            "border": null,
            "bottom": null,
            "display": null,
            "flex": null,
            "flex_flow": null,
            "grid_area": null,
            "grid_auto_columns": null,
            "grid_auto_flow": null,
            "grid_auto_rows": null,
            "grid_column": null,
            "grid_gap": null,
            "grid_row": null,
            "grid_template_areas": null,
            "grid_template_columns": null,
            "grid_template_rows": null,
            "height": null,
            "justify_content": null,
            "justify_items": null,
            "left": null,
            "margin": null,
            "max_height": null,
            "max_width": null,
            "min_height": null,
            "min_width": null,
            "object_fit": null,
            "object_position": null,
            "order": null,
            "overflow": null,
            "overflow_x": null,
            "overflow_y": null,
            "padding": null,
            "right": null,
            "top": null,
            "visibility": null,
            "width": null
          }
        },
        "bd9b1e46e4194a7ab81a2c0e725af134": {
          "model_module": "@jupyter-widgets/base",
          "model_name": "LayoutModel",
          "model_module_version": "1.2.0",
          "state": {
            "_model_module": "@jupyter-widgets/base",
            "_model_module_version": "1.2.0",
            "_model_name": "LayoutModel",
            "_view_count": null,
            "_view_module": "@jupyter-widgets/base",
            "_view_module_version": "1.2.0",
            "_view_name": "LayoutView",
            "align_content": null,
            "align_items": null,
            "align_self": null,
            "border": null,
            "bottom": null,
            "display": null,
            "flex": null,
            "flex_flow": null,
            "grid_area": null,
            "grid_auto_columns": null,
            "grid_auto_flow": null,
            "grid_auto_rows": null,
            "grid_column": null,
            "grid_gap": null,
            "grid_row": null,
            "grid_template_areas": null,
            "grid_template_columns": null,
            "grid_template_rows": null,
            "height": null,
            "justify_content": null,
            "justify_items": null,
            "left": null,
            "margin": null,
            "max_height": null,
            "max_width": null,
            "min_height": null,
            "min_width": null,
            "object_fit": null,
            "object_position": null,
            "order": null,
            "overflow": null,
            "overflow_x": null,
            "overflow_y": null,
            "padding": null,
            "right": null,
            "top": null,
            "visibility": null,
            "width": null
          }
        },
        "8695ea90cc0e4ba489eed61a6aa3cd7c": {
          "model_module": "@jupyter-widgets/controls",
          "model_name": "DescriptionStyleModel",
          "model_module_version": "1.5.0",
          "state": {
            "_model_module": "@jupyter-widgets/controls",
            "_model_module_version": "1.5.0",
            "_model_name": "DescriptionStyleModel",
            "_view_count": null,
            "_view_module": "@jupyter-widgets/base",
            "_view_module_version": "1.2.0",
            "_view_name": "StyleView",
            "description_width": ""
          }
        },
        "8120c839cf814ff2a468087f18882d8d": {
          "model_module": "@jupyter-widgets/base",
          "model_name": "LayoutModel",
          "model_module_version": "1.2.0",
          "state": {
            "_model_module": "@jupyter-widgets/base",
            "_model_module_version": "1.2.0",
            "_model_name": "LayoutModel",
            "_view_count": null,
            "_view_module": "@jupyter-widgets/base",
            "_view_module_version": "1.2.0",
            "_view_name": "LayoutView",
            "align_content": null,
            "align_items": null,
            "align_self": null,
            "border": null,
            "bottom": null,
            "display": null,
            "flex": null,
            "flex_flow": null,
            "grid_area": null,
            "grid_auto_columns": null,
            "grid_auto_flow": null,
            "grid_auto_rows": null,
            "grid_column": null,
            "grid_gap": null,
            "grid_row": null,
            "grid_template_areas": null,
            "grid_template_columns": null,
            "grid_template_rows": null,
            "height": null,
            "justify_content": null,
            "justify_items": null,
            "left": null,
            "margin": null,
            "max_height": null,
            "max_width": null,
            "min_height": null,
            "min_width": null,
            "object_fit": null,
            "object_position": null,
            "order": null,
            "overflow": null,
            "overflow_x": null,
            "overflow_y": null,
            "padding": null,
            "right": null,
            "top": null,
            "visibility": null,
            "width": null
          }
        },
        "6718674197b14b7cb69ae53ce2296098": {
          "model_module": "@jupyter-widgets/controls",
          "model_name": "ProgressStyleModel",
          "model_module_version": "1.5.0",
          "state": {
            "_model_module": "@jupyter-widgets/controls",
            "_model_module_version": "1.5.0",
            "_model_name": "ProgressStyleModel",
            "_view_count": null,
            "_view_module": "@jupyter-widgets/base",
            "_view_module_version": "1.2.0",
            "_view_name": "StyleView",
            "bar_color": null,
            "description_width": ""
          }
        },
        "0be4c1c9f2124f8397b1f6bcd62c26f4": {
          "model_module": "@jupyter-widgets/base",
          "model_name": "LayoutModel",
          "model_module_version": "1.2.0",
          "state": {
            "_model_module": "@jupyter-widgets/base",
            "_model_module_version": "1.2.0",
            "_model_name": "LayoutModel",
            "_view_count": null,
            "_view_module": "@jupyter-widgets/base",
            "_view_module_version": "1.2.0",
            "_view_name": "LayoutView",
            "align_content": null,
            "align_items": null,
            "align_self": null,
            "border": null,
            "bottom": null,
            "display": null,
            "flex": null,
            "flex_flow": null,
            "grid_area": null,
            "grid_auto_columns": null,
            "grid_auto_flow": null,
            "grid_auto_rows": null,
            "grid_column": null,
            "grid_gap": null,
            "grid_row": null,
            "grid_template_areas": null,
            "grid_template_columns": null,
            "grid_template_rows": null,
            "height": null,
            "justify_content": null,
            "justify_items": null,
            "left": null,
            "margin": null,
            "max_height": null,
            "max_width": null,
            "min_height": null,
            "min_width": null,
            "object_fit": null,
            "object_position": null,
            "order": null,
            "overflow": null,
            "overflow_x": null,
            "overflow_y": null,
            "padding": null,
            "right": null,
            "top": null,
            "visibility": null,
            "width": null
          }
        },
        "1497f2ee11ef442dac58950218d93eb5": {
          "model_module": "@jupyter-widgets/controls",
          "model_name": "DescriptionStyleModel",
          "model_module_version": "1.5.0",
          "state": {
            "_model_module": "@jupyter-widgets/controls",
            "_model_module_version": "1.5.0",
            "_model_name": "DescriptionStyleModel",
            "_view_count": null,
            "_view_module": "@jupyter-widgets/base",
            "_view_module_version": "1.2.0",
            "_view_name": "StyleView",
            "description_width": ""
          }
        },
        "c0c189f83c1441b7b39a39f6aa635870": {
          "model_module": "@jupyter-widgets/controls",
          "model_name": "VBoxModel",
          "model_module_version": "1.5.0",
          "state": {
            "_dom_classes": [],
            "_model_module": "@jupyter-widgets/controls",
            "_model_module_version": "1.5.0",
            "_model_name": "VBoxModel",
            "_view_count": null,
            "_view_module": "@jupyter-widgets/controls",
            "_view_module_version": "1.5.0",
            "_view_name": "VBoxView",
            "box_style": "",
            "children": [
              "IPY_MODEL_0d9e499afac245638b52111d918f6f4e",
              "IPY_MODEL_c735d959a001491a833b11a10733009e"
            ],
            "layout": "IPY_MODEL_f6c921c843914573b56baddd7b5be38a"
          }
        },
        "0d9e499afac245638b52111d918f6f4e": {
          "model_module": "@jupyter-widgets/controls",
          "model_name": "LabelModel",
          "model_module_version": "1.5.0",
          "state": {
            "_dom_classes": [],
            "_model_module": "@jupyter-widgets/controls",
            "_model_module_version": "1.5.0",
            "_model_name": "LabelModel",
            "_view_count": null,
            "_view_module": "@jupyter-widgets/controls",
            "_view_module_version": "1.5.0",
            "_view_name": "LabelView",
            "description": "",
            "description_tooltip": null,
            "layout": "IPY_MODEL_7cce7d52fdd64c49b6258eda343015d7",
            "placeholder": "​",
            "style": "IPY_MODEL_182f82a58f064d66b74ab4119c88aa11",
            "value": "0.010 MB of 0.010 MB uploaded\r"
          }
        },
        "c735d959a001491a833b11a10733009e": {
          "model_module": "@jupyter-widgets/controls",
          "model_name": "FloatProgressModel",
          "model_module_version": "1.5.0",
          "state": {
            "_dom_classes": [],
            "_model_module": "@jupyter-widgets/controls",
            "_model_module_version": "1.5.0",
            "_model_name": "FloatProgressModel",
            "_view_count": null,
            "_view_module": "@jupyter-widgets/controls",
            "_view_module_version": "1.5.0",
            "_view_name": "ProgressView",
            "bar_style": "",
            "description": "",
            "description_tooltip": null,
            "layout": "IPY_MODEL_9df63675a6114395b6a8a27184be051f",
            "max": 1,
            "min": 0,
            "orientation": "horizontal",
            "style": "IPY_MODEL_2605862c13be4446a84660a374574cc1",
            "value": 1
          }
        },
        "f6c921c843914573b56baddd7b5be38a": {
          "model_module": "@jupyter-widgets/base",
          "model_name": "LayoutModel",
          "model_module_version": "1.2.0",
          "state": {
            "_model_module": "@jupyter-widgets/base",
            "_model_module_version": "1.2.0",
            "_model_name": "LayoutModel",
            "_view_count": null,
            "_view_module": "@jupyter-widgets/base",
            "_view_module_version": "1.2.0",
            "_view_name": "LayoutView",
            "align_content": null,
            "align_items": null,
            "align_self": null,
            "border": null,
            "bottom": null,
            "display": null,
            "flex": null,
            "flex_flow": null,
            "grid_area": null,
            "grid_auto_columns": null,
            "grid_auto_flow": null,
            "grid_auto_rows": null,
            "grid_column": null,
            "grid_gap": null,
            "grid_row": null,
            "grid_template_areas": null,
            "grid_template_columns": null,
            "grid_template_rows": null,
            "height": null,
            "justify_content": null,
            "justify_items": null,
            "left": null,
            "margin": null,
            "max_height": null,
            "max_width": null,
            "min_height": null,
            "min_width": null,
            "object_fit": null,
            "object_position": null,
            "order": null,
            "overflow": null,
            "overflow_x": null,
            "overflow_y": null,
            "padding": null,
            "right": null,
            "top": null,
            "visibility": null,
            "width": null
          }
        },
        "7cce7d52fdd64c49b6258eda343015d7": {
          "model_module": "@jupyter-widgets/base",
          "model_name": "LayoutModel",
          "model_module_version": "1.2.0",
          "state": {
            "_model_module": "@jupyter-widgets/base",
            "_model_module_version": "1.2.0",
            "_model_name": "LayoutModel",
            "_view_count": null,
            "_view_module": "@jupyter-widgets/base",
            "_view_module_version": "1.2.0",
            "_view_name": "LayoutView",
            "align_content": null,
            "align_items": null,
            "align_self": null,
            "border": null,
            "bottom": null,
            "display": null,
            "flex": null,
            "flex_flow": null,
            "grid_area": null,
            "grid_auto_columns": null,
            "grid_auto_flow": null,
            "grid_auto_rows": null,
            "grid_column": null,
            "grid_gap": null,
            "grid_row": null,
            "grid_template_areas": null,
            "grid_template_columns": null,
            "grid_template_rows": null,
            "height": null,
            "justify_content": null,
            "justify_items": null,
            "left": null,
            "margin": null,
            "max_height": null,
            "max_width": null,
            "min_height": null,
            "min_width": null,
            "object_fit": null,
            "object_position": null,
            "order": null,
            "overflow": null,
            "overflow_x": null,
            "overflow_y": null,
            "padding": null,
            "right": null,
            "top": null,
            "visibility": null,
            "width": null
          }
        },
        "182f82a58f064d66b74ab4119c88aa11": {
          "model_module": "@jupyter-widgets/controls",
          "model_name": "DescriptionStyleModel",
          "model_module_version": "1.5.0",
          "state": {
            "_model_module": "@jupyter-widgets/controls",
            "_model_module_version": "1.5.0",
            "_model_name": "DescriptionStyleModel",
            "_view_count": null,
            "_view_module": "@jupyter-widgets/base",
            "_view_module_version": "1.2.0",
            "_view_name": "StyleView",
            "description_width": ""
          }
        },
        "9df63675a6114395b6a8a27184be051f": {
          "model_module": "@jupyter-widgets/base",
          "model_name": "LayoutModel",
          "model_module_version": "1.2.0",
          "state": {
            "_model_module": "@jupyter-widgets/base",
            "_model_module_version": "1.2.0",
            "_model_name": "LayoutModel",
            "_view_count": null,
            "_view_module": "@jupyter-widgets/base",
            "_view_module_version": "1.2.0",
            "_view_name": "LayoutView",
            "align_content": null,
            "align_items": null,
            "align_self": null,
            "border": null,
            "bottom": null,
            "display": null,
            "flex": null,
            "flex_flow": null,
            "grid_area": null,
            "grid_auto_columns": null,
            "grid_auto_flow": null,
            "grid_auto_rows": null,
            "grid_column": null,
            "grid_gap": null,
            "grid_row": null,
            "grid_template_areas": null,
            "grid_template_columns": null,
            "grid_template_rows": null,
            "height": null,
            "justify_content": null,
            "justify_items": null,
            "left": null,
            "margin": null,
            "max_height": null,
            "max_width": null,
            "min_height": null,
            "min_width": null,
            "object_fit": null,
            "object_position": null,
            "order": null,
            "overflow": null,
            "overflow_x": null,
            "overflow_y": null,
            "padding": null,
            "right": null,
            "top": null,
            "visibility": null,
            "width": null
          }
        },
        "2605862c13be4446a84660a374574cc1": {
          "model_module": "@jupyter-widgets/controls",
          "model_name": "ProgressStyleModel",
          "model_module_version": "1.5.0",
          "state": {
            "_model_module": "@jupyter-widgets/controls",
            "_model_module_version": "1.5.0",
            "_model_name": "ProgressStyleModel",
            "_view_count": null,
            "_view_module": "@jupyter-widgets/base",
            "_view_module_version": "1.2.0",
            "_view_name": "StyleView",
            "bar_color": null,
            "description_width": ""
          }
        },
        "ea5d0dc80dcc49cf910e4a92809e9434": {
          "model_module": "@jupyter-widgets/controls",
          "model_name": "HBoxModel",
          "model_module_version": "1.5.0",
          "state": {
            "_dom_classes": [],
            "_model_module": "@jupyter-widgets/controls",
            "_model_module_version": "1.5.0",
            "_model_name": "HBoxModel",
            "_view_count": null,
            "_view_module": "@jupyter-widgets/controls",
            "_view_module_version": "1.5.0",
            "_view_name": "HBoxView",
            "box_style": "",
            "children": [
              "IPY_MODEL_c66fff32754742b0b759d4fc777e987e",
              "IPY_MODEL_eef5781c27054ac3881d6252de03a239",
              "IPY_MODEL_e9f2fabcf5654c4688f14fffecd4f407"
            ],
            "layout": "IPY_MODEL_2f2828304f6c41f795075fbf1fb5b2be"
          }
        },
        "c66fff32754742b0b759d4fc777e987e": {
          "model_module": "@jupyter-widgets/controls",
          "model_name": "HTMLModel",
          "model_module_version": "1.5.0",
          "state": {
            "_dom_classes": [],
            "_model_module": "@jupyter-widgets/controls",
            "_model_module_version": "1.5.0",
            "_model_name": "HTMLModel",
            "_view_count": null,
            "_view_module": "@jupyter-widgets/controls",
            "_view_module_version": "1.5.0",
            "_view_name": "HTMLView",
            "description": "",
            "description_tooltip": null,
            "layout": "IPY_MODEL_accb4df9a3234a08805ab2339967891d",
            "placeholder": "​",
            "style": "IPY_MODEL_ad3ce9c917c543c290cc1d59bda157a9",
            "value": "100%"
          }
        },
        "eef5781c27054ac3881d6252de03a239": {
          "model_module": "@jupyter-widgets/controls",
          "model_name": "FloatProgressModel",
          "model_module_version": "1.5.0",
          "state": {
            "_dom_classes": [],
            "_model_module": "@jupyter-widgets/controls",
            "_model_module_version": "1.5.0",
            "_model_name": "FloatProgressModel",
            "_view_count": null,
            "_view_module": "@jupyter-widgets/controls",
            "_view_module_version": "1.5.0",
            "_view_name": "ProgressView",
            "bar_style": "success",
            "description": "",
            "description_tooltip": null,
            "layout": "IPY_MODEL_b18efa75df474081aca84bf140c2e4e4",
            "max": 50,
            "min": 0,
            "orientation": "horizontal",
            "style": "IPY_MODEL_1f24be4d5b5247f7b5fbe04a4c39a9aa",
            "value": 50
          }
        },
        "e9f2fabcf5654c4688f14fffecd4f407": {
          "model_module": "@jupyter-widgets/controls",
          "model_name": "HTMLModel",
          "model_module_version": "1.5.0",
          "state": {
            "_dom_classes": [],
            "_model_module": "@jupyter-widgets/controls",
            "_model_module_version": "1.5.0",
            "_model_name": "HTMLModel",
            "_view_count": null,
            "_view_module": "@jupyter-widgets/controls",
            "_view_module_version": "1.5.0",
            "_view_name": "HTMLView",
            "description": "",
            "description_tooltip": null,
            "layout": "IPY_MODEL_a1ac0988b6034d7fa72acad42670869a",
            "placeholder": "​",
            "style": "IPY_MODEL_d36ce7976cc541ae9d16762b20d7ea5e",
            "value": " 50/50 [00:41&lt;00:00,  1.10it/s]"
          }
        },
        "2f2828304f6c41f795075fbf1fb5b2be": {
          "model_module": "@jupyter-widgets/base",
          "model_name": "LayoutModel",
          "model_module_version": "1.2.0",
          "state": {
            "_model_module": "@jupyter-widgets/base",
            "_model_module_version": "1.2.0",
            "_model_name": "LayoutModel",
            "_view_count": null,
            "_view_module": "@jupyter-widgets/base",
            "_view_module_version": "1.2.0",
            "_view_name": "LayoutView",
            "align_content": null,
            "align_items": null,
            "align_self": null,
            "border": null,
            "bottom": null,
            "display": null,
            "flex": null,
            "flex_flow": null,
            "grid_area": null,
            "grid_auto_columns": null,
            "grid_auto_flow": null,
            "grid_auto_rows": null,
            "grid_column": null,
            "grid_gap": null,
            "grid_row": null,
            "grid_template_areas": null,
            "grid_template_columns": null,
            "grid_template_rows": null,
            "height": null,
            "justify_content": null,
            "justify_items": null,
            "left": null,
            "margin": null,
            "max_height": null,
            "max_width": null,
            "min_height": null,
            "min_width": null,
            "object_fit": null,
            "object_position": null,
            "order": null,
            "overflow": null,
            "overflow_x": null,
            "overflow_y": null,
            "padding": null,
            "right": null,
            "top": null,
            "visibility": null,
            "width": null
          }
        },
        "accb4df9a3234a08805ab2339967891d": {
          "model_module": "@jupyter-widgets/base",
          "model_name": "LayoutModel",
          "model_module_version": "1.2.0",
          "state": {
            "_model_module": "@jupyter-widgets/base",
            "_model_module_version": "1.2.0",
            "_model_name": "LayoutModel",
            "_view_count": null,
            "_view_module": "@jupyter-widgets/base",
            "_view_module_version": "1.2.0",
            "_view_name": "LayoutView",
            "align_content": null,
            "align_items": null,
            "align_self": null,
            "border": null,
            "bottom": null,
            "display": null,
            "flex": null,
            "flex_flow": null,
            "grid_area": null,
            "grid_auto_columns": null,
            "grid_auto_flow": null,
            "grid_auto_rows": null,
            "grid_column": null,
            "grid_gap": null,
            "grid_row": null,
            "grid_template_areas": null,
            "grid_template_columns": null,
            "grid_template_rows": null,
            "height": null,
            "justify_content": null,
            "justify_items": null,
            "left": null,
            "margin": null,
            "max_height": null,
            "max_width": null,
            "min_height": null,
            "min_width": null,
            "object_fit": null,
            "object_position": null,
            "order": null,
            "overflow": null,
            "overflow_x": null,
            "overflow_y": null,
            "padding": null,
            "right": null,
            "top": null,
            "visibility": null,
            "width": null
          }
        },
        "ad3ce9c917c543c290cc1d59bda157a9": {
          "model_module": "@jupyter-widgets/controls",
          "model_name": "DescriptionStyleModel",
          "model_module_version": "1.5.0",
          "state": {
            "_model_module": "@jupyter-widgets/controls",
            "_model_module_version": "1.5.0",
            "_model_name": "DescriptionStyleModel",
            "_view_count": null,
            "_view_module": "@jupyter-widgets/base",
            "_view_module_version": "1.2.0",
            "_view_name": "StyleView",
            "description_width": ""
          }
        },
        "b18efa75df474081aca84bf140c2e4e4": {
          "model_module": "@jupyter-widgets/base",
          "model_name": "LayoutModel",
          "model_module_version": "1.2.0",
          "state": {
            "_model_module": "@jupyter-widgets/base",
            "_model_module_version": "1.2.0",
            "_model_name": "LayoutModel",
            "_view_count": null,
            "_view_module": "@jupyter-widgets/base",
            "_view_module_version": "1.2.0",
            "_view_name": "LayoutView",
            "align_content": null,
            "align_items": null,
            "align_self": null,
            "border": null,
            "bottom": null,
            "display": null,
            "flex": null,
            "flex_flow": null,
            "grid_area": null,
            "grid_auto_columns": null,
            "grid_auto_flow": null,
            "grid_auto_rows": null,
            "grid_column": null,
            "grid_gap": null,
            "grid_row": null,
            "grid_template_areas": null,
            "grid_template_columns": null,
            "grid_template_rows": null,
            "height": null,
            "justify_content": null,
            "justify_items": null,
            "left": null,
            "margin": null,
            "max_height": null,
            "max_width": null,
            "min_height": null,
            "min_width": null,
            "object_fit": null,
            "object_position": null,
            "order": null,
            "overflow": null,
            "overflow_x": null,
            "overflow_y": null,
            "padding": null,
            "right": null,
            "top": null,
            "visibility": null,
            "width": null
          }
        },
        "1f24be4d5b5247f7b5fbe04a4c39a9aa": {
          "model_module": "@jupyter-widgets/controls",
          "model_name": "ProgressStyleModel",
          "model_module_version": "1.5.0",
          "state": {
            "_model_module": "@jupyter-widgets/controls",
            "_model_module_version": "1.5.0",
            "_model_name": "ProgressStyleModel",
            "_view_count": null,
            "_view_module": "@jupyter-widgets/base",
            "_view_module_version": "1.2.0",
            "_view_name": "StyleView",
            "bar_color": null,
            "description_width": ""
          }
        },
        "a1ac0988b6034d7fa72acad42670869a": {
          "model_module": "@jupyter-widgets/base",
          "model_name": "LayoutModel",
          "model_module_version": "1.2.0",
          "state": {
            "_model_module": "@jupyter-widgets/base",
            "_model_module_version": "1.2.0",
            "_model_name": "LayoutModel",
            "_view_count": null,
            "_view_module": "@jupyter-widgets/base",
            "_view_module_version": "1.2.0",
            "_view_name": "LayoutView",
            "align_content": null,
            "align_items": null,
            "align_self": null,
            "border": null,
            "bottom": null,
            "display": null,
            "flex": null,
            "flex_flow": null,
            "grid_area": null,
            "grid_auto_columns": null,
            "grid_auto_flow": null,
            "grid_auto_rows": null,
            "grid_column": null,
            "grid_gap": null,
            "grid_row": null,
            "grid_template_areas": null,
            "grid_template_columns": null,
            "grid_template_rows": null,
            "height": null,
            "justify_content": null,
            "justify_items": null,
            "left": null,
            "margin": null,
            "max_height": null,
            "max_width": null,
            "min_height": null,
            "min_width": null,
            "object_fit": null,
            "object_position": null,
            "order": null,
            "overflow": null,
            "overflow_x": null,
            "overflow_y": null,
            "padding": null,
            "right": null,
            "top": null,
            "visibility": null,
            "width": null
          }
        },
        "d36ce7976cc541ae9d16762b20d7ea5e": {
          "model_module": "@jupyter-widgets/controls",
          "model_name": "DescriptionStyleModel",
          "model_module_version": "1.5.0",
          "state": {
            "_model_module": "@jupyter-widgets/controls",
            "_model_module_version": "1.5.0",
            "_model_name": "DescriptionStyleModel",
            "_view_count": null,
            "_view_module": "@jupyter-widgets/base",
            "_view_module_version": "1.2.0",
            "_view_name": "StyleView",
            "description_width": ""
          }
        },
        "c1b367d31ba64e9ebce6ba37e2e1e360": {
          "model_module": "@jupyter-widgets/controls",
          "model_name": "VBoxModel",
          "model_module_version": "1.5.0",
          "state": {
            "_dom_classes": [],
            "_model_module": "@jupyter-widgets/controls",
            "_model_module_version": "1.5.0",
            "_model_name": "VBoxModel",
            "_view_count": null,
            "_view_module": "@jupyter-widgets/controls",
            "_view_module_version": "1.5.0",
            "_view_name": "VBoxView",
            "box_style": "",
            "children": [
              "IPY_MODEL_1ceae34c6a5b4473b31ec057ebe43b93",
              "IPY_MODEL_9fa59ef1e7b942478a4e1c9aecde31b9"
            ],
            "layout": "IPY_MODEL_c6a2f86ad9d0405589e2fb1b94c1e113"
          }
        },
        "1ceae34c6a5b4473b31ec057ebe43b93": {
          "model_module": "@jupyter-widgets/controls",
          "model_name": "LabelModel",
          "model_module_version": "1.5.0",
          "state": {
            "_dom_classes": [],
            "_model_module": "@jupyter-widgets/controls",
            "_model_module_version": "1.5.0",
            "_model_name": "LabelModel",
            "_view_count": null,
            "_view_module": "@jupyter-widgets/controls",
            "_view_module_version": "1.5.0",
            "_view_name": "LabelView",
            "description": "",
            "description_tooltip": null,
            "layout": "IPY_MODEL_a98da9a9013147c48138f18275004320",
            "placeholder": "​",
            "style": "IPY_MODEL_edc95f5372be426385641246c7af2279",
            "value": "0.010 MB of 0.010 MB uploaded\r"
          }
        },
        "9fa59ef1e7b942478a4e1c9aecde31b9": {
          "model_module": "@jupyter-widgets/controls",
          "model_name": "FloatProgressModel",
          "model_module_version": "1.5.0",
          "state": {
            "_dom_classes": [],
            "_model_module": "@jupyter-widgets/controls",
            "_model_module_version": "1.5.0",
            "_model_name": "FloatProgressModel",
            "_view_count": null,
            "_view_module": "@jupyter-widgets/controls",
            "_view_module_version": "1.5.0",
            "_view_name": "ProgressView",
            "bar_style": "",
            "description": "",
            "description_tooltip": null,
            "layout": "IPY_MODEL_9706af4187a64e6f96cabbce9380ff37",
            "max": 1,
            "min": 0,
            "orientation": "horizontal",
            "style": "IPY_MODEL_32e25c72e6364a00bf2d9045c3d26501",
            "value": 1
          }
        },
        "c6a2f86ad9d0405589e2fb1b94c1e113": {
          "model_module": "@jupyter-widgets/base",
          "model_name": "LayoutModel",
          "model_module_version": "1.2.0",
          "state": {
            "_model_module": "@jupyter-widgets/base",
            "_model_module_version": "1.2.0",
            "_model_name": "LayoutModel",
            "_view_count": null,
            "_view_module": "@jupyter-widgets/base",
            "_view_module_version": "1.2.0",
            "_view_name": "LayoutView",
            "align_content": null,
            "align_items": null,
            "align_self": null,
            "border": null,
            "bottom": null,
            "display": null,
            "flex": null,
            "flex_flow": null,
            "grid_area": null,
            "grid_auto_columns": null,
            "grid_auto_flow": null,
            "grid_auto_rows": null,
            "grid_column": null,
            "grid_gap": null,
            "grid_row": null,
            "grid_template_areas": null,
            "grid_template_columns": null,
            "grid_template_rows": null,
            "height": null,
            "justify_content": null,
            "justify_items": null,
            "left": null,
            "margin": null,
            "max_height": null,
            "max_width": null,
            "min_height": null,
            "min_width": null,
            "object_fit": null,
            "object_position": null,
            "order": null,
            "overflow": null,
            "overflow_x": null,
            "overflow_y": null,
            "padding": null,
            "right": null,
            "top": null,
            "visibility": null,
            "width": null
          }
        },
        "a98da9a9013147c48138f18275004320": {
          "model_module": "@jupyter-widgets/base",
          "model_name": "LayoutModel",
          "model_module_version": "1.2.0",
          "state": {
            "_model_module": "@jupyter-widgets/base",
            "_model_module_version": "1.2.0",
            "_model_name": "LayoutModel",
            "_view_count": null,
            "_view_module": "@jupyter-widgets/base",
            "_view_module_version": "1.2.0",
            "_view_name": "LayoutView",
            "align_content": null,
            "align_items": null,
            "align_self": null,
            "border": null,
            "bottom": null,
            "display": null,
            "flex": null,
            "flex_flow": null,
            "grid_area": null,
            "grid_auto_columns": null,
            "grid_auto_flow": null,
            "grid_auto_rows": null,
            "grid_column": null,
            "grid_gap": null,
            "grid_row": null,
            "grid_template_areas": null,
            "grid_template_columns": null,
            "grid_template_rows": null,
            "height": null,
            "justify_content": null,
            "justify_items": null,
            "left": null,
            "margin": null,
            "max_height": null,
            "max_width": null,
            "min_height": null,
            "min_width": null,
            "object_fit": null,
            "object_position": null,
            "order": null,
            "overflow": null,
            "overflow_x": null,
            "overflow_y": null,
            "padding": null,
            "right": null,
            "top": null,
            "visibility": null,
            "width": null
          }
        },
        "edc95f5372be426385641246c7af2279": {
          "model_module": "@jupyter-widgets/controls",
          "model_name": "DescriptionStyleModel",
          "model_module_version": "1.5.0",
          "state": {
            "_model_module": "@jupyter-widgets/controls",
            "_model_module_version": "1.5.0",
            "_model_name": "DescriptionStyleModel",
            "_view_count": null,
            "_view_module": "@jupyter-widgets/base",
            "_view_module_version": "1.2.0",
            "_view_name": "StyleView",
            "description_width": ""
          }
        },
        "9706af4187a64e6f96cabbce9380ff37": {
          "model_module": "@jupyter-widgets/base",
          "model_name": "LayoutModel",
          "model_module_version": "1.2.0",
          "state": {
            "_model_module": "@jupyter-widgets/base",
            "_model_module_version": "1.2.0",
            "_model_name": "LayoutModel",
            "_view_count": null,
            "_view_module": "@jupyter-widgets/base",
            "_view_module_version": "1.2.0",
            "_view_name": "LayoutView",
            "align_content": null,
            "align_items": null,
            "align_self": null,
            "border": null,
            "bottom": null,
            "display": null,
            "flex": null,
            "flex_flow": null,
            "grid_area": null,
            "grid_auto_columns": null,
            "grid_auto_flow": null,
            "grid_auto_rows": null,
            "grid_column": null,
            "grid_gap": null,
            "grid_row": null,
            "grid_template_areas": null,
            "grid_template_columns": null,
            "grid_template_rows": null,
            "height": null,
            "justify_content": null,
            "justify_items": null,
            "left": null,
            "margin": null,
            "max_height": null,
            "max_width": null,
            "min_height": null,
            "min_width": null,
            "object_fit": null,
            "object_position": null,
            "order": null,
            "overflow": null,
            "overflow_x": null,
            "overflow_y": null,
            "padding": null,
            "right": null,
            "top": null,
            "visibility": null,
            "width": null
          }
        },
        "32e25c72e6364a00bf2d9045c3d26501": {
          "model_module": "@jupyter-widgets/controls",
          "model_name": "ProgressStyleModel",
          "model_module_version": "1.5.0",
          "state": {
            "_model_module": "@jupyter-widgets/controls",
            "_model_module_version": "1.5.0",
            "_model_name": "ProgressStyleModel",
            "_view_count": null,
            "_view_module": "@jupyter-widgets/base",
            "_view_module_version": "1.2.0",
            "_view_name": "StyleView",
            "bar_color": null,
            "description_width": ""
          }
        },
        "2e9a22da444941e7a890d4fb3957140d": {
          "model_module": "@jupyter-widgets/controls",
          "model_name": "HBoxModel",
          "model_module_version": "1.5.0",
          "state": {
            "_dom_classes": [],
            "_model_module": "@jupyter-widgets/controls",
            "_model_module_version": "1.5.0",
            "_model_name": "HBoxModel",
            "_view_count": null,
            "_view_module": "@jupyter-widgets/controls",
            "_view_module_version": "1.5.0",
            "_view_name": "HBoxView",
            "box_style": "",
            "children": [
              "IPY_MODEL_59fdff14501f42ecac388d6a8f1fee19",
              "IPY_MODEL_5c9f503d8db94051976f470dacef2d67",
              "IPY_MODEL_cbd1db151b444f1d9b61107b9a3e1ff1"
            ],
            "layout": "IPY_MODEL_9cade355075b4057b8b1f77e6d934543"
          }
        },
        "59fdff14501f42ecac388d6a8f1fee19": {
          "model_module": "@jupyter-widgets/controls",
          "model_name": "HTMLModel",
          "model_module_version": "1.5.0",
          "state": {
            "_dom_classes": [],
            "_model_module": "@jupyter-widgets/controls",
            "_model_module_version": "1.5.0",
            "_model_name": "HTMLModel",
            "_view_count": null,
            "_view_module": "@jupyter-widgets/controls",
            "_view_module_version": "1.5.0",
            "_view_name": "HTMLView",
            "description": "",
            "description_tooltip": null,
            "layout": "IPY_MODEL_d5264308121042ef80081fbd26271ecd",
            "placeholder": "​",
            "style": "IPY_MODEL_77ad2770b8d444debd11446d4e9c0ea5",
            "value": "100%"
          }
        },
        "5c9f503d8db94051976f470dacef2d67": {
          "model_module": "@jupyter-widgets/controls",
          "model_name": "FloatProgressModel",
          "model_module_version": "1.5.0",
          "state": {
            "_dom_classes": [],
            "_model_module": "@jupyter-widgets/controls",
            "_model_module_version": "1.5.0",
            "_model_name": "FloatProgressModel",
            "_view_count": null,
            "_view_module": "@jupyter-widgets/controls",
            "_view_module_version": "1.5.0",
            "_view_name": "ProgressView",
            "bar_style": "success",
            "description": "",
            "description_tooltip": null,
            "layout": "IPY_MODEL_57aa298a2ffb42f78250bf4a90a33b0f",
            "max": 50,
            "min": 0,
            "orientation": "horizontal",
            "style": "IPY_MODEL_8442d72708d240f993d7b2d52dd19a20",
            "value": 50
          }
        },
        "cbd1db151b444f1d9b61107b9a3e1ff1": {
          "model_module": "@jupyter-widgets/controls",
          "model_name": "HTMLModel",
          "model_module_version": "1.5.0",
          "state": {
            "_dom_classes": [],
            "_model_module": "@jupyter-widgets/controls",
            "_model_module_version": "1.5.0",
            "_model_name": "HTMLModel",
            "_view_count": null,
            "_view_module": "@jupyter-widgets/controls",
            "_view_module_version": "1.5.0",
            "_view_name": "HTMLView",
            "description": "",
            "description_tooltip": null,
            "layout": "IPY_MODEL_adb8d380b73a4f77a03a0dbc819c9052",
            "placeholder": "​",
            "style": "IPY_MODEL_3d501a6ee4204d488aa5909b26bc9054",
            "value": " 50/50 [00:41&lt;00:00,  1.25it/s]"
          }
        },
        "9cade355075b4057b8b1f77e6d934543": {
          "model_module": "@jupyter-widgets/base",
          "model_name": "LayoutModel",
          "model_module_version": "1.2.0",
          "state": {
            "_model_module": "@jupyter-widgets/base",
            "_model_module_version": "1.2.0",
            "_model_name": "LayoutModel",
            "_view_count": null,
            "_view_module": "@jupyter-widgets/base",
            "_view_module_version": "1.2.0",
            "_view_name": "LayoutView",
            "align_content": null,
            "align_items": null,
            "align_self": null,
            "border": null,
            "bottom": null,
            "display": null,
            "flex": null,
            "flex_flow": null,
            "grid_area": null,
            "grid_auto_columns": null,
            "grid_auto_flow": null,
            "grid_auto_rows": null,
            "grid_column": null,
            "grid_gap": null,
            "grid_row": null,
            "grid_template_areas": null,
            "grid_template_columns": null,
            "grid_template_rows": null,
            "height": null,
            "justify_content": null,
            "justify_items": null,
            "left": null,
            "margin": null,
            "max_height": null,
            "max_width": null,
            "min_height": null,
            "min_width": null,
            "object_fit": null,
            "object_position": null,
            "order": null,
            "overflow": null,
            "overflow_x": null,
            "overflow_y": null,
            "padding": null,
            "right": null,
            "top": null,
            "visibility": null,
            "width": null
          }
        },
        "d5264308121042ef80081fbd26271ecd": {
          "model_module": "@jupyter-widgets/base",
          "model_name": "LayoutModel",
          "model_module_version": "1.2.0",
          "state": {
            "_model_module": "@jupyter-widgets/base",
            "_model_module_version": "1.2.0",
            "_model_name": "LayoutModel",
            "_view_count": null,
            "_view_module": "@jupyter-widgets/base",
            "_view_module_version": "1.2.0",
            "_view_name": "LayoutView",
            "align_content": null,
            "align_items": null,
            "align_self": null,
            "border": null,
            "bottom": null,
            "display": null,
            "flex": null,
            "flex_flow": null,
            "grid_area": null,
            "grid_auto_columns": null,
            "grid_auto_flow": null,
            "grid_auto_rows": null,
            "grid_column": null,
            "grid_gap": null,
            "grid_row": null,
            "grid_template_areas": null,
            "grid_template_columns": null,
            "grid_template_rows": null,
            "height": null,
            "justify_content": null,
            "justify_items": null,
            "left": null,
            "margin": null,
            "max_height": null,
            "max_width": null,
            "min_height": null,
            "min_width": null,
            "object_fit": null,
            "object_position": null,
            "order": null,
            "overflow": null,
            "overflow_x": null,
            "overflow_y": null,
            "padding": null,
            "right": null,
            "top": null,
            "visibility": null,
            "width": null
          }
        },
        "77ad2770b8d444debd11446d4e9c0ea5": {
          "model_module": "@jupyter-widgets/controls",
          "model_name": "DescriptionStyleModel",
          "model_module_version": "1.5.0",
          "state": {
            "_model_module": "@jupyter-widgets/controls",
            "_model_module_version": "1.5.0",
            "_model_name": "DescriptionStyleModel",
            "_view_count": null,
            "_view_module": "@jupyter-widgets/base",
            "_view_module_version": "1.2.0",
            "_view_name": "StyleView",
            "description_width": ""
          }
        },
        "57aa298a2ffb42f78250bf4a90a33b0f": {
          "model_module": "@jupyter-widgets/base",
          "model_name": "LayoutModel",
          "model_module_version": "1.2.0",
          "state": {
            "_model_module": "@jupyter-widgets/base",
            "_model_module_version": "1.2.0",
            "_model_name": "LayoutModel",
            "_view_count": null,
            "_view_module": "@jupyter-widgets/base",
            "_view_module_version": "1.2.0",
            "_view_name": "LayoutView",
            "align_content": null,
            "align_items": null,
            "align_self": null,
            "border": null,
            "bottom": null,
            "display": null,
            "flex": null,
            "flex_flow": null,
            "grid_area": null,
            "grid_auto_columns": null,
            "grid_auto_flow": null,
            "grid_auto_rows": null,
            "grid_column": null,
            "grid_gap": null,
            "grid_row": null,
            "grid_template_areas": null,
            "grid_template_columns": null,
            "grid_template_rows": null,
            "height": null,
            "justify_content": null,
            "justify_items": null,
            "left": null,
            "margin": null,
            "max_height": null,
            "max_width": null,
            "min_height": null,
            "min_width": null,
            "object_fit": null,
            "object_position": null,
            "order": null,
            "overflow": null,
            "overflow_x": null,
            "overflow_y": null,
            "padding": null,
            "right": null,
            "top": null,
            "visibility": null,
            "width": null
          }
        },
        "8442d72708d240f993d7b2d52dd19a20": {
          "model_module": "@jupyter-widgets/controls",
          "model_name": "ProgressStyleModel",
          "model_module_version": "1.5.0",
          "state": {
            "_model_module": "@jupyter-widgets/controls",
            "_model_module_version": "1.5.0",
            "_model_name": "ProgressStyleModel",
            "_view_count": null,
            "_view_module": "@jupyter-widgets/base",
            "_view_module_version": "1.2.0",
            "_view_name": "StyleView",
            "bar_color": null,
            "description_width": ""
          }
        },
        "adb8d380b73a4f77a03a0dbc819c9052": {
          "model_module": "@jupyter-widgets/base",
          "model_name": "LayoutModel",
          "model_module_version": "1.2.0",
          "state": {
            "_model_module": "@jupyter-widgets/base",
            "_model_module_version": "1.2.0",
            "_model_name": "LayoutModel",
            "_view_count": null,
            "_view_module": "@jupyter-widgets/base",
            "_view_module_version": "1.2.0",
            "_view_name": "LayoutView",
            "align_content": null,
            "align_items": null,
            "align_self": null,
            "border": null,
            "bottom": null,
            "display": null,
            "flex": null,
            "flex_flow": null,
            "grid_area": null,
            "grid_auto_columns": null,
            "grid_auto_flow": null,
            "grid_auto_rows": null,
            "grid_column": null,
            "grid_gap": null,
            "grid_row": null,
            "grid_template_areas": null,
            "grid_template_columns": null,
            "grid_template_rows": null,
            "height": null,
            "justify_content": null,
            "justify_items": null,
            "left": null,
            "margin": null,
            "max_height": null,
            "max_width": null,
            "min_height": null,
            "min_width": null,
            "object_fit": null,
            "object_position": null,
            "order": null,
            "overflow": null,
            "overflow_x": null,
            "overflow_y": null,
            "padding": null,
            "right": null,
            "top": null,
            "visibility": null,
            "width": null
          }
        },
        "3d501a6ee4204d488aa5909b26bc9054": {
          "model_module": "@jupyter-widgets/controls",
          "model_name": "DescriptionStyleModel",
          "model_module_version": "1.5.0",
          "state": {
            "_model_module": "@jupyter-widgets/controls",
            "_model_module_version": "1.5.0",
            "_model_name": "DescriptionStyleModel",
            "_view_count": null,
            "_view_module": "@jupyter-widgets/base",
            "_view_module_version": "1.2.0",
            "_view_name": "StyleView",
            "description_width": ""
          }
        },
        "23c393ee21df41ea80deec1a42b24a12": {
          "model_module": "@jupyter-widgets/controls",
          "model_name": "VBoxModel",
          "model_module_version": "1.5.0",
          "state": {
            "_dom_classes": [],
            "_model_module": "@jupyter-widgets/controls",
            "_model_module_version": "1.5.0",
            "_model_name": "VBoxModel",
            "_view_count": null,
            "_view_module": "@jupyter-widgets/controls",
            "_view_module_version": "1.5.0",
            "_view_name": "VBoxView",
            "box_style": "",
            "children": [
              "IPY_MODEL_a1c04c13a20345b79993d78150e9d64d",
              "IPY_MODEL_d674db78506a4690bc8d2b15784bd22f"
            ],
            "layout": "IPY_MODEL_960298601a074ab9845bd6c6abf40ba4"
          }
        },
        "a1c04c13a20345b79993d78150e9d64d": {
          "model_module": "@jupyter-widgets/controls",
          "model_name": "LabelModel",
          "model_module_version": "1.5.0",
          "state": {
            "_dom_classes": [],
            "_model_module": "@jupyter-widgets/controls",
            "_model_module_version": "1.5.0",
            "_model_name": "LabelModel",
            "_view_count": null,
            "_view_module": "@jupyter-widgets/controls",
            "_view_module_version": "1.5.0",
            "_view_name": "LabelView",
            "description": "",
            "description_tooltip": null,
            "layout": "IPY_MODEL_cf27a1a260fa45698ced3e47142e2ee4",
            "placeholder": "​",
            "style": "IPY_MODEL_f0cd306896ef498e9929990f349f09f3",
            "value": "0.010 MB of 0.010 MB uploaded\r"
          }
        },
        "d674db78506a4690bc8d2b15784bd22f": {
          "model_module": "@jupyter-widgets/controls",
          "model_name": "FloatProgressModel",
          "model_module_version": "1.5.0",
          "state": {
            "_dom_classes": [],
            "_model_module": "@jupyter-widgets/controls",
            "_model_module_version": "1.5.0",
            "_model_name": "FloatProgressModel",
            "_view_count": null,
            "_view_module": "@jupyter-widgets/controls",
            "_view_module_version": "1.5.0",
            "_view_name": "ProgressView",
            "bar_style": "",
            "description": "",
            "description_tooltip": null,
            "layout": "IPY_MODEL_aeb65940025f4db4afcc5666433c2c77",
            "max": 1,
            "min": 0,
            "orientation": "horizontal",
            "style": "IPY_MODEL_c5b21512d84d485f849023bbb4c38991",
            "value": 1
          }
        },
        "960298601a074ab9845bd6c6abf40ba4": {
          "model_module": "@jupyter-widgets/base",
          "model_name": "LayoutModel",
          "model_module_version": "1.2.0",
          "state": {
            "_model_module": "@jupyter-widgets/base",
            "_model_module_version": "1.2.0",
            "_model_name": "LayoutModel",
            "_view_count": null,
            "_view_module": "@jupyter-widgets/base",
            "_view_module_version": "1.2.0",
            "_view_name": "LayoutView",
            "align_content": null,
            "align_items": null,
            "align_self": null,
            "border": null,
            "bottom": null,
            "display": null,
            "flex": null,
            "flex_flow": null,
            "grid_area": null,
            "grid_auto_columns": null,
            "grid_auto_flow": null,
            "grid_auto_rows": null,
            "grid_column": null,
            "grid_gap": null,
            "grid_row": null,
            "grid_template_areas": null,
            "grid_template_columns": null,
            "grid_template_rows": null,
            "height": null,
            "justify_content": null,
            "justify_items": null,
            "left": null,
            "margin": null,
            "max_height": null,
            "max_width": null,
            "min_height": null,
            "min_width": null,
            "object_fit": null,
            "object_position": null,
            "order": null,
            "overflow": null,
            "overflow_x": null,
            "overflow_y": null,
            "padding": null,
            "right": null,
            "top": null,
            "visibility": null,
            "width": null
          }
        },
        "cf27a1a260fa45698ced3e47142e2ee4": {
          "model_module": "@jupyter-widgets/base",
          "model_name": "LayoutModel",
          "model_module_version": "1.2.0",
          "state": {
            "_model_module": "@jupyter-widgets/base",
            "_model_module_version": "1.2.0",
            "_model_name": "LayoutModel",
            "_view_count": null,
            "_view_module": "@jupyter-widgets/base",
            "_view_module_version": "1.2.0",
            "_view_name": "LayoutView",
            "align_content": null,
            "align_items": null,
            "align_self": null,
            "border": null,
            "bottom": null,
            "display": null,
            "flex": null,
            "flex_flow": null,
            "grid_area": null,
            "grid_auto_columns": null,
            "grid_auto_flow": null,
            "grid_auto_rows": null,
            "grid_column": null,
            "grid_gap": null,
            "grid_row": null,
            "grid_template_areas": null,
            "grid_template_columns": null,
            "grid_template_rows": null,
            "height": null,
            "justify_content": null,
            "justify_items": null,
            "left": null,
            "margin": null,
            "max_height": null,
            "max_width": null,
            "min_height": null,
            "min_width": null,
            "object_fit": null,
            "object_position": null,
            "order": null,
            "overflow": null,
            "overflow_x": null,
            "overflow_y": null,
            "padding": null,
            "right": null,
            "top": null,
            "visibility": null,
            "width": null
          }
        },
        "f0cd306896ef498e9929990f349f09f3": {
          "model_module": "@jupyter-widgets/controls",
          "model_name": "DescriptionStyleModel",
          "model_module_version": "1.5.0",
          "state": {
            "_model_module": "@jupyter-widgets/controls",
            "_model_module_version": "1.5.0",
            "_model_name": "DescriptionStyleModel",
            "_view_count": null,
            "_view_module": "@jupyter-widgets/base",
            "_view_module_version": "1.2.0",
            "_view_name": "StyleView",
            "description_width": ""
          }
        },
        "aeb65940025f4db4afcc5666433c2c77": {
          "model_module": "@jupyter-widgets/base",
          "model_name": "LayoutModel",
          "model_module_version": "1.2.0",
          "state": {
            "_model_module": "@jupyter-widgets/base",
            "_model_module_version": "1.2.0",
            "_model_name": "LayoutModel",
            "_view_count": null,
            "_view_module": "@jupyter-widgets/base",
            "_view_module_version": "1.2.0",
            "_view_name": "LayoutView",
            "align_content": null,
            "align_items": null,
            "align_self": null,
            "border": null,
            "bottom": null,
            "display": null,
            "flex": null,
            "flex_flow": null,
            "grid_area": null,
            "grid_auto_columns": null,
            "grid_auto_flow": null,
            "grid_auto_rows": null,
            "grid_column": null,
            "grid_gap": null,
            "grid_row": null,
            "grid_template_areas": null,
            "grid_template_columns": null,
            "grid_template_rows": null,
            "height": null,
            "justify_content": null,
            "justify_items": null,
            "left": null,
            "margin": null,
            "max_height": null,
            "max_width": null,
            "min_height": null,
            "min_width": null,
            "object_fit": null,
            "object_position": null,
            "order": null,
            "overflow": null,
            "overflow_x": null,
            "overflow_y": null,
            "padding": null,
            "right": null,
            "top": null,
            "visibility": null,
            "width": null
          }
        },
        "c5b21512d84d485f849023bbb4c38991": {
          "model_module": "@jupyter-widgets/controls",
          "model_name": "ProgressStyleModel",
          "model_module_version": "1.5.0",
          "state": {
            "_model_module": "@jupyter-widgets/controls",
            "_model_module_version": "1.5.0",
            "_model_name": "ProgressStyleModel",
            "_view_count": null,
            "_view_module": "@jupyter-widgets/base",
            "_view_module_version": "1.2.0",
            "_view_name": "StyleView",
            "bar_color": null,
            "description_width": ""
          }
        },
        "89aff006f27845cb8179a1d3fb7fbe16": {
          "model_module": "@jupyter-widgets/controls",
          "model_name": "VBoxModel",
          "model_module_version": "1.5.0",
          "state": {
            "_dom_classes": [],
            "_model_module": "@jupyter-widgets/controls",
            "_model_module_version": "1.5.0",
            "_model_name": "VBoxModel",
            "_view_count": null,
            "_view_module": "@jupyter-widgets/controls",
            "_view_module_version": "1.5.0",
            "_view_name": "VBoxView",
            "box_style": "",
            "children": [
              "IPY_MODEL_6cd3b83244504a7681ecbd39f3f3a32e",
              "IPY_MODEL_0f0a15e0c3004dc5a5cf780bafdbf3e8"
            ],
            "layout": "IPY_MODEL_e0ecfbe17d8246e7b57e7b4ff9c464e7"
          }
        },
        "6cd3b83244504a7681ecbd39f3f3a32e": {
          "model_module": "@jupyter-widgets/controls",
          "model_name": "LabelModel",
          "model_module_version": "1.5.0",
          "state": {
            "_dom_classes": [],
            "_model_module": "@jupyter-widgets/controls",
            "_model_module_version": "1.5.0",
            "_model_name": "LabelModel",
            "_view_count": null,
            "_view_module": "@jupyter-widgets/controls",
            "_view_module_version": "1.5.0",
            "_view_name": "LabelView",
            "description": "",
            "description_tooltip": null,
            "layout": "IPY_MODEL_a2083663d643446b9f7eaa5a136e73d1",
            "placeholder": "​",
            "style": "IPY_MODEL_bb74702169b249beb802ca7376fbcdc0",
            "value": "Waiting for wandb.init()...\r"
          }
        },
        "0f0a15e0c3004dc5a5cf780bafdbf3e8": {
          "model_module": "@jupyter-widgets/controls",
          "model_name": "FloatProgressModel",
          "model_module_version": "1.5.0",
          "state": {
            "_dom_classes": [],
            "_model_module": "@jupyter-widgets/controls",
            "_model_module_version": "1.5.0",
            "_model_name": "FloatProgressModel",
            "_view_count": null,
            "_view_module": "@jupyter-widgets/controls",
            "_view_module_version": "1.5.0",
            "_view_name": "ProgressView",
            "bar_style": "",
            "description": "",
            "description_tooltip": null,
            "layout": "IPY_MODEL_2e14fec5373f4ccda22476936292d58e",
            "max": 1,
            "min": 0,
            "orientation": "horizontal",
            "style": "IPY_MODEL_c22525cc8829430eb22e3de3a49b18b3",
            "value": 1
          }
        },
        "e0ecfbe17d8246e7b57e7b4ff9c464e7": {
          "model_module": "@jupyter-widgets/base",
          "model_name": "LayoutModel",
          "model_module_version": "1.2.0",
          "state": {
            "_model_module": "@jupyter-widgets/base",
            "_model_module_version": "1.2.0",
            "_model_name": "LayoutModel",
            "_view_count": null,
            "_view_module": "@jupyter-widgets/base",
            "_view_module_version": "1.2.0",
            "_view_name": "LayoutView",
            "align_content": null,
            "align_items": null,
            "align_self": null,
            "border": null,
            "bottom": null,
            "display": null,
            "flex": null,
            "flex_flow": null,
            "grid_area": null,
            "grid_auto_columns": null,
            "grid_auto_flow": null,
            "grid_auto_rows": null,
            "grid_column": null,
            "grid_gap": null,
            "grid_row": null,
            "grid_template_areas": null,
            "grid_template_columns": null,
            "grid_template_rows": null,
            "height": null,
            "justify_content": null,
            "justify_items": null,
            "left": null,
            "margin": null,
            "max_height": null,
            "max_width": null,
            "min_height": null,
            "min_width": null,
            "object_fit": null,
            "object_position": null,
            "order": null,
            "overflow": null,
            "overflow_x": null,
            "overflow_y": null,
            "padding": null,
            "right": null,
            "top": null,
            "visibility": null,
            "width": null
          }
        },
        "a2083663d643446b9f7eaa5a136e73d1": {
          "model_module": "@jupyter-widgets/base",
          "model_name": "LayoutModel",
          "model_module_version": "1.2.0",
          "state": {
            "_model_module": "@jupyter-widgets/base",
            "_model_module_version": "1.2.0",
            "_model_name": "LayoutModel",
            "_view_count": null,
            "_view_module": "@jupyter-widgets/base",
            "_view_module_version": "1.2.0",
            "_view_name": "LayoutView",
            "align_content": null,
            "align_items": null,
            "align_self": null,
            "border": null,
            "bottom": null,
            "display": null,
            "flex": null,
            "flex_flow": null,
            "grid_area": null,
            "grid_auto_columns": null,
            "grid_auto_flow": null,
            "grid_auto_rows": null,
            "grid_column": null,
            "grid_gap": null,
            "grid_row": null,
            "grid_template_areas": null,
            "grid_template_columns": null,
            "grid_template_rows": null,
            "height": null,
            "justify_content": null,
            "justify_items": null,
            "left": null,
            "margin": null,
            "max_height": null,
            "max_width": null,
            "min_height": null,
            "min_width": null,
            "object_fit": null,
            "object_position": null,
            "order": null,
            "overflow": null,
            "overflow_x": null,
            "overflow_y": null,
            "padding": null,
            "right": null,
            "top": null,
            "visibility": null,
            "width": null
          }
        },
        "bb74702169b249beb802ca7376fbcdc0": {
          "model_module": "@jupyter-widgets/controls",
          "model_name": "DescriptionStyleModel",
          "model_module_version": "1.5.0",
          "state": {
            "_model_module": "@jupyter-widgets/controls",
            "_model_module_version": "1.5.0",
            "_model_name": "DescriptionStyleModel",
            "_view_count": null,
            "_view_module": "@jupyter-widgets/base",
            "_view_module_version": "1.2.0",
            "_view_name": "StyleView",
            "description_width": ""
          }
        },
        "2e14fec5373f4ccda22476936292d58e": {
          "model_module": "@jupyter-widgets/base",
          "model_name": "LayoutModel",
          "model_module_version": "1.2.0",
          "state": {
            "_model_module": "@jupyter-widgets/base",
            "_model_module_version": "1.2.0",
            "_model_name": "LayoutModel",
            "_view_count": null,
            "_view_module": "@jupyter-widgets/base",
            "_view_module_version": "1.2.0",
            "_view_name": "LayoutView",
            "align_content": null,
            "align_items": null,
            "align_self": null,
            "border": null,
            "bottom": null,
            "display": null,
            "flex": null,
            "flex_flow": null,
            "grid_area": null,
            "grid_auto_columns": null,
            "grid_auto_flow": null,
            "grid_auto_rows": null,
            "grid_column": null,
            "grid_gap": null,
            "grid_row": null,
            "grid_template_areas": null,
            "grid_template_columns": null,
            "grid_template_rows": null,
            "height": null,
            "justify_content": null,
            "justify_items": null,
            "left": null,
            "margin": null,
            "max_height": null,
            "max_width": null,
            "min_height": null,
            "min_width": null,
            "object_fit": null,
            "object_position": null,
            "order": null,
            "overflow": null,
            "overflow_x": null,
            "overflow_y": null,
            "padding": null,
            "right": null,
            "top": null,
            "visibility": null,
            "width": null
          }
        },
        "c22525cc8829430eb22e3de3a49b18b3": {
          "model_module": "@jupyter-widgets/controls",
          "model_name": "ProgressStyleModel",
          "model_module_version": "1.5.0",
          "state": {
            "_model_module": "@jupyter-widgets/controls",
            "_model_module_version": "1.5.0",
            "_model_name": "ProgressStyleModel",
            "_view_count": null,
            "_view_module": "@jupyter-widgets/base",
            "_view_module_version": "1.2.0",
            "_view_name": "StyleView",
            "bar_color": null,
            "description_width": ""
          }
        },
        "a19c111911b44a1bae3c74d52291d22e": {
          "model_module": "@jupyter-widgets/controls",
          "model_name": "HBoxModel",
          "model_module_version": "1.5.0",
          "state": {
            "_dom_classes": [],
            "_model_module": "@jupyter-widgets/controls",
            "_model_module_version": "1.5.0",
            "_model_name": "HBoxModel",
            "_view_count": null,
            "_view_module": "@jupyter-widgets/controls",
            "_view_module_version": "1.5.0",
            "_view_name": "HBoxView",
            "box_style": "",
            "children": [
              "IPY_MODEL_88fb81668a9f4f5f9f9497e7c0a94d8c",
              "IPY_MODEL_62bae8dd66a941eba4f68b56d68ca64d",
              "IPY_MODEL_706ba4e821e04724862f7b298f45bbeb"
            ],
            "layout": "IPY_MODEL_e3cc0edb14a44524bfb7131ee793d06d"
          }
        },
        "88fb81668a9f4f5f9f9497e7c0a94d8c": {
          "model_module": "@jupyter-widgets/controls",
          "model_name": "HTMLModel",
          "model_module_version": "1.5.0",
          "state": {
            "_dom_classes": [],
            "_model_module": "@jupyter-widgets/controls",
            "_model_module_version": "1.5.0",
            "_model_name": "HTMLModel",
            "_view_count": null,
            "_view_module": "@jupyter-widgets/controls",
            "_view_module_version": "1.5.0",
            "_view_name": "HTMLView",
            "description": "",
            "description_tooltip": null,
            "layout": "IPY_MODEL_c5349a4acb964d378c68fd185626880e",
            "placeholder": "​",
            "style": "IPY_MODEL_338c12e0cc16410480ada90f9aa504c7",
            "value": "100%"
          }
        },
        "62bae8dd66a941eba4f68b56d68ca64d": {
          "model_module": "@jupyter-widgets/controls",
          "model_name": "FloatProgressModel",
          "model_module_version": "1.5.0",
          "state": {
            "_dom_classes": [],
            "_model_module": "@jupyter-widgets/controls",
            "_model_module_version": "1.5.0",
            "_model_name": "FloatProgressModel",
            "_view_count": null,
            "_view_module": "@jupyter-widgets/controls",
            "_view_module_version": "1.5.0",
            "_view_name": "ProgressView",
            "bar_style": "success",
            "description": "",
            "description_tooltip": null,
            "layout": "IPY_MODEL_f28fbd12f8fe49ffb5257f7bda568347",
            "max": 50,
            "min": 0,
            "orientation": "horizontal",
            "style": "IPY_MODEL_02168e8838bf4603864886f271072fa2",
            "value": 50
          }
        },
        "706ba4e821e04724862f7b298f45bbeb": {
          "model_module": "@jupyter-widgets/controls",
          "model_name": "HTMLModel",
          "model_module_version": "1.5.0",
          "state": {
            "_dom_classes": [],
            "_model_module": "@jupyter-widgets/controls",
            "_model_module_version": "1.5.0",
            "_model_name": "HTMLModel",
            "_view_count": null,
            "_view_module": "@jupyter-widgets/controls",
            "_view_module_version": "1.5.0",
            "_view_name": "HTMLView",
            "description": "",
            "description_tooltip": null,
            "layout": "IPY_MODEL_dc25be2232074f65a67b61ee121931d5",
            "placeholder": "​",
            "style": "IPY_MODEL_5c8768e762814333b12786c58f785f17",
            "value": " 50/50 [00:41&lt;00:00,  1.09it/s]"
          }
        },
        "e3cc0edb14a44524bfb7131ee793d06d": {
          "model_module": "@jupyter-widgets/base",
          "model_name": "LayoutModel",
          "model_module_version": "1.2.0",
          "state": {
            "_model_module": "@jupyter-widgets/base",
            "_model_module_version": "1.2.0",
            "_model_name": "LayoutModel",
            "_view_count": null,
            "_view_module": "@jupyter-widgets/base",
            "_view_module_version": "1.2.0",
            "_view_name": "LayoutView",
            "align_content": null,
            "align_items": null,
            "align_self": null,
            "border": null,
            "bottom": null,
            "display": null,
            "flex": null,
            "flex_flow": null,
            "grid_area": null,
            "grid_auto_columns": null,
            "grid_auto_flow": null,
            "grid_auto_rows": null,
            "grid_column": null,
            "grid_gap": null,
            "grid_row": null,
            "grid_template_areas": null,
            "grid_template_columns": null,
            "grid_template_rows": null,
            "height": null,
            "justify_content": null,
            "justify_items": null,
            "left": null,
            "margin": null,
            "max_height": null,
            "max_width": null,
            "min_height": null,
            "min_width": null,
            "object_fit": null,
            "object_position": null,
            "order": null,
            "overflow": null,
            "overflow_x": null,
            "overflow_y": null,
            "padding": null,
            "right": null,
            "top": null,
            "visibility": null,
            "width": null
          }
        },
        "c5349a4acb964d378c68fd185626880e": {
          "model_module": "@jupyter-widgets/base",
          "model_name": "LayoutModel",
          "model_module_version": "1.2.0",
          "state": {
            "_model_module": "@jupyter-widgets/base",
            "_model_module_version": "1.2.0",
            "_model_name": "LayoutModel",
            "_view_count": null,
            "_view_module": "@jupyter-widgets/base",
            "_view_module_version": "1.2.0",
            "_view_name": "LayoutView",
            "align_content": null,
            "align_items": null,
            "align_self": null,
            "border": null,
            "bottom": null,
            "display": null,
            "flex": null,
            "flex_flow": null,
            "grid_area": null,
            "grid_auto_columns": null,
            "grid_auto_flow": null,
            "grid_auto_rows": null,
            "grid_column": null,
            "grid_gap": null,
            "grid_row": null,
            "grid_template_areas": null,
            "grid_template_columns": null,
            "grid_template_rows": null,
            "height": null,
            "justify_content": null,
            "justify_items": null,
            "left": null,
            "margin": null,
            "max_height": null,
            "max_width": null,
            "min_height": null,
            "min_width": null,
            "object_fit": null,
            "object_position": null,
            "order": null,
            "overflow": null,
            "overflow_x": null,
            "overflow_y": null,
            "padding": null,
            "right": null,
            "top": null,
            "visibility": null,
            "width": null
          }
        },
        "338c12e0cc16410480ada90f9aa504c7": {
          "model_module": "@jupyter-widgets/controls",
          "model_name": "DescriptionStyleModel",
          "model_module_version": "1.5.0",
          "state": {
            "_model_module": "@jupyter-widgets/controls",
            "_model_module_version": "1.5.0",
            "_model_name": "DescriptionStyleModel",
            "_view_count": null,
            "_view_module": "@jupyter-widgets/base",
            "_view_module_version": "1.2.0",
            "_view_name": "StyleView",
            "description_width": ""
          }
        },
        "f28fbd12f8fe49ffb5257f7bda568347": {
          "model_module": "@jupyter-widgets/base",
          "model_name": "LayoutModel",
          "model_module_version": "1.2.0",
          "state": {
            "_model_module": "@jupyter-widgets/base",
            "_model_module_version": "1.2.0",
            "_model_name": "LayoutModel",
            "_view_count": null,
            "_view_module": "@jupyter-widgets/base",
            "_view_module_version": "1.2.0",
            "_view_name": "LayoutView",
            "align_content": null,
            "align_items": null,
            "align_self": null,
            "border": null,
            "bottom": null,
            "display": null,
            "flex": null,
            "flex_flow": null,
            "grid_area": null,
            "grid_auto_columns": null,
            "grid_auto_flow": null,
            "grid_auto_rows": null,
            "grid_column": null,
            "grid_gap": null,
            "grid_row": null,
            "grid_template_areas": null,
            "grid_template_columns": null,
            "grid_template_rows": null,
            "height": null,
            "justify_content": null,
            "justify_items": null,
            "left": null,
            "margin": null,
            "max_height": null,
            "max_width": null,
            "min_height": null,
            "min_width": null,
            "object_fit": null,
            "object_position": null,
            "order": null,
            "overflow": null,
            "overflow_x": null,
            "overflow_y": null,
            "padding": null,
            "right": null,
            "top": null,
            "visibility": null,
            "width": null
          }
        },
        "02168e8838bf4603864886f271072fa2": {
          "model_module": "@jupyter-widgets/controls",
          "model_name": "ProgressStyleModel",
          "model_module_version": "1.5.0",
          "state": {
            "_model_module": "@jupyter-widgets/controls",
            "_model_module_version": "1.5.0",
            "_model_name": "ProgressStyleModel",
            "_view_count": null,
            "_view_module": "@jupyter-widgets/base",
            "_view_module_version": "1.2.0",
            "_view_name": "StyleView",
            "bar_color": null,
            "description_width": ""
          }
        },
        "dc25be2232074f65a67b61ee121931d5": {
          "model_module": "@jupyter-widgets/base",
          "model_name": "LayoutModel",
          "model_module_version": "1.2.0",
          "state": {
            "_model_module": "@jupyter-widgets/base",
            "_model_module_version": "1.2.0",
            "_model_name": "LayoutModel",
            "_view_count": null,
            "_view_module": "@jupyter-widgets/base",
            "_view_module_version": "1.2.0",
            "_view_name": "LayoutView",
            "align_content": null,
            "align_items": null,
            "align_self": null,
            "border": null,
            "bottom": null,
            "display": null,
            "flex": null,
            "flex_flow": null,
            "grid_area": null,
            "grid_auto_columns": null,
            "grid_auto_flow": null,
            "grid_auto_rows": null,
            "grid_column": null,
            "grid_gap": null,
            "grid_row": null,
            "grid_template_areas": null,
            "grid_template_columns": null,
            "grid_template_rows": null,
            "height": null,
            "justify_content": null,
            "justify_items": null,
            "left": null,
            "margin": null,
            "max_height": null,
            "max_width": null,
            "min_height": null,
            "min_width": null,
            "object_fit": null,
            "object_position": null,
            "order": null,
            "overflow": null,
            "overflow_x": null,
            "overflow_y": null,
            "padding": null,
            "right": null,
            "top": null,
            "visibility": null,
            "width": null
          }
        },
        "5c8768e762814333b12786c58f785f17": {
          "model_module": "@jupyter-widgets/controls",
          "model_name": "DescriptionStyleModel",
          "model_module_version": "1.5.0",
          "state": {
            "_model_module": "@jupyter-widgets/controls",
            "_model_module_version": "1.5.0",
            "_model_name": "DescriptionStyleModel",
            "_view_count": null,
            "_view_module": "@jupyter-widgets/base",
            "_view_module_version": "1.2.0",
            "_view_name": "StyleView",
            "description_width": ""
          }
        },
        "c03bcedc3a3d4f1b838041c215f01736": {
          "model_module": "@jupyter-widgets/controls",
          "model_name": "VBoxModel",
          "model_module_version": "1.5.0",
          "state": {
            "_dom_classes": [],
            "_model_module": "@jupyter-widgets/controls",
            "_model_module_version": "1.5.0",
            "_model_name": "VBoxModel",
            "_view_count": null,
            "_view_module": "@jupyter-widgets/controls",
            "_view_module_version": "1.5.0",
            "_view_name": "VBoxView",
            "box_style": "",
            "children": [
              "IPY_MODEL_23b493fd99f44c90b46de1c07c9cba7c",
              "IPY_MODEL_bab8dfcd3e6942e6a0bd2f69274d6fb5"
            ],
            "layout": "IPY_MODEL_cba26272f4fa43aa984490501dda84a7"
          }
        },
        "23b493fd99f44c90b46de1c07c9cba7c": {
          "model_module": "@jupyter-widgets/controls",
          "model_name": "LabelModel",
          "model_module_version": "1.5.0",
          "state": {
            "_dom_classes": [],
            "_model_module": "@jupyter-widgets/controls",
            "_model_module_version": "1.5.0",
            "_model_name": "LabelModel",
            "_view_count": null,
            "_view_module": "@jupyter-widgets/controls",
            "_view_module_version": "1.5.0",
            "_view_name": "LabelView",
            "description": "",
            "description_tooltip": null,
            "layout": "IPY_MODEL_9c4318145ac6468fa5d2215c9dd40176",
            "placeholder": "​",
            "style": "IPY_MODEL_f7219a7e0881462c986a62db0837282c",
            "value": "0.010 MB of 0.010 MB uploaded\r"
          }
        },
        "bab8dfcd3e6942e6a0bd2f69274d6fb5": {
          "model_module": "@jupyter-widgets/controls",
          "model_name": "FloatProgressModel",
          "model_module_version": "1.5.0",
          "state": {
            "_dom_classes": [],
            "_model_module": "@jupyter-widgets/controls",
            "_model_module_version": "1.5.0",
            "_model_name": "FloatProgressModel",
            "_view_count": null,
            "_view_module": "@jupyter-widgets/controls",
            "_view_module_version": "1.5.0",
            "_view_name": "ProgressView",
            "bar_style": "",
            "description": "",
            "description_tooltip": null,
            "layout": "IPY_MODEL_6a25f629489642c48ab9cfe2e779f374",
            "max": 1,
            "min": 0,
            "orientation": "horizontal",
            "style": "IPY_MODEL_37e2b426dd80432f84d3e82ed8930015",
            "value": 1
          }
        },
        "cba26272f4fa43aa984490501dda84a7": {
          "model_module": "@jupyter-widgets/base",
          "model_name": "LayoutModel",
          "model_module_version": "1.2.0",
          "state": {
            "_model_module": "@jupyter-widgets/base",
            "_model_module_version": "1.2.0",
            "_model_name": "LayoutModel",
            "_view_count": null,
            "_view_module": "@jupyter-widgets/base",
            "_view_module_version": "1.2.0",
            "_view_name": "LayoutView",
            "align_content": null,
            "align_items": null,
            "align_self": null,
            "border": null,
            "bottom": null,
            "display": null,
            "flex": null,
            "flex_flow": null,
            "grid_area": null,
            "grid_auto_columns": null,
            "grid_auto_flow": null,
            "grid_auto_rows": null,
            "grid_column": null,
            "grid_gap": null,
            "grid_row": null,
            "grid_template_areas": null,
            "grid_template_columns": null,
            "grid_template_rows": null,
            "height": null,
            "justify_content": null,
            "justify_items": null,
            "left": null,
            "margin": null,
            "max_height": null,
            "max_width": null,
            "min_height": null,
            "min_width": null,
            "object_fit": null,
            "object_position": null,
            "order": null,
            "overflow": null,
            "overflow_x": null,
            "overflow_y": null,
            "padding": null,
            "right": null,
            "top": null,
            "visibility": null,
            "width": null
          }
        },
        "9c4318145ac6468fa5d2215c9dd40176": {
          "model_module": "@jupyter-widgets/base",
          "model_name": "LayoutModel",
          "model_module_version": "1.2.0",
          "state": {
            "_model_module": "@jupyter-widgets/base",
            "_model_module_version": "1.2.0",
            "_model_name": "LayoutModel",
            "_view_count": null,
            "_view_module": "@jupyter-widgets/base",
            "_view_module_version": "1.2.0",
            "_view_name": "LayoutView",
            "align_content": null,
            "align_items": null,
            "align_self": null,
            "border": null,
            "bottom": null,
            "display": null,
            "flex": null,
            "flex_flow": null,
            "grid_area": null,
            "grid_auto_columns": null,
            "grid_auto_flow": null,
            "grid_auto_rows": null,
            "grid_column": null,
            "grid_gap": null,
            "grid_row": null,
            "grid_template_areas": null,
            "grid_template_columns": null,
            "grid_template_rows": null,
            "height": null,
            "justify_content": null,
            "justify_items": null,
            "left": null,
            "margin": null,
            "max_height": null,
            "max_width": null,
            "min_height": null,
            "min_width": null,
            "object_fit": null,
            "object_position": null,
            "order": null,
            "overflow": null,
            "overflow_x": null,
            "overflow_y": null,
            "padding": null,
            "right": null,
            "top": null,
            "visibility": null,
            "width": null
          }
        },
        "f7219a7e0881462c986a62db0837282c": {
          "model_module": "@jupyter-widgets/controls",
          "model_name": "DescriptionStyleModel",
          "model_module_version": "1.5.0",
          "state": {
            "_model_module": "@jupyter-widgets/controls",
            "_model_module_version": "1.5.0",
            "_model_name": "DescriptionStyleModel",
            "_view_count": null,
            "_view_module": "@jupyter-widgets/base",
            "_view_module_version": "1.2.0",
            "_view_name": "StyleView",
            "description_width": ""
          }
        },
        "6a25f629489642c48ab9cfe2e779f374": {
          "model_module": "@jupyter-widgets/base",
          "model_name": "LayoutModel",
          "model_module_version": "1.2.0",
          "state": {
            "_model_module": "@jupyter-widgets/base",
            "_model_module_version": "1.2.0",
            "_model_name": "LayoutModel",
            "_view_count": null,
            "_view_module": "@jupyter-widgets/base",
            "_view_module_version": "1.2.0",
            "_view_name": "LayoutView",
            "align_content": null,
            "align_items": null,
            "align_self": null,
            "border": null,
            "bottom": null,
            "display": null,
            "flex": null,
            "flex_flow": null,
            "grid_area": null,
            "grid_auto_columns": null,
            "grid_auto_flow": null,
            "grid_auto_rows": null,
            "grid_column": null,
            "grid_gap": null,
            "grid_row": null,
            "grid_template_areas": null,
            "grid_template_columns": null,
            "grid_template_rows": null,
            "height": null,
            "justify_content": null,
            "justify_items": null,
            "left": null,
            "margin": null,
            "max_height": null,
            "max_width": null,
            "min_height": null,
            "min_width": null,
            "object_fit": null,
            "object_position": null,
            "order": null,
            "overflow": null,
            "overflow_x": null,
            "overflow_y": null,
            "padding": null,
            "right": null,
            "top": null,
            "visibility": null,
            "width": null
          }
        },
        "37e2b426dd80432f84d3e82ed8930015": {
          "model_module": "@jupyter-widgets/controls",
          "model_name": "ProgressStyleModel",
          "model_module_version": "1.5.0",
          "state": {
            "_model_module": "@jupyter-widgets/controls",
            "_model_module_version": "1.5.0",
            "_model_name": "ProgressStyleModel",
            "_view_count": null,
            "_view_module": "@jupyter-widgets/base",
            "_view_module_version": "1.2.0",
            "_view_name": "StyleView",
            "bar_color": null,
            "description_width": ""
          }
        },
        "5ae9496a5f98406b8fe7bf96bd4c7c08": {
          "model_module": "@jupyter-widgets/controls",
          "model_name": "HBoxModel",
          "model_module_version": "1.5.0",
          "state": {
            "_dom_classes": [],
            "_model_module": "@jupyter-widgets/controls",
            "_model_module_version": "1.5.0",
            "_model_name": "HBoxModel",
            "_view_count": null,
            "_view_module": "@jupyter-widgets/controls",
            "_view_module_version": "1.5.0",
            "_view_name": "HBoxView",
            "box_style": "",
            "children": [
              "IPY_MODEL_4653d59dd41b499e924a94f54e19b62e",
              "IPY_MODEL_3a6098fddb93429eb0ad183e7cccd037",
              "IPY_MODEL_9d66a43c404f450fb8a3da2d1df1d20c"
            ],
            "layout": "IPY_MODEL_00cc8fe41322494192afddcd86b8c273"
          }
        },
        "4653d59dd41b499e924a94f54e19b62e": {
          "model_module": "@jupyter-widgets/controls",
          "model_name": "HTMLModel",
          "model_module_version": "1.5.0",
          "state": {
            "_dom_classes": [],
            "_model_module": "@jupyter-widgets/controls",
            "_model_module_version": "1.5.0",
            "_model_name": "HTMLModel",
            "_view_count": null,
            "_view_module": "@jupyter-widgets/controls",
            "_view_module_version": "1.5.0",
            "_view_name": "HTMLView",
            "description": "",
            "description_tooltip": null,
            "layout": "IPY_MODEL_29529d949fcd4f1ca064a5f75552334d",
            "placeholder": "​",
            "style": "IPY_MODEL_9bf65d737a81471fafb1c67f5b6b86dd",
            "value": "  8%"
          }
        },
        "3a6098fddb93429eb0ad183e7cccd037": {
          "model_module": "@jupyter-widgets/controls",
          "model_name": "FloatProgressModel",
          "model_module_version": "1.5.0",
          "state": {
            "_dom_classes": [],
            "_model_module": "@jupyter-widgets/controls",
            "_model_module_version": "1.5.0",
            "_model_name": "FloatProgressModel",
            "_view_count": null,
            "_view_module": "@jupyter-widgets/controls",
            "_view_module_version": "1.5.0",
            "_view_name": "ProgressView",
            "bar_style": "danger",
            "description": "",
            "description_tooltip": null,
            "layout": "IPY_MODEL_458e30d9d3bc438fa85bf6914faf0533",
            "max": 50,
            "min": 0,
            "orientation": "horizontal",
            "style": "IPY_MODEL_d0feb92fd6da41ff8635c06219ed4bd3",
            "value": 4
          }
        },
        "9d66a43c404f450fb8a3da2d1df1d20c": {
          "model_module": "@jupyter-widgets/controls",
          "model_name": "HTMLModel",
          "model_module_version": "1.5.0",
          "state": {
            "_dom_classes": [],
            "_model_module": "@jupyter-widgets/controls",
            "_model_module_version": "1.5.0",
            "_model_name": "HTMLModel",
            "_view_count": null,
            "_view_module": "@jupyter-widgets/controls",
            "_view_module_version": "1.5.0",
            "_view_name": "HTMLView",
            "description": "",
            "description_tooltip": null,
            "layout": "IPY_MODEL_c81c46c4610c4aa3859b123b17b7bfc9",
            "placeholder": "​",
            "style": "IPY_MODEL_cfe1a766e2a6402caa2ce125848a0ced",
            "value": " 4/50 [00:03&lt;00:37,  1.24it/s]"
          }
        },
        "00cc8fe41322494192afddcd86b8c273": {
          "model_module": "@jupyter-widgets/base",
          "model_name": "LayoutModel",
          "model_module_version": "1.2.0",
          "state": {
            "_model_module": "@jupyter-widgets/base",
            "_model_module_version": "1.2.0",
            "_model_name": "LayoutModel",
            "_view_count": null,
            "_view_module": "@jupyter-widgets/base",
            "_view_module_version": "1.2.0",
            "_view_name": "LayoutView",
            "align_content": null,
            "align_items": null,
            "align_self": null,
            "border": null,
            "bottom": null,
            "display": null,
            "flex": null,
            "flex_flow": null,
            "grid_area": null,
            "grid_auto_columns": null,
            "grid_auto_flow": null,
            "grid_auto_rows": null,
            "grid_column": null,
            "grid_gap": null,
            "grid_row": null,
            "grid_template_areas": null,
            "grid_template_columns": null,
            "grid_template_rows": null,
            "height": null,
            "justify_content": null,
            "justify_items": null,
            "left": null,
            "margin": null,
            "max_height": null,
            "max_width": null,
            "min_height": null,
            "min_width": null,
            "object_fit": null,
            "object_position": null,
            "order": null,
            "overflow": null,
            "overflow_x": null,
            "overflow_y": null,
            "padding": null,
            "right": null,
            "top": null,
            "visibility": null,
            "width": null
          }
        },
        "29529d949fcd4f1ca064a5f75552334d": {
          "model_module": "@jupyter-widgets/base",
          "model_name": "LayoutModel",
          "model_module_version": "1.2.0",
          "state": {
            "_model_module": "@jupyter-widgets/base",
            "_model_module_version": "1.2.0",
            "_model_name": "LayoutModel",
            "_view_count": null,
            "_view_module": "@jupyter-widgets/base",
            "_view_module_version": "1.2.0",
            "_view_name": "LayoutView",
            "align_content": null,
            "align_items": null,
            "align_self": null,
            "border": null,
            "bottom": null,
            "display": null,
            "flex": null,
            "flex_flow": null,
            "grid_area": null,
            "grid_auto_columns": null,
            "grid_auto_flow": null,
            "grid_auto_rows": null,
            "grid_column": null,
            "grid_gap": null,
            "grid_row": null,
            "grid_template_areas": null,
            "grid_template_columns": null,
            "grid_template_rows": null,
            "height": null,
            "justify_content": null,
            "justify_items": null,
            "left": null,
            "margin": null,
            "max_height": null,
            "max_width": null,
            "min_height": null,
            "min_width": null,
            "object_fit": null,
            "object_position": null,
            "order": null,
            "overflow": null,
            "overflow_x": null,
            "overflow_y": null,
            "padding": null,
            "right": null,
            "top": null,
            "visibility": null,
            "width": null
          }
        },
        "9bf65d737a81471fafb1c67f5b6b86dd": {
          "model_module": "@jupyter-widgets/controls",
          "model_name": "DescriptionStyleModel",
          "model_module_version": "1.5.0",
          "state": {
            "_model_module": "@jupyter-widgets/controls",
            "_model_module_version": "1.5.0",
            "_model_name": "DescriptionStyleModel",
            "_view_count": null,
            "_view_module": "@jupyter-widgets/base",
            "_view_module_version": "1.2.0",
            "_view_name": "StyleView",
            "description_width": ""
          }
        },
        "458e30d9d3bc438fa85bf6914faf0533": {
          "model_module": "@jupyter-widgets/base",
          "model_name": "LayoutModel",
          "model_module_version": "1.2.0",
          "state": {
            "_model_module": "@jupyter-widgets/base",
            "_model_module_version": "1.2.0",
            "_model_name": "LayoutModel",
            "_view_count": null,
            "_view_module": "@jupyter-widgets/base",
            "_view_module_version": "1.2.0",
            "_view_name": "LayoutView",
            "align_content": null,
            "align_items": null,
            "align_self": null,
            "border": null,
            "bottom": null,
            "display": null,
            "flex": null,
            "flex_flow": null,
            "grid_area": null,
            "grid_auto_columns": null,
            "grid_auto_flow": null,
            "grid_auto_rows": null,
            "grid_column": null,
            "grid_gap": null,
            "grid_row": null,
            "grid_template_areas": null,
            "grid_template_columns": null,
            "grid_template_rows": null,
            "height": null,
            "justify_content": null,
            "justify_items": null,
            "left": null,
            "margin": null,
            "max_height": null,
            "max_width": null,
            "min_height": null,
            "min_width": null,
            "object_fit": null,
            "object_position": null,
            "order": null,
            "overflow": null,
            "overflow_x": null,
            "overflow_y": null,
            "padding": null,
            "right": null,
            "top": null,
            "visibility": null,
            "width": null
          }
        },
        "d0feb92fd6da41ff8635c06219ed4bd3": {
          "model_module": "@jupyter-widgets/controls",
          "model_name": "ProgressStyleModel",
          "model_module_version": "1.5.0",
          "state": {
            "_model_module": "@jupyter-widgets/controls",
            "_model_module_version": "1.5.0",
            "_model_name": "ProgressStyleModel",
            "_view_count": null,
            "_view_module": "@jupyter-widgets/base",
            "_view_module_version": "1.2.0",
            "_view_name": "StyleView",
            "bar_color": null,
            "description_width": ""
          }
        },
        "c81c46c4610c4aa3859b123b17b7bfc9": {
          "model_module": "@jupyter-widgets/base",
          "model_name": "LayoutModel",
          "model_module_version": "1.2.0",
          "state": {
            "_model_module": "@jupyter-widgets/base",
            "_model_module_version": "1.2.0",
            "_model_name": "LayoutModel",
            "_view_count": null,
            "_view_module": "@jupyter-widgets/base",
            "_view_module_version": "1.2.0",
            "_view_name": "LayoutView",
            "align_content": null,
            "align_items": null,
            "align_self": null,
            "border": null,
            "bottom": null,
            "display": null,
            "flex": null,
            "flex_flow": null,
            "grid_area": null,
            "grid_auto_columns": null,
            "grid_auto_flow": null,
            "grid_auto_rows": null,
            "grid_column": null,
            "grid_gap": null,
            "grid_row": null,
            "grid_template_areas": null,
            "grid_template_columns": null,
            "grid_template_rows": null,
            "height": null,
            "justify_content": null,
            "justify_items": null,
            "left": null,
            "margin": null,
            "max_height": null,
            "max_width": null,
            "min_height": null,
            "min_width": null,
            "object_fit": null,
            "object_position": null,
            "order": null,
            "overflow": null,
            "overflow_x": null,
            "overflow_y": null,
            "padding": null,
            "right": null,
            "top": null,
            "visibility": null,
            "width": null
          }
        },
        "cfe1a766e2a6402caa2ce125848a0ced": {
          "model_module": "@jupyter-widgets/controls",
          "model_name": "DescriptionStyleModel",
          "model_module_version": "1.5.0",
          "state": {
            "_model_module": "@jupyter-widgets/controls",
            "_model_module_version": "1.5.0",
            "_model_name": "DescriptionStyleModel",
            "_view_count": null,
            "_view_module": "@jupyter-widgets/base",
            "_view_module_version": "1.2.0",
            "_view_name": "StyleView",
            "description_width": ""
          }
        },
        "770ed09dc89146ee9f37a4d30024968d": {
          "model_module": "@jupyter-widgets/controls",
          "model_name": "HBoxModel",
          "model_module_version": "1.5.0",
          "state": {
            "_dom_classes": [],
            "_model_module": "@jupyter-widgets/controls",
            "_model_module_version": "1.5.0",
            "_model_name": "HBoxModel",
            "_view_count": null,
            "_view_module": "@jupyter-widgets/controls",
            "_view_module_version": "1.5.0",
            "_view_name": "HBoxView",
            "box_style": "",
            "children": [
              "IPY_MODEL_e196bd31b424473bbafac597728e46ac",
              "IPY_MODEL_0d61d4f3f66e4cdf8b085cec4eb406f2",
              "IPY_MODEL_010d26279df14ba4ac72ba1fe06c4e44"
            ],
            "layout": "IPY_MODEL_77f161358ffd4e8b883cfbf504a75636"
          }
        },
        "e196bd31b424473bbafac597728e46ac": {
          "model_module": "@jupyter-widgets/controls",
          "model_name": "HTMLModel",
          "model_module_version": "1.5.0",
          "state": {
            "_dom_classes": [],
            "_model_module": "@jupyter-widgets/controls",
            "_model_module_version": "1.5.0",
            "_model_name": "HTMLModel",
            "_view_count": null,
            "_view_module": "@jupyter-widgets/controls",
            "_view_module_version": "1.5.0",
            "_view_name": "HTMLView",
            "description": "",
            "description_tooltip": null,
            "layout": "IPY_MODEL_aaa303399c0a41f0ac5fe98836646133",
            "placeholder": "​",
            "style": "IPY_MODEL_e4af6872ccb74012a6194f34fb533c68",
            "value": "100%"
          }
        },
        "0d61d4f3f66e4cdf8b085cec4eb406f2": {
          "model_module": "@jupyter-widgets/controls",
          "model_name": "FloatProgressModel",
          "model_module_version": "1.5.0",
          "state": {
            "_dom_classes": [],
            "_model_module": "@jupyter-widgets/controls",
            "_model_module_version": "1.5.0",
            "_model_name": "FloatProgressModel",
            "_view_count": null,
            "_view_module": "@jupyter-widgets/controls",
            "_view_module_version": "1.5.0",
            "_view_name": "ProgressView",
            "bar_style": "success",
            "description": "",
            "description_tooltip": null,
            "layout": "IPY_MODEL_3feaa4d029f2435ca48221d10b33d82d",
            "max": 50,
            "min": 0,
            "orientation": "horizontal",
            "style": "IPY_MODEL_40fe6b62bc2848b09a02bf04af41eda4",
            "value": 50
          }
        },
        "010d26279df14ba4ac72ba1fe06c4e44": {
          "model_module": "@jupyter-widgets/controls",
          "model_name": "HTMLModel",
          "model_module_version": "1.5.0",
          "state": {
            "_dom_classes": [],
            "_model_module": "@jupyter-widgets/controls",
            "_model_module_version": "1.5.0",
            "_model_name": "HTMLModel",
            "_view_count": null,
            "_view_module": "@jupyter-widgets/controls",
            "_view_module_version": "1.5.0",
            "_view_name": "HTMLView",
            "description": "",
            "description_tooltip": null,
            "layout": "IPY_MODEL_73586de880334b399e5294a22810fceb",
            "placeholder": "​",
            "style": "IPY_MODEL_5d39aa61cdfa4dfcb3c3b4daef5fb604",
            "value": " 50/50 [00:30&lt;00:00,  1.96it/s]"
          }
        },
        "77f161358ffd4e8b883cfbf504a75636": {
          "model_module": "@jupyter-widgets/base",
          "model_name": "LayoutModel",
          "model_module_version": "1.2.0",
          "state": {
            "_model_module": "@jupyter-widgets/base",
            "_model_module_version": "1.2.0",
            "_model_name": "LayoutModel",
            "_view_count": null,
            "_view_module": "@jupyter-widgets/base",
            "_view_module_version": "1.2.0",
            "_view_name": "LayoutView",
            "align_content": null,
            "align_items": null,
            "align_self": null,
            "border": null,
            "bottom": null,
            "display": null,
            "flex": null,
            "flex_flow": null,
            "grid_area": null,
            "grid_auto_columns": null,
            "grid_auto_flow": null,
            "grid_auto_rows": null,
            "grid_column": null,
            "grid_gap": null,
            "grid_row": null,
            "grid_template_areas": null,
            "grid_template_columns": null,
            "grid_template_rows": null,
            "height": null,
            "justify_content": null,
            "justify_items": null,
            "left": null,
            "margin": null,
            "max_height": null,
            "max_width": null,
            "min_height": null,
            "min_width": null,
            "object_fit": null,
            "object_position": null,
            "order": null,
            "overflow": null,
            "overflow_x": null,
            "overflow_y": null,
            "padding": null,
            "right": null,
            "top": null,
            "visibility": null,
            "width": null
          }
        },
        "aaa303399c0a41f0ac5fe98836646133": {
          "model_module": "@jupyter-widgets/base",
          "model_name": "LayoutModel",
          "model_module_version": "1.2.0",
          "state": {
            "_model_module": "@jupyter-widgets/base",
            "_model_module_version": "1.2.0",
            "_model_name": "LayoutModel",
            "_view_count": null,
            "_view_module": "@jupyter-widgets/base",
            "_view_module_version": "1.2.0",
            "_view_name": "LayoutView",
            "align_content": null,
            "align_items": null,
            "align_self": null,
            "border": null,
            "bottom": null,
            "display": null,
            "flex": null,
            "flex_flow": null,
            "grid_area": null,
            "grid_auto_columns": null,
            "grid_auto_flow": null,
            "grid_auto_rows": null,
            "grid_column": null,
            "grid_gap": null,
            "grid_row": null,
            "grid_template_areas": null,
            "grid_template_columns": null,
            "grid_template_rows": null,
            "height": null,
            "justify_content": null,
            "justify_items": null,
            "left": null,
            "margin": null,
            "max_height": null,
            "max_width": null,
            "min_height": null,
            "min_width": null,
            "object_fit": null,
            "object_position": null,
            "order": null,
            "overflow": null,
            "overflow_x": null,
            "overflow_y": null,
            "padding": null,
            "right": null,
            "top": null,
            "visibility": null,
            "width": null
          }
        },
        "e4af6872ccb74012a6194f34fb533c68": {
          "model_module": "@jupyter-widgets/controls",
          "model_name": "DescriptionStyleModel",
          "model_module_version": "1.5.0",
          "state": {
            "_model_module": "@jupyter-widgets/controls",
            "_model_module_version": "1.5.0",
            "_model_name": "DescriptionStyleModel",
            "_view_count": null,
            "_view_module": "@jupyter-widgets/base",
            "_view_module_version": "1.2.0",
            "_view_name": "StyleView",
            "description_width": ""
          }
        },
        "3feaa4d029f2435ca48221d10b33d82d": {
          "model_module": "@jupyter-widgets/base",
          "model_name": "LayoutModel",
          "model_module_version": "1.2.0",
          "state": {
            "_model_module": "@jupyter-widgets/base",
            "_model_module_version": "1.2.0",
            "_model_name": "LayoutModel",
            "_view_count": null,
            "_view_module": "@jupyter-widgets/base",
            "_view_module_version": "1.2.0",
            "_view_name": "LayoutView",
            "align_content": null,
            "align_items": null,
            "align_self": null,
            "border": null,
            "bottom": null,
            "display": null,
            "flex": null,
            "flex_flow": null,
            "grid_area": null,
            "grid_auto_columns": null,
            "grid_auto_flow": null,
            "grid_auto_rows": null,
            "grid_column": null,
            "grid_gap": null,
            "grid_row": null,
            "grid_template_areas": null,
            "grid_template_columns": null,
            "grid_template_rows": null,
            "height": null,
            "justify_content": null,
            "justify_items": null,
            "left": null,
            "margin": null,
            "max_height": null,
            "max_width": null,
            "min_height": null,
            "min_width": null,
            "object_fit": null,
            "object_position": null,
            "order": null,
            "overflow": null,
            "overflow_x": null,
            "overflow_y": null,
            "padding": null,
            "right": null,
            "top": null,
            "visibility": null,
            "width": null
          }
        },
        "40fe6b62bc2848b09a02bf04af41eda4": {
          "model_module": "@jupyter-widgets/controls",
          "model_name": "ProgressStyleModel",
          "model_module_version": "1.5.0",
          "state": {
            "_model_module": "@jupyter-widgets/controls",
            "_model_module_version": "1.5.0",
            "_model_name": "ProgressStyleModel",
            "_view_count": null,
            "_view_module": "@jupyter-widgets/base",
            "_view_module_version": "1.2.0",
            "_view_name": "StyleView",
            "bar_color": null,
            "description_width": ""
          }
        },
        "73586de880334b399e5294a22810fceb": {
          "model_module": "@jupyter-widgets/base",
          "model_name": "LayoutModel",
          "model_module_version": "1.2.0",
          "state": {
            "_model_module": "@jupyter-widgets/base",
            "_model_module_version": "1.2.0",
            "_model_name": "LayoutModel",
            "_view_count": null,
            "_view_module": "@jupyter-widgets/base",
            "_view_module_version": "1.2.0",
            "_view_name": "LayoutView",
            "align_content": null,
            "align_items": null,
            "align_self": null,
            "border": null,
            "bottom": null,
            "display": null,
            "flex": null,
            "flex_flow": null,
            "grid_area": null,
            "grid_auto_columns": null,
            "grid_auto_flow": null,
            "grid_auto_rows": null,
            "grid_column": null,
            "grid_gap": null,
            "grid_row": null,
            "grid_template_areas": null,
            "grid_template_columns": null,
            "grid_template_rows": null,
            "height": null,
            "justify_content": null,
            "justify_items": null,
            "left": null,
            "margin": null,
            "max_height": null,
            "max_width": null,
            "min_height": null,
            "min_width": null,
            "object_fit": null,
            "object_position": null,
            "order": null,
            "overflow": null,
            "overflow_x": null,
            "overflow_y": null,
            "padding": null,
            "right": null,
            "top": null,
            "visibility": null,
            "width": null
          }
        },
        "5d39aa61cdfa4dfcb3c3b4daef5fb604": {
          "model_module": "@jupyter-widgets/controls",
          "model_name": "DescriptionStyleModel",
          "model_module_version": "1.5.0",
          "state": {
            "_model_module": "@jupyter-widgets/controls",
            "_model_module_version": "1.5.0",
            "_model_name": "DescriptionStyleModel",
            "_view_count": null,
            "_view_module": "@jupyter-widgets/base",
            "_view_module_version": "1.2.0",
            "_view_name": "StyleView",
            "description_width": ""
          }
        },
        "b5c235f3dfc84048b3e60666e736931c": {
          "model_module": "@jupyter-widgets/controls",
          "model_name": "VBoxModel",
          "model_module_version": "1.5.0",
          "state": {
            "_dom_classes": [],
            "_model_module": "@jupyter-widgets/controls",
            "_model_module_version": "1.5.0",
            "_model_name": "VBoxModel",
            "_view_count": null,
            "_view_module": "@jupyter-widgets/controls",
            "_view_module_version": "1.5.0",
            "_view_name": "VBoxView",
            "box_style": "",
            "children": [
              "IPY_MODEL_5d76e98d82444119bf12e17868e92692",
              "IPY_MODEL_e2d3fbdb10664b59adb5b43910d56839"
            ],
            "layout": "IPY_MODEL_b415c41abc804a09a8d87698c6a6eb6c"
          }
        },
        "5d76e98d82444119bf12e17868e92692": {
          "model_module": "@jupyter-widgets/controls",
          "model_name": "LabelModel",
          "model_module_version": "1.5.0",
          "state": {
            "_dom_classes": [],
            "_model_module": "@jupyter-widgets/controls",
            "_model_module_version": "1.5.0",
            "_model_name": "LabelModel",
            "_view_count": null,
            "_view_module": "@jupyter-widgets/controls",
            "_view_module_version": "1.5.0",
            "_view_name": "LabelView",
            "description": "",
            "description_tooltip": null,
            "layout": "IPY_MODEL_ca2e6ad056754cac9b36600d096bbbb9",
            "placeholder": "​",
            "style": "IPY_MODEL_5ee37cb2cd2347e6aef380ce840778ca",
            "value": "0.011 MB of 0.011 MB uploaded\r"
          }
        },
        "e2d3fbdb10664b59adb5b43910d56839": {
          "model_module": "@jupyter-widgets/controls",
          "model_name": "FloatProgressModel",
          "model_module_version": "1.5.0",
          "state": {
            "_dom_classes": [],
            "_model_module": "@jupyter-widgets/controls",
            "_model_module_version": "1.5.0",
            "_model_name": "FloatProgressModel",
            "_view_count": null,
            "_view_module": "@jupyter-widgets/controls",
            "_view_module_version": "1.5.0",
            "_view_name": "ProgressView",
            "bar_style": "",
            "description": "",
            "description_tooltip": null,
            "layout": "IPY_MODEL_35913441beaa4c8bbad4cffb41fe90ae",
            "max": 1,
            "min": 0,
            "orientation": "horizontal",
            "style": "IPY_MODEL_af96bb1576a244ca8c0b715509ac25d8",
            "value": 1
          }
        },
        "b415c41abc804a09a8d87698c6a6eb6c": {
          "model_module": "@jupyter-widgets/base",
          "model_name": "LayoutModel",
          "model_module_version": "1.2.0",
          "state": {
            "_model_module": "@jupyter-widgets/base",
            "_model_module_version": "1.2.0",
            "_model_name": "LayoutModel",
            "_view_count": null,
            "_view_module": "@jupyter-widgets/base",
            "_view_module_version": "1.2.0",
            "_view_name": "LayoutView",
            "align_content": null,
            "align_items": null,
            "align_self": null,
            "border": null,
            "bottom": null,
            "display": null,
            "flex": null,
            "flex_flow": null,
            "grid_area": null,
            "grid_auto_columns": null,
            "grid_auto_flow": null,
            "grid_auto_rows": null,
            "grid_column": null,
            "grid_gap": null,
            "grid_row": null,
            "grid_template_areas": null,
            "grid_template_columns": null,
            "grid_template_rows": null,
            "height": null,
            "justify_content": null,
            "justify_items": null,
            "left": null,
            "margin": null,
            "max_height": null,
            "max_width": null,
            "min_height": null,
            "min_width": null,
            "object_fit": null,
            "object_position": null,
            "order": null,
            "overflow": null,
            "overflow_x": null,
            "overflow_y": null,
            "padding": null,
            "right": null,
            "top": null,
            "visibility": null,
            "width": null
          }
        },
        "ca2e6ad056754cac9b36600d096bbbb9": {
          "model_module": "@jupyter-widgets/base",
          "model_name": "LayoutModel",
          "model_module_version": "1.2.0",
          "state": {
            "_model_module": "@jupyter-widgets/base",
            "_model_module_version": "1.2.0",
            "_model_name": "LayoutModel",
            "_view_count": null,
            "_view_module": "@jupyter-widgets/base",
            "_view_module_version": "1.2.0",
            "_view_name": "LayoutView",
            "align_content": null,
            "align_items": null,
            "align_self": null,
            "border": null,
            "bottom": null,
            "display": null,
            "flex": null,
            "flex_flow": null,
            "grid_area": null,
            "grid_auto_columns": null,
            "grid_auto_flow": null,
            "grid_auto_rows": null,
            "grid_column": null,
            "grid_gap": null,
            "grid_row": null,
            "grid_template_areas": null,
            "grid_template_columns": null,
            "grid_template_rows": null,
            "height": null,
            "justify_content": null,
            "justify_items": null,
            "left": null,
            "margin": null,
            "max_height": null,
            "max_width": null,
            "min_height": null,
            "min_width": null,
            "object_fit": null,
            "object_position": null,
            "order": null,
            "overflow": null,
            "overflow_x": null,
            "overflow_y": null,
            "padding": null,
            "right": null,
            "top": null,
            "visibility": null,
            "width": null
          }
        },
        "5ee37cb2cd2347e6aef380ce840778ca": {
          "model_module": "@jupyter-widgets/controls",
          "model_name": "DescriptionStyleModel",
          "model_module_version": "1.5.0",
          "state": {
            "_model_module": "@jupyter-widgets/controls",
            "_model_module_version": "1.5.0",
            "_model_name": "DescriptionStyleModel",
            "_view_count": null,
            "_view_module": "@jupyter-widgets/base",
            "_view_module_version": "1.2.0",
            "_view_name": "StyleView",
            "description_width": ""
          }
        },
        "35913441beaa4c8bbad4cffb41fe90ae": {
          "model_module": "@jupyter-widgets/base",
          "model_name": "LayoutModel",
          "model_module_version": "1.2.0",
          "state": {
            "_model_module": "@jupyter-widgets/base",
            "_model_module_version": "1.2.0",
            "_model_name": "LayoutModel",
            "_view_count": null,
            "_view_module": "@jupyter-widgets/base",
            "_view_module_version": "1.2.0",
            "_view_name": "LayoutView",
            "align_content": null,
            "align_items": null,
            "align_self": null,
            "border": null,
            "bottom": null,
            "display": null,
            "flex": null,
            "flex_flow": null,
            "grid_area": null,
            "grid_auto_columns": null,
            "grid_auto_flow": null,
            "grid_auto_rows": null,
            "grid_column": null,
            "grid_gap": null,
            "grid_row": null,
            "grid_template_areas": null,
            "grid_template_columns": null,
            "grid_template_rows": null,
            "height": null,
            "justify_content": null,
            "justify_items": null,
            "left": null,
            "margin": null,
            "max_height": null,
            "max_width": null,
            "min_height": null,
            "min_width": null,
            "object_fit": null,
            "object_position": null,
            "order": null,
            "overflow": null,
            "overflow_x": null,
            "overflow_y": null,
            "padding": null,
            "right": null,
            "top": null,
            "visibility": null,
            "width": null
          }
        },
        "af96bb1576a244ca8c0b715509ac25d8": {
          "model_module": "@jupyter-widgets/controls",
          "model_name": "ProgressStyleModel",
          "model_module_version": "1.5.0",
          "state": {
            "_model_module": "@jupyter-widgets/controls",
            "_model_module_version": "1.5.0",
            "_model_name": "ProgressStyleModel",
            "_view_count": null,
            "_view_module": "@jupyter-widgets/base",
            "_view_module_version": "1.2.0",
            "_view_name": "StyleView",
            "bar_color": null,
            "description_width": ""
          }
        },
        "d87e7cfa1900445a85af01f4697fd8bf": {
          "model_module": "@jupyter-widgets/controls",
          "model_name": "VBoxModel",
          "model_module_version": "1.5.0",
          "state": {
            "_dom_classes": [],
            "_model_module": "@jupyter-widgets/controls",
            "_model_module_version": "1.5.0",
            "_model_name": "VBoxModel",
            "_view_count": null,
            "_view_module": "@jupyter-widgets/controls",
            "_view_module_version": "1.5.0",
            "_view_name": "VBoxView",
            "box_style": "",
            "children": [
              "IPY_MODEL_84b374ef34a14fd4ab9f04039fa05fe0",
              "IPY_MODEL_2e0b6e73b6b04faeb81fff22b0c437f9"
            ],
            "layout": "IPY_MODEL_59bef9712c304e878614d60394e9c8c7"
          }
        },
        "84b374ef34a14fd4ab9f04039fa05fe0": {
          "model_module": "@jupyter-widgets/controls",
          "model_name": "LabelModel",
          "model_module_version": "1.5.0",
          "state": {
            "_dom_classes": [],
            "_model_module": "@jupyter-widgets/controls",
            "_model_module_version": "1.5.0",
            "_model_name": "LabelModel",
            "_view_count": null,
            "_view_module": "@jupyter-widgets/controls",
            "_view_module_version": "1.5.0",
            "_view_name": "LabelView",
            "description": "",
            "description_tooltip": null,
            "layout": "IPY_MODEL_a6e9a19e4d6e4eb6ac8bef0ea04c7a2f",
            "placeholder": "​",
            "style": "IPY_MODEL_8002b83558264cef89320f7dc6b32eec",
            "value": "0.010 MB of 0.010 MB uploaded\r"
          }
        },
        "2e0b6e73b6b04faeb81fff22b0c437f9": {
          "model_module": "@jupyter-widgets/controls",
          "model_name": "FloatProgressModel",
          "model_module_version": "1.5.0",
          "state": {
            "_dom_classes": [],
            "_model_module": "@jupyter-widgets/controls",
            "_model_module_version": "1.5.0",
            "_model_name": "FloatProgressModel",
            "_view_count": null,
            "_view_module": "@jupyter-widgets/controls",
            "_view_module_version": "1.5.0",
            "_view_name": "ProgressView",
            "bar_style": "",
            "description": "",
            "description_tooltip": null,
            "layout": "IPY_MODEL_e9e3b5a8e49148c88949de6390fb85a3",
            "max": 1,
            "min": 0,
            "orientation": "horizontal",
            "style": "IPY_MODEL_e9594eb21f594956a1abe21ba675d049",
            "value": 1
          }
        },
        "59bef9712c304e878614d60394e9c8c7": {
          "model_module": "@jupyter-widgets/base",
          "model_name": "LayoutModel",
          "model_module_version": "1.2.0",
          "state": {
            "_model_module": "@jupyter-widgets/base",
            "_model_module_version": "1.2.0",
            "_model_name": "LayoutModel",
            "_view_count": null,
            "_view_module": "@jupyter-widgets/base",
            "_view_module_version": "1.2.0",
            "_view_name": "LayoutView",
            "align_content": null,
            "align_items": null,
            "align_self": null,
            "border": null,
            "bottom": null,
            "display": null,
            "flex": null,
            "flex_flow": null,
            "grid_area": null,
            "grid_auto_columns": null,
            "grid_auto_flow": null,
            "grid_auto_rows": null,
            "grid_column": null,
            "grid_gap": null,
            "grid_row": null,
            "grid_template_areas": null,
            "grid_template_columns": null,
            "grid_template_rows": null,
            "height": null,
            "justify_content": null,
            "justify_items": null,
            "left": null,
            "margin": null,
            "max_height": null,
            "max_width": null,
            "min_height": null,
            "min_width": null,
            "object_fit": null,
            "object_position": null,
            "order": null,
            "overflow": null,
            "overflow_x": null,
            "overflow_y": null,
            "padding": null,
            "right": null,
            "top": null,
            "visibility": null,
            "width": null
          }
        },
        "a6e9a19e4d6e4eb6ac8bef0ea04c7a2f": {
          "model_module": "@jupyter-widgets/base",
          "model_name": "LayoutModel",
          "model_module_version": "1.2.0",
          "state": {
            "_model_module": "@jupyter-widgets/base",
            "_model_module_version": "1.2.0",
            "_model_name": "LayoutModel",
            "_view_count": null,
            "_view_module": "@jupyter-widgets/base",
            "_view_module_version": "1.2.0",
            "_view_name": "LayoutView",
            "align_content": null,
            "align_items": null,
            "align_self": null,
            "border": null,
            "bottom": null,
            "display": null,
            "flex": null,
            "flex_flow": null,
            "grid_area": null,
            "grid_auto_columns": null,
            "grid_auto_flow": null,
            "grid_auto_rows": null,
            "grid_column": null,
            "grid_gap": null,
            "grid_row": null,
            "grid_template_areas": null,
            "grid_template_columns": null,
            "grid_template_rows": null,
            "height": null,
            "justify_content": null,
            "justify_items": null,
            "left": null,
            "margin": null,
            "max_height": null,
            "max_width": null,
            "min_height": null,
            "min_width": null,
            "object_fit": null,
            "object_position": null,
            "order": null,
            "overflow": null,
            "overflow_x": null,
            "overflow_y": null,
            "padding": null,
            "right": null,
            "top": null,
            "visibility": null,
            "width": null
          }
        },
        "8002b83558264cef89320f7dc6b32eec": {
          "model_module": "@jupyter-widgets/controls",
          "model_name": "DescriptionStyleModel",
          "model_module_version": "1.5.0",
          "state": {
            "_model_module": "@jupyter-widgets/controls",
            "_model_module_version": "1.5.0",
            "_model_name": "DescriptionStyleModel",
            "_view_count": null,
            "_view_module": "@jupyter-widgets/base",
            "_view_module_version": "1.2.0",
            "_view_name": "StyleView",
            "description_width": ""
          }
        },
        "e9e3b5a8e49148c88949de6390fb85a3": {
          "model_module": "@jupyter-widgets/base",
          "model_name": "LayoutModel",
          "model_module_version": "1.2.0",
          "state": {
            "_model_module": "@jupyter-widgets/base",
            "_model_module_version": "1.2.0",
            "_model_name": "LayoutModel",
            "_view_count": null,
            "_view_module": "@jupyter-widgets/base",
            "_view_module_version": "1.2.0",
            "_view_name": "LayoutView",
            "align_content": null,
            "align_items": null,
            "align_self": null,
            "border": null,
            "bottom": null,
            "display": null,
            "flex": null,
            "flex_flow": null,
            "grid_area": null,
            "grid_auto_columns": null,
            "grid_auto_flow": null,
            "grid_auto_rows": null,
            "grid_column": null,
            "grid_gap": null,
            "grid_row": null,
            "grid_template_areas": null,
            "grid_template_columns": null,
            "grid_template_rows": null,
            "height": null,
            "justify_content": null,
            "justify_items": null,
            "left": null,
            "margin": null,
            "max_height": null,
            "max_width": null,
            "min_height": null,
            "min_width": null,
            "object_fit": null,
            "object_position": null,
            "order": null,
            "overflow": null,
            "overflow_x": null,
            "overflow_y": null,
            "padding": null,
            "right": null,
            "top": null,
            "visibility": null,
            "width": null
          }
        },
        "e9594eb21f594956a1abe21ba675d049": {
          "model_module": "@jupyter-widgets/controls",
          "model_name": "ProgressStyleModel",
          "model_module_version": "1.5.0",
          "state": {
            "_model_module": "@jupyter-widgets/controls",
            "_model_module_version": "1.5.0",
            "_model_name": "ProgressStyleModel",
            "_view_count": null,
            "_view_module": "@jupyter-widgets/base",
            "_view_module_version": "1.2.0",
            "_view_name": "StyleView",
            "bar_color": null,
            "description_width": ""
          }
        },
        "41c3967985684d1682ed8fb23e5d1a0a": {
          "model_module": "@jupyter-widgets/controls",
          "model_name": "HBoxModel",
          "model_module_version": "1.5.0",
          "state": {
            "_dom_classes": [],
            "_model_module": "@jupyter-widgets/controls",
            "_model_module_version": "1.5.0",
            "_model_name": "HBoxModel",
            "_view_count": null,
            "_view_module": "@jupyter-widgets/controls",
            "_view_module_version": "1.5.0",
            "_view_name": "HBoxView",
            "box_style": "",
            "children": [
              "IPY_MODEL_c9da5de33ac44102b0b3ec9974d58364",
              "IPY_MODEL_33b991041ac74199b4fb3ebc39270e57",
              "IPY_MODEL_5227bc6fd7f04c6486f943d17bfe6e47"
            ],
            "layout": "IPY_MODEL_fc6927333d244f26a7379341b0b2a452"
          }
        },
        "c9da5de33ac44102b0b3ec9974d58364": {
          "model_module": "@jupyter-widgets/controls",
          "model_name": "HTMLModel",
          "model_module_version": "1.5.0",
          "state": {
            "_dom_classes": [],
            "_model_module": "@jupyter-widgets/controls",
            "_model_module_version": "1.5.0",
            "_model_name": "HTMLModel",
            "_view_count": null,
            "_view_module": "@jupyter-widgets/controls",
            "_view_module_version": "1.5.0",
            "_view_name": "HTMLView",
            "description": "",
            "description_tooltip": null,
            "layout": "IPY_MODEL_6ecd7195eb934384aa983e8c495ca162",
            "placeholder": "​",
            "style": "IPY_MODEL_59c8d66a528d468cad009083fc82926a",
            "value": "100%"
          }
        },
        "33b991041ac74199b4fb3ebc39270e57": {
          "model_module": "@jupyter-widgets/controls",
          "model_name": "FloatProgressModel",
          "model_module_version": "1.5.0",
          "state": {
            "_dom_classes": [],
            "_model_module": "@jupyter-widgets/controls",
            "_model_module_version": "1.5.0",
            "_model_name": "FloatProgressModel",
            "_view_count": null,
            "_view_module": "@jupyter-widgets/controls",
            "_view_module_version": "1.5.0",
            "_view_name": "ProgressView",
            "bar_style": "success",
            "description": "",
            "description_tooltip": null,
            "layout": "IPY_MODEL_05562717dfbd4b969ccd54eb59790d6e",
            "max": 50,
            "min": 0,
            "orientation": "horizontal",
            "style": "IPY_MODEL_d290d5ee49c54a90bd3164ec465c186f",
            "value": 50
          }
        },
        "5227bc6fd7f04c6486f943d17bfe6e47": {
          "model_module": "@jupyter-widgets/controls",
          "model_name": "HTMLModel",
          "model_module_version": "1.5.0",
          "state": {
            "_dom_classes": [],
            "_model_module": "@jupyter-widgets/controls",
            "_model_module_version": "1.5.0",
            "_model_name": "HTMLModel",
            "_view_count": null,
            "_view_module": "@jupyter-widgets/controls",
            "_view_module_version": "1.5.0",
            "_view_name": "HTMLView",
            "description": "",
            "description_tooltip": null,
            "layout": "IPY_MODEL_f4e1f19559f94c7a9fba32a89ea22db4",
            "placeholder": "​",
            "style": "IPY_MODEL_c1a2d2901afc4e1094f90cc7d4e39175",
            "value": " 50/50 [00:34&lt;00:00,  1.54it/s]"
          }
        },
        "fc6927333d244f26a7379341b0b2a452": {
          "model_module": "@jupyter-widgets/base",
          "model_name": "LayoutModel",
          "model_module_version": "1.2.0",
          "state": {
            "_model_module": "@jupyter-widgets/base",
            "_model_module_version": "1.2.0",
            "_model_name": "LayoutModel",
            "_view_count": null,
            "_view_module": "@jupyter-widgets/base",
            "_view_module_version": "1.2.0",
            "_view_name": "LayoutView",
            "align_content": null,
            "align_items": null,
            "align_self": null,
            "border": null,
            "bottom": null,
            "display": null,
            "flex": null,
            "flex_flow": null,
            "grid_area": null,
            "grid_auto_columns": null,
            "grid_auto_flow": null,
            "grid_auto_rows": null,
            "grid_column": null,
            "grid_gap": null,
            "grid_row": null,
            "grid_template_areas": null,
            "grid_template_columns": null,
            "grid_template_rows": null,
            "height": null,
            "justify_content": null,
            "justify_items": null,
            "left": null,
            "margin": null,
            "max_height": null,
            "max_width": null,
            "min_height": null,
            "min_width": null,
            "object_fit": null,
            "object_position": null,
            "order": null,
            "overflow": null,
            "overflow_x": null,
            "overflow_y": null,
            "padding": null,
            "right": null,
            "top": null,
            "visibility": null,
            "width": null
          }
        },
        "6ecd7195eb934384aa983e8c495ca162": {
          "model_module": "@jupyter-widgets/base",
          "model_name": "LayoutModel",
          "model_module_version": "1.2.0",
          "state": {
            "_model_module": "@jupyter-widgets/base",
            "_model_module_version": "1.2.0",
            "_model_name": "LayoutModel",
            "_view_count": null,
            "_view_module": "@jupyter-widgets/base",
            "_view_module_version": "1.2.0",
            "_view_name": "LayoutView",
            "align_content": null,
            "align_items": null,
            "align_self": null,
            "border": null,
            "bottom": null,
            "display": null,
            "flex": null,
            "flex_flow": null,
            "grid_area": null,
            "grid_auto_columns": null,
            "grid_auto_flow": null,
            "grid_auto_rows": null,
            "grid_column": null,
            "grid_gap": null,
            "grid_row": null,
            "grid_template_areas": null,
            "grid_template_columns": null,
            "grid_template_rows": null,
            "height": null,
            "justify_content": null,
            "justify_items": null,
            "left": null,
            "margin": null,
            "max_height": null,
            "max_width": null,
            "min_height": null,
            "min_width": null,
            "object_fit": null,
            "object_position": null,
            "order": null,
            "overflow": null,
            "overflow_x": null,
            "overflow_y": null,
            "padding": null,
            "right": null,
            "top": null,
            "visibility": null,
            "width": null
          }
        },
        "59c8d66a528d468cad009083fc82926a": {
          "model_module": "@jupyter-widgets/controls",
          "model_name": "DescriptionStyleModel",
          "model_module_version": "1.5.0",
          "state": {
            "_model_module": "@jupyter-widgets/controls",
            "_model_module_version": "1.5.0",
            "_model_name": "DescriptionStyleModel",
            "_view_count": null,
            "_view_module": "@jupyter-widgets/base",
            "_view_module_version": "1.2.0",
            "_view_name": "StyleView",
            "description_width": ""
          }
        },
        "05562717dfbd4b969ccd54eb59790d6e": {
          "model_module": "@jupyter-widgets/base",
          "model_name": "LayoutModel",
          "model_module_version": "1.2.0",
          "state": {
            "_model_module": "@jupyter-widgets/base",
            "_model_module_version": "1.2.0",
            "_model_name": "LayoutModel",
            "_view_count": null,
            "_view_module": "@jupyter-widgets/base",
            "_view_module_version": "1.2.0",
            "_view_name": "LayoutView",
            "align_content": null,
            "align_items": null,
            "align_self": null,
            "border": null,
            "bottom": null,
            "display": null,
            "flex": null,
            "flex_flow": null,
            "grid_area": null,
            "grid_auto_columns": null,
            "grid_auto_flow": null,
            "grid_auto_rows": null,
            "grid_column": null,
            "grid_gap": null,
            "grid_row": null,
            "grid_template_areas": null,
            "grid_template_columns": null,
            "grid_template_rows": null,
            "height": null,
            "justify_content": null,
            "justify_items": null,
            "left": null,
            "margin": null,
            "max_height": null,
            "max_width": null,
            "min_height": null,
            "min_width": null,
            "object_fit": null,
            "object_position": null,
            "order": null,
            "overflow": null,
            "overflow_x": null,
            "overflow_y": null,
            "padding": null,
            "right": null,
            "top": null,
            "visibility": null,
            "width": null
          }
        },
        "d290d5ee49c54a90bd3164ec465c186f": {
          "model_module": "@jupyter-widgets/controls",
          "model_name": "ProgressStyleModel",
          "model_module_version": "1.5.0",
          "state": {
            "_model_module": "@jupyter-widgets/controls",
            "_model_module_version": "1.5.0",
            "_model_name": "ProgressStyleModel",
            "_view_count": null,
            "_view_module": "@jupyter-widgets/base",
            "_view_module_version": "1.2.0",
            "_view_name": "StyleView",
            "bar_color": null,
            "description_width": ""
          }
        },
        "f4e1f19559f94c7a9fba32a89ea22db4": {
          "model_module": "@jupyter-widgets/base",
          "model_name": "LayoutModel",
          "model_module_version": "1.2.0",
          "state": {
            "_model_module": "@jupyter-widgets/base",
            "_model_module_version": "1.2.0",
            "_model_name": "LayoutModel",
            "_view_count": null,
            "_view_module": "@jupyter-widgets/base",
            "_view_module_version": "1.2.0",
            "_view_name": "LayoutView",
            "align_content": null,
            "align_items": null,
            "align_self": null,
            "border": null,
            "bottom": null,
            "display": null,
            "flex": null,
            "flex_flow": null,
            "grid_area": null,
            "grid_auto_columns": null,
            "grid_auto_flow": null,
            "grid_auto_rows": null,
            "grid_column": null,
            "grid_gap": null,
            "grid_row": null,
            "grid_template_areas": null,
            "grid_template_columns": null,
            "grid_template_rows": null,
            "height": null,
            "justify_content": null,
            "justify_items": null,
            "left": null,
            "margin": null,
            "max_height": null,
            "max_width": null,
            "min_height": null,
            "min_width": null,
            "object_fit": null,
            "object_position": null,
            "order": null,
            "overflow": null,
            "overflow_x": null,
            "overflow_y": null,
            "padding": null,
            "right": null,
            "top": null,
            "visibility": null,
            "width": null
          }
        },
        "c1a2d2901afc4e1094f90cc7d4e39175": {
          "model_module": "@jupyter-widgets/controls",
          "model_name": "DescriptionStyleModel",
          "model_module_version": "1.5.0",
          "state": {
            "_model_module": "@jupyter-widgets/controls",
            "_model_module_version": "1.5.0",
            "_model_name": "DescriptionStyleModel",
            "_view_count": null,
            "_view_module": "@jupyter-widgets/base",
            "_view_module_version": "1.2.0",
            "_view_name": "StyleView",
            "description_width": ""
          }
        },
        "4a69ede6967b4ab791633887db84a120": {
          "model_module": "@jupyter-widgets/controls",
          "model_name": "VBoxModel",
          "model_module_version": "1.5.0",
          "state": {
            "_dom_classes": [],
            "_model_module": "@jupyter-widgets/controls",
            "_model_module_version": "1.5.0",
            "_model_name": "VBoxModel",
            "_view_count": null,
            "_view_module": "@jupyter-widgets/controls",
            "_view_module_version": "1.5.0",
            "_view_name": "VBoxView",
            "box_style": "",
            "children": [
              "IPY_MODEL_bdd852d4b06e46368809a20bd061756d",
              "IPY_MODEL_9c1916bb8d1a42928929df84fc9d0df4"
            ],
            "layout": "IPY_MODEL_e4feabb173e54cfa88e38b08ca56a6ba"
          }
        },
        "bdd852d4b06e46368809a20bd061756d": {
          "model_module": "@jupyter-widgets/controls",
          "model_name": "LabelModel",
          "model_module_version": "1.5.0",
          "state": {
            "_dom_classes": [],
            "_model_module": "@jupyter-widgets/controls",
            "_model_module_version": "1.5.0",
            "_model_name": "LabelModel",
            "_view_count": null,
            "_view_module": "@jupyter-widgets/controls",
            "_view_module_version": "1.5.0",
            "_view_name": "LabelView",
            "description": "",
            "description_tooltip": null,
            "layout": "IPY_MODEL_1f2f14fa1bbb4fbebbb351f3db3ce90e",
            "placeholder": "​",
            "style": "IPY_MODEL_6e2df88085df4767aea97775b1262d50",
            "value": "0.010 MB of 0.010 MB uploaded\r"
          }
        },
        "9c1916bb8d1a42928929df84fc9d0df4": {
          "model_module": "@jupyter-widgets/controls",
          "model_name": "FloatProgressModel",
          "model_module_version": "1.5.0",
          "state": {
            "_dom_classes": [],
            "_model_module": "@jupyter-widgets/controls",
            "_model_module_version": "1.5.0",
            "_model_name": "FloatProgressModel",
            "_view_count": null,
            "_view_module": "@jupyter-widgets/controls",
            "_view_module_version": "1.5.0",
            "_view_name": "ProgressView",
            "bar_style": "",
            "description": "",
            "description_tooltip": null,
            "layout": "IPY_MODEL_24210658a1654a9bb27b5d6db8bac5f3",
            "max": 1,
            "min": 0,
            "orientation": "horizontal",
            "style": "IPY_MODEL_7c051ad4c54d454b965e2b99c616e8f8",
            "value": 1
          }
        },
        "e4feabb173e54cfa88e38b08ca56a6ba": {
          "model_module": "@jupyter-widgets/base",
          "model_name": "LayoutModel",
          "model_module_version": "1.2.0",
          "state": {
            "_model_module": "@jupyter-widgets/base",
            "_model_module_version": "1.2.0",
            "_model_name": "LayoutModel",
            "_view_count": null,
            "_view_module": "@jupyter-widgets/base",
            "_view_module_version": "1.2.0",
            "_view_name": "LayoutView",
            "align_content": null,
            "align_items": null,
            "align_self": null,
            "border": null,
            "bottom": null,
            "display": null,
            "flex": null,
            "flex_flow": null,
            "grid_area": null,
            "grid_auto_columns": null,
            "grid_auto_flow": null,
            "grid_auto_rows": null,
            "grid_column": null,
            "grid_gap": null,
            "grid_row": null,
            "grid_template_areas": null,
            "grid_template_columns": null,
            "grid_template_rows": null,
            "height": null,
            "justify_content": null,
            "justify_items": null,
            "left": null,
            "margin": null,
            "max_height": null,
            "max_width": null,
            "min_height": null,
            "min_width": null,
            "object_fit": null,
            "object_position": null,
            "order": null,
            "overflow": null,
            "overflow_x": null,
            "overflow_y": null,
            "padding": null,
            "right": null,
            "top": null,
            "visibility": null,
            "width": null
          }
        },
        "1f2f14fa1bbb4fbebbb351f3db3ce90e": {
          "model_module": "@jupyter-widgets/base",
          "model_name": "LayoutModel",
          "model_module_version": "1.2.0",
          "state": {
            "_model_module": "@jupyter-widgets/base",
            "_model_module_version": "1.2.0",
            "_model_name": "LayoutModel",
            "_view_count": null,
            "_view_module": "@jupyter-widgets/base",
            "_view_module_version": "1.2.0",
            "_view_name": "LayoutView",
            "align_content": null,
            "align_items": null,
            "align_self": null,
            "border": null,
            "bottom": null,
            "display": null,
            "flex": null,
            "flex_flow": null,
            "grid_area": null,
            "grid_auto_columns": null,
            "grid_auto_flow": null,
            "grid_auto_rows": null,
            "grid_column": null,
            "grid_gap": null,
            "grid_row": null,
            "grid_template_areas": null,
            "grid_template_columns": null,
            "grid_template_rows": null,
            "height": null,
            "justify_content": null,
            "justify_items": null,
            "left": null,
            "margin": null,
            "max_height": null,
            "max_width": null,
            "min_height": null,
            "min_width": null,
            "object_fit": null,
            "object_position": null,
            "order": null,
            "overflow": null,
            "overflow_x": null,
            "overflow_y": null,
            "padding": null,
            "right": null,
            "top": null,
            "visibility": null,
            "width": null
          }
        },
        "6e2df88085df4767aea97775b1262d50": {
          "model_module": "@jupyter-widgets/controls",
          "model_name": "DescriptionStyleModel",
          "model_module_version": "1.5.0",
          "state": {
            "_model_module": "@jupyter-widgets/controls",
            "_model_module_version": "1.5.0",
            "_model_name": "DescriptionStyleModel",
            "_view_count": null,
            "_view_module": "@jupyter-widgets/base",
            "_view_module_version": "1.2.0",
            "_view_name": "StyleView",
            "description_width": ""
          }
        },
        "24210658a1654a9bb27b5d6db8bac5f3": {
          "model_module": "@jupyter-widgets/base",
          "model_name": "LayoutModel",
          "model_module_version": "1.2.0",
          "state": {
            "_model_module": "@jupyter-widgets/base",
            "_model_module_version": "1.2.0",
            "_model_name": "LayoutModel",
            "_view_count": null,
            "_view_module": "@jupyter-widgets/base",
            "_view_module_version": "1.2.0",
            "_view_name": "LayoutView",
            "align_content": null,
            "align_items": null,
            "align_self": null,
            "border": null,
            "bottom": null,
            "display": null,
            "flex": null,
            "flex_flow": null,
            "grid_area": null,
            "grid_auto_columns": null,
            "grid_auto_flow": null,
            "grid_auto_rows": null,
            "grid_column": null,
            "grid_gap": null,
            "grid_row": null,
            "grid_template_areas": null,
            "grid_template_columns": null,
            "grid_template_rows": null,
            "height": null,
            "justify_content": null,
            "justify_items": null,
            "left": null,
            "margin": null,
            "max_height": null,
            "max_width": null,
            "min_height": null,
            "min_width": null,
            "object_fit": null,
            "object_position": null,
            "order": null,
            "overflow": null,
            "overflow_x": null,
            "overflow_y": null,
            "padding": null,
            "right": null,
            "top": null,
            "visibility": null,
            "width": null
          }
        },
        "7c051ad4c54d454b965e2b99c616e8f8": {
          "model_module": "@jupyter-widgets/controls",
          "model_name": "ProgressStyleModel",
          "model_module_version": "1.5.0",
          "state": {
            "_model_module": "@jupyter-widgets/controls",
            "_model_module_version": "1.5.0",
            "_model_name": "ProgressStyleModel",
            "_view_count": null,
            "_view_module": "@jupyter-widgets/base",
            "_view_module_version": "1.2.0",
            "_view_name": "StyleView",
            "bar_color": null,
            "description_width": ""
          }
        }
      }
    }
  },
  "nbformat": 4,
  "nbformat_minor": 5
}